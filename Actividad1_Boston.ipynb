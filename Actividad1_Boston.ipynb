{
  "nbformat": 4,
  "nbformat_minor": 0,
  "metadata": {
    "colab": {
      "provenance": [],
      "authorship_tag": "ABX9TyPn23FWBZ/6RZgoNqLUCJP+",
      "include_colab_link": true
    },
    "kernelspec": {
      "name": "python3",
      "display_name": "Python 3"
    },
    "language_info": {
      "name": "python"
    }
  },
  "cells": [
    {
      "cell_type": "markdown",
      "metadata": {
        "id": "view-in-github",
        "colab_type": "text"
      },
      "source": [
        "<a href=\"https://colab.research.google.com/github/Moni318/Actividad-1/blob/main/Actividad1_Boston.ipynb\" target=\"_parent\"><img src=\"https://colab.research.google.com/assets/colab-badge.svg\" alt=\"Open In Colab\"/></a>"
      ]
    },
    {
      "cell_type": "code",
      "execution_count": 268,
      "metadata": {
        "id": "Szm9FuzaZn_0"
      },
      "outputs": [],
      "source": [
        "import pandas as pd\n",
        "import numpy as np\n",
        "import matplotlib.pyplot as plt\n",
        "import seaborn as sns"
      ]
    },
    {
      "cell_type": "markdown",
      "source": [
        "#*Nulos y outliers*"
      ],
      "metadata": {
        "id": "afPGTaJIozZW"
      }
    },
    {
      "cell_type": "code",
      "source": [
        "df=pd.read_csv(\"listings (3).csv\")\n",
        "df.head()"
      ],
      "metadata": {
        "colab": {
          "base_uri": "https://localhost:8080/",
          "height": 0
        },
        "id": "F7_7mLTkaUlh",
        "outputId": "c44cb747-42cd-47b2-d30e-48d865624ef6"
      },
      "execution_count": 269,
      "outputs": [
        {
          "output_type": "execute_result",
          "data": {
            "text/plain": [
              "     id                        listing_url       scrape_id last_scraped  \\\n",
              "0  3168  https://www.airbnb.com/rooms/3168  20220915162158   2022-09-15   \n",
              "1  3781  https://www.airbnb.com/rooms/3781  20220915162158   2022-09-15   \n",
              "2  5506  https://www.airbnb.com/rooms/5506  20220915162158   2022-09-15   \n",
              "3  6695  https://www.airbnb.com/rooms/6695  20220915162158   2022-09-15   \n",
              "4  7903  https://www.airbnb.com/rooms/7903  20220915162158   2022-09-15   \n",
              "\n",
              "        source                                            name  \\\n",
              "0  city scrape                                     TudorStudio   \n",
              "1  city scrape                       HARBORSIDE-Walk to subway   \n",
              "2  city scrape  ** Fort Hill Inn Private! Minutes to center!**   \n",
              "3  city scrape   Fort Hill Inn *Sunny* 1 bedroom, condo duplex   \n",
              "4  city scrape      Colorful, modern 2 BR apt shared with host   \n",
              "\n",
              "                                         description  \\\n",
              "0  The \"Studio at 14 Weldon\" is located in Newton...   \n",
              "1  Fully separate apartment in a two apartment bu...   \n",
              "2  Private guest room with private bath, You do n...   \n",
              "3  Comfortable,  Fully Equipped private apartment...   \n",
              "4  I'm a high school teacher and frequent travele...   \n",
              "\n",
              "                               neighborhood_overview  \\\n",
              "0  Newton has 13 unique villages, and gives off a...   \n",
              "1  Mostly quiet ( no loud music, no crowed sidewa...   \n",
              "2  Peaceful, Architecturally interesting, histori...   \n",
              "3  Peaceful, Architecturally interesting, histori...   \n",
              "4  The apartment is in Somerville, located direct...   \n",
              "\n",
              "                                         picture_url  host_id  ...  \\\n",
              "0  https://a0.muscache.com/pictures/ff7952dc-ef0b...     3697  ...   \n",
              "1  https://a0.muscache.com/pictures/24670/b2de044...     4804  ...   \n",
              "2  https://a0.muscache.com/pictures/miso/Hosting-...     8229  ...   \n",
              "3  https://a0.muscache.com/pictures/38ac4797-e7a4...     8229  ...   \n",
              "4  https://a0.muscache.com/pictures/miso/Hosting-...    14169  ...   \n",
              "\n",
              "  review_scores_communication review_scores_location review_scores_value  \\\n",
              "0                         NaN                    NaN                 NaN   \n",
              "1                        4.96                   4.87                4.91   \n",
              "2                        4.89                   4.54                4.73   \n",
              "3                        4.95                   4.50                4.71   \n",
              "4                        4.95                   4.56                4.80   \n",
              "\n",
              "                      license instant_bookable calculated_host_listings_count  \\\n",
              "0                         NaN                f                              1   \n",
              "1                         NaN                f                              1   \n",
              "2  Approved by the government                f                             10   \n",
              "3                   STR446650                f                             10   \n",
              "4                         NaN                f                              1   \n",
              "\n",
              "  calculated_host_listings_count_entire_homes  \\\n",
              "0                                           0   \n",
              "1                                           1   \n",
              "2                                          10   \n",
              "3                                          10   \n",
              "4                                           0   \n",
              "\n",
              "  calculated_host_listings_count_private_rooms  \\\n",
              "0                                            1   \n",
              "1                                            0   \n",
              "2                                            0   \n",
              "3                                            0   \n",
              "4                                            1   \n",
              "\n",
              "  calculated_host_listings_count_shared_rooms reviews_per_month  \n",
              "0                                           0               NaN  \n",
              "1                                           0              0.26  \n",
              "2                                           0              0.69  \n",
              "3                                           0              0.75  \n",
              "4                                           0              1.84  \n",
              "\n",
              "[5 rows x 75 columns]"
            ],
            "text/html": [
              "\n",
              "  <div id=\"df-c3471cd6-4459-4bef-ae4e-14fa668eb516\">\n",
              "    <div class=\"colab-df-container\">\n",
              "      <div>\n",
              "<style scoped>\n",
              "    .dataframe tbody tr th:only-of-type {\n",
              "        vertical-align: middle;\n",
              "    }\n",
              "\n",
              "    .dataframe tbody tr th {\n",
              "        vertical-align: top;\n",
              "    }\n",
              "\n",
              "    .dataframe thead th {\n",
              "        text-align: right;\n",
              "    }\n",
              "</style>\n",
              "<table border=\"1\" class=\"dataframe\">\n",
              "  <thead>\n",
              "    <tr style=\"text-align: right;\">\n",
              "      <th></th>\n",
              "      <th>id</th>\n",
              "      <th>listing_url</th>\n",
              "      <th>scrape_id</th>\n",
              "      <th>last_scraped</th>\n",
              "      <th>source</th>\n",
              "      <th>name</th>\n",
              "      <th>description</th>\n",
              "      <th>neighborhood_overview</th>\n",
              "      <th>picture_url</th>\n",
              "      <th>host_id</th>\n",
              "      <th>...</th>\n",
              "      <th>review_scores_communication</th>\n",
              "      <th>review_scores_location</th>\n",
              "      <th>review_scores_value</th>\n",
              "      <th>license</th>\n",
              "      <th>instant_bookable</th>\n",
              "      <th>calculated_host_listings_count</th>\n",
              "      <th>calculated_host_listings_count_entire_homes</th>\n",
              "      <th>calculated_host_listings_count_private_rooms</th>\n",
              "      <th>calculated_host_listings_count_shared_rooms</th>\n",
              "      <th>reviews_per_month</th>\n",
              "    </tr>\n",
              "  </thead>\n",
              "  <tbody>\n",
              "    <tr>\n",
              "      <th>0</th>\n",
              "      <td>3168</td>\n",
              "      <td>https://www.airbnb.com/rooms/3168</td>\n",
              "      <td>20220915162158</td>\n",
              "      <td>2022-09-15</td>\n",
              "      <td>city scrape</td>\n",
              "      <td>TudorStudio</td>\n",
              "      <td>The \"Studio at 14 Weldon\" is located in Newton...</td>\n",
              "      <td>Newton has 13 unique villages, and gives off a...</td>\n",
              "      <td>https://a0.muscache.com/pictures/ff7952dc-ef0b...</td>\n",
              "      <td>3697</td>\n",
              "      <td>...</td>\n",
              "      <td>NaN</td>\n",
              "      <td>NaN</td>\n",
              "      <td>NaN</td>\n",
              "      <td>NaN</td>\n",
              "      <td>f</td>\n",
              "      <td>1</td>\n",
              "      <td>0</td>\n",
              "      <td>1</td>\n",
              "      <td>0</td>\n",
              "      <td>NaN</td>\n",
              "    </tr>\n",
              "    <tr>\n",
              "      <th>1</th>\n",
              "      <td>3781</td>\n",
              "      <td>https://www.airbnb.com/rooms/3781</td>\n",
              "      <td>20220915162158</td>\n",
              "      <td>2022-09-15</td>\n",
              "      <td>city scrape</td>\n",
              "      <td>HARBORSIDE-Walk to subway</td>\n",
              "      <td>Fully separate apartment in a two apartment bu...</td>\n",
              "      <td>Mostly quiet ( no loud music, no crowed sidewa...</td>\n",
              "      <td>https://a0.muscache.com/pictures/24670/b2de044...</td>\n",
              "      <td>4804</td>\n",
              "      <td>...</td>\n",
              "      <td>4.96</td>\n",
              "      <td>4.87</td>\n",
              "      <td>4.91</td>\n",
              "      <td>NaN</td>\n",
              "      <td>f</td>\n",
              "      <td>1</td>\n",
              "      <td>1</td>\n",
              "      <td>0</td>\n",
              "      <td>0</td>\n",
              "      <td>0.26</td>\n",
              "    </tr>\n",
              "    <tr>\n",
              "      <th>2</th>\n",
              "      <td>5506</td>\n",
              "      <td>https://www.airbnb.com/rooms/5506</td>\n",
              "      <td>20220915162158</td>\n",
              "      <td>2022-09-15</td>\n",
              "      <td>city scrape</td>\n",
              "      <td>** Fort Hill Inn Private! Minutes to center!**</td>\n",
              "      <td>Private guest room with private bath, You do n...</td>\n",
              "      <td>Peaceful, Architecturally interesting, histori...</td>\n",
              "      <td>https://a0.muscache.com/pictures/miso/Hosting-...</td>\n",
              "      <td>8229</td>\n",
              "      <td>...</td>\n",
              "      <td>4.89</td>\n",
              "      <td>4.54</td>\n",
              "      <td>4.73</td>\n",
              "      <td>Approved by the government</td>\n",
              "      <td>f</td>\n",
              "      <td>10</td>\n",
              "      <td>10</td>\n",
              "      <td>0</td>\n",
              "      <td>0</td>\n",
              "      <td>0.69</td>\n",
              "    </tr>\n",
              "    <tr>\n",
              "      <th>3</th>\n",
              "      <td>6695</td>\n",
              "      <td>https://www.airbnb.com/rooms/6695</td>\n",
              "      <td>20220915162158</td>\n",
              "      <td>2022-09-15</td>\n",
              "      <td>city scrape</td>\n",
              "      <td>Fort Hill Inn *Sunny* 1 bedroom, condo duplex</td>\n",
              "      <td>Comfortable,  Fully Equipped private apartment...</td>\n",
              "      <td>Peaceful, Architecturally interesting, histori...</td>\n",
              "      <td>https://a0.muscache.com/pictures/38ac4797-e7a4...</td>\n",
              "      <td>8229</td>\n",
              "      <td>...</td>\n",
              "      <td>4.95</td>\n",
              "      <td>4.50</td>\n",
              "      <td>4.71</td>\n",
              "      <td>STR446650</td>\n",
              "      <td>f</td>\n",
              "      <td>10</td>\n",
              "      <td>10</td>\n",
              "      <td>0</td>\n",
              "      <td>0</td>\n",
              "      <td>0.75</td>\n",
              "    </tr>\n",
              "    <tr>\n",
              "      <th>4</th>\n",
              "      <td>7903</td>\n",
              "      <td>https://www.airbnb.com/rooms/7903</td>\n",
              "      <td>20220915162158</td>\n",
              "      <td>2022-09-15</td>\n",
              "      <td>city scrape</td>\n",
              "      <td>Colorful, modern 2 BR apt shared with host</td>\n",
              "      <td>I'm a high school teacher and frequent travele...</td>\n",
              "      <td>The apartment is in Somerville, located direct...</td>\n",
              "      <td>https://a0.muscache.com/pictures/miso/Hosting-...</td>\n",
              "      <td>14169</td>\n",
              "      <td>...</td>\n",
              "      <td>4.95</td>\n",
              "      <td>4.56</td>\n",
              "      <td>4.80</td>\n",
              "      <td>NaN</td>\n",
              "      <td>f</td>\n",
              "      <td>1</td>\n",
              "      <td>0</td>\n",
              "      <td>1</td>\n",
              "      <td>0</td>\n",
              "      <td>1.84</td>\n",
              "    </tr>\n",
              "  </tbody>\n",
              "</table>\n",
              "<p>5 rows × 75 columns</p>\n",
              "</div>\n",
              "      <button class=\"colab-df-convert\" onclick=\"convertToInteractive('df-c3471cd6-4459-4bef-ae4e-14fa668eb516')\"\n",
              "              title=\"Convert this dataframe to an interactive table.\"\n",
              "              style=\"display:none;\">\n",
              "        \n",
              "  <svg xmlns=\"http://www.w3.org/2000/svg\" height=\"24px\"viewBox=\"0 0 24 24\"\n",
              "       width=\"24px\">\n",
              "    <path d=\"M0 0h24v24H0V0z\" fill=\"none\"/>\n",
              "    <path d=\"M18.56 5.44l.94 2.06.94-2.06 2.06-.94-2.06-.94-.94-2.06-.94 2.06-2.06.94zm-11 1L8.5 8.5l.94-2.06 2.06-.94-2.06-.94L8.5 2.5l-.94 2.06-2.06.94zm10 10l.94 2.06.94-2.06 2.06-.94-2.06-.94-.94-2.06-.94 2.06-2.06.94z\"/><path d=\"M17.41 7.96l-1.37-1.37c-.4-.4-.92-.59-1.43-.59-.52 0-1.04.2-1.43.59L10.3 9.45l-7.72 7.72c-.78.78-.78 2.05 0 2.83L4 21.41c.39.39.9.59 1.41.59.51 0 1.02-.2 1.41-.59l7.78-7.78 2.81-2.81c.8-.78.8-2.07 0-2.86zM5.41 20L4 18.59l7.72-7.72 1.47 1.35L5.41 20z\"/>\n",
              "  </svg>\n",
              "      </button>\n",
              "      \n",
              "  <style>\n",
              "    .colab-df-container {\n",
              "      display:flex;\n",
              "      flex-wrap:wrap;\n",
              "      gap: 12px;\n",
              "    }\n",
              "\n",
              "    .colab-df-convert {\n",
              "      background-color: #E8F0FE;\n",
              "      border: none;\n",
              "      border-radius: 50%;\n",
              "      cursor: pointer;\n",
              "      display: none;\n",
              "      fill: #1967D2;\n",
              "      height: 32px;\n",
              "      padding: 0 0 0 0;\n",
              "      width: 32px;\n",
              "    }\n",
              "\n",
              "    .colab-df-convert:hover {\n",
              "      background-color: #E2EBFA;\n",
              "      box-shadow: 0px 1px 2px rgba(60, 64, 67, 0.3), 0px 1px 3px 1px rgba(60, 64, 67, 0.15);\n",
              "      fill: #174EA6;\n",
              "    }\n",
              "\n",
              "    [theme=dark] .colab-df-convert {\n",
              "      background-color: #3B4455;\n",
              "      fill: #D2E3FC;\n",
              "    }\n",
              "\n",
              "    [theme=dark] .colab-df-convert:hover {\n",
              "      background-color: #434B5C;\n",
              "      box-shadow: 0px 1px 3px 1px rgba(0, 0, 0, 0.15);\n",
              "      filter: drop-shadow(0px 1px 2px rgba(0, 0, 0, 0.3));\n",
              "      fill: #FFFFFF;\n",
              "    }\n",
              "  </style>\n",
              "\n",
              "      <script>\n",
              "        const buttonEl =\n",
              "          document.querySelector('#df-c3471cd6-4459-4bef-ae4e-14fa668eb516 button.colab-df-convert');\n",
              "        buttonEl.style.display =\n",
              "          google.colab.kernel.accessAllowed ? 'block' : 'none';\n",
              "\n",
              "        async function convertToInteractive(key) {\n",
              "          const element = document.querySelector('#df-c3471cd6-4459-4bef-ae4e-14fa668eb516');\n",
              "          const dataTable =\n",
              "            await google.colab.kernel.invokeFunction('convertToInteractive',\n",
              "                                                     [key], {});\n",
              "          if (!dataTable) return;\n",
              "\n",
              "          const docLinkHtml = 'Like what you see? Visit the ' +\n",
              "            '<a target=\"_blank\" href=https://colab.research.google.com/notebooks/data_table.ipynb>data table notebook</a>'\n",
              "            + ' to learn more about interactive tables.';\n",
              "          element.innerHTML = '';\n",
              "          dataTable['output_type'] = 'display_data';\n",
              "          await google.colab.output.renderOutput(dataTable, element);\n",
              "          const docLink = document.createElement('div');\n",
              "          docLink.innerHTML = docLinkHtml;\n",
              "          element.appendChild(docLink);\n",
              "        }\n",
              "      </script>\n",
              "    </div>\n",
              "  </div>\n",
              "  "
            ]
          },
          "metadata": {},
          "execution_count": 269
        }
      ]
    },
    {
      "cell_type": "code",
      "source": [
        "df=df.drop(['listing_url', 'scrape_id', 'last_scraped', 'source', 'name',\n",
        "       'description', 'neighborhood_overview', 'picture_url', 'host_id',\n",
        "       'host_url', 'host_name', 'host_since', 'host_about','host_thumbnail_url', 'host_picture_url',\n",
        "       'host_neighbourhood', 'host_listings_count',\n",
        "       'host_total_listings_count', 'host_verifications',\n",
        "       'host_has_profile_pic', 'host_identity_verified', 'neighbourhood',\n",
        "       'neighbourhood_cleansed', 'neighbourhood_group_cleansed', 'latitude',\n",
        "       'longitude', 'accommodates','bathrooms_text','minimum_nights', 'maximum_nights', 'minimum_minimum_nights',\n",
        "       'maximum_minimum_nights', 'minimum_maximum_nights',\n",
        "       'maximum_maximum_nights', 'minimum_nights_avg_ntm',\n",
        "       'maximum_nights_avg_ntm', 'calendar_updated', 'has_availability',\n",
        "       'availability_30', 'availability_60', 'availability_90','calendar_last_scraped',\n",
        "       'number_of_reviews_ltm', 'number_of_reviews_l30d', 'first_review',\n",
        "       'last_review','review_scores_accuracy','review_scores_checkin', 'review_scores_location',\n",
        "       'review_scores_value', 'license', 'instant_bookable',\n",
        "       'calculated_host_listings_count','bathrooms',\n",
        "       'calculated_host_listings_count_entire_homes',\n",
        "       'calculated_host_listings_count_private_rooms',\n",
        "       'calculated_host_listings_count_shared_rooms', 'reviews_per_month','host_response_time','host_is_superhost','bedrooms','beds','amenities','host_location','host_response_rate'], axis=1)"
      ],
      "metadata": {
        "id": "hPgD4uJ4aa-g"
      },
      "execution_count": 270,
      "outputs": []
    },
    {
      "cell_type": "code",
      "source": [
        "df.isnull().sum()"
      ],
      "metadata": {
        "colab": {
          "base_uri": "https://localhost:8080/"
        },
        "id": "KHs8N27VaezX",
        "outputId": "d3848a7f-61fc-42ec-aee5-084b847623af"
      },
      "execution_count": 271,
      "outputs": [
        {
          "output_type": "execute_result",
          "data": {
            "text/plain": [
              "id                                0\n",
              "host_acceptance_rate            550\n",
              "property_type                     0\n",
              "room_type                         0\n",
              "price                             0\n",
              "availability_365                  0\n",
              "number_of_reviews                 0\n",
              "review_scores_rating           1225\n",
              "review_scores_cleanliness      1235\n",
              "review_scores_communication    1235\n",
              "dtype: int64"
            ]
          },
          "metadata": {},
          "execution_count": 271
        }
      ]
    },
    {
      "cell_type": "code",
      "source": [
        "df.shape"
      ],
      "metadata": {
        "colab": {
          "base_uri": "https://localhost:8080/"
        },
        "id": "mPgE9IaxazCf",
        "outputId": "027dc90f-1abd-42d1-bef8-0ef7b43e0517"
      },
      "execution_count": 272,
      "outputs": [
        {
          "output_type": "execute_result",
          "data": {
            "text/plain": [
              "(5185, 10)"
            ]
          },
          "metadata": {},
          "execution_count": 272
        }
      ]
    },
    {
      "cell_type": "code",
      "source": [
        "df.info()"
      ],
      "metadata": {
        "colab": {
          "base_uri": "https://localhost:8080/"
        },
        "id": "HXZv5o_JbGUg",
        "outputId": "edccfbb2-7500-482d-9d8a-08d3c7c0c89e"
      },
      "execution_count": 273,
      "outputs": [
        {
          "output_type": "stream",
          "name": "stdout",
          "text": [
            "<class 'pandas.core.frame.DataFrame'>\n",
            "RangeIndex: 5185 entries, 0 to 5184\n",
            "Data columns (total 10 columns):\n",
            " #   Column                       Non-Null Count  Dtype  \n",
            "---  ------                       --------------  -----  \n",
            " 0   id                           5185 non-null   int64  \n",
            " 1   host_acceptance_rate         4635 non-null   object \n",
            " 2   property_type                5185 non-null   object \n",
            " 3   room_type                    5185 non-null   object \n",
            " 4   price                        5185 non-null   object \n",
            " 5   availability_365             5185 non-null   int64  \n",
            " 6   number_of_reviews            5185 non-null   int64  \n",
            " 7   review_scores_rating         3960 non-null   float64\n",
            " 8   review_scores_cleanliness    3950 non-null   float64\n",
            " 9   review_scores_communication  3950 non-null   float64\n",
            "dtypes: float64(3), int64(3), object(4)\n",
            "memory usage: 405.2+ KB\n"
          ]
        }
      ]
    },
    {
      "cell_type": "code",
      "source": [
        "df[\"host_acceptance_rate\"] = df[\"host_acceptance_rate\"].str.replace(\"%\",\"\")"
      ],
      "metadata": {
        "id": "X4KZ1zyEbPk8"
      },
      "execution_count": 274,
      "outputs": []
    },
    {
      "cell_type": "code",
      "source": [
        "df[\"host_acceptance_rate\"].fillna(method='bfill')"
      ],
      "metadata": {
        "colab": {
          "base_uri": "https://localhost:8080/"
        },
        "id": "c274w3YFesY0",
        "outputId": "bf736680-6214-41b9-c9f3-2d9e73a9c94f"
      },
      "execution_count": 275,
      "outputs": [
        {
          "output_type": "execute_result",
          "data": {
            "text/plain": [
              "0         0\n",
              "1        30\n",
              "2       100\n",
              "3       100\n",
              "4        97\n",
              "       ... \n",
              "5180     99\n",
              "5181     99\n",
              "5182     99\n",
              "5183     99\n",
              "5184     99\n",
              "Name: host_acceptance_rate, Length: 5185, dtype: object"
            ]
          },
          "metadata": {},
          "execution_count": 275
        }
      ]
    },
    {
      "cell_type": "code",
      "source": [
        "df[\"host_acceptance_rate\"].fillna(method='ffill')"
      ],
      "metadata": {
        "colab": {
          "base_uri": "https://localhost:8080/"
        },
        "id": "95YJx42Ye6aa",
        "outputId": "5ebbc00a-c7de-4f5d-8683-6d21f89ba400"
      },
      "execution_count": 276,
      "outputs": [
        {
          "output_type": "execute_result",
          "data": {
            "text/plain": [
              "0         0\n",
              "1        30\n",
              "2       100\n",
              "3       100\n",
              "4        97\n",
              "       ... \n",
              "5180     99\n",
              "5181     99\n",
              "5182     99\n",
              "5183     99\n",
              "5184     99\n",
              "Name: host_acceptance_rate, Length: 5185, dtype: object"
            ]
          },
          "metadata": {},
          "execution_count": 276
        }
      ]
    },
    {
      "cell_type": "code",
      "source": [
        "df.dropna(subset=['host_acceptance_rate'],how='all',inplace=True)"
      ],
      "metadata": {
        "id": "Xa9TmPRme-Pk"
      },
      "execution_count": 277,
      "outputs": []
    },
    {
      "cell_type": "code",
      "source": [
        "df['host_acceptance_rate']=df['host_acceptance_rate'].astype(int)"
      ],
      "metadata": {
        "id": "syS-m6LpbTI7"
      },
      "execution_count": 278,
      "outputs": []
    },
    {
      "cell_type": "code",
      "source": [
        "df.isnull().sum()"
      ],
      "metadata": {
        "colab": {
          "base_uri": "https://localhost:8080/"
        },
        "id": "XPkprEBDfH3t",
        "outputId": "bd8942b1-f476-4bc4-8d36-da49349061f4"
      },
      "execution_count": 279,
      "outputs": [
        {
          "output_type": "execute_result",
          "data": {
            "text/plain": [
              "id                                0\n",
              "host_acceptance_rate              0\n",
              "property_type                     0\n",
              "room_type                         0\n",
              "price                             0\n",
              "availability_365                  0\n",
              "number_of_reviews                 0\n",
              "review_scores_rating           1085\n",
              "review_scores_cleanliness      1086\n",
              "review_scores_communication    1086\n",
              "dtype: int64"
            ]
          },
          "metadata": {},
          "execution_count": 279
        }
      ]
    },
    {
      "cell_type": "code",
      "source": [
        "df[\"price\"] = df[\"price\"].str.replace(\"$\",\"\")\n",
        "df[\"price\"] = df[\"price\"].str.replace(\",\",\"\")"
      ],
      "metadata": {
        "colab": {
          "base_uri": "https://localhost:8080/"
        },
        "id": "nHahRwLCbeLv",
        "outputId": "42661070-2912-41d8-e717-08fb8fea2db0"
      },
      "execution_count": 280,
      "outputs": [
        {
          "output_type": "stream",
          "name": "stderr",
          "text": [
            "/usr/local/lib/python3.7/dist-packages/ipykernel_launcher.py:1: FutureWarning: The default value of regex will change from True to False in a future version. In addition, single character regular expressions will *not* be treated as literal strings when regex=True.\n",
            "  \"\"\"Entry point for launching an IPython kernel.\n"
          ]
        }
      ]
    },
    {
      "cell_type": "code",
      "source": [
        "df['price']=df['price'].astype(float)"
      ],
      "metadata": {
        "id": "sCSl5yhubheQ"
      },
      "execution_count": 281,
      "outputs": []
    },
    {
      "cell_type": "code",
      "source": [
        "df['review_scores_rating']=df['review_scores_rating'].astype(float)"
      ],
      "metadata": {
        "id": "tJMimm4lbpPE"
      },
      "execution_count": 282,
      "outputs": []
    },
    {
      "cell_type": "code",
      "source": [
        "a=df['review_scores_rating'].median()"
      ],
      "metadata": {
        "id": "P204P8RlfkpI"
      },
      "execution_count": 283,
      "outputs": []
    },
    {
      "cell_type": "code",
      "source": [
        "df['review_scores_rating']=df['review_scores_rating'].fillna(4.85)"
      ],
      "metadata": {
        "id": "gBtvxdlpfoGr"
      },
      "execution_count": 284,
      "outputs": []
    },
    {
      "cell_type": "code",
      "source": [
        "df['review_scores_cleanliness']=df['review_scores_cleanliness'].astype(float)"
      ],
      "metadata": {
        "id": "QfKDIt88b0Ox"
      },
      "execution_count": 285,
      "outputs": []
    },
    {
      "cell_type": "code",
      "source": [
        "c=df['review_scores_cleanliness'].median()"
      ],
      "metadata": {
        "id": "E-1fSfqHc8ny"
      },
      "execution_count": 286,
      "outputs": []
    },
    {
      "cell_type": "code",
      "source": [
        "df['review_scores_cleanliness']=df['review_scores_cleanliness'].fillna(c)"
      ],
      "metadata": {
        "id": "ZXTf0Q4YdAde"
      },
      "execution_count": 287,
      "outputs": []
    },
    {
      "cell_type": "code",
      "source": [
        "df['review_scores_communication']=df['review_scores_communication'].astype(float)"
      ],
      "metadata": {
        "id": "-ke2yfTbdNFM"
      },
      "execution_count": 288,
      "outputs": []
    },
    {
      "cell_type": "code",
      "source": [
        "d=df['review_scores_communication'].median()"
      ],
      "metadata": {
        "id": "WhvLr0KTdPFx"
      },
      "execution_count": 289,
      "outputs": []
    },
    {
      "cell_type": "code",
      "source": [
        "df['review_scores_communication']=df['review_scores_communication'].fillna(d)"
      ],
      "metadata": {
        "id": "LxOGtaWDdSb-"
      },
      "execution_count": 290,
      "outputs": []
    },
    {
      "cell_type": "code",
      "source": [
        "df.isnull().sum()"
      ],
      "metadata": {
        "colab": {
          "base_uri": "https://localhost:8080/"
        },
        "id": "7YPBunPIb9C6",
        "outputId": "beffec14-6b57-4d2f-d9ca-c2f7f9f4a451"
      },
      "execution_count": 291,
      "outputs": [
        {
          "output_type": "execute_result",
          "data": {
            "text/plain": [
              "id                             0\n",
              "host_acceptance_rate           0\n",
              "property_type                  0\n",
              "room_type                      0\n",
              "price                          0\n",
              "availability_365               0\n",
              "number_of_reviews              0\n",
              "review_scores_rating           0\n",
              "review_scores_cleanliness      0\n",
              "review_scores_communication    0\n",
              "dtype: int64"
            ]
          },
          "metadata": {},
          "execution_count": 291
        }
      ]
    },
    {
      "cell_type": "code",
      "source": [
        "df.info()"
      ],
      "metadata": {
        "colab": {
          "base_uri": "https://localhost:8080/"
        },
        "id": "UKGVHgh7cBG1",
        "outputId": "a9ac5882-23a8-4e5a-d3f9-f03edc50d193"
      },
      "execution_count": 292,
      "outputs": [
        {
          "output_type": "stream",
          "name": "stdout",
          "text": [
            "<class 'pandas.core.frame.DataFrame'>\n",
            "Int64Index: 4635 entries, 0 to 5184\n",
            "Data columns (total 10 columns):\n",
            " #   Column                       Non-Null Count  Dtype  \n",
            "---  ------                       --------------  -----  \n",
            " 0   id                           4635 non-null   int64  \n",
            " 1   host_acceptance_rate         4635 non-null   int64  \n",
            " 2   property_type                4635 non-null   object \n",
            " 3   room_type                    4635 non-null   object \n",
            " 4   price                        4635 non-null   float64\n",
            " 5   availability_365             4635 non-null   int64  \n",
            " 6   number_of_reviews            4635 non-null   int64  \n",
            " 7   review_scores_rating         4635 non-null   float64\n",
            " 8   review_scores_cleanliness    4635 non-null   float64\n",
            " 9   review_scores_communication  4635 non-null   float64\n",
            "dtypes: float64(4), int64(4), object(2)\n",
            "memory usage: 398.3+ KB\n"
          ]
        }
      ]
    },
    {
      "cell_type": "code",
      "source": [
        "df['room_type'].value_counts()"
      ],
      "metadata": {
        "colab": {
          "base_uri": "https://localhost:8080/"
        },
        "id": "M-zWjDRscIoG",
        "outputId": "0eb5029b-ba97-454b-b25b-60536d8d2048"
      },
      "execution_count": 293,
      "outputs": [
        {
          "output_type": "execute_result",
          "data": {
            "text/plain": [
              "Entire home/apt    3096\n",
              "Private room       1509\n",
              "Hotel room           21\n",
              "Shared room           9\n",
              "Name: room_type, dtype: int64"
            ]
          },
          "metadata": {},
          "execution_count": 293
        }
      ]
    },
    {
      "cell_type": "code",
      "source": [
        "x=df.id\n",
        "y=df.price\n",
        "plt.scatter(x, y, c =\"blue\")\n",
        "plt.show()"
      ],
      "metadata": {
        "colab": {
          "base_uri": "https://localhost:8080/",
          "height": 0
        },
        "id": "dEWNKT2_eR97",
        "outputId": "9e659f6b-41de-441a-fae1-bc3ecc107f36"
      },
      "execution_count": 294,
      "outputs": [
        {
          "output_type": "display_data",
          "data": {
            "text/plain": [
              "<Figure size 432x288 with 1 Axes>"
            ],
            "image/png": "[encoded data removed]"
          },
          "metadata": {
            "needs_background": "light"
          }
        }
      ]
    },
    {
      "cell_type": "code",
      "source": [
        "df2=df[df['price']<1500]"
      ],
      "metadata": {
        "id": "i94CKkkgnIA3"
      },
      "execution_count": 295,
      "outputs": []
    },
    {
      "cell_type": "code",
      "source": [
        "x=df2.id\n",
        "y=df2.price\n",
        "plt.scatter(x, y, c =\"blue\")\n",
        "plt.show()"
      ],
      "metadata": {
        "colab": {
          "base_uri": "https://localhost:8080/",
          "height": 0
        },
        "id": "j7vdLes0nMMo",
        "outputId": "ba17d6f6-bd26-45fb-db7b-86d890171d1e"
      },
      "execution_count": 296,
      "outputs": [
        {
          "output_type": "display_data",
          "data": {
            "text/plain": [
              "<Figure size 432x288 with 1 Axes>"
            ],
            "image/png": "[encoded data removed]"
          },
          "metadata": {
            "needs_background": "light"
          }
        }
      ]
    },
    {
      "cell_type": "code",
      "source": [
        "df2['room_type'].value_counts()"
      ],
      "metadata": {
        "colab": {
          "base_uri": "https://localhost:8080/"
        },
        "id": "V_5lQKB-nUje",
        "outputId": "4f2130c1-da19-4f45-c767-8048413ff214"
      },
      "execution_count": 297,
      "outputs": [
        {
          "output_type": "execute_result",
          "data": {
            "text/plain": [
              "Entire home/apt    3090\n",
              "Private room       1508\n",
              "Hotel room           19\n",
              "Shared room           9\n",
              "Name: room_type, dtype: int64"
            ]
          },
          "metadata": {},
          "execution_count": 297
        }
      ]
    },
    {
      "cell_type": "code",
      "source": [
        "x=df2.id\n",
        "y=df2.review_scores_rating\n",
        "plt.scatter(x, y, c =\"blue\")\n",
        "plt.show()"
      ],
      "metadata": {
        "colab": {
          "base_uri": "https://localhost:8080/",
          "height": 0
        },
        "id": "4EvqPGXSng96",
        "outputId": "13cee823-bf80-480b-bf7f-ae429913d712"
      },
      "execution_count": 298,
      "outputs": [
        {
          "output_type": "display_data",
          "data": {
            "text/plain": [
              "<Figure size 432x288 with 1 Axes>"
            ],
            "image/png": "[encoded data removed]"
          },
          "metadata": {
            "needs_background": "light"
          }
        }
      ]
    },
    {
      "cell_type": "code",
      "source": [
        "df3=df2[df2['review_scores_rating']>2]"
      ],
      "metadata": {
        "id": "b3Eh3FzEn-AZ"
      },
      "execution_count": 299,
      "outputs": []
    },
    {
      "cell_type": "code",
      "source": [
        "df3['room_type'].value_counts()"
      ],
      "metadata": {
        "colab": {
          "base_uri": "https://localhost:8080/"
        },
        "id": "xq9RFsHKoBOq",
        "outputId": "6f34b453-3056-4d24-9e43-5f4426c92438"
      },
      "execution_count": 300,
      "outputs": [
        {
          "output_type": "execute_result",
          "data": {
            "text/plain": [
              "Entire home/apt    3082\n",
              "Private room       1499\n",
              "Hotel room           19\n",
              "Shared room           9\n",
              "Name: room_type, dtype: int64"
            ]
          },
          "metadata": {},
          "execution_count": 300
        }
      ]
    },
    {
      "cell_type": "code",
      "source": [
        "x=df3.id\n",
        "y=df3.review_scores_cleanliness\n",
        "plt.scatter(x, y, c =\"blue\")\n",
        "plt.show()"
      ],
      "metadata": {
        "colab": {
          "base_uri": "https://localhost:8080/",
          "height": 0
        },
        "id": "PjtnL1CboTE2",
        "outputId": "4afddcee-ac5b-4caf-ed78-f86024025014"
      },
      "execution_count": 301,
      "outputs": [
        {
          "output_type": "display_data",
          "data": {
            "text/plain": [
              "<Figure size 432x288 with 1 Axes>"
            ],
            "image/png": "[encoded data removed]"
          },
          "metadata": {
            "needs_background": "light"
          }
        }
      ]
    },
    {
      "cell_type": "code",
      "source": [
        "df4=df3[df3['review_scores_cleanliness']>2]"
      ],
      "metadata": {
        "id": "cphmvx-zoVAS"
      },
      "execution_count": 302,
      "outputs": []
    },
    {
      "cell_type": "code",
      "source": [
        "df4['room_type'].value_counts()"
      ],
      "metadata": {
        "colab": {
          "base_uri": "https://localhost:8080/"
        },
        "id": "eb3FbiTJoYfD",
        "outputId": "bd9ea4bf-b989-48e5-e3bc-9ebf36463464"
      },
      "execution_count": 303,
      "outputs": [
        {
          "output_type": "execute_result",
          "data": {
            "text/plain": [
              "Entire home/apt    3079\n",
              "Private room       1495\n",
              "Hotel room           19\n",
              "Shared room           9\n",
              "Name: room_type, dtype: int64"
            ]
          },
          "metadata": {},
          "execution_count": 303
        }
      ]
    },
    {
      "cell_type": "code",
      "source": [
        "x=df4.id\n",
        "y=df4.review_scores_communication\n",
        "plt.scatter(x, y, c =\"blue\")\n",
        "plt.show()"
      ],
      "metadata": {
        "colab": {
          "base_uri": "https://localhost:8080/",
          "height": 0
        },
        "id": "Z2_VtQcZotHZ",
        "outputId": "cc69cdcd-be87-4fea-d5de-17aa824d53c6"
      },
      "execution_count": 304,
      "outputs": [
        {
          "output_type": "display_data",
          "data": {
            "text/plain": [
              "<Figure size 432x288 with 1 Axes>"
            ],
            "image/png": "[encoded data removed]"
          },
          "metadata": {
            "needs_background": "light"
          }
        }
      ]
    },
    {
      "cell_type": "code",
      "source": [
        "df5=df4[df4['review_scores_communication']>3]"
      ],
      "metadata": {
        "id": "MevdrNt_owDn"
      },
      "execution_count": 305,
      "outputs": []
    },
    {
      "cell_type": "code",
      "source": [
        "df5['room_type'].value_counts()"
      ],
      "metadata": {
        "colab": {
          "base_uri": "https://localhost:8080/"
        },
        "id": "gzTuR7NLoyA9",
        "outputId": "242a10d0-7da6-4fb3-8a74-ffbd4f800c69"
      },
      "execution_count": 306,
      "outputs": [
        {
          "output_type": "execute_result",
          "data": {
            "text/plain": [
              "Entire home/apt    3053\n",
              "Private room       1479\n",
              "Hotel room           19\n",
              "Shared room           9\n",
              "Name: room_type, dtype: int64"
            ]
          },
          "metadata": {},
          "execution_count": 306
        }
      ]
    },
    {
      "cell_type": "markdown",
      "source": [
        "#*Analisis*"
      ],
      "metadata": {
        "id": "jQHvMfGbo5XR"
      }
    },
    {
      "cell_type": "code",
      "source": [
        "Entire_Apt=df5[df5['room_type']=='Entire home/apt']\n",
        "Private=df5[df5['room_type']=='Private room']\n",
        "Shared=df5[df5['room_type']=='Shared room']\n",
        "Hotel=df5[df5['room_type']=='Hotel room']"
      ],
      "metadata": {
        "id": "WjDUTDP49BEA"
      },
      "execution_count": 307,
      "outputs": []
    },
    {
      "cell_type": "code",
      "source": [
        "Entirecorr=Entire_Apt.corr()"
      ],
      "metadata": {
        "id": "kNo-SzUT9NeM"
      },
      "execution_count": 308,
      "outputs": []
    },
    {
      "cell_type": "code",
      "source": [
        "Privatecorr=Private.corr()"
      ],
      "metadata": {
        "id": "GqZoyNCA9OMA"
      },
      "execution_count": 309,
      "outputs": []
    },
    {
      "cell_type": "code",
      "source": [
        "Sharedcorr=Shared.corr()"
      ],
      "metadata": {
        "id": "y6FR6NgK9Qs2"
      },
      "execution_count": 310,
      "outputs": []
    },
    {
      "cell_type": "code",
      "source": [
        "Hotelcorr=Hotel.corr()"
      ],
      "metadata": {
        "id": "7xQt2eF-9ZkF"
      },
      "execution_count": 311,
      "outputs": []
    },
    {
      "cell_type": "markdown",
      "source": [
        "#*Entire room*"
      ],
      "metadata": {
        "id": "UUz26rUk-eKL"
      }
    },
    {
      "cell_type": "code",
      "source": [
        "Entirecorr['number_of_reviews']"
      ],
      "metadata": {
        "colab": {
          "base_uri": "https://localhost:8080/"
        },
        "id": "tAsDnQi_-glf",
        "outputId": "f887bb94-ebcf-4efe-8240-8bd966506fce"
      },
      "execution_count": 312,
      "outputs": [
        {
          "output_type": "execute_result",
          "data": {
            "text/plain": [
              "id                            -0.301164\n",
              "host_acceptance_rate           0.153175\n",
              "price                         -0.087898\n",
              "availability_365              -0.158899\n",
              "number_of_reviews              1.000000\n",
              "review_scores_rating           0.010317\n",
              "review_scores_cleanliness      0.063953\n",
              "review_scores_communication    0.052148\n",
              "Name: number_of_reviews, dtype: float64"
            ]
          },
          "metadata": {},
          "execution_count": 312
        }
      ]
    },
    {
      "cell_type": "code",
      "source": [
        "X= Entire_Apt[['host_acceptance_rate','availability_365']]\n",
        "y= Entire_Apt['number_of_reviews']"
      ],
      "metadata": {
        "id": "QDi2G6uXAupx"
      },
      "execution_count": 313,
      "outputs": []
    },
    {
      "cell_type": "code",
      "source": [
        "from sklearn.linear_model import LinearRegression"
      ],
      "metadata": {
        "id": "FIm6wbKcA3Dq"
      },
      "execution_count": 314,
      "outputs": []
    },
    {
      "cell_type": "code",
      "source": [
        "model= LinearRegression()"
      ],
      "metadata": {
        "id": "BZv7KX2FA4mr"
      },
      "execution_count": 315,
      "outputs": []
    },
    {
      "cell_type": "code",
      "source": [
        "type(model)"
      ],
      "metadata": {
        "colab": {
          "base_uri": "https://localhost:8080/"
        },
        "id": "wfLdsJipA6iK",
        "outputId": "f7a5270c-47a9-48b4-8a9d-305cdaabd82a"
      },
      "execution_count": 316,
      "outputs": [
        {
          "output_type": "execute_result",
          "data": {
            "text/plain": [
              "sklearn.linear_model._base.LinearRegression"
            ]
          },
          "metadata": {},
          "execution_count": 316
        }
      ]
    },
    {
      "cell_type": "code",
      "source": [
        "model.fit(X=X, y=y)"
      ],
      "metadata": {
        "colab": {
          "base_uri": "https://localhost:8080/"
        },
        "id": "ly9lF8ocA8TD",
        "outputId": "d063c90c-980e-4a23-e49b-6417c12d5220"
      },
      "execution_count": 317,
      "outputs": [
        {
          "output_type": "execute_result",
          "data": {
            "text/plain": [
              "LinearRegression()"
            ]
          },
          "metadata": {},
          "execution_count": 317
        }
      ]
    },
    {
      "cell_type": "code",
      "source": [
        "model.__dict__"
      ],
      "metadata": {
        "colab": {
          "base_uri": "https://localhost:8080/"
        },
        "id": "mt4bSDFFA-Oq",
        "outputId": "9a3b92bb-e6b4-45cc-bbf2-309ce41256ee"
      },
      "execution_count": 318,
      "outputs": [
        {
          "output_type": "execute_result",
          "data": {
            "text/plain": [
              "{'fit_intercept': True,\n",
              " 'normalize': 'deprecated',\n",
              " 'copy_X': True,\n",
              " 'n_jobs': None,\n",
              " 'positive': False,\n",
              " 'feature_names_in_': array(['host_acceptance_rate', 'availability_365'], dtype=object),\n",
              " 'n_features_in_': 2,\n",
              " 'coef_': array([ 0.66039817, -0.10369789]),\n",
              " '_residues': 21068990.062798068,\n",
              " 'rank_': 2,\n",
              " 'singular_': array([6545.44998449,  976.82597358]),\n",
              " 'intercept_': 11.426766658978977}"
            ]
          },
          "metadata": {},
          "execution_count": 318
        }
      ]
    },
    {
      "cell_type": "code",
      "source": [
        "model.score(X,y)"
      ],
      "metadata": {
        "colab": {
          "base_uri": "https://localhost:8080/"
        },
        "id": "BqEVeXdbA_GJ",
        "outputId": "fc452e7b-48ee-4f28-bc0e-0d1243fb5574"
      },
      "execution_count": 319,
      "outputs": [
        {
          "output_type": "execute_result",
          "data": {
            "text/plain": [
              "0.044133491818773685"
            ]
          },
          "metadata": {},
          "execution_count": 319
        }
      ]
    },
    {
      "cell_type": "code",
      "source": [
        "y_pred= model.predict(X=Entire_Apt[['host_acceptance_rate','availability_365']])\n",
        "y_pred"
      ],
      "metadata": {
        "colab": {
          "base_uri": "https://localhost:8080/"
        },
        "id": "WOIQ20xJBBYs",
        "outputId": "12e0cfc3-8568-46af-8eb2-2f8d2eccbbe0"
      },
      "execution_count": 320,
      "outputs": [
        {
          "output_type": "execute_result",
          "data": {
            "text/plain": [
              "array([13.81746576, 72.8001783 , 71.34840781, ..., 43.96122964,\n",
              "       52.47539137, 39.68233978])"
            ]
          },
          "metadata": {},
          "execution_count": 320
        }
      ]
    },
    {
      "cell_type": "code",
      "source": [
        "Entire_Apt.insert(0, 'Predicciones', y_pred)\n",
        "Entire_Apt"
      ],
      "metadata": {
        "colab": {
          "base_uri": "https://localhost:8080/",
          "height": 0
        },
        "id": "24AsiXZjBFEy",
        "outputId": "348e98b6-fb77-4be9-82ab-b29c69605cbe"
      },
      "execution_count": 321,
      "outputs": [
        {
          "output_type": "execute_result",
          "data": {
            "text/plain": [
              "      Predicciones                  id  host_acceptance_rate  \\\n",
              "1        13.817466                3781                    30   \n",
              "2        72.800178                5506                   100   \n",
              "3        71.348408                6695                   100   \n",
              "5        43.513634                8521                    88   \n",
              "6        19.542839                8789                    55   \n",
              "...            ...                 ...                   ...   \n",
              "5174     38.154148  714906239224334877                    97   \n",
              "5175     39.824248  715101662823777649                   100   \n",
              "5176     43.961230  715658190467254169                    97   \n",
              "5177     52.475391  715928214125152890                   100   \n",
              "5178     39.682340  716081347764852130                    99   \n",
              "\n",
              "           property_type        room_type  price  availability_365  \\\n",
              "1     Entire rental unit  Entire home/apt  132.0               168   \n",
              "2     Entire guest suite  Entire home/apt  149.0                45   \n",
              "3           Entire condo  Entire home/apt  179.0                59   \n",
              "5     Entire rental unit  Entire home/apt  300.0               251   \n",
              "6     Entire rental unit  Entire home/apt  110.0               272   \n",
              "...                  ...              ...    ...               ...   \n",
              "5174  Entire rental unit  Entire home/apt  219.0               360   \n",
              "5175        Entire condo  Entire home/apt  164.0               363   \n",
              "5176  Entire rental unit  Entire home/apt  142.0               304   \n",
              "5177         Entire home  Entire home/apt  185.0               241   \n",
              "5178  Entire rental unit  Entire home/apt  203.0               358   \n",
              "\n",
              "      number_of_reviews  review_scores_rating  review_scores_cleanliness  \\\n",
              "1                    23                  4.96                       4.96   \n",
              "2                   113                  4.78                       4.89   \n",
              "3                   119                  4.80                       4.86   \n",
              "5                    50                  4.76                       4.96   \n",
              "6                    25                  4.64                       4.56   \n",
              "...                 ...                   ...                        ...   \n",
              "5174                  0                  4.85                       4.85   \n",
              "5175                  0                  4.85                       4.85   \n",
              "5176                  0                  4.85                       4.85   \n",
              "5177                  0                  4.85                       4.85   \n",
              "5178                  0                  4.85                       4.85   \n",
              "\n",
              "      review_scores_communication  \n",
              "1                            4.96  \n",
              "2                            4.89  \n",
              "3                            4.95  \n",
              "5                            4.91  \n",
              "6                            4.96  \n",
              "...                           ...  \n",
              "5174                         4.93  \n",
              "5175                         4.93  \n",
              "5176                         4.93  \n",
              "5177                         4.93  \n",
              "5178                         4.93  \n",
              "\n",
              "[3053 rows x 11 columns]"
            ],
            "text/html": [
              "\n",
              "  <div id=\"df-7c6ee0b8-4673-4647-8fad-1edf6e6ea2b9\">\n",
              "    <div class=\"colab-df-container\">\n",
              "      <div>\n",
              "<style scoped>\n",
              "    .dataframe tbody tr th:only-of-type {\n",
              "        vertical-align: middle;\n",
              "    }\n",
              "\n",
              "    .dataframe tbody tr th {\n",
              "        vertical-align: top;\n",
              "    }\n",
              "\n",
              "    .dataframe thead th {\n",
              "        text-align: right;\n",
              "    }\n",
              "</style>\n",
              "<table border=\"1\" class=\"dataframe\">\n",
              "  <thead>\n",
              "    <tr style=\"text-align: right;\">\n",
              "      <th></th>\n",
              "      <th>Predicciones</th>\n",
              "      <th>id</th>\n",
              "      <th>host_acceptance_rate</th>\n",
              "      <th>property_type</th>\n",
              "      <th>room_type</th>\n",
              "      <th>price</th>\n",
              "      <th>availability_365</th>\n",
              "      <th>number_of_reviews</th>\n",
              "      <th>review_scores_rating</th>\n",
              "      <th>review_scores_cleanliness</th>\n",
              "      <th>review_scores_communication</th>\n",
              "    </tr>\n",
              "  </thead>\n",
              "  <tbody>\n",
              "    <tr>\n",
              "      <th>1</th>\n",
              "      <td>13.817466</td>\n",
              "      <td>3781</td>\n",
              "      <td>30</td>\n",
              "      <td>Entire rental unit</td>\n",
              "      <td>Entire home/apt</td>\n",
              "      <td>132.0</td>\n",
              "      <td>168</td>\n",
              "      <td>23</td>\n",
              "      <td>4.96</td>\n",
              "      <td>4.96</td>\n",
              "      <td>4.96</td>\n",
              "    </tr>\n",
              "    <tr>\n",
              "      <th>2</th>\n",
              "      <td>72.800178</td>\n",
              "      <td>5506</td>\n",
              "      <td>100</td>\n",
              "      <td>Entire guest suite</td>\n",
              "      <td>Entire home/apt</td>\n",
              "      <td>149.0</td>\n",
              "      <td>45</td>\n",
              "      <td>113</td>\n",
              "      <td>4.78</td>\n",
              "      <td>4.89</td>\n",
              "      <td>4.89</td>\n",
              "    </tr>\n",
              "    <tr>\n",
              "      <th>3</th>\n",
              "      <td>71.348408</td>\n",
              "      <td>6695</td>\n",
              "      <td>100</td>\n",
              "      <td>Entire condo</td>\n",
              "      <td>Entire home/apt</td>\n",
              "      <td>179.0</td>\n",
              "      <td>59</td>\n",
              "      <td>119</td>\n",
              "      <td>4.80</td>\n",
              "      <td>4.86</td>\n",
              "      <td>4.95</td>\n",
              "    </tr>\n",
              "    <tr>\n",
              "      <th>5</th>\n",
              "      <td>43.513634</td>\n",
              "      <td>8521</td>\n",
              "      <td>88</td>\n",
              "      <td>Entire rental unit</td>\n",
              "      <td>Entire home/apt</td>\n",
              "      <td>300.0</td>\n",
              "      <td>251</td>\n",
              "      <td>50</td>\n",
              "      <td>4.76</td>\n",
              "      <td>4.96</td>\n",
              "      <td>4.91</td>\n",
              "    </tr>\n",
              "    <tr>\n",
              "      <th>6</th>\n",
              "      <td>19.542839</td>\n",
              "      <td>8789</td>\n",
              "      <td>55</td>\n",
              "      <td>Entire rental unit</td>\n",
              "      <td>Entire home/apt</td>\n",
              "      <td>110.0</td>\n",
              "      <td>272</td>\n",
              "      <td>25</td>\n",
              "      <td>4.64</td>\n",
              "      <td>4.56</td>\n",
              "      <td>4.96</td>\n",
              "    </tr>\n",
              "    <tr>\n",
              "      <th>...</th>\n",
              "      <td>...</td>\n",
              "      <td>...</td>\n",
              "      <td>...</td>\n",
              "      <td>...</td>\n",
              "      <td>...</td>\n",
              "      <td>...</td>\n",
              "      <td>...</td>\n",
              "      <td>...</td>\n",
              "      <td>...</td>\n",
              "      <td>...</td>\n",
              "      <td>...</td>\n",
              "    </tr>\n",
              "    <tr>\n",
              "      <th>5174</th>\n",
              "      <td>38.154148</td>\n",
              "      <td>714906239224334877</td>\n",
              "      <td>97</td>\n",
              "      <td>Entire rental unit</td>\n",
              "      <td>Entire home/apt</td>\n",
              "      <td>219.0</td>\n",
              "      <td>360</td>\n",
              "      <td>0</td>\n",
              "      <td>4.85</td>\n",
              "      <td>4.85</td>\n",
              "      <td>4.93</td>\n",
              "    </tr>\n",
              "    <tr>\n",
              "      <th>5175</th>\n",
              "      <td>39.824248</td>\n",
              "      <td>715101662823777649</td>\n",
              "      <td>100</td>\n",
              "      <td>Entire condo</td>\n",
              "      <td>Entire home/apt</td>\n",
              "      <td>164.0</td>\n",
              "      <td>363</td>\n",
              "      <td>0</td>\n",
              "      <td>4.85</td>\n",
              "      <td>4.85</td>\n",
              "      <td>4.93</td>\n",
              "    </tr>\n",
              "    <tr>\n",
              "      <th>5176</th>\n",
              "      <td>43.961230</td>\n",
              "      <td>715658190467254169</td>\n",
              "      <td>97</td>\n",
              "      <td>Entire rental unit</td>\n",
              "      <td>Entire home/apt</td>\n",
              "      <td>142.0</td>\n",
              "      <td>304</td>\n",
              "      <td>0</td>\n",
              "      <td>4.85</td>\n",
              "      <td>4.85</td>\n",
              "      <td>4.93</td>\n",
              "    </tr>\n",
              "    <tr>\n",
              "      <th>5177</th>\n",
              "      <td>52.475391</td>\n",
              "      <td>715928214125152890</td>\n",
              "      <td>100</td>\n",
              "      <td>Entire home</td>\n",
              "      <td>Entire home/apt</td>\n",
              "      <td>185.0</td>\n",
              "      <td>241</td>\n",
              "      <td>0</td>\n",
              "      <td>4.85</td>\n",
              "      <td>4.85</td>\n",
              "      <td>4.93</td>\n",
              "    </tr>\n",
              "    <tr>\n",
              "      <th>5178</th>\n",
              "      <td>39.682340</td>\n",
              "      <td>716081347764852130</td>\n",
              "      <td>99</td>\n",
              "      <td>Entire rental unit</td>\n",
              "      <td>Entire home/apt</td>\n",
              "      <td>203.0</td>\n",
              "      <td>358</td>\n",
              "      <td>0</td>\n",
              "      <td>4.85</td>\n",
              "      <td>4.85</td>\n",
              "      <td>4.93</td>\n",
              "    </tr>\n",
              "  </tbody>\n",
              "</table>\n",
              "<p>3053 rows × 11 columns</p>\n",
              "</div>\n",
              "      <button class=\"colab-df-convert\" onclick=\"convertToInteractive('df-7c6ee0b8-4673-4647-8fad-1edf6e6ea2b9')\"\n",
              "              title=\"Convert this dataframe to an interactive table.\"\n",
              "              style=\"display:none;\">\n",
              "        \n",
              "  <svg xmlns=\"http://www.w3.org/2000/svg\" height=\"24px\"viewBox=\"0 0 24 24\"\n",
              "       width=\"24px\">\n",
              "    <path d=\"M0 0h24v24H0V0z\" fill=\"none\"/>\n",
              "    <path d=\"M18.56 5.44l.94 2.06.94-2.06 2.06-.94-2.06-.94-.94-2.06-.94 2.06-2.06.94zm-11 1L8.5 8.5l.94-2.06 2.06-.94-2.06-.94L8.5 2.5l-.94 2.06-2.06.94zm10 10l.94 2.06.94-2.06 2.06-.94-2.06-.94-.94-2.06-.94 2.06-2.06.94z\"/><path d=\"M17.41 7.96l-1.37-1.37c-.4-.4-.92-.59-1.43-.59-.52 0-1.04.2-1.43.59L10.3 9.45l-7.72 7.72c-.78.78-.78 2.05 0 2.83L4 21.41c.39.39.9.59 1.41.59.51 0 1.02-.2 1.41-.59l7.78-7.78 2.81-2.81c.8-.78.8-2.07 0-2.86zM5.41 20L4 18.59l7.72-7.72 1.47 1.35L5.41 20z\"/>\n",
              "  </svg>\n",
              "      </button>\n",
              "      \n",
              "  <style>\n",
              "    .colab-df-container {\n",
              "      display:flex;\n",
              "      flex-wrap:wrap;\n",
              "      gap: 12px;\n",
              "    }\n",
              "\n",
              "    .colab-df-convert {\n",
              "      background-color: #E8F0FE;\n",
              "      border: none;\n",
              "      border-radius: 50%;\n",
              "      cursor: pointer;\n",
              "      display: none;\n",
              "      fill: #1967D2;\n",
              "      height: 32px;\n",
              "      padding: 0 0 0 0;\n",
              "      width: 32px;\n",
              "    }\n",
              "\n",
              "    .colab-df-convert:hover {\n",
              "      background-color: #E2EBFA;\n",
              "      box-shadow: 0px 1px 2px rgba(60, 64, 67, 0.3), 0px 1px 3px 1px rgba(60, 64, 67, 0.15);\n",
              "      fill: #174EA6;\n",
              "    }\n",
              "\n",
              "    [theme=dark] .colab-df-convert {\n",
              "      background-color: #3B4455;\n",
              "      fill: #D2E3FC;\n",
              "    }\n",
              "\n",
              "    [theme=dark] .colab-df-convert:hover {\n",
              "      background-color: #434B5C;\n",
              "      box-shadow: 0px 1px 3px 1px rgba(0, 0, 0, 0.15);\n",
              "      filter: drop-shadow(0px 1px 2px rgba(0, 0, 0, 0.3));\n",
              "      fill: #FFFFFF;\n",
              "    }\n",
              "  </style>\n",
              "\n",
              "      <script>\n",
              "        const buttonEl =\n",
              "          document.querySelector('#df-7c6ee0b8-4673-4647-8fad-1edf6e6ea2b9 button.colab-df-convert');\n",
              "        buttonEl.style.display =\n",
              "          google.colab.kernel.accessAllowed ? 'block' : 'none';\n",
              "\n",
              "        async function convertToInteractive(key) {\n",
              "          const element = document.querySelector('#df-7c6ee0b8-4673-4647-8fad-1edf6e6ea2b9');\n",
              "          const dataTable =\n",
              "            await google.colab.kernel.invokeFunction('convertToInteractive',\n",
              "                                                     [key], {});\n",
              "          if (!dataTable) return;\n",
              "\n",
              "          const docLinkHtml = 'Like what you see? Visit the ' +\n",
              "            '<a target=\"_blank\" href=https://colab.research.google.com/notebooks/data_table.ipynb>data table notebook</a>'\n",
              "            + ' to learn more about interactive tables.';\n",
              "          element.innerHTML = '';\n",
              "          dataTable['output_type'] = 'display_data';\n",
              "          await google.colab.output.renderOutput(dataTable, element);\n",
              "          const docLink = document.createElement('div');\n",
              "          docLink.innerHTML = docLinkHtml;\n",
              "          element.appendChild(docLink);\n",
              "        }\n",
              "      </script>\n",
              "    </div>\n",
              "  </div>\n",
              "  "
            ]
          },
          "metadata": {},
          "execution_count": 321
        }
      ]
    },
    {
      "cell_type": "markdown",
      "source": [
        "#*Private room*"
      ],
      "metadata": {
        "id": "tCusdFa-BQc9"
      }
    },
    {
      "cell_type": "code",
      "source": [
        "Privatecorr['number_of_reviews']"
      ],
      "metadata": {
        "colab": {
          "base_uri": "https://localhost:8080/"
        },
        "id": "jEXR_uVPCK7i",
        "outputId": "d240c44e-5601-408c-dbbf-7f0d132181ff"
      },
      "execution_count": 322,
      "outputs": [
        {
          "output_type": "execute_result",
          "data": {
            "text/plain": [
              "id                            -0.281814\n",
              "host_acceptance_rate           0.218866\n",
              "price                          0.003164\n",
              "availability_365              -0.030487\n",
              "number_of_reviews              1.000000\n",
              "review_scores_rating           0.076739\n",
              "review_scores_cleanliness      0.100771\n",
              "review_scores_communication    0.075453\n",
              "Name: number_of_reviews, dtype: float64"
            ]
          },
          "metadata": {},
          "execution_count": 322
        }
      ]
    },
    {
      "cell_type": "code",
      "source": [
        "Xp= Private[['host_acceptance_rate','availability_365']]\n",
        "yp= Private['number_of_reviews']"
      ],
      "metadata": {
        "id": "t4JTFd01CL5P"
      },
      "execution_count": 323,
      "outputs": []
    },
    {
      "cell_type": "code",
      "source": [
        "modelp= LinearRegression()"
      ],
      "metadata": {
        "id": "hqT5VBN1CNms"
      },
      "execution_count": 324,
      "outputs": []
    },
    {
      "cell_type": "code",
      "source": [
        "type(modelp)"
      ],
      "metadata": {
        "colab": {
          "base_uri": "https://localhost:8080/"
        },
        "id": "DgLaIC8lCPQY",
        "outputId": "f7e40fce-08e2-430a-8ddb-f023ce8b581e"
      },
      "execution_count": 325,
      "outputs": [
        {
          "output_type": "execute_result",
          "data": {
            "text/plain": [
              "sklearn.linear_model._base.LinearRegression"
            ]
          },
          "metadata": {},
          "execution_count": 325
        }
      ]
    },
    {
      "cell_type": "code",
      "source": [
        "modelp.fit(X=Xp, y=yp)"
      ],
      "metadata": {
        "colab": {
          "base_uri": "https://localhost:8080/"
        },
        "id": "a1duFAJYCQ_Z",
        "outputId": "c97875af-50fb-461d-d300-ec55049f7931"
      },
      "execution_count": 326,
      "outputs": [
        {
          "output_type": "execute_result",
          "data": {
            "text/plain": [
              "LinearRegression()"
            ]
          },
          "metadata": {},
          "execution_count": 326
        }
      ]
    },
    {
      "cell_type": "code",
      "source": [
        "modelp.__dict__"
      ],
      "metadata": {
        "colab": {
          "base_uri": "https://localhost:8080/"
        },
        "id": "VL9HWCF6CThE",
        "outputId": "c3795626-a3bf-4ac1-d76c-cf0b6f3e6a0c"
      },
      "execution_count": 327,
      "outputs": [
        {
          "output_type": "execute_result",
          "data": {
            "text/plain": [
              "{'fit_intercept': True,\n",
              " 'normalize': 'deprecated',\n",
              " 'copy_X': True,\n",
              " 'n_jobs': None,\n",
              " 'positive': False,\n",
              " 'feature_names_in_': array(['host_acceptance_rate', 'availability_365'], dtype=object),\n",
              " 'n_features_in_': 2,\n",
              " 'coef_': array([ 0.88576477, -0.0118215 ]),\n",
              " '_residues': 15343083.85879236,\n",
              " 'rank_': 2,\n",
              " 'singular_': array([4542.65080106,  984.04393313]),\n",
              " 'intercept_': -16.021855770610998}"
            ]
          },
          "metadata": {},
          "execution_count": 327
        }
      ]
    },
    {
      "cell_type": "code",
      "source": [
        "modelp.score(Xp,yp)"
      ],
      "metadata": {
        "colab": {
          "base_uri": "https://localhost:8080/"
        },
        "id": "_mjFBEc6CVBG",
        "outputId": "b33f07d8-8489-4f44-fb81-e571e40e1c08"
      },
      "execution_count": 328,
      "outputs": [
        {
          "output_type": "execute_result",
          "data": {
            "text/plain": [
              "0.048079956985027206"
            ]
          },
          "metadata": {},
          "execution_count": 328
        }
      ]
    },
    {
      "cell_type": "code",
      "source": [
        "y_predp= modelp.predict(X=Private[['host_acceptance_rate','availability_365']])\n",
        "y_predp"
      ],
      "metadata": {
        "colab": {
          "base_uri": "https://localhost:8080/"
        },
        "id": "ige1CHhdCWnB",
        "outputId": "98c0de30-dddf-4add-f7b1-449c5c097517"
      },
      "execution_count": 329,
      "outputs": [
        {
          "output_type": "execute_result",
          "data": {
            "text/plain": [
              "array([-19.42644646,  69.7909339 ,  66.30444013, ...,  67.41311855,\n",
              "        67.76776341,  67.68501294])"
            ]
          },
          "metadata": {},
          "execution_count": 329
        }
      ]
    },
    {
      "cell_type": "code",
      "source": [
        "Private.insert(0, 'Predicciones', y_predp)\n",
        "Private"
      ],
      "metadata": {
        "colab": {
          "base_uri": "https://localhost:8080/",
          "height": 0
        },
        "id": "P1_CUGA2CYZQ",
        "outputId": "16295334-950d-4286-be2a-0efcb05f6343"
      },
      "execution_count": 330,
      "outputs": [
        {
          "output_type": "execute_result",
          "data": {
            "text/plain": [
              "      Predicciones                  id  host_acceptance_rate  \\\n",
              "0       -19.426446                3168                     0   \n",
              "4        69.790934                7903                    97   \n",
              "10       66.304440               19581                    96   \n",
              "11       65.949795               27498                    96   \n",
              "13       61.732911               40601                    92   \n",
              "...            ...                 ...                   ...   \n",
              "5180     67.685013  716081443145047239                    99   \n",
              "5181     67.413119  716081469166085329                    99   \n",
              "5182     67.413119  716081495310456299                    99   \n",
              "5183     67.767763  716235197792512391                    99   \n",
              "5184     67.685013  716240339038945877                    99   \n",
              "\n",
              "                          property_type     room_type  price  \\\n",
              "0                          Private room  Private room   99.0   \n",
              "4                 Private room in condo  Private room  116.0   \n",
              "10    Private room in bed and breakfast  Private room  199.0   \n",
              "11    Private room in bed and breakfast  Private room  265.0   \n",
              "13                 Private room in home  Private room  100.0   \n",
              "...                                 ...           ...    ...   \n",
              "5180        Private room in rental unit  Private room   51.0   \n",
              "5181        Private room in rental unit  Private room   51.0   \n",
              "5182        Private room in rental unit  Private room   51.0   \n",
              "5183        Private room in rental unit  Private room   51.0   \n",
              "5184        Private room in rental unit  Private room   51.0   \n",
              "\n",
              "      availability_365  number_of_reviews  review_scores_rating  \\\n",
              "0                  288                  0                  4.85   \n",
              "4                    9                295                  4.89   \n",
              "10                 229                  8                  4.29   \n",
              "11                 259                 18                  4.65   \n",
              "13                 316                 89                  4.98   \n",
              "...                ...                ...                   ...   \n",
              "5180               337                  0                  4.85   \n",
              "5181               360                  0                  4.85   \n",
              "5182               360                  0                  4.85   \n",
              "5183               330                  0                  4.85   \n",
              "5184               337                  0                  4.85   \n",
              "\n",
              "      review_scores_cleanliness  review_scores_communication  \n",
              "0                          4.85                         4.93  \n",
              "4                          4.94                         4.95  \n",
              "10                         4.50                         4.83  \n",
              "11                         4.63                         4.63  \n",
              "13                         5.00                         4.94  \n",
              "...                         ...                          ...  \n",
              "5180                       4.85                         4.93  \n",
              "5181                       4.85                         4.93  \n",
              "5182                       4.85                         4.93  \n",
              "5183                       4.85                         4.93  \n",
              "5184                       4.85                         4.93  \n",
              "\n",
              "[1479 rows x 11 columns]"
            ],
            "text/html": [
              "\n",
              "  <div id=\"df-8ef78e21-8a8d-46af-b066-503ccfa2bae3\">\n",
              "    <div class=\"colab-df-container\">\n",
              "      <div>\n",
              "<style scoped>\n",
              "    .dataframe tbody tr th:only-of-type {\n",
              "        vertical-align: middle;\n",
              "    }\n",
              "\n",
              "    .dataframe tbody tr th {\n",
              "        vertical-align: top;\n",
              "    }\n",
              "\n",
              "    .dataframe thead th {\n",
              "        text-align: right;\n",
              "    }\n",
              "</style>\n",
              "<table border=\"1\" class=\"dataframe\">\n",
              "  <thead>\n",
              "    <tr style=\"text-align: right;\">\n",
              "      <th></th>\n",
              "      <th>Predicciones</th>\n",
              "      <th>id</th>\n",
              "      <th>host_acceptance_rate</th>\n",
              "      <th>property_type</th>\n",
              "      <th>room_type</th>\n",
              "      <th>price</th>\n",
              "      <th>availability_365</th>\n",
              "      <th>number_of_reviews</th>\n",
              "      <th>review_scores_rating</th>\n",
              "      <th>review_scores_cleanliness</th>\n",
              "      <th>review_scores_communication</th>\n",
              "    </tr>\n",
              "  </thead>\n",
              "  <tbody>\n",
              "    <tr>\n",
              "      <th>0</th>\n",
              "      <td>-19.426446</td>\n",
              "      <td>3168</td>\n",
              "      <td>0</td>\n",
              "      <td>Private room</td>\n",
              "      <td>Private room</td>\n",
              "      <td>99.0</td>\n",
              "      <td>288</td>\n",
              "      <td>0</td>\n",
              "      <td>4.85</td>\n",
              "      <td>4.85</td>\n",
              "      <td>4.93</td>\n",
              "    </tr>\n",
              "    <tr>\n",
              "      <th>4</th>\n",
              "      <td>69.790934</td>\n",
              "      <td>7903</td>\n",
              "      <td>97</td>\n",
              "      <td>Private room in condo</td>\n",
              "      <td>Private room</td>\n",
              "      <td>116.0</td>\n",
              "      <td>9</td>\n",
              "      <td>295</td>\n",
              "      <td>4.89</td>\n",
              "      <td>4.94</td>\n",
              "      <td>4.95</td>\n",
              "    </tr>\n",
              "    <tr>\n",
              "      <th>10</th>\n",
              "      <td>66.304440</td>\n",
              "      <td>19581</td>\n",
              "      <td>96</td>\n",
              "      <td>Private room in bed and breakfast</td>\n",
              "      <td>Private room</td>\n",
              "      <td>199.0</td>\n",
              "      <td>229</td>\n",
              "      <td>8</td>\n",
              "      <td>4.29</td>\n",
              "      <td>4.50</td>\n",
              "      <td>4.83</td>\n",
              "    </tr>\n",
              "    <tr>\n",
              "      <th>11</th>\n",
              "      <td>65.949795</td>\n",
              "      <td>27498</td>\n",
              "      <td>96</td>\n",
              "      <td>Private room in bed and breakfast</td>\n",
              "      <td>Private room</td>\n",
              "      <td>265.0</td>\n",
              "      <td>259</td>\n",
              "      <td>18</td>\n",
              "      <td>4.65</td>\n",
              "      <td>4.63</td>\n",
              "      <td>4.63</td>\n",
              "    </tr>\n",
              "    <tr>\n",
              "      <th>13</th>\n",
              "      <td>61.732911</td>\n",
              "      <td>40601</td>\n",
              "      <td>92</td>\n",
              "      <td>Private room in home</td>\n",
              "      <td>Private room</td>\n",
              "      <td>100.0</td>\n",
              "      <td>316</td>\n",
              "      <td>89</td>\n",
              "      <td>4.98</td>\n",
              "      <td>5.00</td>\n",
              "      <td>4.94</td>\n",
              "    </tr>\n",
              "    <tr>\n",
              "      <th>...</th>\n",
              "      <td>...</td>\n",
              "      <td>...</td>\n",
              "      <td>...</td>\n",
              "      <td>...</td>\n",
              "      <td>...</td>\n",
              "      <td>...</td>\n",
              "      <td>...</td>\n",
              "      <td>...</td>\n",
              "      <td>...</td>\n",
              "      <td>...</td>\n",
              "      <td>...</td>\n",
              "    </tr>\n",
              "    <tr>\n",
              "      <th>5180</th>\n",
              "      <td>67.685013</td>\n",
              "      <td>716081443145047239</td>\n",
              "      <td>99</td>\n",
              "      <td>Private room in rental unit</td>\n",
              "      <td>Private room</td>\n",
              "      <td>51.0</td>\n",
              "      <td>337</td>\n",
              "      <td>0</td>\n",
              "      <td>4.85</td>\n",
              "      <td>4.85</td>\n",
              "      <td>4.93</td>\n",
              "    </tr>\n",
              "    <tr>\n",
              "      <th>5181</th>\n",
              "      <td>67.413119</td>\n",
              "      <td>716081469166085329</td>\n",
              "      <td>99</td>\n",
              "      <td>Private room in rental unit</td>\n",
              "      <td>Private room</td>\n",
              "      <td>51.0</td>\n",
              "      <td>360</td>\n",
              "      <td>0</td>\n",
              "      <td>4.85</td>\n",
              "      <td>4.85</td>\n",
              "      <td>4.93</td>\n",
              "    </tr>\n",
              "    <tr>\n",
              "      <th>5182</th>\n",
              "      <td>67.413119</td>\n",
              "      <td>716081495310456299</td>\n",
              "      <td>99</td>\n",
              "      <td>Private room in rental unit</td>\n",
              "      <td>Private room</td>\n",
              "      <td>51.0</td>\n",
              "      <td>360</td>\n",
              "      <td>0</td>\n",
              "      <td>4.85</td>\n",
              "      <td>4.85</td>\n",
              "      <td>4.93</td>\n",
              "    </tr>\n",
              "    <tr>\n",
              "      <th>5183</th>\n",
              "      <td>67.767763</td>\n",
              "      <td>716235197792512391</td>\n",
              "      <td>99</td>\n",
              "      <td>Private room in rental unit</td>\n",
              "      <td>Private room</td>\n",
              "      <td>51.0</td>\n",
              "      <td>330</td>\n",
              "      <td>0</td>\n",
              "      <td>4.85</td>\n",
              "      <td>4.85</td>\n",
              "      <td>4.93</td>\n",
              "    </tr>\n",
              "    <tr>\n",
              "      <th>5184</th>\n",
              "      <td>67.685013</td>\n",
              "      <td>716240339038945877</td>\n",
              "      <td>99</td>\n",
              "      <td>Private room in rental unit</td>\n",
              "      <td>Private room</td>\n",
              "      <td>51.0</td>\n",
              "      <td>337</td>\n",
              "      <td>0</td>\n",
              "      <td>4.85</td>\n",
              "      <td>4.85</td>\n",
              "      <td>4.93</td>\n",
              "    </tr>\n",
              "  </tbody>\n",
              "</table>\n",
              "<p>1479 rows × 11 columns</p>\n",
              "</div>\n",
              "      <button class=\"colab-df-convert\" onclick=\"convertToInteractive('df-8ef78e21-8a8d-46af-b066-503ccfa2bae3')\"\n",
              "              title=\"Convert this dataframe to an interactive table.\"\n",
              "              style=\"display:none;\">\n",
              "        \n",
              "  <svg xmlns=\"http://www.w3.org/2000/svg\" height=\"24px\"viewBox=\"0 0 24 24\"\n",
              "       width=\"24px\">\n",
              "    <path d=\"M0 0h24v24H0V0z\" fill=\"none\"/>\n",
              "    <path d=\"M18.56 5.44l.94 2.06.94-2.06 2.06-.94-2.06-.94-.94-2.06-.94 2.06-2.06.94zm-11 1L8.5 8.5l.94-2.06 2.06-.94-2.06-.94L8.5 2.5l-.94 2.06-2.06.94zm10 10l.94 2.06.94-2.06 2.06-.94-2.06-.94-.94-2.06-.94 2.06-2.06.94z\"/><path d=\"M17.41 7.96l-1.37-1.37c-.4-.4-.92-.59-1.43-.59-.52 0-1.04.2-1.43.59L10.3 9.45l-7.72 7.72c-.78.78-.78 2.05 0 2.83L4 21.41c.39.39.9.59 1.41.59.51 0 1.02-.2 1.41-.59l7.78-7.78 2.81-2.81c.8-.78.8-2.07 0-2.86zM5.41 20L4 18.59l7.72-7.72 1.47 1.35L5.41 20z\"/>\n",
              "  </svg>\n",
              "      </button>\n",
              "      \n",
              "  <style>\n",
              "    .colab-df-container {\n",
              "      display:flex;\n",
              "      flex-wrap:wrap;\n",
              "      gap: 12px;\n",
              "    }\n",
              "\n",
              "    .colab-df-convert {\n",
              "      background-color: #E8F0FE;\n",
              "      border: none;\n",
              "      border-radius: 50%;\n",
              "      cursor: pointer;\n",
              "      display: none;\n",
              "      fill: #1967D2;\n",
              "      height: 32px;\n",
              "      padding: 0 0 0 0;\n",
              "      width: 32px;\n",
              "    }\n",
              "\n",
              "    .colab-df-convert:hover {\n",
              "      background-color: #E2EBFA;\n",
              "      box-shadow: 0px 1px 2px rgba(60, 64, 67, 0.3), 0px 1px 3px 1px rgba(60, 64, 67, 0.15);\n",
              "      fill: #174EA6;\n",
              "    }\n",
              "\n",
              "    [theme=dark] .colab-df-convert {\n",
              "      background-color: #3B4455;\n",
              "      fill: #D2E3FC;\n",
              "    }\n",
              "\n",
              "    [theme=dark] .colab-df-convert:hover {\n",
              "      background-color: #434B5C;\n",
              "      box-shadow: 0px 1px 3px 1px rgba(0, 0, 0, 0.15);\n",
              "      filter: drop-shadow(0px 1px 2px rgba(0, 0, 0, 0.3));\n",
              "      fill: #FFFFFF;\n",
              "    }\n",
              "  </style>\n",
              "\n",
              "      <script>\n",
              "        const buttonEl =\n",
              "          document.querySelector('#df-8ef78e21-8a8d-46af-b066-503ccfa2bae3 button.colab-df-convert');\n",
              "        buttonEl.style.display =\n",
              "          google.colab.kernel.accessAllowed ? 'block' : 'none';\n",
              "\n",
              "        async function convertToInteractive(key) {\n",
              "          const element = document.querySelector('#df-8ef78e21-8a8d-46af-b066-503ccfa2bae3');\n",
              "          const dataTable =\n",
              "            await google.colab.kernel.invokeFunction('convertToInteractive',\n",
              "                                                     [key], {});\n",
              "          if (!dataTable) return;\n",
              "\n",
              "          const docLinkHtml = 'Like what you see? Visit the ' +\n",
              "            '<a target=\"_blank\" href=https://colab.research.google.com/notebooks/data_table.ipynb>data table notebook</a>'\n",
              "            + ' to learn more about interactive tables.';\n",
              "          element.innerHTML = '';\n",
              "          dataTable['output_type'] = 'display_data';\n",
              "          await google.colab.output.renderOutput(dataTable, element);\n",
              "          const docLink = document.createElement('div');\n",
              "          docLink.innerHTML = docLinkHtml;\n",
              "          element.appendChild(docLink);\n",
              "        }\n",
              "      </script>\n",
              "    </div>\n",
              "  </div>\n",
              "  "
            ]
          },
          "metadata": {},
          "execution_count": 330
        }
      ]
    },
    {
      "cell_type": "markdown",
      "source": [
        "#*Shared*"
      ],
      "metadata": {
        "id": "rS95XF2yCbwB"
      }
    },
    {
      "cell_type": "code",
      "source": [
        "Sharedcorr['number_of_reviews']"
      ],
      "metadata": {
        "colab": {
          "base_uri": "https://localhost:8080/"
        },
        "id": "RJRWM-AEEPpi",
        "outputId": "a0ccbebf-adb7-4b47-8add-a1c70e871d52"
      },
      "execution_count": 331,
      "outputs": [
        {
          "output_type": "execute_result",
          "data": {
            "text/plain": [
              "id                            -0.255156\n",
              "host_acceptance_rate           0.173655\n",
              "price                          0.028359\n",
              "availability_365               0.169396\n",
              "number_of_reviews              1.000000\n",
              "review_scores_rating          -0.378830\n",
              "review_scores_cleanliness     -0.264157\n",
              "review_scores_communication   -0.073416\n",
              "Name: number_of_reviews, dtype: float64"
            ]
          },
          "metadata": {},
          "execution_count": 331
        }
      ]
    },
    {
      "cell_type": "code",
      "source": [
        "Xs= Shared[['host_acceptance_rate','availability_365','review_scores_cleanliness','review_scores_rating']]\n",
        "ys= Shared['number_of_reviews']"
      ],
      "metadata": {
        "id": "gdnlxJ4uEc7w"
      },
      "execution_count": 332,
      "outputs": []
    },
    {
      "cell_type": "code",
      "source": [
        "models= LinearRegression()"
      ],
      "metadata": {
        "id": "E_ett349Egpw"
      },
      "execution_count": 333,
      "outputs": []
    },
    {
      "cell_type": "code",
      "source": [
        "type(models)"
      ],
      "metadata": {
        "colab": {
          "base_uri": "https://localhost:8080/"
        },
        "id": "9H8hPWzGEiUK",
        "outputId": "272a39c4-58a6-4e76-eb19-88eea7880811"
      },
      "execution_count": 334,
      "outputs": [
        {
          "output_type": "execute_result",
          "data": {
            "text/plain": [
              "sklearn.linear_model._base.LinearRegression"
            ]
          },
          "metadata": {},
          "execution_count": 334
        }
      ]
    },
    {
      "cell_type": "code",
      "source": [
        "models.fit(X=Xs, y=ys)"
      ],
      "metadata": {
        "colab": {
          "base_uri": "https://localhost:8080/"
        },
        "id": "_5hVkLgbEj6b",
        "outputId": "1beead8c-271e-480d-db6a-f5633654a34c"
      },
      "execution_count": 335,
      "outputs": [
        {
          "output_type": "execute_result",
          "data": {
            "text/plain": [
              "LinearRegression()"
            ]
          },
          "metadata": {},
          "execution_count": 335
        }
      ]
    },
    {
      "cell_type": "code",
      "source": [
        "models.__dict__"
      ],
      "metadata": {
        "colab": {
          "base_uri": "https://localhost:8080/"
        },
        "id": "XS-TlosyElWB",
        "outputId": "a4035e31-d255-4f7f-8cf5-e95b5b386e47"
      },
      "execution_count": 336,
      "outputs": [
        {
          "output_type": "execute_result",
          "data": {
            "text/plain": [
              "{'fit_intercept': True,\n",
              " 'normalize': 'deprecated',\n",
              " 'copy_X': True,\n",
              " 'n_jobs': None,\n",
              " 'positive': False,\n",
              " 'feature_names_in_': array(['host_acceptance_rate', 'availability_365',\n",
              "        'review_scores_cleanliness', 'review_scores_rating'], dtype=object),\n",
              " 'n_features_in_': 4,\n",
              " 'coef_': array([ 3.14435900e-01,  1.56239109e-01,  1.45348370e+02, -3.60466824e+02]),\n",
              " '_residues': 104912.50109028157,\n",
              " 'rank_': 4,\n",
              " 'singular_': array([3.30301672e+02, 9.61095432e+01, 7.78493404e-01, 1.68619866e-01]),\n",
              " 'intercept_': 1018.2075619236731}"
            ]
          },
          "metadata": {},
          "execution_count": 336
        }
      ]
    },
    {
      "cell_type": "code",
      "source": [
        "models.score(Xs,ys)"
      ],
      "metadata": {
        "colab": {
          "base_uri": "https://localhost:8080/"
        },
        "id": "SmJO8rcOEnFm",
        "outputId": "d53e95ef-12a8-4e1c-bf39-43cc379af641"
      },
      "execution_count": 337,
      "outputs": [
        {
          "output_type": "execute_result",
          "data": {
            "text/plain": [
              "0.19485118347928976"
            ]
          },
          "metadata": {},
          "execution_count": 337
        }
      ]
    },
    {
      "cell_type": "code",
      "source": [
        "y_preds= models.predict(X=Shared[['host_acceptance_rate','availability_365','price','review_scores_rating']])\n",
        "y_preds"
      ],
      "metadata": {
        "colab": {
          "base_uri": "https://localhost:8080/"
        },
        "id": "dfrXozA7EpR6",
        "outputId": "04d2ee7a-2c55-4483-d533-186cde37e192"
      },
      "execution_count": 338,
      "outputs": [
        {
          "output_type": "stream",
          "name": "stderr",
          "text": [
            "/usr/local/lib/python3.7/dist-packages/sklearn/base.py:493: FutureWarning: The feature names should match those that were passed during fit. Starting version 1.2, an error will be raised.\n",
            "Feature names unseen at fit time:\n",
            "- price\n",
            "Feature names seen at fit time, yet now missing:\n",
            "- review_scores_cleanliness\n",
            "\n",
            "  warnings.warn(message, FutureWarning)\n"
          ]
        },
        {
          "output_type": "execute_result",
          "data": {
            "text/plain": [
              "array([28326.58006916,  5858.15635435,  6576.89048319,  6398.99927551,\n",
              "       13084.20520056, 12567.9019567 ,  4814.92701603, 13353.23708788,\n",
              "       21247.25520296])"
            ]
          },
          "metadata": {},
          "execution_count": 338
        }
      ]
    },
    {
      "cell_type": "code",
      "source": [
        "Shared.insert(0, 'Predicciones', y_preds)\n",
        "Shared"
      ],
      "metadata": {
        "colab": {
          "base_uri": "https://localhost:8080/",
          "height": 0
        },
        "id": "R7s9QUfnEsuZ",
        "outputId": "306ab0c5-f012-46fd-8e3f-9b0d7fcb7bf6"
      },
      "execution_count": 339,
      "outputs": [
        {
          "output_type": "execute_result",
          "data": {
            "text/plain": [
              "      Predicciones                  id  host_acceptance_rate  \\\n",
              "251   28326.580069             3605045                    50   \n",
              "1326   5858.156354            21240109                   100   \n",
              "1409   6576.890483            22629543                     0   \n",
              "1558   6398.999276            24644312                    91   \n",
              "2729  13084.205201            45346226                    95   \n",
              "3242  12567.901957            49258187                    92   \n",
              "4053   4814.927016  552878688771211713                   100   \n",
              "4468  13353.237088  618880506823482988                    99   \n",
              "4936  21247.255203  685987715267213493                    97   \n",
              "\n",
              "                      property_type    room_type  price  availability_365  \\\n",
              "251             Shared room in home  Shared room  200.0               162   \n",
              "1326     Shared room in rental unit  Shared room   45.0               103   \n",
              "1409           Shared room in condo  Shared room   50.0               253   \n",
              "1558            Shared room in home  Shared room   49.0                 0   \n",
              "2729  Shared room in boutique hotel  Shared room   94.0               271   \n",
              "3242     Shared room in rental unit  Shared room   90.0               163   \n",
              "4053     Shared room in rental unit  Shared room   38.0               284   \n",
              "4468   Shared room in vacation home  Shared room   96.0               355   \n",
              "4936     Shared room in rental unit  Shared room  151.0               341   \n",
              "\n",
              "      number_of_reviews  review_scores_rating  review_scores_cleanliness  \\\n",
              "251                   5                  5.00                       5.00   \n",
              "1326                  0                  4.85                       4.85   \n",
              "1409                  0                  4.85                       4.85   \n",
              "1558                 11                  4.91                       5.00   \n",
              "2729                388                  4.63                       4.74   \n",
              "3242                 15                  4.40                       4.40   \n",
              "4053                  1                  5.00                       5.00   \n",
              "4468                 11                  4.73                       5.00   \n",
              "4936                  1                  5.00                       5.00   \n",
              "\n",
              "      review_scores_communication  \n",
              "251                          5.00  \n",
              "1326                         4.93  \n",
              "1409                         4.93  \n",
              "1558                         5.00  \n",
              "2729                         4.74  \n",
              "3242                         4.87  \n",
              "4053                         5.00  \n",
              "4468                         4.82  \n",
              "4936                         4.00  "
            ],
            "text/html": [
              "\n",
              "  <div id=\"df-860a3154-1f86-46e4-b9cd-117e9dbde1ed\">\n",
              "    <div class=\"colab-df-container\">\n",
              "      <div>\n",
              "<style scoped>\n",
              "    .dataframe tbody tr th:only-of-type {\n",
              "        vertical-align: middle;\n",
              "    }\n",
              "\n",
              "    .dataframe tbody tr th {\n",
              "        vertical-align: top;\n",
              "    }\n",
              "\n",
              "    .dataframe thead th {\n",
              "        text-align: right;\n",
              "    }\n",
              "</style>\n",
              "<table border=\"1\" class=\"dataframe\">\n",
              "  <thead>\n",
              "    <tr style=\"text-align: right;\">\n",
              "      <th></th>\n",
              "      <th>Predicciones</th>\n",
              "      <th>id</th>\n",
              "      <th>host_acceptance_rate</th>\n",
              "      <th>property_type</th>\n",
              "      <th>room_type</th>\n",
              "      <th>price</th>\n",
              "      <th>availability_365</th>\n",
              "      <th>number_of_reviews</th>\n",
              "      <th>review_scores_rating</th>\n",
              "      <th>review_scores_cleanliness</th>\n",
              "      <th>review_scores_communication</th>\n",
              "    </tr>\n",
              "  </thead>\n",
              "  <tbody>\n",
              "    <tr>\n",
              "      <th>251</th>\n",
              "      <td>28326.580069</td>\n",
              "      <td>3605045</td>\n",
              "      <td>50</td>\n",
              "      <td>Shared room in home</td>\n",
              "      <td>Shared room</td>\n",
              "      <td>200.0</td>\n",
              "      <td>162</td>\n",
              "      <td>5</td>\n",
              "      <td>5.00</td>\n",
              "      <td>5.00</td>\n",
              "      <td>5.00</td>\n",
              "    </tr>\n",
              "    <tr>\n",
              "      <th>1326</th>\n",
              "      <td>5858.156354</td>\n",
              "      <td>21240109</td>\n",
              "      <td>100</td>\n",
              "      <td>Shared room in rental unit</td>\n",
              "      <td>Shared room</td>\n",
              "      <td>45.0</td>\n",
              "      <td>103</td>\n",
              "      <td>0</td>\n",
              "      <td>4.85</td>\n",
              "      <td>4.85</td>\n",
              "      <td>4.93</td>\n",
              "    </tr>\n",
              "    <tr>\n",
              "      <th>1409</th>\n",
              "      <td>6576.890483</td>\n",
              "      <td>22629543</td>\n",
              "      <td>0</td>\n",
              "      <td>Shared room in condo</td>\n",
              "      <td>Shared room</td>\n",
              "      <td>50.0</td>\n",
              "      <td>253</td>\n",
              "      <td>0</td>\n",
              "      <td>4.85</td>\n",
              "      <td>4.85</td>\n",
              "      <td>4.93</td>\n",
              "    </tr>\n",
              "    <tr>\n",
              "      <th>1558</th>\n",
              "      <td>6398.999276</td>\n",
              "      <td>24644312</td>\n",
              "      <td>91</td>\n",
              "      <td>Shared room in home</td>\n",
              "      <td>Shared room</td>\n",
              "      <td>49.0</td>\n",
              "      <td>0</td>\n",
              "      <td>11</td>\n",
              "      <td>4.91</td>\n",
              "      <td>5.00</td>\n",
              "      <td>5.00</td>\n",
              "    </tr>\n",
              "    <tr>\n",
              "      <th>2729</th>\n",
              "      <td>13084.205201</td>\n",
              "      <td>45346226</td>\n",
              "      <td>95</td>\n",
              "      <td>Shared room in boutique hotel</td>\n",
              "      <td>Shared room</td>\n",
              "      <td>94.0</td>\n",
              "      <td>271</td>\n",
              "      <td>388</td>\n",
              "      <td>4.63</td>\n",
              "      <td>4.74</td>\n",
              "      <td>4.74</td>\n",
              "    </tr>\n",
              "    <tr>\n",
              "      <th>3242</th>\n",
              "      <td>12567.901957</td>\n",
              "      <td>49258187</td>\n",
              "      <td>92</td>\n",
              "      <td>Shared room in rental unit</td>\n",
              "      <td>Shared room</td>\n",
              "      <td>90.0</td>\n",
              "      <td>163</td>\n",
              "      <td>15</td>\n",
              "      <td>4.40</td>\n",
              "      <td>4.40</td>\n",
              "      <td>4.87</td>\n",
              "    </tr>\n",
              "    <tr>\n",
              "      <th>4053</th>\n",
              "      <td>4814.927016</td>\n",
              "      <td>552878688771211713</td>\n",
              "      <td>100</td>\n",
              "      <td>Shared room in rental unit</td>\n",
              "      <td>Shared room</td>\n",
              "      <td>38.0</td>\n",
              "      <td>284</td>\n",
              "      <td>1</td>\n",
              "      <td>5.00</td>\n",
              "      <td>5.00</td>\n",
              "      <td>5.00</td>\n",
              "    </tr>\n",
              "    <tr>\n",
              "      <th>4468</th>\n",
              "      <td>13353.237088</td>\n",
              "      <td>618880506823482988</td>\n",
              "      <td>99</td>\n",
              "      <td>Shared room in vacation home</td>\n",
              "      <td>Shared room</td>\n",
              "      <td>96.0</td>\n",
              "      <td>355</td>\n",
              "      <td>11</td>\n",
              "      <td>4.73</td>\n",
              "      <td>5.00</td>\n",
              "      <td>4.82</td>\n",
              "    </tr>\n",
              "    <tr>\n",
              "      <th>4936</th>\n",
              "      <td>21247.255203</td>\n",
              "      <td>685987715267213493</td>\n",
              "      <td>97</td>\n",
              "      <td>Shared room in rental unit</td>\n",
              "      <td>Shared room</td>\n",
              "      <td>151.0</td>\n",
              "      <td>341</td>\n",
              "      <td>1</td>\n",
              "      <td>5.00</td>\n",
              "      <td>5.00</td>\n",
              "      <td>4.00</td>\n",
              "    </tr>\n",
              "  </tbody>\n",
              "</table>\n",
              "</div>\n",
              "      <button class=\"colab-df-convert\" onclick=\"convertToInteractive('df-860a3154-1f86-46e4-b9cd-117e9dbde1ed')\"\n",
              "              title=\"Convert this dataframe to an interactive table.\"\n",
              "              style=\"display:none;\">\n",
              "        \n",
              "  <svg xmlns=\"http://www.w3.org/2000/svg\" height=\"24px\"viewBox=\"0 0 24 24\"\n",
              "       width=\"24px\">\n",
              "    <path d=\"M0 0h24v24H0V0z\" fill=\"none\"/>\n",
              "    <path d=\"M18.56 5.44l.94 2.06.94-2.06 2.06-.94-2.06-.94-.94-2.06-.94 2.06-2.06.94zm-11 1L8.5 8.5l.94-2.06 2.06-.94-2.06-.94L8.5 2.5l-.94 2.06-2.06.94zm10 10l.94 2.06.94-2.06 2.06-.94-2.06-.94-.94-2.06-.94 2.06-2.06.94z\"/><path d=\"M17.41 7.96l-1.37-1.37c-.4-.4-.92-.59-1.43-.59-.52 0-1.04.2-1.43.59L10.3 9.45l-7.72 7.72c-.78.78-.78 2.05 0 2.83L4 21.41c.39.39.9.59 1.41.59.51 0 1.02-.2 1.41-.59l7.78-7.78 2.81-2.81c.8-.78.8-2.07 0-2.86zM5.41 20L4 18.59l7.72-7.72 1.47 1.35L5.41 20z\"/>\n",
              "  </svg>\n",
              "      </button>\n",
              "      \n",
              "  <style>\n",
              "    .colab-df-container {\n",
              "      display:flex;\n",
              "      flex-wrap:wrap;\n",
              "      gap: 12px;\n",
              "    }\n",
              "\n",
              "    .colab-df-convert {\n",
              "      background-color: #E8F0FE;\n",
              "      border: none;\n",
              "      border-radius: 50%;\n",
              "      cursor: pointer;\n",
              "      display: none;\n",
              "      fill: #1967D2;\n",
              "      height: 32px;\n",
              "      padding: 0 0 0 0;\n",
              "      width: 32px;\n",
              "    }\n",
              "\n",
              "    .colab-df-convert:hover {\n",
              "      background-color: #E2EBFA;\n",
              "      box-shadow: 0px 1px 2px rgba(60, 64, 67, 0.3), 0px 1px 3px 1px rgba(60, 64, 67, 0.15);\n",
              "      fill: #174EA6;\n",
              "    }\n",
              "\n",
              "    [theme=dark] .colab-df-convert {\n",
              "      background-color: #3B4455;\n",
              "      fill: #D2E3FC;\n",
              "    }\n",
              "\n",
              "    [theme=dark] .colab-df-convert:hover {\n",
              "      background-color: #434B5C;\n",
              "      box-shadow: 0px 1px 3px 1px rgba(0, 0, 0, 0.15);\n",
              "      filter: drop-shadow(0px 1px 2px rgba(0, 0, 0, 0.3));\n",
              "      fill: #FFFFFF;\n",
              "    }\n",
              "  </style>\n",
              "\n",
              "      <script>\n",
              "        const buttonEl =\n",
              "          document.querySelector('#df-860a3154-1f86-46e4-b9cd-117e9dbde1ed button.colab-df-convert');\n",
              "        buttonEl.style.display =\n",
              "          google.colab.kernel.accessAllowed ? 'block' : 'none';\n",
              "\n",
              "        async function convertToInteractive(key) {\n",
              "          const element = document.querySelector('#df-860a3154-1f86-46e4-b9cd-117e9dbde1ed');\n",
              "          const dataTable =\n",
              "            await google.colab.kernel.invokeFunction('convertToInteractive',\n",
              "                                                     [key], {});\n",
              "          if (!dataTable) return;\n",
              "\n",
              "          const docLinkHtml = 'Like what you see? Visit the ' +\n",
              "            '<a target=\"_blank\" href=https://colab.research.google.com/notebooks/data_table.ipynb>data table notebook</a>'\n",
              "            + ' to learn more about interactive tables.';\n",
              "          element.innerHTML = '';\n",
              "          dataTable['output_type'] = 'display_data';\n",
              "          await google.colab.output.renderOutput(dataTable, element);\n",
              "          const docLink = document.createElement('div');\n",
              "          docLink.innerHTML = docLinkHtml;\n",
              "          element.appendChild(docLink);\n",
              "        }\n",
              "      </script>\n",
              "    </div>\n",
              "  </div>\n",
              "  "
            ]
          },
          "metadata": {},
          "execution_count": 339
        }
      ]
    },
    {
      "cell_type": "markdown",
      "source": [
        "#*Hotel*"
      ],
      "metadata": {
        "id": "bLCergi6FjV_"
      }
    },
    {
      "cell_type": "code",
      "source": [
        "Hotelcorr['number_of_reviews']"
      ],
      "metadata": {
        "colab": {
          "base_uri": "https://localhost:8080/"
        },
        "id": "OmvZw3V_Fles",
        "outputId": "9ef99c90-3943-4ad9-bbca-4188d6b98d9d"
      },
      "execution_count": 340,
      "outputs": [
        {
          "output_type": "execute_result",
          "data": {
            "text/plain": [
              "id                             0.046632\n",
              "host_acceptance_rate           0.245028\n",
              "price                          0.288211\n",
              "availability_365               0.278630\n",
              "number_of_reviews              1.000000\n",
              "review_scores_rating          -0.419358\n",
              "review_scores_cleanliness     -0.356093\n",
              "review_scores_communication   -0.317691\n",
              "Name: number_of_reviews, dtype: float64"
            ]
          },
          "metadata": {},
          "execution_count": 340
        }
      ]
    },
    {
      "cell_type": "code",
      "source": [
        "Xh= Hotel[['host_acceptance_rate','availability_365','price','review_scores_rating','review_scores_cleanliness','review_scores_communication']]\n",
        "yh= Hotel['number_of_reviews']"
      ],
      "metadata": {
        "id": "wk6OYTEuFrfn"
      },
      "execution_count": 341,
      "outputs": []
    },
    {
      "cell_type": "code",
      "source": [
        "modelh= LinearRegression()"
      ],
      "metadata": {
        "id": "8nlIkppaFzpf"
      },
      "execution_count": 342,
      "outputs": []
    },
    {
      "cell_type": "code",
      "source": [
        "type(modelh)"
      ],
      "metadata": {
        "colab": {
          "base_uri": "https://localhost:8080/"
        },
        "id": "Wd3fFi_RF1pO",
        "outputId": "9f8d9c61-2f71-41c4-df48-007ea0ef34b7"
      },
      "execution_count": 343,
      "outputs": [
        {
          "output_type": "execute_result",
          "data": {
            "text/plain": [
              "sklearn.linear_model._base.LinearRegression"
            ]
          },
          "metadata": {},
          "execution_count": 343
        }
      ]
    },
    {
      "cell_type": "code",
      "source": [
        "modelh.fit(X=Xh, y=yh)"
      ],
      "metadata": {
        "colab": {
          "base_uri": "https://localhost:8080/"
        },
        "id": "6GQoeyDrF3yO",
        "outputId": "92f52e52-7b25-462b-b34c-38098dbebe65"
      },
      "execution_count": 344,
      "outputs": [
        {
          "output_type": "execute_result",
          "data": {
            "text/plain": [
              "LinearRegression()"
            ]
          },
          "metadata": {},
          "execution_count": 344
        }
      ]
    },
    {
      "cell_type": "code",
      "source": [
        "modelh.__dict__"
      ],
      "metadata": {
        "colab": {
          "base_uri": "https://localhost:8080/"
        },
        "id": "JYgTKEVdF6kK",
        "outputId": "d6ec0b6a-d801-4cc1-ab00-def42f6b0aa1"
      },
      "execution_count": 345,
      "outputs": [
        {
          "output_type": "execute_result",
          "data": {
            "text/plain": [
              "{'fit_intercept': True,\n",
              " 'normalize': 'deprecated',\n",
              " 'copy_X': True,\n",
              " 'n_jobs': None,\n",
              " 'positive': False,\n",
              " 'feature_names_in_': array(['host_acceptance_rate', 'availability_365', 'price',\n",
              "        'review_scores_rating', 'review_scores_cleanliness',\n",
              "        'review_scores_communication'], dtype=object),\n",
              " 'n_features_in_': 6,\n",
              " 'coef_': array([-2.43794913e+00,  1.77518470e-02,  2.49701106e-01, -1.15119621e+02,\n",
              "        -1.31456334e+02, -5.22412760e+01]),\n",
              " '_residues': 107170.84322617813,\n",
              " 'rank_': 6,\n",
              " 'singular_': array([7.59223976e+02, 2.95873880e+02, 1.41973871e+01, 9.18780656e-01,\n",
              "        4.15480569e-01, 2.44921476e-01]),\n",
              " 'intercept_': 1626.1713784171786}"
            ]
          },
          "metadata": {},
          "execution_count": 345
        }
      ]
    },
    {
      "cell_type": "code",
      "source": [
        "modelh.score(Xh,yh)"
      ],
      "metadata": {
        "colab": {
          "base_uri": "https://localhost:8080/"
        },
        "id": "oowGWITnF-_g",
        "outputId": "afc3ab2e-06e9-4c47-e2c4-245e9f8ccab1"
      },
      "execution_count": 346,
      "outputs": [
        {
          "output_type": "execute_result",
          "data": {
            "text/plain": [
              "0.272197433234189"
            ]
          },
          "metadata": {},
          "execution_count": 346
        }
      ]
    },
    {
      "cell_type": "code",
      "source": [
        "y_predh= modelh.predict(X=Hotel[['host_acceptance_rate','availability_365','price','review_scores_rating','review_scores_cleanliness','review_scores_communication']])\n",
        "y_predh"
      ],
      "metadata": {
        "colab": {
          "base_uri": "https://localhost:8080/"
        },
        "id": "KT-l6BHRGBlC",
        "outputId": "d27ee5c8-2720-44a6-f5f4-9b7ea61f7920"
      },
      "execution_count": 347,
      "outputs": [
        {
          "output_type": "execute_result",
          "data": {
            "text/plain": [
              "array([ 46.93260843,  36.32679388,  18.2654049 ,  76.28559599,\n",
              "        29.08900106,  46.24612039, 155.98450942,  38.712528  ,\n",
              "        23.64170243,  33.13269494,  18.16848147,  49.72767689,\n",
              "        95.27998127, 108.93457068,  72.32007195,  80.90675442,\n",
              "        -7.67973265, 157.40496916,  -7.67973265])"
            ]
          },
          "metadata": {},
          "execution_count": 347
        }
      ]
    },
    {
      "cell_type": "markdown",
      "source": [
        "#*Coeficiente*"
      ],
      "metadata": {
        "id": "grCFHYDoUS1f"
      }
    },
    {
      "cell_type": "code",
      "source": [
        "#Entire Room\n",
        "coef_Deter=model.score(X=X,y=y)\n",
        "coef_Deter"
      ],
      "metadata": {
        "colab": {
          "base_uri": "https://localhost:8080/"
        },
        "id": "kefPb0i8UU-Y",
        "outputId": "4dac0009-fff9-44c1-d429-f73973c9141c"
      },
      "execution_count": 348,
      "outputs": [
        {
          "output_type": "execute_result",
          "data": {
            "text/plain": [
              "0.044133491818773685"
            ]
          },
          "metadata": {},
          "execution_count": 348
        }
      ]
    },
    {
      "cell_type": "code",
      "source": [
        "#Entire Room\n",
        "coef_Correl=np.sqrt(coef_Deter)\n",
        "coef_Correl"
      ],
      "metadata": {
        "colab": {
          "base_uri": "https://localhost:8080/"
        },
        "id": "eMy-PkIlUbfc",
        "outputId": "8794f363-d171-4598-8e78-e20a3ddab007"
      },
      "execution_count": 349,
      "outputs": [
        {
          "output_type": "execute_result",
          "data": {
            "text/plain": [
              "0.21007972729126836"
            ]
          },
          "metadata": {},
          "execution_count": 349
        }
      ]
    },
    {
      "cell_type": "code",
      "source": [
        "#Private Room\n",
        "coef_DeterP=modelp.score(X=Xp,y=yp)\n",
        "coef_DeterP"
      ],
      "metadata": {
        "colab": {
          "base_uri": "https://localhost:8080/"
        },
        "id": "iTl3-ntnUeAQ",
        "outputId": "899728c9-90c5-4377-8ad1-57d9bc893666"
      },
      "execution_count": 350,
      "outputs": [
        {
          "output_type": "execute_result",
          "data": {
            "text/plain": [
              "0.048079956985027206"
            ]
          },
          "metadata": {},
          "execution_count": 350
        }
      ]
    },
    {
      "cell_type": "code",
      "source": [
        "#Private Room\n",
        "coef_Correlp=np.sqrt(coef_DeterP)\n",
        "coef_Correlp"
      ],
      "metadata": {
        "colab": {
          "base_uri": "https://localhost:8080/"
        },
        "id": "_qdrjTdNUfsj",
        "outputId": "24e14977-ed6b-460f-fb44-d891ebe42031"
      },
      "execution_count": 351,
      "outputs": [
        {
          "output_type": "execute_result",
          "data": {
            "text/plain": [
              "0.21927142309253891"
            ]
          },
          "metadata": {},
          "execution_count": 351
        }
      ]
    },
    {
      "cell_type": "code",
      "source": [
        "#Shared Room\n",
        "coef_Deters=models.score(X=Xs,y=ys)\n",
        "coef_Deters"
      ],
      "metadata": {
        "colab": {
          "base_uri": "https://localhost:8080/"
        },
        "id": "HIBAlUdWUhZ1",
        "outputId": "c4e77e5f-9c0e-4f0a-cea9-7d8b7d5be168"
      },
      "execution_count": 352,
      "outputs": [
        {
          "output_type": "execute_result",
          "data": {
            "text/plain": [
              "0.19485118347928976"
            ]
          },
          "metadata": {},
          "execution_count": 352
        }
      ]
    },
    {
      "cell_type": "code",
      "source": [
        "#Shared Room\n",
        "coef_Correls=np.sqrt(coef_Deters)\n",
        "coef_Correls"
      ],
      "metadata": {
        "colab": {
          "base_uri": "https://localhost:8080/"
        },
        "id": "LLi2PWAcUjJ2",
        "outputId": "16f8aa59-4c64-4cb4-dbf1-30d0c8813202"
      },
      "execution_count": 353,
      "outputs": [
        {
          "output_type": "execute_result",
          "data": {
            "text/plain": [
              "0.4414195096269418"
            ]
          },
          "metadata": {},
          "execution_count": 353
        }
      ]
    },
    {
      "cell_type": "code",
      "source": [
        "#Hotel Room\n",
        "coef_Deterh=modelh.score(X=Xh,y=yh)\n",
        "coef_Deterh"
      ],
      "metadata": {
        "colab": {
          "base_uri": "https://localhost:8080/"
        },
        "id": "_iMY7NRoUk0h",
        "outputId": "3c51662f-17c6-4d52-f45f-39dc4f3d9ca2"
      },
      "execution_count": 354,
      "outputs": [
        {
          "output_type": "execute_result",
          "data": {
            "text/plain": [
              "0.272197433234189"
            ]
          },
          "metadata": {},
          "execution_count": 354
        }
      ]
    },
    {
      "cell_type": "code",
      "source": [
        "#Hotel Room\n",
        "coef_Correlh=np.sqrt(coef_Deterh)\n",
        "coef_Correlh"
      ],
      "metadata": {
        "colab": {
          "base_uri": "https://localhost:8080/"
        },
        "id": "A1dcwiIjUmbf",
        "outputId": "ce68e5fc-6f35-4ad9-cec2-954f28824240"
      },
      "execution_count": 355,
      "outputs": [
        {
          "output_type": "execute_result",
          "data": {
            "text/plain": [
              "0.5217254385538327"
            ]
          },
          "metadata": {},
          "execution_count": 355
        }
      ]
    },
    {
      "cell_type": "code",
      "source": [
        "Tabla = pd.DataFrame()"
      ],
      "metadata": {
        "id": "ekjwr53BUoAq"
      },
      "execution_count": 356,
      "outputs": []
    },
    {
      "cell_type": "code",
      "source": [
        "Tabla['Tipo de habitacion'] = ['Entire room/apt', 'Private room', 'Shared room', 'Hotel room']\n",
        "Tabla['Coef_det']=[coef_Deter,coef_DeterP,coef_Deters,coef_Deterh]\n",
        "Tabla['Coef_Correl']=[coef_Correl,coef_Correlp,coef_Correls,coef_Correlh]"
      ],
      "metadata": {
        "id": "0Baj_GUaUorq"
      },
      "execution_count": 357,
      "outputs": []
    },
    {
      "cell_type": "code",
      "source": [
        "Tabla"
      ],
      "metadata": {
        "colab": {
          "base_uri": "https://localhost:8080/",
          "height": 175
        },
        "id": "sj81-zmvUrHj",
        "outputId": "eecbc9dc-da6d-48ae-89ab-d965efeaeb4d"
      },
      "execution_count": 358,
      "outputs": [
        {
          "output_type": "execute_result",
          "data": {
            "text/plain": [
              "  Tipo de habitacion  Coef_det  Coef_Correl\n",
              "0    Entire room/apt  0.044133     0.210080\n",
              "1       Private room  0.048080     0.219271\n",
              "2        Shared room  0.194851     0.441420\n",
              "3         Hotel room  0.272197     0.521725"
            ],
            "text/html": [
              "\n",
              "  <div id=\"df-9093ddbf-82ba-44e3-878c-b893b7b42cc8\">\n",
              "    <div class=\"colab-df-container\">\n",
              "      <div>\n",
              "<style scoped>\n",
              "    .dataframe tbody tr th:only-of-type {\n",
              "        vertical-align: middle;\n",
              "    }\n",
              "\n",
              "    .dataframe tbody tr th {\n",
              "        vertical-align: top;\n",
              "    }\n",
              "\n",
              "    .dataframe thead th {\n",
              "        text-align: right;\n",
              "    }\n",
              "</style>\n",
              "<table border=\"1\" class=\"dataframe\">\n",
              "  <thead>\n",
              "    <tr style=\"text-align: right;\">\n",
              "      <th></th>\n",
              "      <th>Tipo de habitacion</th>\n",
              "      <th>Coef_det</th>\n",
              "      <th>Coef_Correl</th>\n",
              "    </tr>\n",
              "  </thead>\n",
              "  <tbody>\n",
              "    <tr>\n",
              "      <th>0</th>\n",
              "      <td>Entire room/apt</td>\n",
              "      <td>0.044133</td>\n",
              "      <td>0.210080</td>\n",
              "    </tr>\n",
              "    <tr>\n",
              "      <th>1</th>\n",
              "      <td>Private room</td>\n",
              "      <td>0.048080</td>\n",
              "      <td>0.219271</td>\n",
              "    </tr>\n",
              "    <tr>\n",
              "      <th>2</th>\n",
              "      <td>Shared room</td>\n",
              "      <td>0.194851</td>\n",
              "      <td>0.441420</td>\n",
              "    </tr>\n",
              "    <tr>\n",
              "      <th>3</th>\n",
              "      <td>Hotel room</td>\n",
              "      <td>0.272197</td>\n",
              "      <td>0.521725</td>\n",
              "    </tr>\n",
              "  </tbody>\n",
              "</table>\n",
              "</div>\n",
              "      <button class=\"colab-df-convert\" onclick=\"convertToInteractive('df-9093ddbf-82ba-44e3-878c-b893b7b42cc8')\"\n",
              "              title=\"Convert this dataframe to an interactive table.\"\n",
              "              style=\"display:none;\">\n",
              "        \n",
              "  <svg xmlns=\"http://www.w3.org/2000/svg\" height=\"24px\"viewBox=\"0 0 24 24\"\n",
              "       width=\"24px\">\n",
              "    <path d=\"M0 0h24v24H0V0z\" fill=\"none\"/>\n",
              "    <path d=\"M18.56 5.44l.94 2.06.94-2.06 2.06-.94-2.06-.94-.94-2.06-.94 2.06-2.06.94zm-11 1L8.5 8.5l.94-2.06 2.06-.94-2.06-.94L8.5 2.5l-.94 2.06-2.06.94zm10 10l.94 2.06.94-2.06 2.06-.94-2.06-.94-.94-2.06-.94 2.06-2.06.94z\"/><path d=\"M17.41 7.96l-1.37-1.37c-.4-.4-.92-.59-1.43-.59-.52 0-1.04.2-1.43.59L10.3 9.45l-7.72 7.72c-.78.78-.78 2.05 0 2.83L4 21.41c.39.39.9.59 1.41.59.51 0 1.02-.2 1.41-.59l7.78-7.78 2.81-2.81c.8-.78.8-2.07 0-2.86zM5.41 20L4 18.59l7.72-7.72 1.47 1.35L5.41 20z\"/>\n",
              "  </svg>\n",
              "      </button>\n",
              "      \n",
              "  <style>\n",
              "    .colab-df-container {\n",
              "      display:flex;\n",
              "      flex-wrap:wrap;\n",
              "      gap: 12px;\n",
              "    }\n",
              "\n",
              "    .colab-df-convert {\n",
              "      background-color: #E8F0FE;\n",
              "      border: none;\n",
              "      border-radius: 50%;\n",
              "      cursor: pointer;\n",
              "      display: none;\n",
              "      fill: #1967D2;\n",
              "      height: 32px;\n",
              "      padding: 0 0 0 0;\n",
              "      width: 32px;\n",
              "    }\n",
              "\n",
              "    .colab-df-convert:hover {\n",
              "      background-color: #E2EBFA;\n",
              "      box-shadow: 0px 1px 2px rgba(60, 64, 67, 0.3), 0px 1px 3px 1px rgba(60, 64, 67, 0.15);\n",
              "      fill: #174EA6;\n",
              "    }\n",
              "\n",
              "    [theme=dark] .colab-df-convert {\n",
              "      background-color: #3B4455;\n",
              "      fill: #D2E3FC;\n",
              "    }\n",
              "\n",
              "    [theme=dark] .colab-df-convert:hover {\n",
              "      background-color: #434B5C;\n",
              "      box-shadow: 0px 1px 3px 1px rgba(0, 0, 0, 0.15);\n",
              "      filter: drop-shadow(0px 1px 2px rgba(0, 0, 0, 0.3));\n",
              "      fill: #FFFFFF;\n",
              "    }\n",
              "  </style>\n",
              "\n",
              "      <script>\n",
              "        const buttonEl =\n",
              "          document.querySelector('#df-9093ddbf-82ba-44e3-878c-b893b7b42cc8 button.colab-df-convert');\n",
              "        buttonEl.style.display =\n",
              "          google.colab.kernel.accessAllowed ? 'block' : 'none';\n",
              "\n",
              "        async function convertToInteractive(key) {\n",
              "          const element = document.querySelector('#df-9093ddbf-82ba-44e3-878c-b893b7b42cc8');\n",
              "          const dataTable =\n",
              "            await google.colab.kernel.invokeFunction('convertToInteractive',\n",
              "                                                     [key], {});\n",
              "          if (!dataTable) return;\n",
              "\n",
              "          const docLinkHtml = 'Like what you see? Visit the ' +\n",
              "            '<a target=\"_blank\" href=https://colab.research.google.com/notebooks/data_table.ipynb>data table notebook</a>'\n",
              "            + ' to learn more about interactive tables.';\n",
              "          element.innerHTML = '';\n",
              "          dataTable['output_type'] = 'display_data';\n",
              "          await google.colab.output.renderOutput(dataTable, element);\n",
              "          const docLink = document.createElement('div');\n",
              "          docLink.innerHTML = docLinkHtml;\n",
              "          element.appendChild(docLink);\n",
              "        }\n",
              "      </script>\n",
              "    </div>\n",
              "  </div>\n",
              "  "
            ]
          },
          "metadata": {},
          "execution_count": 358
        }
      ]
    }
  ]
}