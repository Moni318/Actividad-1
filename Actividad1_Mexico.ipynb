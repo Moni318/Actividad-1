{
  "nbformat": 4,
  "nbformat_minor": 0,
  "metadata": {
    "colab": {
      "provenance": [],
      "collapsed_sections": [
        "ysWWVnOXvuaX",
        "cMONP7EjJL0_",
        "m3e-7WWsK7s5",
        "bBHBAiodM_wF",
        "0XnmTNXlO_Sq",
        "NbxhOjUxQDDN",
        "gAkGVnhXSZWE",
        "UzC7tBKtTzH4",
        "XF4Csug4Vdek",
        "TpgTd9ARWtk1"
      ],
      "authorship_tag": "ABX9TyNHS411L8aiYX+qsnZGHPzM",
      "include_colab_link": true
    },
    "kernelspec": {
      "name": "python3",
      "display_name": "Python 3"
    },
    "language_info": {
      "name": "python"
    }
  },
  "cells": [
    {
      "cell_type": "markdown",
      "metadata": {
        "id": "view-in-github",
        "colab_type": "text"
      },
      "source": [
        "<a href=\"https://colab.research.google.com/github/Moni318/Actividad-1/blob/main/Actividad1_Mexico.ipynb\" target=\"_parent\"><img src=\"https://colab.research.google.com/assets/colab-badge.svg\" alt=\"Open In Colab\"/></a>"
      ]
    },
    {
      "cell_type": "code",
      "execution_count": 1,
      "metadata": {
        "id": "xK-kYezw8pBb"
      },
      "outputs": [],
      "source": [
        "import pandas as pd\n",
        "import numpy as np\n",
        "import matplotlib.pyplot as plt\n",
        "import seaborn as sns"
      ]
    },
    {
      "cell_type": "code",
      "source": [
        "df=pd.read_csv(\"listings.csv\")\n",
        "df.head()"
      ],
      "metadata": {
        "colab": {
          "base_uri": "https://localhost:8080/",
          "height": 595
        },
        "id": "qRWeBFT8AkLi",
        "outputId": "256a0fbd-6ba2-4828-a741-8c2c20e392f2"
      },
      "execution_count": 119,
      "outputs": [
        {
          "output_type": "execute_result",
          "data": {
            "text/plain": [
              "       id                          listing_url       scrape_id last_scraped  \\\n",
              "0   35797   https://www.airbnb.com/rooms/35797  20220922013610   2022-09-22   \n",
              "1  783480  https://www.airbnb.com/rooms/783480  20220922013610   2022-09-22   \n",
              "2  796477  https://www.airbnb.com/rooms/796477  20220922013610   2022-09-23   \n",
              "3   44616   https://www.airbnb.com/rooms/44616  20220922013610   2022-09-23   \n",
              "4  817291  https://www.airbnb.com/rooms/817291  20220922013610   2022-09-22   \n",
              "\n",
              "        source                                     name  \\\n",
              "0  city scrape                              Villa Dante   \n",
              "1  city scrape      Area Sta.Fe,IberoABC Hospital Rooms   \n",
              "2  city scrape  Classic but Modern Apartment in Condesa   \n",
              "3  city scrape                        CONDESA HAUS  B&B   \n",
              "4  city scrape       Live Mexico City Like a Small Town   \n",
              "\n",
              "                                         description  \\\n",
              "0  Dentro de Villa un estudio de arte con futon, ...   \n",
              "1  <b>The space</b><br />Two beautifully furnishe...   \n",
              "2  Spacious and comfortable room on historic buil...   \n",
              "3  A new concept of hosting in mexico through a b...   \n",
              "4  Beautiful and cozy apartment in Mexico City, w...   \n",
              "\n",
              "                               neighborhood_overview  \\\n",
              "0  Centro comercial Santa Fe, parque interlomas y...   \n",
              "1  The neighborhood is very quiet. There are smal...   \n",
              "2  Condesa is surrounded by important museums and...   \n",
              "3                                                NaN   \n",
              "4  Please check the guidebook. We have posted man...   \n",
              "\n",
              "                                         picture_url  host_id  ...  \\\n",
              "0  https://a0.muscache.com/pictures/f395ab78-1185...   153786  ...   \n",
              "1  https://a0.muscache.com/pictures/12600230/eec8...  4129056  ...   \n",
              "2  https://a0.muscache.com/pictures/58251607/70e9...  4195771  ...   \n",
              "3  https://a0.muscache.com/pictures/251410/ec75fe...   196253  ...   \n",
              "4  https://a0.muscache.com/pictures/556d81f5-5aef...  4017148  ...   \n",
              "\n",
              "  review_scores_communication review_scores_location review_scores_value  \\\n",
              "0                         NaN                    NaN                 NaN   \n",
              "1                        4.93                   4.70                4.85   \n",
              "2                        4.91                   4.96                4.71   \n",
              "3                        4.75                   4.98                4.47   \n",
              "4                        4.95                   4.63                4.78   \n",
              "\n",
              "  license instant_bookable calculated_host_listings_count  \\\n",
              "0     NaN                f                              1   \n",
              "1     NaN                t                              2   \n",
              "2     NaN                f                              1   \n",
              "3     NaN                f                             12   \n",
              "4     NaN                f                              1   \n",
              "\n",
              "  calculated_host_listings_count_entire_homes  \\\n",
              "0                                           1   \n",
              "1                                           0   \n",
              "2                                           0   \n",
              "3                                           3   \n",
              "4                                           1   \n",
              "\n",
              "  calculated_host_listings_count_private_rooms  \\\n",
              "0                                            0   \n",
              "1                                            2   \n",
              "2                                            1   \n",
              "3                                            2   \n",
              "4                                            0   \n",
              "\n",
              "  calculated_host_listings_count_shared_rooms reviews_per_month  \n",
              "0                                           0               NaN  \n",
              "1                                           0              0.26  \n",
              "2                                           0              1.52  \n",
              "3                                           0              0.44  \n",
              "4                                           0              0.51  \n",
              "\n",
              "[5 rows x 75 columns]"
            ],
            "text/html": [
              "\n",
              "  <div id=\"df-85e02beb-6421-41f9-94d5-654f604e35b9\">\n",
              "    <div class=\"colab-df-container\">\n",
              "      <div>\n",
              "<style scoped>\n",
              "    .dataframe tbody tr th:only-of-type {\n",
              "        vertical-align: middle;\n",
              "    }\n",
              "\n",
              "    .dataframe tbody tr th {\n",
              "        vertical-align: top;\n",
              "    }\n",
              "\n",
              "    .dataframe thead th {\n",
              "        text-align: right;\n",
              "    }\n",
              "</style>\n",
              "<table border=\"1\" class=\"dataframe\">\n",
              "  <thead>\n",
              "    <tr style=\"text-align: right;\">\n",
              "      <th></th>\n",
              "      <th>id</th>\n",
              "      <th>listing_url</th>\n",
              "      <th>scrape_id</th>\n",
              "      <th>last_scraped</th>\n",
              "      <th>source</th>\n",
              "      <th>name</th>\n",
              "      <th>description</th>\n",
              "      <th>neighborhood_overview</th>\n",
              "      <th>picture_url</th>\n",
              "      <th>host_id</th>\n",
              "      <th>...</th>\n",
              "      <th>review_scores_communication</th>\n",
              "      <th>review_scores_location</th>\n",
              "      <th>review_scores_value</th>\n",
              "      <th>license</th>\n",
              "      <th>instant_bookable</th>\n",
              "      <th>calculated_host_listings_count</th>\n",
              "      <th>calculated_host_listings_count_entire_homes</th>\n",
              "      <th>calculated_host_listings_count_private_rooms</th>\n",
              "      <th>calculated_host_listings_count_shared_rooms</th>\n",
              "      <th>reviews_per_month</th>\n",
              "    </tr>\n",
              "  </thead>\n",
              "  <tbody>\n",
              "    <tr>\n",
              "      <th>0</th>\n",
              "      <td>35797</td>\n",
              "      <td>https://www.airbnb.com/rooms/35797</td>\n",
              "      <td>20220922013610</td>\n",
              "      <td>2022-09-22</td>\n",
              "      <td>city scrape</td>\n",
              "      <td>Villa Dante</td>\n",
              "      <td>Dentro de Villa un estudio de arte con futon, ...</td>\n",
              "      <td>Centro comercial Santa Fe, parque interlomas y...</td>\n",
              "      <td>https://a0.muscache.com/pictures/f395ab78-1185...</td>\n",
              "      <td>153786</td>\n",
              "      <td>...</td>\n",
              "      <td>NaN</td>\n",
              "      <td>NaN</td>\n",
              "      <td>NaN</td>\n",
              "      <td>NaN</td>\n",
              "      <td>f</td>\n",
              "      <td>1</td>\n",
              "      <td>1</td>\n",
              "      <td>0</td>\n",
              "      <td>0</td>\n",
              "      <td>NaN</td>\n",
              "    </tr>\n",
              "    <tr>\n",
              "      <th>1</th>\n",
              "      <td>783480</td>\n",
              "      <td>https://www.airbnb.com/rooms/783480</td>\n",
              "      <td>20220922013610</td>\n",
              "      <td>2022-09-22</td>\n",
              "      <td>city scrape</td>\n",
              "      <td>Area Sta.Fe,IberoABC Hospital Rooms</td>\n",
              "      <td>&lt;b&gt;The space&lt;/b&gt;&lt;br /&gt;Two beautifully furnishe...</td>\n",
              "      <td>The neighborhood is very quiet. There are smal...</td>\n",
              "      <td>https://a0.muscache.com/pictures/12600230/eec8...</td>\n",
              "      <td>4129056</td>\n",
              "      <td>...</td>\n",
              "      <td>4.93</td>\n",
              "      <td>4.70</td>\n",
              "      <td>4.85</td>\n",
              "      <td>NaN</td>\n",
              "      <td>t</td>\n",
              "      <td>2</td>\n",
              "      <td>0</td>\n",
              "      <td>2</td>\n",
              "      <td>0</td>\n",
              "      <td>0.26</td>\n",
              "    </tr>\n",
              "    <tr>\n",
              "      <th>2</th>\n",
              "      <td>796477</td>\n",
              "      <td>https://www.airbnb.com/rooms/796477</td>\n",
              "      <td>20220922013610</td>\n",
              "      <td>2022-09-23</td>\n",
              "      <td>city scrape</td>\n",
              "      <td>Classic but Modern Apartment in Condesa</td>\n",
              "      <td>Spacious and comfortable room on historic buil...</td>\n",
              "      <td>Condesa is surrounded by important museums and...</td>\n",
              "      <td>https://a0.muscache.com/pictures/58251607/70e9...</td>\n",
              "      <td>4195771</td>\n",
              "      <td>...</td>\n",
              "      <td>4.91</td>\n",
              "      <td>4.96</td>\n",
              "      <td>4.71</td>\n",
              "      <td>NaN</td>\n",
              "      <td>f</td>\n",
              "      <td>1</td>\n",
              "      <td>0</td>\n",
              "      <td>1</td>\n",
              "      <td>0</td>\n",
              "      <td>1.52</td>\n",
              "    </tr>\n",
              "    <tr>\n",
              "      <th>3</th>\n",
              "      <td>44616</td>\n",
              "      <td>https://www.airbnb.com/rooms/44616</td>\n",
              "      <td>20220922013610</td>\n",
              "      <td>2022-09-23</td>\n",
              "      <td>city scrape</td>\n",
              "      <td>CONDESA HAUS  B&amp;B</td>\n",
              "      <td>A new concept of hosting in mexico through a b...</td>\n",
              "      <td>NaN</td>\n",
              "      <td>https://a0.muscache.com/pictures/251410/ec75fe...</td>\n",
              "      <td>196253</td>\n",
              "      <td>...</td>\n",
              "      <td>4.75</td>\n",
              "      <td>4.98</td>\n",
              "      <td>4.47</td>\n",
              "      <td>NaN</td>\n",
              "      <td>f</td>\n",
              "      <td>12</td>\n",
              "      <td>3</td>\n",
              "      <td>2</td>\n",
              "      <td>0</td>\n",
              "      <td>0.44</td>\n",
              "    </tr>\n",
              "    <tr>\n",
              "      <th>4</th>\n",
              "      <td>817291</td>\n",
              "      <td>https://www.airbnb.com/rooms/817291</td>\n",
              "      <td>20220922013610</td>\n",
              "      <td>2022-09-22</td>\n",
              "      <td>city scrape</td>\n",
              "      <td>Live Mexico City Like a Small Town</td>\n",
              "      <td>Beautiful and cozy apartment in Mexico City, w...</td>\n",
              "      <td>Please check the guidebook. We have posted man...</td>\n",
              "      <td>https://a0.muscache.com/pictures/556d81f5-5aef...</td>\n",
              "      <td>4017148</td>\n",
              "      <td>...</td>\n",
              "      <td>4.95</td>\n",
              "      <td>4.63</td>\n",
              "      <td>4.78</td>\n",
              "      <td>NaN</td>\n",
              "      <td>f</td>\n",
              "      <td>1</td>\n",
              "      <td>1</td>\n",
              "      <td>0</td>\n",
              "      <td>0</td>\n",
              "      <td>0.51</td>\n",
              "    </tr>\n",
              "  </tbody>\n",
              "</table>\n",
              "<p>5 rows × 75 columns</p>\n",
              "</div>\n",
              "      <button class=\"colab-df-convert\" onclick=\"convertToInteractive('df-85e02beb-6421-41f9-94d5-654f604e35b9')\"\n",
              "              title=\"Convert this dataframe to an interactive table.\"\n",
              "              style=\"display:none;\">\n",
              "        \n",
              "  <svg xmlns=\"http://www.w3.org/2000/svg\" height=\"24px\"viewBox=\"0 0 24 24\"\n",
              "       width=\"24px\">\n",
              "    <path d=\"M0 0h24v24H0V0z\" fill=\"none\"/>\n",
              "    <path d=\"M18.56 5.44l.94 2.06.94-2.06 2.06-.94-2.06-.94-.94-2.06-.94 2.06-2.06.94zm-11 1L8.5 8.5l.94-2.06 2.06-.94-2.06-.94L8.5 2.5l-.94 2.06-2.06.94zm10 10l.94 2.06.94-2.06 2.06-.94-2.06-.94-.94-2.06-.94 2.06-2.06.94z\"/><path d=\"M17.41 7.96l-1.37-1.37c-.4-.4-.92-.59-1.43-.59-.52 0-1.04.2-1.43.59L10.3 9.45l-7.72 7.72c-.78.78-.78 2.05 0 2.83L4 21.41c.39.39.9.59 1.41.59.51 0 1.02-.2 1.41-.59l7.78-7.78 2.81-2.81c.8-.78.8-2.07 0-2.86zM5.41 20L4 18.59l7.72-7.72 1.47 1.35L5.41 20z\"/>\n",
              "  </svg>\n",
              "      </button>\n",
              "      \n",
              "  <style>\n",
              "    .colab-df-container {\n",
              "      display:flex;\n",
              "      flex-wrap:wrap;\n",
              "      gap: 12px;\n",
              "    }\n",
              "\n",
              "    .colab-df-convert {\n",
              "      background-color: #E8F0FE;\n",
              "      border: none;\n",
              "      border-radius: 50%;\n",
              "      cursor: pointer;\n",
              "      display: none;\n",
              "      fill: #1967D2;\n",
              "      height: 32px;\n",
              "      padding: 0 0 0 0;\n",
              "      width: 32px;\n",
              "    }\n",
              "\n",
              "    .colab-df-convert:hover {\n",
              "      background-color: #E2EBFA;\n",
              "      box-shadow: 0px 1px 2px rgba(60, 64, 67, 0.3), 0px 1px 3px 1px rgba(60, 64, 67, 0.15);\n",
              "      fill: #174EA6;\n",
              "    }\n",
              "\n",
              "    [theme=dark] .colab-df-convert {\n",
              "      background-color: #3B4455;\n",
              "      fill: #D2E3FC;\n",
              "    }\n",
              "\n",
              "    [theme=dark] .colab-df-convert:hover {\n",
              "      background-color: #434B5C;\n",
              "      box-shadow: 0px 1px 3px 1px rgba(0, 0, 0, 0.15);\n",
              "      filter: drop-shadow(0px 1px 2px rgba(0, 0, 0, 0.3));\n",
              "      fill: #FFFFFF;\n",
              "    }\n",
              "  </style>\n",
              "\n",
              "      <script>\n",
              "        const buttonEl =\n",
              "          document.querySelector('#df-85e02beb-6421-41f9-94d5-654f604e35b9 button.colab-df-convert');\n",
              "        buttonEl.style.display =\n",
              "          google.colab.kernel.accessAllowed ? 'block' : 'none';\n",
              "\n",
              "        async function convertToInteractive(key) {\n",
              "          const element = document.querySelector('#df-85e02beb-6421-41f9-94d5-654f604e35b9');\n",
              "          const dataTable =\n",
              "            await google.colab.kernel.invokeFunction('convertToInteractive',\n",
              "                                                     [key], {});\n",
              "          if (!dataTable) return;\n",
              "\n",
              "          const docLinkHtml = 'Like what you see? Visit the ' +\n",
              "            '<a target=\"_blank\" href=https://colab.research.google.com/notebooks/data_table.ipynb>data table notebook</a>'\n",
              "            + ' to learn more about interactive tables.';\n",
              "          element.innerHTML = '';\n",
              "          dataTable['output_type'] = 'display_data';\n",
              "          await google.colab.output.renderOutput(dataTable, element);\n",
              "          const docLink = document.createElement('div');\n",
              "          docLink.innerHTML = docLinkHtml;\n",
              "          element.appendChild(docLink);\n",
              "        }\n",
              "      </script>\n",
              "    </div>\n",
              "  </div>\n",
              "  "
            ]
          },
          "metadata": {},
          "execution_count": 119
        }
      ]
    },
    {
      "cell_type": "code",
      "source": [
        "df.columns"
      ],
      "metadata": {
        "colab": {
          "base_uri": "https://localhost:8080/"
        },
        "id": "--FDTbGlI2Sr",
        "outputId": "5da6bb26-7dbd-476f-ae2a-6037753c66bc"
      },
      "execution_count": 120,
      "outputs": [
        {
          "output_type": "execute_result",
          "data": {
            "text/plain": [
              "Index(['id', 'listing_url', 'scrape_id', 'last_scraped', 'source', 'name',\n",
              "       'description', 'neighborhood_overview', 'picture_url', 'host_id',\n",
              "       'host_url', 'host_name', 'host_since', 'host_location', 'host_about',\n",
              "       'host_response_time', 'host_response_rate', 'host_acceptance_rate',\n",
              "       'host_is_superhost', 'host_thumbnail_url', 'host_picture_url',\n",
              "       'host_neighbourhood', 'host_listings_count',\n",
              "       'host_total_listings_count', 'host_verifications',\n",
              "       'host_has_profile_pic', 'host_identity_verified', 'neighbourhood',\n",
              "       'neighbourhood_cleansed', 'neighbourhood_group_cleansed', 'latitude',\n",
              "       'longitude', 'property_type', 'room_type', 'accommodates', 'bathrooms',\n",
              "       'bathrooms_text', 'bedrooms', 'beds', 'amenities', 'price',\n",
              "       'minimum_nights', 'maximum_nights', 'minimum_minimum_nights',\n",
              "       'maximum_minimum_nights', 'minimum_maximum_nights',\n",
              "       'maximum_maximum_nights', 'minimum_nights_avg_ntm',\n",
              "       'maximum_nights_avg_ntm', 'calendar_updated', 'has_availability',\n",
              "       'availability_30', 'availability_60', 'availability_90',\n",
              "       'availability_365', 'calendar_last_scraped', 'number_of_reviews',\n",
              "       'number_of_reviews_ltm', 'number_of_reviews_l30d', 'first_review',\n",
              "       'last_review', 'review_scores_rating', 'review_scores_accuracy',\n",
              "       'review_scores_cleanliness', 'review_scores_checkin',\n",
              "       'review_scores_communication', 'review_scores_location',\n",
              "       'review_scores_value', 'license', 'instant_bookable',\n",
              "       'calculated_host_listings_count',\n",
              "       'calculated_host_listings_count_entire_homes',\n",
              "       'calculated_host_listings_count_private_rooms',\n",
              "       'calculated_host_listings_count_shared_rooms', 'reviews_per_month'],\n",
              "      dtype='object')"
            ]
          },
          "metadata": {},
          "execution_count": 120
        }
      ]
    },
    {
      "cell_type": "code",
      "source": [
        "df=df.drop(['listing_url', 'scrape_id', 'last_scraped', 'source', 'name',\n",
        "       'description', 'neighborhood_overview', 'picture_url', 'host_id',\n",
        "       'host_url', 'host_name', 'host_since', 'host_about','host_thumbnail_url', 'host_picture_url',\n",
        "       'host_neighbourhood', 'host_listings_count',\n",
        "       'host_total_listings_count', 'host_verifications',\n",
        "       'host_has_profile_pic', 'host_identity_verified', 'neighbourhood',\n",
        "       'neighbourhood_cleansed', 'neighbourhood_group_cleansed', 'latitude',\n",
        "       'longitude', 'accommodates','bathrooms_text','minimum_nights', 'maximum_nights', 'minimum_minimum_nights',\n",
        "       'maximum_minimum_nights', 'minimum_maximum_nights',\n",
        "       'maximum_maximum_nights', 'minimum_nights_avg_ntm',\n",
        "       'maximum_nights_avg_ntm', 'calendar_updated', 'has_availability',\n",
        "       'availability_30', 'availability_60', 'availability_90','calendar_last_scraped',\n",
        "       'number_of_reviews_ltm', 'number_of_reviews_l30d', 'first_review',\n",
        "       'last_review','review_scores_accuracy','review_scores_checkin', 'review_scores_location',\n",
        "       'review_scores_value', 'license', 'instant_bookable',\n",
        "       'calculated_host_listings_count','bathrooms',\n",
        "       'calculated_host_listings_count_entire_homes',\n",
        "       'calculated_host_listings_count_private_rooms',\n",
        "       'calculated_host_listings_count_shared_rooms', 'reviews_per_month','host_response_time','host_is_superhost','bedrooms','beds','amenities'], axis=1)"
      ],
      "metadata": {
        "id": "EA6XjEmyLwzy"
      },
      "execution_count": 121,
      "outputs": []
    },
    {
      "cell_type": "markdown",
      "source": [
        "Realiza las acciones de preprocesamiento necesarias: Nulos y Outliers"
      ],
      "metadata": {
        "id": "fRSGZYuSMb8j"
      }
    },
    {
      "cell_type": "code",
      "source": [
        "df.isnull().sum()"
      ],
      "metadata": {
        "colab": {
          "base_uri": "https://localhost:8080/"
        },
        "id": "SBKKc8EZAoJC",
        "outputId": "f3c67b5d-59ff-46d0-98c8-d0198e284e5a"
      },
      "execution_count": 122,
      "outputs": [
        {
          "output_type": "execute_result",
          "data": {
            "text/plain": [
              "id                                0\n",
              "host_location                  4249\n",
              "host_response_rate             2945\n",
              "host_acceptance_rate           2465\n",
              "property_type                     0\n",
              "room_type                         0\n",
              "price                             0\n",
              "availability_365                  0\n",
              "number_of_reviews                 0\n",
              "review_scores_rating           4067\n",
              "review_scores_cleanliness      4161\n",
              "review_scores_communication    4161\n",
              "dtype: int64"
            ]
          },
          "metadata": {},
          "execution_count": 122
        }
      ]
    },
    {
      "cell_type": "code",
      "source": [
        "df.dropna(subset=['host_acceptance_rate','review_scores_rating','review_scores_cleanliness','review_scores_communication'],how='all',inplace=True)"
      ],
      "metadata": {
        "id": "qBoGXfhxMBCE"
      },
      "execution_count": 123,
      "outputs": []
    },
    {
      "cell_type": "code",
      "source": [
        "df.dropna(subset=['host_location','host_response_rate','host_acceptance_rate'],how='all',inplace=True)"
      ],
      "metadata": {
        "id": "Buv62piKNQqn"
      },
      "execution_count": 124,
      "outputs": []
    },
    {
      "cell_type": "code",
      "source": [
        "df.info()"
      ],
      "metadata": {
        "colab": {
          "base_uri": "https://localhost:8080/"
        },
        "id": "XmBqS4Y5XbTE",
        "outputId": "97c61d88-c5b9-444d-cc56-58304edcc007"
      },
      "execution_count": 125,
      "outputs": [
        {
          "output_type": "stream",
          "name": "stdout",
          "text": [
            "<class 'pandas.core.frame.DataFrame'>\n",
            "Int64Index: 21409 entries, 1 to 22947\n",
            "Data columns (total 12 columns):\n",
            " #   Column                       Non-Null Count  Dtype  \n",
            "---  ------                       --------------  -----  \n",
            " 0   id                           21409 non-null  int64  \n",
            " 1   host_location                17794 non-null  object \n",
            " 2   host_response_rate           19540 non-null  object \n",
            " 3   host_acceptance_rate         20483 non-null  object \n",
            " 4   property_type                21409 non-null  object \n",
            " 5   room_type                    21409 non-null  object \n",
            " 6   price                        21409 non-null  object \n",
            " 7   availability_365             21409 non-null  int64  \n",
            " 8   number_of_reviews            21409 non-null  int64  \n",
            " 9   review_scores_rating         18707 non-null  float64\n",
            " 10  review_scores_cleanliness    18619 non-null  float64\n",
            " 11  review_scores_communication  18619 non-null  float64\n",
            "dtypes: float64(3), int64(3), object(6)\n",
            "memory usage: 2.1+ MB\n"
          ]
        }
      ]
    },
    {
      "cell_type": "code",
      "source": [
        "df.isnull().sum()"
      ],
      "metadata": {
        "colab": {
          "base_uri": "https://localhost:8080/"
        },
        "id": "kS9N4t-MMT30",
        "outputId": "93fbf9f2-93b0-4f8c-d967-be014ce597b5"
      },
      "execution_count": 126,
      "outputs": [
        {
          "output_type": "execute_result",
          "data": {
            "text/plain": [
              "id                                0\n",
              "host_location                  3615\n",
              "host_response_rate             1869\n",
              "host_acceptance_rate            926\n",
              "property_type                     0\n",
              "room_type                         0\n",
              "price                             0\n",
              "availability_365                  0\n",
              "number_of_reviews                 0\n",
              "review_scores_rating           2702\n",
              "review_scores_cleanliness      2790\n",
              "review_scores_communication    2790\n",
              "dtype: int64"
            ]
          },
          "metadata": {},
          "execution_count": 126
        }
      ]
    },
    {
      "cell_type": "code",
      "source": [
        "df.info()"
      ],
      "metadata": {
        "colab": {
          "base_uri": "https://localhost:8080/"
        },
        "id": "LuTMFWCva7PK",
        "outputId": "ecf39b48-aa16-4e96-b893-d41ba60e18ae"
      },
      "execution_count": 127,
      "outputs": [
        {
          "output_type": "stream",
          "name": "stdout",
          "text": [
            "<class 'pandas.core.frame.DataFrame'>\n",
            "Int64Index: 21409 entries, 1 to 22947\n",
            "Data columns (total 12 columns):\n",
            " #   Column                       Non-Null Count  Dtype  \n",
            "---  ------                       --------------  -----  \n",
            " 0   id                           21409 non-null  int64  \n",
            " 1   host_location                17794 non-null  object \n",
            " 2   host_response_rate           19540 non-null  object \n",
            " 3   host_acceptance_rate         20483 non-null  object \n",
            " 4   property_type                21409 non-null  object \n",
            " 5   room_type                    21409 non-null  object \n",
            " 6   price                        21409 non-null  object \n",
            " 7   availability_365             21409 non-null  int64  \n",
            " 8   number_of_reviews            21409 non-null  int64  \n",
            " 9   review_scores_rating         18707 non-null  float64\n",
            " 10  review_scores_cleanliness    18619 non-null  float64\n",
            " 11  review_scores_communication  18619 non-null  float64\n",
            "dtypes: float64(3), int64(3), object(6)\n",
            "memory usage: 2.1+ MB\n"
          ]
        }
      ]
    },
    {
      "cell_type": "code",
      "source": [
        "df.dropna(subset=['host_location'],how='all',inplace=True)"
      ],
      "metadata": {
        "id": "MdUmFsExa_WV"
      },
      "execution_count": 128,
      "outputs": []
    },
    {
      "cell_type": "code",
      "source": [
        "df[\"host_acceptance_rate\"] = df[\"host_acceptance_rate\"].str.replace(\"%\",\"\")"
      ],
      "metadata": {
        "id": "vDkVpZ56bEG7"
      },
      "execution_count": 129,
      "outputs": []
    },
    {
      "cell_type": "code",
      "source": [
        "df['host_acceptance_rate']=df['host_acceptance_rate'].astype(float)"
      ],
      "metadata": {
        "id": "jbEwhy43bNPl"
      },
      "execution_count": 130,
      "outputs": []
    },
    {
      "cell_type": "code",
      "source": [
        "df['host_acceptance_rate'].median()"
      ],
      "metadata": {
        "colab": {
          "base_uri": "https://localhost:8080/"
        },
        "id": "9kcuiLODbhpa",
        "outputId": "ff8d6d9c-c167-46de-ab20-b9eaa5fd1bbf"
      },
      "execution_count": 131,
      "outputs": [
        {
          "output_type": "execute_result",
          "data": {
            "text/plain": [
              "99.0"
            ]
          },
          "metadata": {},
          "execution_count": 131
        }
      ]
    },
    {
      "cell_type": "code",
      "source": [
        "df['host_acceptance_rate']=df['host_acceptance_rate'].fillna(99)"
      ],
      "metadata": {
        "id": "WuCePxmvbngm"
      },
      "execution_count": 132,
      "outputs": []
    },
    {
      "cell_type": "code",
      "source": [
        "df[\"host_response_rate\"] = df[\"host_response_rate\"].str.replace(\"%\",\"\")"
      ],
      "metadata": {
        "id": "pqLqAlpPby9r"
      },
      "execution_count": 133,
      "outputs": []
    },
    {
      "cell_type": "code",
      "source": [
        "df['host_response_rate']=df['host_response_rate'].astype(float)"
      ],
      "metadata": {
        "id": "VJ18GFh-b2Ar"
      },
      "execution_count": 134,
      "outputs": []
    },
    {
      "cell_type": "code",
      "source": [
        "df['host_response_rate'].median()"
      ],
      "metadata": {
        "colab": {
          "base_uri": "https://localhost:8080/"
        },
        "id": "IVEhHWqwb5Ch",
        "outputId": "b5b0d35b-3807-4ebf-9744-df5f9c3bf99e"
      },
      "execution_count": 135,
      "outputs": [
        {
          "output_type": "execute_result",
          "data": {
            "text/plain": [
              "100.0"
            ]
          },
          "metadata": {},
          "execution_count": 135
        }
      ]
    },
    {
      "cell_type": "code",
      "source": [
        "df['host_response_rate']=df['host_response_rate'].fillna(100)"
      ],
      "metadata": {
        "id": "grhq3qJjjulX"
      },
      "execution_count": 136,
      "outputs": []
    },
    {
      "cell_type": "code",
      "source": [
        "df[\"price\"] = df[\"price\"].str.replace(\"$\",\"\")\n",
        "df[\"price\"] = df[\"price\"].str.replace(\",\",\"\")"
      ],
      "metadata": {
        "colab": {
          "base_uri": "https://localhost:8080/"
        },
        "id": "HxYLEnJ2b-OA",
        "outputId": "e16303ed-e3f5-48a8-c331-850a010bf5c0"
      },
      "execution_count": 137,
      "outputs": [
        {
          "output_type": "stream",
          "name": "stderr",
          "text": [
            "/usr/local/lib/python3.7/dist-packages/ipykernel_launcher.py:1: FutureWarning: The default value of regex will change from True to False in a future version. In addition, single character regular expressions will *not* be treated as literal strings when regex=True.\n",
            "  \"\"\"Entry point for launching an IPython kernel.\n"
          ]
        }
      ]
    },
    {
      "cell_type": "code",
      "source": [
        "df['price']=df['price'].astype(float)"
      ],
      "metadata": {
        "id": "M2w8vp88cQGU"
      },
      "execution_count": 138,
      "outputs": []
    },
    {
      "cell_type": "code",
      "source": [
        "df['review_scores_rating']=df['review_scores_rating'].astype(float)"
      ],
      "metadata": {
        "id": "iYGjhwIqc1KI"
      },
      "execution_count": 139,
      "outputs": []
    },
    {
      "cell_type": "code",
      "source": [
        "df['review_scores_rating'].median()"
      ],
      "metadata": {
        "colab": {
          "base_uri": "https://localhost:8080/"
        },
        "id": "BPg9Xvhhc4JH",
        "outputId": "2c012cff-fd45-47a3-a4b2-8f90c32c51bd"
      },
      "execution_count": 140,
      "outputs": [
        {
          "output_type": "execute_result",
          "data": {
            "text/plain": [
              "4.85"
            ]
          },
          "metadata": {},
          "execution_count": 140
        }
      ]
    },
    {
      "cell_type": "code",
      "source": [
        "df['review_scores_rating']=df['review_scores_rating'].fillna(4.85)"
      ],
      "metadata": {
        "id": "mE3zpsG2kCIR"
      },
      "execution_count": 141,
      "outputs": []
    },
    {
      "cell_type": "code",
      "source": [
        "df['review_scores_cleanliness']=df['review_scores_cleanliness'].astype(float)"
      ],
      "metadata": {
        "id": "3wwZ1do-c_Lw"
      },
      "execution_count": 142,
      "outputs": []
    },
    {
      "cell_type": "code",
      "source": [
        "df['review_scores_cleanliness'].median()"
      ],
      "metadata": {
        "colab": {
          "base_uri": "https://localhost:8080/"
        },
        "id": "gz_HZdmtdBsL",
        "outputId": "59e4dfda-2038-4ab9-aeec-ec9902db04da"
      },
      "execution_count": 143,
      "outputs": [
        {
          "output_type": "execute_result",
          "data": {
            "text/plain": [
              "4.88"
            ]
          },
          "metadata": {},
          "execution_count": 143
        }
      ]
    },
    {
      "cell_type": "code",
      "source": [
        "df['review_scores_cleanliness']=df['review_scores_cleanliness'].fillna(4.88)"
      ],
      "metadata": {
        "id": "EC0K-JPIkJpM"
      },
      "execution_count": 144,
      "outputs": []
    },
    {
      "cell_type": "code",
      "source": [
        "df['review_scores_communication']=df['review_scores_communication'].astype(float)"
      ],
      "metadata": {
        "id": "xzjjOcFMdGKX"
      },
      "execution_count": 145,
      "outputs": []
    },
    {
      "cell_type": "code",
      "source": [
        "df['review_scores_communication'].median()"
      ],
      "metadata": {
        "colab": {
          "base_uri": "https://localhost:8080/"
        },
        "id": "0t9dKIb8dIqV",
        "outputId": "09fc1158-130f-4aa2-ed85-fac64f4ad021"
      },
      "execution_count": 146,
      "outputs": [
        {
          "output_type": "execute_result",
          "data": {
            "text/plain": [
              "4.94"
            ]
          },
          "metadata": {},
          "execution_count": 146
        }
      ]
    },
    {
      "cell_type": "code",
      "source": [
        "df['review_scores_communication']=df['review_scores_communication'].fillna(4.94)"
      ],
      "metadata": {
        "id": "N7Cga4AEkL8F"
      },
      "execution_count": 147,
      "outputs": []
    },
    {
      "cell_type": "code",
      "source": [
        "df.isnull().sum()"
      ],
      "metadata": {
        "colab": {
          "base_uri": "https://localhost:8080/"
        },
        "id": "ucgJVOOUOiUh",
        "outputId": "1da2f4a0-5c0b-4aa1-f49d-7b81d9f7b1c4"
      },
      "execution_count": 148,
      "outputs": [
        {
          "output_type": "execute_result",
          "data": {
            "text/plain": [
              "id                             0\n",
              "host_location                  0\n",
              "host_response_rate             0\n",
              "host_acceptance_rate           0\n",
              "property_type                  0\n",
              "room_type                      0\n",
              "price                          0\n",
              "availability_365               0\n",
              "number_of_reviews              0\n",
              "review_scores_rating           0\n",
              "review_scores_cleanliness      0\n",
              "review_scores_communication    0\n",
              "dtype: int64"
            ]
          },
          "metadata": {},
          "execution_count": 148
        }
      ]
    },
    {
      "cell_type": "code",
      "source": [
        "df.info()"
      ],
      "metadata": {
        "colab": {
          "base_uri": "https://localhost:8080/"
        },
        "id": "E8NNUUwBadpq",
        "outputId": "aa628f37-d2c7-49d1-e425-b20959e8a784"
      },
      "execution_count": 149,
      "outputs": [
        {
          "output_type": "stream",
          "name": "stdout",
          "text": [
            "<class 'pandas.core.frame.DataFrame'>\n",
            "Int64Index: 17794 entries, 1 to 22944\n",
            "Data columns (total 12 columns):\n",
            " #   Column                       Non-Null Count  Dtype  \n",
            "---  ------                       --------------  -----  \n",
            " 0   id                           17794 non-null  int64  \n",
            " 1   host_location                17794 non-null  object \n",
            " 2   host_response_rate           17794 non-null  float64\n",
            " 3   host_acceptance_rate         17794 non-null  float64\n",
            " 4   property_type                17794 non-null  object \n",
            " 5   room_type                    17794 non-null  object \n",
            " 6   price                        17794 non-null  float64\n",
            " 7   availability_365             17794 non-null  int64  \n",
            " 8   number_of_reviews            17794 non-null  int64  \n",
            " 9   review_scores_rating         17794 non-null  float64\n",
            " 10  review_scores_cleanliness    17794 non-null  float64\n",
            " 11  review_scores_communication  17794 non-null  float64\n",
            "dtypes: float64(6), int64(3), object(3)\n",
            "memory usage: 1.8+ MB\n"
          ]
        }
      ]
    },
    {
      "cell_type": "code",
      "source": [
        "df.describe()"
      ],
      "metadata": {
        "colab": {
          "base_uri": "https://localhost:8080/",
          "height": 364
        },
        "id": "JzugWKCqEiOJ",
        "outputId": "db5e2b2b-bae3-4f91-fcc8-4108589ecfd4"
      },
      "execution_count": 150,
      "outputs": [
        {
          "output_type": "execute_result",
          "data": {
            "text/plain": [
              "                 id  host_response_rate  host_acceptance_rate          price  \\\n",
              "count  1.779400e+04        17794.000000          17794.000000   17794.000000   \n",
              "mean   1.332860e+17           94.194110             90.030685    1532.337286   \n",
              "std    2.600511e+17           18.994122             22.404959   12913.187300   \n",
              "min    4.461600e+04            0.000000              0.000000      80.000000   \n",
              "25%    2.682270e+07          100.000000             94.000000     510.000000   \n",
              "50%    4.259123e+07          100.000000             99.000000     900.000000   \n",
              "75%    5.328275e+07          100.000000            100.000000    1500.000000   \n",
              "max    7.210493e+17          100.000000            100.000000  999998.000000   \n",
              "\n",
              "       availability_365  number_of_reviews  review_scores_rating  \\\n",
              "count      17794.000000       17794.000000          17794.000000   \n",
              "mean         238.270709          38.082387              4.737589   \n",
              "std          123.318781          62.520698              0.512885   \n",
              "min            0.000000           0.000000              0.000000   \n",
              "25%          133.000000           3.000000              4.712500   \n",
              "50%          292.000000          14.000000              4.850000   \n",
              "75%          349.000000          45.000000              4.960000   \n",
              "max          365.000000         932.000000              5.000000   \n",
              "\n",
              "       review_scores_cleanliness  review_scores_communication  \n",
              "count               17794.000000                 17794.000000  \n",
              "mean                    4.776433                     4.845616  \n",
              "std                     0.411331                     0.384422  \n",
              "min                     1.000000                     1.000000  \n",
              "25%                     4.750000                     4.850000  \n",
              "50%                     4.880000                     4.940000  \n",
              "75%                     4.990000                     5.000000  \n",
              "max                     5.000000                     5.000000  "
            ],
            "text/html": [
              "\n",
              "  <div id=\"df-62348f15-05a8-4688-a7aa-926ef4d3117f\">\n",
              "    <div class=\"colab-df-container\">\n",
              "      <div>\n",
              "<style scoped>\n",
              "    .dataframe tbody tr th:only-of-type {\n",
              "        vertical-align: middle;\n",
              "    }\n",
              "\n",
              "    .dataframe tbody tr th {\n",
              "        vertical-align: top;\n",
              "    }\n",
              "\n",
              "    .dataframe thead th {\n",
              "        text-align: right;\n",
              "    }\n",
              "</style>\n",
              "<table border=\"1\" class=\"dataframe\">\n",
              "  <thead>\n",
              "    <tr style=\"text-align: right;\">\n",
              "      <th></th>\n",
              "      <th>id</th>\n",
              "      <th>host_response_rate</th>\n",
              "      <th>host_acceptance_rate</th>\n",
              "      <th>price</th>\n",
              "      <th>availability_365</th>\n",
              "      <th>number_of_reviews</th>\n",
              "      <th>review_scores_rating</th>\n",
              "      <th>review_scores_cleanliness</th>\n",
              "      <th>review_scores_communication</th>\n",
              "    </tr>\n",
              "  </thead>\n",
              "  <tbody>\n",
              "    <tr>\n",
              "      <th>count</th>\n",
              "      <td>1.779400e+04</td>\n",
              "      <td>17794.000000</td>\n",
              "      <td>17794.000000</td>\n",
              "      <td>17794.000000</td>\n",
              "      <td>17794.000000</td>\n",
              "      <td>17794.000000</td>\n",
              "      <td>17794.000000</td>\n",
              "      <td>17794.000000</td>\n",
              "      <td>17794.000000</td>\n",
              "    </tr>\n",
              "    <tr>\n",
              "      <th>mean</th>\n",
              "      <td>1.332860e+17</td>\n",
              "      <td>94.194110</td>\n",
              "      <td>90.030685</td>\n",
              "      <td>1532.337286</td>\n",
              "      <td>238.270709</td>\n",
              "      <td>38.082387</td>\n",
              "      <td>4.737589</td>\n",
              "      <td>4.776433</td>\n",
              "      <td>4.845616</td>\n",
              "    </tr>\n",
              "    <tr>\n",
              "      <th>std</th>\n",
              "      <td>2.600511e+17</td>\n",
              "      <td>18.994122</td>\n",
              "      <td>22.404959</td>\n",
              "      <td>12913.187300</td>\n",
              "      <td>123.318781</td>\n",
              "      <td>62.520698</td>\n",
              "      <td>0.512885</td>\n",
              "      <td>0.411331</td>\n",
              "      <td>0.384422</td>\n",
              "    </tr>\n",
              "    <tr>\n",
              "      <th>min</th>\n",
              "      <td>4.461600e+04</td>\n",
              "      <td>0.000000</td>\n",
              "      <td>0.000000</td>\n",
              "      <td>80.000000</td>\n",
              "      <td>0.000000</td>\n",
              "      <td>0.000000</td>\n",
              "      <td>0.000000</td>\n",
              "      <td>1.000000</td>\n",
              "      <td>1.000000</td>\n",
              "    </tr>\n",
              "    <tr>\n",
              "      <th>25%</th>\n",
              "      <td>2.682270e+07</td>\n",
              "      <td>100.000000</td>\n",
              "      <td>94.000000</td>\n",
              "      <td>510.000000</td>\n",
              "      <td>133.000000</td>\n",
              "      <td>3.000000</td>\n",
              "      <td>4.712500</td>\n",
              "      <td>4.750000</td>\n",
              "      <td>4.850000</td>\n",
              "    </tr>\n",
              "    <tr>\n",
              "      <th>50%</th>\n",
              "      <td>4.259123e+07</td>\n",
              "      <td>100.000000</td>\n",
              "      <td>99.000000</td>\n",
              "      <td>900.000000</td>\n",
              "      <td>292.000000</td>\n",
              "      <td>14.000000</td>\n",
              "      <td>4.850000</td>\n",
              "      <td>4.880000</td>\n",
              "      <td>4.940000</td>\n",
              "    </tr>\n",
              "    <tr>\n",
              "      <th>75%</th>\n",
              "      <td>5.328275e+07</td>\n",
              "      <td>100.000000</td>\n",
              "      <td>100.000000</td>\n",
              "      <td>1500.000000</td>\n",
              "      <td>349.000000</td>\n",
              "      <td>45.000000</td>\n",
              "      <td>4.960000</td>\n",
              "      <td>4.990000</td>\n",
              "      <td>5.000000</td>\n",
              "    </tr>\n",
              "    <tr>\n",
              "      <th>max</th>\n",
              "      <td>7.210493e+17</td>\n",
              "      <td>100.000000</td>\n",
              "      <td>100.000000</td>\n",
              "      <td>999998.000000</td>\n",
              "      <td>365.000000</td>\n",
              "      <td>932.000000</td>\n",
              "      <td>5.000000</td>\n",
              "      <td>5.000000</td>\n",
              "      <td>5.000000</td>\n",
              "    </tr>\n",
              "  </tbody>\n",
              "</table>\n",
              "</div>\n",
              "      <button class=\"colab-df-convert\" onclick=\"convertToInteractive('df-62348f15-05a8-4688-a7aa-926ef4d3117f')\"\n",
              "              title=\"Convert this dataframe to an interactive table.\"\n",
              "              style=\"display:none;\">\n",
              "        \n",
              "  <svg xmlns=\"http://www.w3.org/2000/svg\" height=\"24px\"viewBox=\"0 0 24 24\"\n",
              "       width=\"24px\">\n",
              "    <path d=\"M0 0h24v24H0V0z\" fill=\"none\"/>\n",
              "    <path d=\"M18.56 5.44l.94 2.06.94-2.06 2.06-.94-2.06-.94-.94-2.06-.94 2.06-2.06.94zm-11 1L8.5 8.5l.94-2.06 2.06-.94-2.06-.94L8.5 2.5l-.94 2.06-2.06.94zm10 10l.94 2.06.94-2.06 2.06-.94-2.06-.94-.94-2.06-.94 2.06-2.06.94z\"/><path d=\"M17.41 7.96l-1.37-1.37c-.4-.4-.92-.59-1.43-.59-.52 0-1.04.2-1.43.59L10.3 9.45l-7.72 7.72c-.78.78-.78 2.05 0 2.83L4 21.41c.39.39.9.59 1.41.59.51 0 1.02-.2 1.41-.59l7.78-7.78 2.81-2.81c.8-.78.8-2.07 0-2.86zM5.41 20L4 18.59l7.72-7.72 1.47 1.35L5.41 20z\"/>\n",
              "  </svg>\n",
              "      </button>\n",
              "      \n",
              "  <style>\n",
              "    .colab-df-container {\n",
              "      display:flex;\n",
              "      flex-wrap:wrap;\n",
              "      gap: 12px;\n",
              "    }\n",
              "\n",
              "    .colab-df-convert {\n",
              "      background-color: #E8F0FE;\n",
              "      border: none;\n",
              "      border-radius: 50%;\n",
              "      cursor: pointer;\n",
              "      display: none;\n",
              "      fill: #1967D2;\n",
              "      height: 32px;\n",
              "      padding: 0 0 0 0;\n",
              "      width: 32px;\n",
              "    }\n",
              "\n",
              "    .colab-df-convert:hover {\n",
              "      background-color: #E2EBFA;\n",
              "      box-shadow: 0px 1px 2px rgba(60, 64, 67, 0.3), 0px 1px 3px 1px rgba(60, 64, 67, 0.15);\n",
              "      fill: #174EA6;\n",
              "    }\n",
              "\n",
              "    [theme=dark] .colab-df-convert {\n",
              "      background-color: #3B4455;\n",
              "      fill: #D2E3FC;\n",
              "    }\n",
              "\n",
              "    [theme=dark] .colab-df-convert:hover {\n",
              "      background-color: #434B5C;\n",
              "      box-shadow: 0px 1px 3px 1px rgba(0, 0, 0, 0.15);\n",
              "      filter: drop-shadow(0px 1px 2px rgba(0, 0, 0, 0.3));\n",
              "      fill: #FFFFFF;\n",
              "    }\n",
              "  </style>\n",
              "\n",
              "      <script>\n",
              "        const buttonEl =\n",
              "          document.querySelector('#df-62348f15-05a8-4688-a7aa-926ef4d3117f button.colab-df-convert');\n",
              "        buttonEl.style.display =\n",
              "          google.colab.kernel.accessAllowed ? 'block' : 'none';\n",
              "\n",
              "        async function convertToInteractive(key) {\n",
              "          const element = document.querySelector('#df-62348f15-05a8-4688-a7aa-926ef4d3117f');\n",
              "          const dataTable =\n",
              "            await google.colab.kernel.invokeFunction('convertToInteractive',\n",
              "                                                     [key], {});\n",
              "          if (!dataTable) return;\n",
              "\n",
              "          const docLinkHtml = 'Like what you see? Visit the ' +\n",
              "            '<a target=\"_blank\" href=https://colab.research.google.com/notebooks/data_table.ipynb>data table notebook</a>'\n",
              "            + ' to learn more about interactive tables.';\n",
              "          element.innerHTML = '';\n",
              "          dataTable['output_type'] = 'display_data';\n",
              "          await google.colab.output.renderOutput(dataTable, element);\n",
              "          const docLink = document.createElement('div');\n",
              "          docLink.innerHTML = docLinkHtml;\n",
              "          element.appendChild(docLink);\n",
              "        }\n",
              "      </script>\n",
              "    </div>\n",
              "  </div>\n",
              "  "
            ]
          },
          "metadata": {},
          "execution_count": 150
        }
      ]
    },
    {
      "cell_type": "code",
      "source": [
        "df['room_type'].value_counts()"
      ],
      "metadata": {
        "colab": {
          "base_uri": "https://localhost:8080/"
        },
        "id": "vR1DncVmLXTT",
        "outputId": "cafa52b8-2c90-4bf9-b7f8-d8cb70da6b5a"
      },
      "execution_count": 153,
      "outputs": [
        {
          "output_type": "execute_result",
          "data": {
            "text/plain": [
              "Entire home/apt    11364\n",
              "Private room        6038\n",
              "Shared room          248\n",
              "Hotel room           144\n",
              "Name: room_type, dtype: int64"
            ]
          },
          "metadata": {},
          "execution_count": 153
        }
      ]
    },
    {
      "cell_type": "code",
      "source": [
        "df2=df[(df['price']<10000) & (df['price']>510)]"
      ],
      "metadata": {
        "id": "TCrvZODUGLA3"
      },
      "execution_count": 156,
      "outputs": []
    },
    {
      "cell_type": "code",
      "source": [
        "df2.describe()"
      ],
      "metadata": {
        "colab": {
          "base_uri": "https://localhost:8080/",
          "height": 364
        },
        "id": "7DLwacuOGWfy",
        "outputId": "b4a60134-bfcb-4362-a845-f60e479a8c7a"
      },
      "execution_count": 157,
      "outputs": [
        {
          "output_type": "execute_result",
          "data": {
            "text/plain": [
              "                 id  host_response_rate  host_acceptance_rate         price  \\\n",
              "count  1.322600e+04        13226.000000          13226.000000  13226.000000   \n",
              "mean   1.407052e+17           95.621503             91.718509   1484.418998   \n",
              "std    2.650546e+17           16.047885             20.057790   1122.801304   \n",
              "min    5.607400e+04            0.000000              0.000000    511.000000   \n",
              "25%    2.739605e+07          100.000000             96.000000    800.000000   \n",
              "50%    4.396629e+07          100.000000             99.000000   1132.000000   \n",
              "75%    5.366152e+07          100.000000            100.000000   1746.000000   \n",
              "max    7.210493e+17          100.000000            100.000000   9995.000000   \n",
              "\n",
              "       availability_365  number_of_reviews  review_scores_rating  \\\n",
              "count      13226.000000       13226.000000          13226.000000   \n",
              "mean         239.327310          41.491910              4.756756   \n",
              "std          121.913723          65.213632              0.459451   \n",
              "min            0.000000           0.000000              0.000000   \n",
              "25%          137.000000           3.000000              4.730000   \n",
              "50%          293.000000          16.000000              4.850000   \n",
              "75%          347.000000          50.000000              4.950000   \n",
              "max          365.000000         932.000000              5.000000   \n",
              "\n",
              "       review_scores_cleanliness  review_scores_communication  \n",
              "count               13226.000000                 13226.000000  \n",
              "mean                    4.799386                     4.856257  \n",
              "std                     0.362523                     0.338207  \n",
              "min                     1.000000                     1.000000  \n",
              "25%                     4.770000                     4.850000  \n",
              "50%                     4.880000                     4.940000  \n",
              "75%                     4.990000                     5.000000  \n",
              "max                     5.000000                     5.000000  "
            ],
            "text/html": [
              "\n",
              "  <div id=\"df-4d16dfd7-6a66-4f79-970e-e2509f1dc235\">\n",
              "    <div class=\"colab-df-container\">\n",
              "      <div>\n",
              "<style scoped>\n",
              "    .dataframe tbody tr th:only-of-type {\n",
              "        vertical-align: middle;\n",
              "    }\n",
              "\n",
              "    .dataframe tbody tr th {\n",
              "        vertical-align: top;\n",
              "    }\n",
              "\n",
              "    .dataframe thead th {\n",
              "        text-align: right;\n",
              "    }\n",
              "</style>\n",
              "<table border=\"1\" class=\"dataframe\">\n",
              "  <thead>\n",
              "    <tr style=\"text-align: right;\">\n",
              "      <th></th>\n",
              "      <th>id</th>\n",
              "      <th>host_response_rate</th>\n",
              "      <th>host_acceptance_rate</th>\n",
              "      <th>price</th>\n",
              "      <th>availability_365</th>\n",
              "      <th>number_of_reviews</th>\n",
              "      <th>review_scores_rating</th>\n",
              "      <th>review_scores_cleanliness</th>\n",
              "      <th>review_scores_communication</th>\n",
              "    </tr>\n",
              "  </thead>\n",
              "  <tbody>\n",
              "    <tr>\n",
              "      <th>count</th>\n",
              "      <td>1.322600e+04</td>\n",
              "      <td>13226.000000</td>\n",
              "      <td>13226.000000</td>\n",
              "      <td>13226.000000</td>\n",
              "      <td>13226.000000</td>\n",
              "      <td>13226.000000</td>\n",
              "      <td>13226.000000</td>\n",
              "      <td>13226.000000</td>\n",
              "      <td>13226.000000</td>\n",
              "    </tr>\n",
              "    <tr>\n",
              "      <th>mean</th>\n",
              "      <td>1.407052e+17</td>\n",
              "      <td>95.621503</td>\n",
              "      <td>91.718509</td>\n",
              "      <td>1484.418998</td>\n",
              "      <td>239.327310</td>\n",
              "      <td>41.491910</td>\n",
              "      <td>4.756756</td>\n",
              "      <td>4.799386</td>\n",
              "      <td>4.856257</td>\n",
              "    </tr>\n",
              "    <tr>\n",
              "      <th>std</th>\n",
              "      <td>2.650546e+17</td>\n",
              "      <td>16.047885</td>\n",
              "      <td>20.057790</td>\n",
              "      <td>1122.801304</td>\n",
              "      <td>121.913723</td>\n",
              "      <td>65.213632</td>\n",
              "      <td>0.459451</td>\n",
              "      <td>0.362523</td>\n",
              "      <td>0.338207</td>\n",
              "    </tr>\n",
              "    <tr>\n",
              "      <th>min</th>\n",
              "      <td>5.607400e+04</td>\n",
              "      <td>0.000000</td>\n",
              "      <td>0.000000</td>\n",
              "      <td>511.000000</td>\n",
              "      <td>0.000000</td>\n",
              "      <td>0.000000</td>\n",
              "      <td>0.000000</td>\n",
              "      <td>1.000000</td>\n",
              "      <td>1.000000</td>\n",
              "    </tr>\n",
              "    <tr>\n",
              "      <th>25%</th>\n",
              "      <td>2.739605e+07</td>\n",
              "      <td>100.000000</td>\n",
              "      <td>96.000000</td>\n",
              "      <td>800.000000</td>\n",
              "      <td>137.000000</td>\n",
              "      <td>3.000000</td>\n",
              "      <td>4.730000</td>\n",
              "      <td>4.770000</td>\n",
              "      <td>4.850000</td>\n",
              "    </tr>\n",
              "    <tr>\n",
              "      <th>50%</th>\n",
              "      <td>4.396629e+07</td>\n",
              "      <td>100.000000</td>\n",
              "      <td>99.000000</td>\n",
              "      <td>1132.000000</td>\n",
              "      <td>293.000000</td>\n",
              "      <td>16.000000</td>\n",
              "      <td>4.850000</td>\n",
              "      <td>4.880000</td>\n",
              "      <td>4.940000</td>\n",
              "    </tr>\n",
              "    <tr>\n",
              "      <th>75%</th>\n",
              "      <td>5.366152e+07</td>\n",
              "      <td>100.000000</td>\n",
              "      <td>100.000000</td>\n",
              "      <td>1746.000000</td>\n",
              "      <td>347.000000</td>\n",
              "      <td>50.000000</td>\n",
              "      <td>4.950000</td>\n",
              "      <td>4.990000</td>\n",
              "      <td>5.000000</td>\n",
              "    </tr>\n",
              "    <tr>\n",
              "      <th>max</th>\n",
              "      <td>7.210493e+17</td>\n",
              "      <td>100.000000</td>\n",
              "      <td>100.000000</td>\n",
              "      <td>9995.000000</td>\n",
              "      <td>365.000000</td>\n",
              "      <td>932.000000</td>\n",
              "      <td>5.000000</td>\n",
              "      <td>5.000000</td>\n",
              "      <td>5.000000</td>\n",
              "    </tr>\n",
              "  </tbody>\n",
              "</table>\n",
              "</div>\n",
              "      <button class=\"colab-df-convert\" onclick=\"convertToInteractive('df-4d16dfd7-6a66-4f79-970e-e2509f1dc235')\"\n",
              "              title=\"Convert this dataframe to an interactive table.\"\n",
              "              style=\"display:none;\">\n",
              "        \n",
              "  <svg xmlns=\"http://www.w3.org/2000/svg\" height=\"24px\"viewBox=\"0 0 24 24\"\n",
              "       width=\"24px\">\n",
              "    <path d=\"M0 0h24v24H0V0z\" fill=\"none\"/>\n",
              "    <path d=\"M18.56 5.44l.94 2.06.94-2.06 2.06-.94-2.06-.94-.94-2.06-.94 2.06-2.06.94zm-11 1L8.5 8.5l.94-2.06 2.06-.94-2.06-.94L8.5 2.5l-.94 2.06-2.06.94zm10 10l.94 2.06.94-2.06 2.06-.94-2.06-.94-.94-2.06-.94 2.06-2.06.94z\"/><path d=\"M17.41 7.96l-1.37-1.37c-.4-.4-.92-.59-1.43-.59-.52 0-1.04.2-1.43.59L10.3 9.45l-7.72 7.72c-.78.78-.78 2.05 0 2.83L4 21.41c.39.39.9.59 1.41.59.51 0 1.02-.2 1.41-.59l7.78-7.78 2.81-2.81c.8-.78.8-2.07 0-2.86zM5.41 20L4 18.59l7.72-7.72 1.47 1.35L5.41 20z\"/>\n",
              "  </svg>\n",
              "      </button>\n",
              "      \n",
              "  <style>\n",
              "    .colab-df-container {\n",
              "      display:flex;\n",
              "      flex-wrap:wrap;\n",
              "      gap: 12px;\n",
              "    }\n",
              "\n",
              "    .colab-df-convert {\n",
              "      background-color: #E8F0FE;\n",
              "      border: none;\n",
              "      border-radius: 50%;\n",
              "      cursor: pointer;\n",
              "      display: none;\n",
              "      fill: #1967D2;\n",
              "      height: 32px;\n",
              "      padding: 0 0 0 0;\n",
              "      width: 32px;\n",
              "    }\n",
              "\n",
              "    .colab-df-convert:hover {\n",
              "      background-color: #E2EBFA;\n",
              "      box-shadow: 0px 1px 2px rgba(60, 64, 67, 0.3), 0px 1px 3px 1px rgba(60, 64, 67, 0.15);\n",
              "      fill: #174EA6;\n",
              "    }\n",
              "\n",
              "    [theme=dark] .colab-df-convert {\n",
              "      background-color: #3B4455;\n",
              "      fill: #D2E3FC;\n",
              "    }\n",
              "\n",
              "    [theme=dark] .colab-df-convert:hover {\n",
              "      background-color: #434B5C;\n",
              "      box-shadow: 0px 1px 3px 1px rgba(0, 0, 0, 0.15);\n",
              "      filter: drop-shadow(0px 1px 2px rgba(0, 0, 0, 0.3));\n",
              "      fill: #FFFFFF;\n",
              "    }\n",
              "  </style>\n",
              "\n",
              "      <script>\n",
              "        const buttonEl =\n",
              "          document.querySelector('#df-4d16dfd7-6a66-4f79-970e-e2509f1dc235 button.colab-df-convert');\n",
              "        buttonEl.style.display =\n",
              "          google.colab.kernel.accessAllowed ? 'block' : 'none';\n",
              "\n",
              "        async function convertToInteractive(key) {\n",
              "          const element = document.querySelector('#df-4d16dfd7-6a66-4f79-970e-e2509f1dc235');\n",
              "          const dataTable =\n",
              "            await google.colab.kernel.invokeFunction('convertToInteractive',\n",
              "                                                     [key], {});\n",
              "          if (!dataTable) return;\n",
              "\n",
              "          const docLinkHtml = 'Like what you see? Visit the ' +\n",
              "            '<a target=\"_blank\" href=https://colab.research.google.com/notebooks/data_table.ipynb>data table notebook</a>'\n",
              "            + ' to learn more about interactive tables.';\n",
              "          element.innerHTML = '';\n",
              "          dataTable['output_type'] = 'display_data';\n",
              "          await google.colab.output.renderOutput(dataTable, element);\n",
              "          const docLink = document.createElement('div');\n",
              "          docLink.innerHTML = docLinkHtml;\n",
              "          element.appendChild(docLink);\n",
              "        }\n",
              "      </script>\n",
              "    </div>\n",
              "  </div>\n",
              "  "
            ]
          },
          "metadata": {},
          "execution_count": 157
        }
      ]
    },
    {
      "cell_type": "code",
      "source": [
        "df2['room_type'].value_counts()"
      ],
      "metadata": {
        "colab": {
          "base_uri": "https://localhost:8080/"
        },
        "id": "4QVm0gDDLpHB",
        "outputId": "4fb1272e-fd15-4ad0-b9e7-0e641751dd86"
      },
      "execution_count": 158,
      "outputs": [
        {
          "output_type": "execute_result",
          "data": {
            "text/plain": [
              "Entire home/apt    10431\n",
              "Private room        2636\n",
              "Hotel room           115\n",
              "Shared room           44\n",
              "Name: room_type, dtype: int64"
            ]
          },
          "metadata": {},
          "execution_count": 158
        }
      ]
    },
    {
      "cell_type": "code",
      "source": [
        "x=df2.id\n",
        "y=df2.number_of_reviews\n",
        "plt.scatter(x, y, c =\"blue\")\n",
        "plt.show()"
      ],
      "metadata": {
        "colab": {
          "base_uri": "https://localhost:8080/",
          "height": 278
        },
        "id": "O3kY_Xg6Ijup",
        "outputId": "ed3943db-7b10-41c8-c16f-a812565cb1e3"
      },
      "execution_count": 167,
      "outputs": [
        {
          "output_type": "display_data",
          "data": {
            "text/plain": [
              "<Figure size 432x288 with 1 Axes>"
            ],
            "image/png": "[encoded data removed]"
          },
          "metadata": {
            "needs_background": "light"
          }
        }
      ]
    },
    {
      "cell_type": "code",
      "source": [
        "df3=df2[df2['number_of_reviews']<75]"
      ],
      "metadata": {
        "id": "UOK6RmSUJA6L"
      },
      "execution_count": 170,
      "outputs": []
    },
    {
      "cell_type": "code",
      "source": [
        "x=df3.id\n",
        "y=df3.number_of_reviews\n",
        "plt.scatter(x, y, c =\"blue\")\n",
        "plt.show()"
      ],
      "metadata": {
        "colab": {
          "base_uri": "https://localhost:8080/",
          "height": 278
        },
        "id": "vc7m-kUUJMrb",
        "outputId": "75592897-6271-4028-8f52-9191594b5ceb"
      },
      "execution_count": 171,
      "outputs": [
        {
          "output_type": "display_data",
          "data": {
            "text/plain": [
              "<Figure size 432x288 with 1 Axes>"
            ],
            "image/png": "[encoded data removed]"
          },
          "metadata": {
            "needs_background": "light"
          }
        }
      ]
    },
    {
      "cell_type": "code",
      "source": [
        "df3['room_type'].value_counts()"
      ],
      "metadata": {
        "colab": {
          "base_uri": "https://localhost:8080/"
        },
        "id": "sF8KT01AMNgQ",
        "outputId": "f11ea307-899b-4ae9-bb18-fc7404741270"
      },
      "execution_count": 172,
      "outputs": [
        {
          "output_type": "execute_result",
          "data": {
            "text/plain": [
              "Entire home/apt    8410\n",
              "Private room       2387\n",
              "Hotel room          108\n",
              "Shared room          42\n",
              "Name: room_type, dtype: int64"
            ]
          },
          "metadata": {},
          "execution_count": 172
        }
      ]
    },
    {
      "cell_type": "code",
      "source": [
        "x=df3.id\n",
        "y=df3.review_scores_rating\n",
        "plt.scatter(x, y, c =\"blue\")\n",
        "plt.show()"
      ],
      "metadata": {
        "colab": {
          "base_uri": "https://localhost:8080/",
          "height": 278
        },
        "id": "OBGsEfnTJaSb",
        "outputId": "5ee45fe7-ddab-4f43-a56f-f5f0235bed41"
      },
      "execution_count": 173,
      "outputs": [
        {
          "output_type": "display_data",
          "data": {
            "text/plain": [
              "<Figure size 432x288 with 1 Axes>"
            ],
            "image/png": "[encoded data removed]"
          },
          "metadata": {
            "needs_background": "light"
          }
        }
      ]
    },
    {
      "cell_type": "code",
      "source": [
        "df4=df3[df3['review_scores_rating']>3]"
      ],
      "metadata": {
        "id": "yByBxfFqJl0s"
      },
      "execution_count": 176,
      "outputs": []
    },
    {
      "cell_type": "code",
      "source": [
        "x=df4.id\n",
        "y=df4.review_scores_rating\n",
        "plt.scatter(x, y, c =\"blue\")\n",
        "plt.show()"
      ],
      "metadata": {
        "colab": {
          "base_uri": "https://localhost:8080/",
          "height": 278
        },
        "id": "6NjCeIXHJuIt",
        "outputId": "fc238799-69d1-42e8-96b1-b066ba8229b8"
      },
      "execution_count": 177,
      "outputs": [
        {
          "output_type": "display_data",
          "data": {
            "text/plain": [
              "<Figure size 432x288 with 1 Axes>"
            ],
            "image/png": "[encoded data removed]"
          },
          "metadata": {
            "needs_background": "light"
          }
        }
      ]
    },
    {
      "cell_type": "code",
      "source": [
        "df4['room_type'].value_counts()"
      ],
      "metadata": {
        "colab": {
          "base_uri": "https://localhost:8080/"
        },
        "id": "OGykYF8OMkQp",
        "outputId": "7942cab9-94ac-4746-a257-56918e6c9162"
      },
      "execution_count": 178,
      "outputs": [
        {
          "output_type": "execute_result",
          "data": {
            "text/plain": [
              "Entire home/apt    8310\n",
              "Private room       2313\n",
              "Hotel room          107\n",
              "Shared room          36\n",
              "Name: room_type, dtype: int64"
            ]
          },
          "metadata": {},
          "execution_count": 178
        }
      ]
    },
    {
      "cell_type": "code",
      "source": [
        "x=df4.id\n",
        "y=df4.review_scores_communication\n",
        "plt.scatter(x, y, c =\"blue\")\n",
        "plt.show()"
      ],
      "metadata": {
        "colab": {
          "base_uri": "https://localhost:8080/",
          "height": 278
        },
        "id": "s47ps_vNJ4Yi",
        "outputId": "4b692b76-48b5-4401-a463-5d53673f6f51"
      },
      "execution_count": 179,
      "outputs": [
        {
          "output_type": "display_data",
          "data": {
            "text/plain": [
              "<Figure size 432x288 with 1 Axes>"
            ],
            "image/png": "[encoded data removed]"
          },
          "metadata": {
            "needs_background": "light"
          }
        }
      ]
    },
    {
      "cell_type": "code",
      "source": [
        "df5=df4[df4['review_scores_communication']>3]"
      ],
      "metadata": {
        "id": "bHnt_x23KIiP"
      },
      "execution_count": 180,
      "outputs": []
    },
    {
      "cell_type": "code",
      "source": [
        "x=df5.id\n",
        "y=df5.review_scores_communication\n",
        "plt.scatter(x, y, c =\"blue\")\n",
        "plt.show()"
      ],
      "metadata": {
        "colab": {
          "base_uri": "https://localhost:8080/",
          "height": 278
        },
        "id": "21gvYCShKNxM",
        "outputId": "6280cded-6fee-4335-9e4d-bb759efc6903"
      },
      "execution_count": 181,
      "outputs": [
        {
          "output_type": "display_data",
          "data": {
            "text/plain": [
              "<Figure size 432x288 with 1 Axes>"
            ],
            "image/png": "[encoded data removed]"
          },
          "metadata": {
            "needs_background": "light"
          }
        }
      ]
    },
    {
      "cell_type": "markdown",
      "source": [
        "Analizar la correlación que existe en cada tipo de habitación respecto a las variables siguientes, utilizando Python y Google Colab, obtener los datos y gráficos requeridos en cada caso."
      ],
      "metadata": {
        "id": "waXE_TLXMglf"
      }
    },
    {
      "cell_type": "code",
      "source": [
        "df5['room_type'].value_counts()"
      ],
      "metadata": {
        "id": "OrP_u1DWChEn",
        "colab": {
          "base_uri": "https://localhost:8080/"
        },
        "outputId": "609329b8-57d8-42e2-dbcd-b8f1ea4acf8b"
      },
      "execution_count": 182,
      "outputs": [
        {
          "output_type": "execute_result",
          "data": {
            "text/plain": [
              "Entire home/apt    8297\n",
              "Private room       2307\n",
              "Hotel room          103\n",
              "Shared room          36\n",
              "Name: room_type, dtype: int64"
            ]
          },
          "metadata": {},
          "execution_count": 182
        }
      ]
    },
    {
      "cell_type": "markdown",
      "source": [
        "Tipo de cuartos"
      ],
      "metadata": {
        "id": "jd4ficBtkvGn"
      }
    },
    {
      "cell_type": "code",
      "source": [
        "Entire_Apt=df5[df5['room_type']=='Entire home/apt']\n",
        "Private=df5[df5['room_type']=='Private room']\n",
        "Shared=df5[df5['room_type']=='Shared room']\n",
        "Hotel=df5[df5['room_type']=='Hotel room']"
      ],
      "metadata": {
        "id": "z8s3UU26U-AA"
      },
      "execution_count": 183,
      "outputs": []
    },
    {
      "cell_type": "markdown",
      "source": [
        "#**Analizar la correlación que existe en cada tipo de habitación respecto a las variables siguientes, utilizando Python y Google Colab, obtener los datos y gráficos requeridos en cada caso.**"
      ],
      "metadata": {
        "id": "ZUIEahtvlrfZ"
      }
    },
    {
      "cell_type": "code",
      "source": [
        "Entirecorr=Entire_Apt.corr()"
      ],
      "metadata": {
        "id": "tLf0i1rFdRFk"
      },
      "execution_count": 184,
      "outputs": []
    },
    {
      "cell_type": "code",
      "source": [
        "Privatecorr=Private.corr()"
      ],
      "metadata": {
        "id": "rmCrawyietUR"
      },
      "execution_count": 185,
      "outputs": []
    },
    {
      "cell_type": "code",
      "source": [
        "Sharedcorr=Shared.corr()"
      ],
      "metadata": {
        "id": "UdTKYSVFev3A"
      },
      "execution_count": 186,
      "outputs": []
    },
    {
      "cell_type": "code",
      "source": [
        "Hotelcorr=Hotel.corr()"
      ],
      "metadata": {
        "id": "F12BnZr_eybM"
      },
      "execution_count": 187,
      "outputs": []
    },
    {
      "cell_type": "markdown",
      "source": [
        "#***“number_of_reviews vs host_acceptance_rate”***"
      ],
      "metadata": {
        "id": "ysWWVnOXvuaX"
      }
    },
    {
      "cell_type": "markdown",
      "source": [
        "*Entire room*"
      ],
      "metadata": {
        "id": "PhZ-V9eUFXn-"
      }
    },
    {
      "cell_type": "code",
      "source": [
        "Entirecorr"
      ],
      "metadata": {
        "colab": {
          "base_uri": "https://localhost:8080/",
          "height": 396
        },
        "id": "PqGfMC5Zv7ez",
        "outputId": "46f6cd44-70d9-4213-855d-ffa29f489c28"
      },
      "execution_count": 196,
      "outputs": [
        {
          "output_type": "execute_result",
          "data": {
            "text/plain": [
              "                                   id  host_response_rate  \\\n",
              "id                           1.000000            0.073930   \n",
              "host_response_rate           0.073930            1.000000   \n",
              "host_acceptance_rate         0.122294            0.430058   \n",
              "price                        0.066145            0.022160   \n",
              "availability_365             0.145292           -0.005926   \n",
              "number_of_reviews           -0.419122            0.122780   \n",
              "review_scores_rating         0.051569            0.023375   \n",
              "review_scores_cleanliness    0.056399            0.030178   \n",
              "review_scores_communication  0.028411            0.015427   \n",
              "\n",
              "                             host_acceptance_rate     price  availability_365  \\\n",
              "id                                       0.122294  0.066145          0.145292   \n",
              "host_response_rate                       0.430058  0.022160         -0.005926   \n",
              "host_acceptance_rate                     1.000000  0.019544          0.071382   \n",
              "price                                    0.019544  1.000000          0.052387   \n",
              "availability_365                         0.071382  0.052387          1.000000   \n",
              "number_of_reviews                        0.151513 -0.094917         -0.046168   \n",
              "review_scores_rating                    -0.004174  0.087474         -0.107643   \n",
              "review_scores_cleanliness                0.028172  0.076662         -0.044208   \n",
              "review_scores_communication             -0.037526  0.042566         -0.104610   \n",
              "\n",
              "                             number_of_reviews  review_scores_rating  \\\n",
              "id                                   -0.419122              0.051569   \n",
              "host_response_rate                    0.122780              0.023375   \n",
              "host_acceptance_rate                  0.151513             -0.004174   \n",
              "price                                -0.094917              0.087474   \n",
              "availability_365                     -0.046168             -0.107643   \n",
              "number_of_reviews                     1.000000             -0.012955   \n",
              "review_scores_rating                 -0.012955              1.000000   \n",
              "review_scores_cleanliness             0.001077              0.628435   \n",
              "review_scores_communication          -0.012115              0.644517   \n",
              "\n",
              "                             review_scores_cleanliness  \\\n",
              "id                                            0.056399   \n",
              "host_response_rate                            0.030178   \n",
              "host_acceptance_rate                          0.028172   \n",
              "price                                         0.076662   \n",
              "availability_365                             -0.044208   \n",
              "number_of_reviews                             0.001077   \n",
              "review_scores_rating                          0.628435   \n",
              "review_scores_cleanliness                     1.000000   \n",
              "review_scores_communication                   0.456989   \n",
              "\n",
              "                             review_scores_communication  \n",
              "id                                              0.028411  \n",
              "host_response_rate                              0.015427  \n",
              "host_acceptance_rate                           -0.037526  \n",
              "price                                           0.042566  \n",
              "availability_365                               -0.104610  \n",
              "number_of_reviews                              -0.012115  \n",
              "review_scores_rating                            0.644517  \n",
              "review_scores_cleanliness                       0.456989  \n",
              "review_scores_communication                     1.000000  "
            ],
            "text/html": [
              "\n",
              "  <div id=\"df-582785fa-ab63-4f41-8621-53cadc8ab1d3\">\n",
              "    <div class=\"colab-df-container\">\n",
              "      <div>\n",
              "<style scoped>\n",
              "    .dataframe tbody tr th:only-of-type {\n",
              "        vertical-align: middle;\n",
              "    }\n",
              "\n",
              "    .dataframe tbody tr th {\n",
              "        vertical-align: top;\n",
              "    }\n",
              "\n",
              "    .dataframe thead th {\n",
              "        text-align: right;\n",
              "    }\n",
              "</style>\n",
              "<table border=\"1\" class=\"dataframe\">\n",
              "  <thead>\n",
              "    <tr style=\"text-align: right;\">\n",
              "      <th></th>\n",
              "      <th>id</th>\n",
              "      <th>host_response_rate</th>\n",
              "      <th>host_acceptance_rate</th>\n",
              "      <th>price</th>\n",
              "      <th>availability_365</th>\n",
              "      <th>number_of_reviews</th>\n",
              "      <th>review_scores_rating</th>\n",
              "      <th>review_scores_cleanliness</th>\n",
              "      <th>review_scores_communication</th>\n",
              "    </tr>\n",
              "  </thead>\n",
              "  <tbody>\n",
              "    <tr>\n",
              "      <th>id</th>\n",
              "      <td>1.000000</td>\n",
              "      <td>0.073930</td>\n",
              "      <td>0.122294</td>\n",
              "      <td>0.066145</td>\n",
              "      <td>0.145292</td>\n",
              "      <td>-0.419122</td>\n",
              "      <td>0.051569</td>\n",
              "      <td>0.056399</td>\n",
              "      <td>0.028411</td>\n",
              "    </tr>\n",
              "    <tr>\n",
              "      <th>host_response_rate</th>\n",
              "      <td>0.073930</td>\n",
              "      <td>1.000000</td>\n",
              "      <td>0.430058</td>\n",
              "      <td>0.022160</td>\n",
              "      <td>-0.005926</td>\n",
              "      <td>0.122780</td>\n",
              "      <td>0.023375</td>\n",
              "      <td>0.030178</td>\n",
              "      <td>0.015427</td>\n",
              "    </tr>\n",
              "    <tr>\n",
              "      <th>host_acceptance_rate</th>\n",
              "      <td>0.122294</td>\n",
              "      <td>0.430058</td>\n",
              "      <td>1.000000</td>\n",
              "      <td>0.019544</td>\n",
              "      <td>0.071382</td>\n",
              "      <td>0.151513</td>\n",
              "      <td>-0.004174</td>\n",
              "      <td>0.028172</td>\n",
              "      <td>-0.037526</td>\n",
              "    </tr>\n",
              "    <tr>\n",
              "      <th>price</th>\n",
              "      <td>0.066145</td>\n",
              "      <td>0.022160</td>\n",
              "      <td>0.019544</td>\n",
              "      <td>1.000000</td>\n",
              "      <td>0.052387</td>\n",
              "      <td>-0.094917</td>\n",
              "      <td>0.087474</td>\n",
              "      <td>0.076662</td>\n",
              "      <td>0.042566</td>\n",
              "    </tr>\n",
              "    <tr>\n",
              "      <th>availability_365</th>\n",
              "      <td>0.145292</td>\n",
              "      <td>-0.005926</td>\n",
              "      <td>0.071382</td>\n",
              "      <td>0.052387</td>\n",
              "      <td>1.000000</td>\n",
              "      <td>-0.046168</td>\n",
              "      <td>-0.107643</td>\n",
              "      <td>-0.044208</td>\n",
              "      <td>-0.104610</td>\n",
              "    </tr>\n",
              "    <tr>\n",
              "      <th>number_of_reviews</th>\n",
              "      <td>-0.419122</td>\n",
              "      <td>0.122780</td>\n",
              "      <td>0.151513</td>\n",
              "      <td>-0.094917</td>\n",
              "      <td>-0.046168</td>\n",
              "      <td>1.000000</td>\n",
              "      <td>-0.012955</td>\n",
              "      <td>0.001077</td>\n",
              "      <td>-0.012115</td>\n",
              "    </tr>\n",
              "    <tr>\n",
              "      <th>review_scores_rating</th>\n",
              "      <td>0.051569</td>\n",
              "      <td>0.023375</td>\n",
              "      <td>-0.004174</td>\n",
              "      <td>0.087474</td>\n",
              "      <td>-0.107643</td>\n",
              "      <td>-0.012955</td>\n",
              "      <td>1.000000</td>\n",
              "      <td>0.628435</td>\n",
              "      <td>0.644517</td>\n",
              "    </tr>\n",
              "    <tr>\n",
              "      <th>review_scores_cleanliness</th>\n",
              "      <td>0.056399</td>\n",
              "      <td>0.030178</td>\n",
              "      <td>0.028172</td>\n",
              "      <td>0.076662</td>\n",
              "      <td>-0.044208</td>\n",
              "      <td>0.001077</td>\n",
              "      <td>0.628435</td>\n",
              "      <td>1.000000</td>\n",
              "      <td>0.456989</td>\n",
              "    </tr>\n",
              "    <tr>\n",
              "      <th>review_scores_communication</th>\n",
              "      <td>0.028411</td>\n",
              "      <td>0.015427</td>\n",
              "      <td>-0.037526</td>\n",
              "      <td>0.042566</td>\n",
              "      <td>-0.104610</td>\n",
              "      <td>-0.012115</td>\n",
              "      <td>0.644517</td>\n",
              "      <td>0.456989</td>\n",
              "      <td>1.000000</td>\n",
              "    </tr>\n",
              "  </tbody>\n",
              "</table>\n",
              "</div>\n",
              "      <button class=\"colab-df-convert\" onclick=\"convertToInteractive('df-582785fa-ab63-4f41-8621-53cadc8ab1d3')\"\n",
              "              title=\"Convert this dataframe to an interactive table.\"\n",
              "              style=\"display:none;\">\n",
              "        \n",
              "  <svg xmlns=\"http://www.w3.org/2000/svg\" height=\"24px\"viewBox=\"0 0 24 24\"\n",
              "       width=\"24px\">\n",
              "    <path d=\"M0 0h24v24H0V0z\" fill=\"none\"/>\n",
              "    <path d=\"M18.56 5.44l.94 2.06.94-2.06 2.06-.94-2.06-.94-.94-2.06-.94 2.06-2.06.94zm-11 1L8.5 8.5l.94-2.06 2.06-.94-2.06-.94L8.5 2.5l-.94 2.06-2.06.94zm10 10l.94 2.06.94-2.06 2.06-.94-2.06-.94-.94-2.06-.94 2.06-2.06.94z\"/><path d=\"M17.41 7.96l-1.37-1.37c-.4-.4-.92-.59-1.43-.59-.52 0-1.04.2-1.43.59L10.3 9.45l-7.72 7.72c-.78.78-.78 2.05 0 2.83L4 21.41c.39.39.9.59 1.41.59.51 0 1.02-.2 1.41-.59l7.78-7.78 2.81-2.81c.8-.78.8-2.07 0-2.86zM5.41 20L4 18.59l7.72-7.72 1.47 1.35L5.41 20z\"/>\n",
              "  </svg>\n",
              "      </button>\n",
              "      \n",
              "  <style>\n",
              "    .colab-df-container {\n",
              "      display:flex;\n",
              "      flex-wrap:wrap;\n",
              "      gap: 12px;\n",
              "    }\n",
              "\n",
              "    .colab-df-convert {\n",
              "      background-color: #E8F0FE;\n",
              "      border: none;\n",
              "      border-radius: 50%;\n",
              "      cursor: pointer;\n",
              "      display: none;\n",
              "      fill: #1967D2;\n",
              "      height: 32px;\n",
              "      padding: 0 0 0 0;\n",
              "      width: 32px;\n",
              "    }\n",
              "\n",
              "    .colab-df-convert:hover {\n",
              "      background-color: #E2EBFA;\n",
              "      box-shadow: 0px 1px 2px rgba(60, 64, 67, 0.3), 0px 1px 3px 1px rgba(60, 64, 67, 0.15);\n",
              "      fill: #174EA6;\n",
              "    }\n",
              "\n",
              "    [theme=dark] .colab-df-convert {\n",
              "      background-color: #3B4455;\n",
              "      fill: #D2E3FC;\n",
              "    }\n",
              "\n",
              "    [theme=dark] .colab-df-convert:hover {\n",
              "      background-color: #434B5C;\n",
              "      box-shadow: 0px 1px 3px 1px rgba(0, 0, 0, 0.15);\n",
              "      filter: drop-shadow(0px 1px 2px rgba(0, 0, 0, 0.3));\n",
              "      fill: #FFFFFF;\n",
              "    }\n",
              "  </style>\n",
              "\n",
              "      <script>\n",
              "        const buttonEl =\n",
              "          document.querySelector('#df-582785fa-ab63-4f41-8621-53cadc8ab1d3 button.colab-df-convert');\n",
              "        buttonEl.style.display =\n",
              "          google.colab.kernel.accessAllowed ? 'block' : 'none';\n",
              "\n",
              "        async function convertToInteractive(key) {\n",
              "          const element = document.querySelector('#df-582785fa-ab63-4f41-8621-53cadc8ab1d3');\n",
              "          const dataTable =\n",
              "            await google.colab.kernel.invokeFunction('convertToInteractive',\n",
              "                                                     [key], {});\n",
              "          if (!dataTable) return;\n",
              "\n",
              "          const docLinkHtml = 'Like what you see? Visit the ' +\n",
              "            '<a target=\"_blank\" href=https://colab.research.google.com/notebooks/data_table.ipynb>data table notebook</a>'\n",
              "            + ' to learn more about interactive tables.';\n",
              "          element.innerHTML = '';\n",
              "          dataTable['output_type'] = 'display_data';\n",
              "          await google.colab.output.renderOutput(dataTable, element);\n",
              "          const docLink = document.createElement('div');\n",
              "          docLink.innerHTML = docLinkHtml;\n",
              "          element.appendChild(docLink);\n",
              "        }\n",
              "      </script>\n",
              "    </div>\n",
              "  </div>\n",
              "  "
            ]
          },
          "metadata": {},
          "execution_count": 196
        }
      ]
    },
    {
      "cell_type": "code",
      "source": [
        "from turtle import color\n",
        "sns.scatterplot(x='number_of_reviews',y='host_acceptance_rate',color=\"blue\",data=Entirecorr)"
      ],
      "metadata": {
        "colab": {
          "base_uri": "https://localhost:8080/",
          "height": 298
        },
        "id": "tbvok-XmFeiI",
        "outputId": "2e8eeac3-9e74-4c48-dd97-3df10b9d15ea"
      },
      "execution_count": 189,
      "outputs": [
        {
          "output_type": "execute_result",
          "data": {
            "text/plain": [
              "<matplotlib.axes._subplots.AxesSubplot at 0x7f482fa59b90>"
            ]
          },
          "metadata": {},
          "execution_count": 189
        },
        {
          "output_type": "display_data",
          "data": {
            "text/plain": [
              "<Figure size 432x288 with 1 Axes>"
            ],
            "image/png": "[encoded data removed]"
          },
          "metadata": {
            "needs_background": "light"
          }
        }
      ]
    },
    {
      "cell_type": "markdown",
      "source": [
        "Para el tipo de cuarto \"Entire room/apt\" podemos ver que su correlacion es de 0.151513 no existe una correlacion entre el numero de reseñas con el promedio que acepta el host, la correlacion es debil."
      ],
      "metadata": {
        "id": "BheyD65gF4Gd"
      }
    },
    {
      "cell_type": "markdown",
      "source": [
        "*Private room*"
      ],
      "metadata": {
        "id": "Gvmb-t11GeMv"
      }
    },
    {
      "cell_type": "code",
      "source": [
        "Privatecorr"
      ],
      "metadata": {
        "colab": {
          "base_uri": "https://localhost:8080/",
          "height": 396
        },
        "id": "zXd9L3PwwRkP",
        "outputId": "d1e1f791-b376-4824-c1f4-aee2af0abc71"
      },
      "execution_count": 190,
      "outputs": [
        {
          "output_type": "execute_result",
          "data": {
            "text/plain": [
              "                                   id  host_response_rate  \\\n",
              "id                           1.000000            0.065439   \n",
              "host_response_rate           0.065439            1.000000   \n",
              "host_acceptance_rate         0.118227            0.415654   \n",
              "price                        0.066966            0.041567   \n",
              "availability_365             0.112234           -0.011012   \n",
              "number_of_reviews           -0.253817            0.157969   \n",
              "review_scores_rating         0.046812            0.000638   \n",
              "review_scores_cleanliness    0.036919            0.026422   \n",
              "review_scores_communication  0.014922           -0.012174   \n",
              "\n",
              "                             host_acceptance_rate     price  availability_365  \\\n",
              "id                                       0.118227  0.066966          0.112234   \n",
              "host_response_rate                       0.415654  0.041567         -0.011012   \n",
              "host_acceptance_rate                     1.000000  0.058523          0.047764   \n",
              "price                                    0.058523  1.000000          0.143302   \n",
              "availability_365                         0.047764  0.143302          1.000000   \n",
              "number_of_reviews                        0.165303 -0.154643         -0.069048   \n",
              "review_scores_rating                    -0.075995 -0.006700         -0.126749   \n",
              "review_scores_cleanliness               -0.018001  0.008769         -0.069720   \n",
              "review_scores_communication             -0.081354 -0.002221         -0.112289   \n",
              "\n",
              "                             number_of_reviews  review_scores_rating  \\\n",
              "id                                   -0.253817              0.046812   \n",
              "host_response_rate                    0.157969              0.000638   \n",
              "host_acceptance_rate                  0.165303             -0.075995   \n",
              "price                                -0.154643             -0.006700   \n",
              "availability_365                     -0.069048             -0.126749   \n",
              "number_of_reviews                     1.000000             -0.015215   \n",
              "review_scores_rating                 -0.015215              1.000000   \n",
              "review_scores_cleanliness             0.009506              0.557762   \n",
              "review_scores_communication          -0.033614              0.664831   \n",
              "\n",
              "                             review_scores_cleanliness  \\\n",
              "id                                            0.036919   \n",
              "host_response_rate                            0.026422   \n",
              "host_acceptance_rate                         -0.018001   \n",
              "price                                         0.008769   \n",
              "availability_365                             -0.069720   \n",
              "number_of_reviews                             0.009506   \n",
              "review_scores_rating                          0.557762   \n",
              "review_scores_cleanliness                     1.000000   \n",
              "review_scores_communication                   0.405002   \n",
              "\n",
              "                             review_scores_communication  \n",
              "id                                              0.014922  \n",
              "host_response_rate                             -0.012174  \n",
              "host_acceptance_rate                           -0.081354  \n",
              "price                                          -0.002221  \n",
              "availability_365                               -0.112289  \n",
              "number_of_reviews                              -0.033614  \n",
              "review_scores_rating                            0.664831  \n",
              "review_scores_cleanliness                       0.405002  \n",
              "review_scores_communication                     1.000000  "
            ],
            "text/html": [
              "\n",
              "  <div id=\"df-40406d0d-bdb9-4817-a14d-5e1d77f343d4\">\n",
              "    <div class=\"colab-df-container\">\n",
              "      <div>\n",
              "<style scoped>\n",
              "    .dataframe tbody tr th:only-of-type {\n",
              "        vertical-align: middle;\n",
              "    }\n",
              "\n",
              "    .dataframe tbody tr th {\n",
              "        vertical-align: top;\n",
              "    }\n",
              "\n",
              "    .dataframe thead th {\n",
              "        text-align: right;\n",
              "    }\n",
              "</style>\n",
              "<table border=\"1\" class=\"dataframe\">\n",
              "  <thead>\n",
              "    <tr style=\"text-align: right;\">\n",
              "      <th></th>\n",
              "      <th>id</th>\n",
              "      <th>host_response_rate</th>\n",
              "      <th>host_acceptance_rate</th>\n",
              "      <th>price</th>\n",
              "      <th>availability_365</th>\n",
              "      <th>number_of_reviews</th>\n",
              "      <th>review_scores_rating</th>\n",
              "      <th>review_scores_cleanliness</th>\n",
              "      <th>review_scores_communication</th>\n",
              "    </tr>\n",
              "  </thead>\n",
              "  <tbody>\n",
              "    <tr>\n",
              "      <th>id</th>\n",
              "      <td>1.000000</td>\n",
              "      <td>0.065439</td>\n",
              "      <td>0.118227</td>\n",
              "      <td>0.066966</td>\n",
              "      <td>0.112234</td>\n",
              "      <td>-0.253817</td>\n",
              "      <td>0.046812</td>\n",
              "      <td>0.036919</td>\n",
              "      <td>0.014922</td>\n",
              "    </tr>\n",
              "    <tr>\n",
              "      <th>host_response_rate</th>\n",
              "      <td>0.065439</td>\n",
              "      <td>1.000000</td>\n",
              "      <td>0.415654</td>\n",
              "      <td>0.041567</td>\n",
              "      <td>-0.011012</td>\n",
              "      <td>0.157969</td>\n",
              "      <td>0.000638</td>\n",
              "      <td>0.026422</td>\n",
              "      <td>-0.012174</td>\n",
              "    </tr>\n",
              "    <tr>\n",
              "      <th>host_acceptance_rate</th>\n",
              "      <td>0.118227</td>\n",
              "      <td>0.415654</td>\n",
              "      <td>1.000000</td>\n",
              "      <td>0.058523</td>\n",
              "      <td>0.047764</td>\n",
              "      <td>0.165303</td>\n",
              "      <td>-0.075995</td>\n",
              "      <td>-0.018001</td>\n",
              "      <td>-0.081354</td>\n",
              "    </tr>\n",
              "    <tr>\n",
              "      <th>price</th>\n",
              "      <td>0.066966</td>\n",
              "      <td>0.041567</td>\n",
              "      <td>0.058523</td>\n",
              "      <td>1.000000</td>\n",
              "      <td>0.143302</td>\n",
              "      <td>-0.154643</td>\n",
              "      <td>-0.006700</td>\n",
              "      <td>0.008769</td>\n",
              "      <td>-0.002221</td>\n",
              "    </tr>\n",
              "    <tr>\n",
              "      <th>availability_365</th>\n",
              "      <td>0.112234</td>\n",
              "      <td>-0.011012</td>\n",
              "      <td>0.047764</td>\n",
              "      <td>0.143302</td>\n",
              "      <td>1.000000</td>\n",
              "      <td>-0.069048</td>\n",
              "      <td>-0.126749</td>\n",
              "      <td>-0.069720</td>\n",
              "      <td>-0.112289</td>\n",
              "    </tr>\n",
              "    <tr>\n",
              "      <th>number_of_reviews</th>\n",
              "      <td>-0.253817</td>\n",
              "      <td>0.157969</td>\n",
              "      <td>0.165303</td>\n",
              "      <td>-0.154643</td>\n",
              "      <td>-0.069048</td>\n",
              "      <td>1.000000</td>\n",
              "      <td>-0.015215</td>\n",
              "      <td>0.009506</td>\n",
              "      <td>-0.033614</td>\n",
              "    </tr>\n",
              "    <tr>\n",
              "      <th>review_scores_rating</th>\n",
              "      <td>0.046812</td>\n",
              "      <td>0.000638</td>\n",
              "      <td>-0.075995</td>\n",
              "      <td>-0.006700</td>\n",
              "      <td>-0.126749</td>\n",
              "      <td>-0.015215</td>\n",
              "      <td>1.000000</td>\n",
              "      <td>0.557762</td>\n",
              "      <td>0.664831</td>\n",
              "    </tr>\n",
              "    <tr>\n",
              "      <th>review_scores_cleanliness</th>\n",
              "      <td>0.036919</td>\n",
              "      <td>0.026422</td>\n",
              "      <td>-0.018001</td>\n",
              "      <td>0.008769</td>\n",
              "      <td>-0.069720</td>\n",
              "      <td>0.009506</td>\n",
              "      <td>0.557762</td>\n",
              "      <td>1.000000</td>\n",
              "      <td>0.405002</td>\n",
              "    </tr>\n",
              "    <tr>\n",
              "      <th>review_scores_communication</th>\n",
              "      <td>0.014922</td>\n",
              "      <td>-0.012174</td>\n",
              "      <td>-0.081354</td>\n",
              "      <td>-0.002221</td>\n",
              "      <td>-0.112289</td>\n",
              "      <td>-0.033614</td>\n",
              "      <td>0.664831</td>\n",
              "      <td>0.405002</td>\n",
              "      <td>1.000000</td>\n",
              "    </tr>\n",
              "  </tbody>\n",
              "</table>\n",
              "</div>\n",
              "      <button class=\"colab-df-convert\" onclick=\"convertToInteractive('df-40406d0d-bdb9-4817-a14d-5e1d77f343d4')\"\n",
              "              title=\"Convert this dataframe to an interactive table.\"\n",
              "              style=\"display:none;\">\n",
              "        \n",
              "  <svg xmlns=\"http://www.w3.org/2000/svg\" height=\"24px\"viewBox=\"0 0 24 24\"\n",
              "       width=\"24px\">\n",
              "    <path d=\"M0 0h24v24H0V0z\" fill=\"none\"/>\n",
              "    <path d=\"M18.56 5.44l.94 2.06.94-2.06 2.06-.94-2.06-.94-.94-2.06-.94 2.06-2.06.94zm-11 1L8.5 8.5l.94-2.06 2.06-.94-2.06-.94L8.5 2.5l-.94 2.06-2.06.94zm10 10l.94 2.06.94-2.06 2.06-.94-2.06-.94-.94-2.06-.94 2.06-2.06.94z\"/><path d=\"M17.41 7.96l-1.37-1.37c-.4-.4-.92-.59-1.43-.59-.52 0-1.04.2-1.43.59L10.3 9.45l-7.72 7.72c-.78.78-.78 2.05 0 2.83L4 21.41c.39.39.9.59 1.41.59.51 0 1.02-.2 1.41-.59l7.78-7.78 2.81-2.81c.8-.78.8-2.07 0-2.86zM5.41 20L4 18.59l7.72-7.72 1.47 1.35L5.41 20z\"/>\n",
              "  </svg>\n",
              "      </button>\n",
              "      \n",
              "  <style>\n",
              "    .colab-df-container {\n",
              "      display:flex;\n",
              "      flex-wrap:wrap;\n",
              "      gap: 12px;\n",
              "    }\n",
              "\n",
              "    .colab-df-convert {\n",
              "      background-color: #E8F0FE;\n",
              "      border: none;\n",
              "      border-radius: 50%;\n",
              "      cursor: pointer;\n",
              "      display: none;\n",
              "      fill: #1967D2;\n",
              "      height: 32px;\n",
              "      padding: 0 0 0 0;\n",
              "      width: 32px;\n",
              "    }\n",
              "\n",
              "    .colab-df-convert:hover {\n",
              "      background-color: #E2EBFA;\n",
              "      box-shadow: 0px 1px 2px rgba(60, 64, 67, 0.3), 0px 1px 3px 1px rgba(60, 64, 67, 0.15);\n",
              "      fill: #174EA6;\n",
              "    }\n",
              "\n",
              "    [theme=dark] .colab-df-convert {\n",
              "      background-color: #3B4455;\n",
              "      fill: #D2E3FC;\n",
              "    }\n",
              "\n",
              "    [theme=dark] .colab-df-convert:hover {\n",
              "      background-color: #434B5C;\n",
              "      box-shadow: 0px 1px 3px 1px rgba(0, 0, 0, 0.15);\n",
              "      filter: drop-shadow(0px 1px 2px rgba(0, 0, 0, 0.3));\n",
              "      fill: #FFFFFF;\n",
              "    }\n",
              "  </style>\n",
              "\n",
              "      <script>\n",
              "        const buttonEl =\n",
              "          document.querySelector('#df-40406d0d-bdb9-4817-a14d-5e1d77f343d4 button.colab-df-convert');\n",
              "        buttonEl.style.display =\n",
              "          google.colab.kernel.accessAllowed ? 'block' : 'none';\n",
              "\n",
              "        async function convertToInteractive(key) {\n",
              "          const element = document.querySelector('#df-40406d0d-bdb9-4817-a14d-5e1d77f343d4');\n",
              "          const dataTable =\n",
              "            await google.colab.kernel.invokeFunction('convertToInteractive',\n",
              "                                                     [key], {});\n",
              "          if (!dataTable) return;\n",
              "\n",
              "          const docLinkHtml = 'Like what you see? Visit the ' +\n",
              "            '<a target=\"_blank\" href=https://colab.research.google.com/notebooks/data_table.ipynb>data table notebook</a>'\n",
              "            + ' to learn more about interactive tables.';\n",
              "          element.innerHTML = '';\n",
              "          dataTable['output_type'] = 'display_data';\n",
              "          await google.colab.output.renderOutput(dataTable, element);\n",
              "          const docLink = document.createElement('div');\n",
              "          docLink.innerHTML = docLinkHtml;\n",
              "          element.appendChild(docLink);\n",
              "        }\n",
              "      </script>\n",
              "    </div>\n",
              "  </div>\n",
              "  "
            ]
          },
          "metadata": {},
          "execution_count": 190
        }
      ]
    },
    {
      "cell_type": "code",
      "source": [
        "from turtle import color\n",
        "sns.scatterplot(x='number_of_reviews',y='host_acceptance_rate',color=\"blue\",data=Privatecorr)"
      ],
      "metadata": {
        "colab": {
          "base_uri": "https://localhost:8080/",
          "height": 298
        },
        "id": "NNUso1NpHrlr",
        "outputId": "e0d94474-f143-42ac-b047-3456fab7d594"
      },
      "execution_count": 191,
      "outputs": [
        {
          "output_type": "execute_result",
          "data": {
            "text/plain": [
              "<matplotlib.axes._subplots.AxesSubplot at 0x7f482f9bc5d0>"
            ]
          },
          "metadata": {},
          "execution_count": 191
        },
        {
          "output_type": "display_data",
          "data": {
            "text/plain": [
              "<Figure size 432x288 with 1 Axes>"
            ],
            "image/png": "[encoded data removed]"
          },
          "metadata": {
            "needs_background": "light"
          }
        }
      ]
    },
    {
      "cell_type": "markdown",
      "source": [
        "La correlacion de \"Private room\" es de 0.165303 lo cual no existe ninguna relacion entre estos valores, lo que se ocnsidera una correlacion es debil"
      ],
      "metadata": {
        "id": "X8Ljz_mhH5cH"
      }
    },
    {
      "cell_type": "markdown",
      "source": [
        "*Shared room*"
      ],
      "metadata": {
        "id": "qzgDzAmWIBnG"
      }
    },
    {
      "cell_type": "code",
      "source": [
        "Sharedcorr"
      ],
      "metadata": {
        "id": "FfYz587TwUnE",
        "outputId": "55748143-c41d-4e84-9db0-b6e7752409e2",
        "colab": {
          "base_uri": "https://localhost:8080/",
          "height": 396
        }
      },
      "execution_count": 192,
      "outputs": [
        {
          "output_type": "execute_result",
          "data": {
            "text/plain": [
              "                                   id  host_response_rate  \\\n",
              "id                           1.000000            0.103006   \n",
              "host_response_rate           0.103006            1.000000   \n",
              "host_acceptance_rate         0.041608            0.495575   \n",
              "price                       -0.080864           -0.094928   \n",
              "availability_365             0.237740           -0.037520   \n",
              "number_of_reviews           -0.172865            0.204230   \n",
              "review_scores_rating         0.300531            0.226832   \n",
              "review_scores_cleanliness    0.252367           -0.084331   \n",
              "review_scores_communication  0.208741           -0.026012   \n",
              "\n",
              "                             host_acceptance_rate     price  availability_365  \\\n",
              "id                                       0.041608 -0.080864          0.237740   \n",
              "host_response_rate                       0.495575 -0.094928         -0.037520   \n",
              "host_acceptance_rate                     1.000000 -0.230737          0.052325   \n",
              "price                                   -0.230737  1.000000         -0.162082   \n",
              "availability_365                         0.052325 -0.162082          1.000000   \n",
              "number_of_reviews                        0.237643 -0.128386         -0.006727   \n",
              "review_scores_rating                     0.176490 -0.139204          0.187467   \n",
              "review_scores_cleanliness                0.167650 -0.143078          0.025322   \n",
              "review_scores_communication             -0.070080 -0.156656         -0.053795   \n",
              "\n",
              "                             number_of_reviews  review_scores_rating  \\\n",
              "id                                   -0.172865              0.300531   \n",
              "host_response_rate                    0.204230              0.226832   \n",
              "host_acceptance_rate                  0.237643              0.176490   \n",
              "price                                -0.128386             -0.139204   \n",
              "availability_365                     -0.006727              0.187467   \n",
              "number_of_reviews                     1.000000             -0.076733   \n",
              "review_scores_rating                 -0.076733              1.000000   \n",
              "review_scores_cleanliness             0.034795             -0.168618   \n",
              "review_scores_communication          -0.078751              0.120701   \n",
              "\n",
              "                             review_scores_cleanliness  \\\n",
              "id                                            0.252367   \n",
              "host_response_rate                           -0.084331   \n",
              "host_acceptance_rate                          0.167650   \n",
              "price                                        -0.143078   \n",
              "availability_365                              0.025322   \n",
              "number_of_reviews                             0.034795   \n",
              "review_scores_rating                         -0.168618   \n",
              "review_scores_cleanliness                     1.000000   \n",
              "review_scores_communication                   0.465373   \n",
              "\n",
              "                             review_scores_communication  \n",
              "id                                              0.208741  \n",
              "host_response_rate                             -0.026012  \n",
              "host_acceptance_rate                           -0.070080  \n",
              "price                                          -0.156656  \n",
              "availability_365                               -0.053795  \n",
              "number_of_reviews                              -0.078751  \n",
              "review_scores_rating                            0.120701  \n",
              "review_scores_cleanliness                       0.465373  \n",
              "review_scores_communication                     1.000000  "
            ],
            "text/html": [
              "\n",
              "  <div id=\"df-70117bc1-0a98-4436-af31-d21d50c95776\">\n",
              "    <div class=\"colab-df-container\">\n",
              "      <div>\n",
              "<style scoped>\n",
              "    .dataframe tbody tr th:only-of-type {\n",
              "        vertical-align: middle;\n",
              "    }\n",
              "\n",
              "    .dataframe tbody tr th {\n",
              "        vertical-align: top;\n",
              "    }\n",
              "\n",
              "    .dataframe thead th {\n",
              "        text-align: right;\n",
              "    }\n",
              "</style>\n",
              "<table border=\"1\" class=\"dataframe\">\n",
              "  <thead>\n",
              "    <tr style=\"text-align: right;\">\n",
              "      <th></th>\n",
              "      <th>id</th>\n",
              "      <th>host_response_rate</th>\n",
              "      <th>host_acceptance_rate</th>\n",
              "      <th>price</th>\n",
              "      <th>availability_365</th>\n",
              "      <th>number_of_reviews</th>\n",
              "      <th>review_scores_rating</th>\n",
              "      <th>review_scores_cleanliness</th>\n",
              "      <th>review_scores_communication</th>\n",
              "    </tr>\n",
              "  </thead>\n",
              "  <tbody>\n",
              "    <tr>\n",
              "      <th>id</th>\n",
              "      <td>1.000000</td>\n",
              "      <td>0.103006</td>\n",
              "      <td>0.041608</td>\n",
              "      <td>-0.080864</td>\n",
              "      <td>0.237740</td>\n",
              "      <td>-0.172865</td>\n",
              "      <td>0.300531</td>\n",
              "      <td>0.252367</td>\n",
              "      <td>0.208741</td>\n",
              "    </tr>\n",
              "    <tr>\n",
              "      <th>host_response_rate</th>\n",
              "      <td>0.103006</td>\n",
              "      <td>1.000000</td>\n",
              "      <td>0.495575</td>\n",
              "      <td>-0.094928</td>\n",
              "      <td>-0.037520</td>\n",
              "      <td>0.204230</td>\n",
              "      <td>0.226832</td>\n",
              "      <td>-0.084331</td>\n",
              "      <td>-0.026012</td>\n",
              "    </tr>\n",
              "    <tr>\n",
              "      <th>host_acceptance_rate</th>\n",
              "      <td>0.041608</td>\n",
              "      <td>0.495575</td>\n",
              "      <td>1.000000</td>\n",
              "      <td>-0.230737</td>\n",
              "      <td>0.052325</td>\n",
              "      <td>0.237643</td>\n",
              "      <td>0.176490</td>\n",
              "      <td>0.167650</td>\n",
              "      <td>-0.070080</td>\n",
              "    </tr>\n",
              "    <tr>\n",
              "      <th>price</th>\n",
              "      <td>-0.080864</td>\n",
              "      <td>-0.094928</td>\n",
              "      <td>-0.230737</td>\n",
              "      <td>1.000000</td>\n",
              "      <td>-0.162082</td>\n",
              "      <td>-0.128386</td>\n",
              "      <td>-0.139204</td>\n",
              "      <td>-0.143078</td>\n",
              "      <td>-0.156656</td>\n",
              "    </tr>\n",
              "    <tr>\n",
              "      <th>availability_365</th>\n",
              "      <td>0.237740</td>\n",
              "      <td>-0.037520</td>\n",
              "      <td>0.052325</td>\n",
              "      <td>-0.162082</td>\n",
              "      <td>1.000000</td>\n",
              "      <td>-0.006727</td>\n",
              "      <td>0.187467</td>\n",
              "      <td>0.025322</td>\n",
              "      <td>-0.053795</td>\n",
              "    </tr>\n",
              "    <tr>\n",
              "      <th>number_of_reviews</th>\n",
              "      <td>-0.172865</td>\n",
              "      <td>0.204230</td>\n",
              "      <td>0.237643</td>\n",
              "      <td>-0.128386</td>\n",
              "      <td>-0.006727</td>\n",
              "      <td>1.000000</td>\n",
              "      <td>-0.076733</td>\n",
              "      <td>0.034795</td>\n",
              "      <td>-0.078751</td>\n",
              "    </tr>\n",
              "    <tr>\n",
              "      <th>review_scores_rating</th>\n",
              "      <td>0.300531</td>\n",
              "      <td>0.226832</td>\n",
              "      <td>0.176490</td>\n",
              "      <td>-0.139204</td>\n",
              "      <td>0.187467</td>\n",
              "      <td>-0.076733</td>\n",
              "      <td>1.000000</td>\n",
              "      <td>-0.168618</td>\n",
              "      <td>0.120701</td>\n",
              "    </tr>\n",
              "    <tr>\n",
              "      <th>review_scores_cleanliness</th>\n",
              "      <td>0.252367</td>\n",
              "      <td>-0.084331</td>\n",
              "      <td>0.167650</td>\n",
              "      <td>-0.143078</td>\n",
              "      <td>0.025322</td>\n",
              "      <td>0.034795</td>\n",
              "      <td>-0.168618</td>\n",
              "      <td>1.000000</td>\n",
              "      <td>0.465373</td>\n",
              "    </tr>\n",
              "    <tr>\n",
              "      <th>review_scores_communication</th>\n",
              "      <td>0.208741</td>\n",
              "      <td>-0.026012</td>\n",
              "      <td>-0.070080</td>\n",
              "      <td>-0.156656</td>\n",
              "      <td>-0.053795</td>\n",
              "      <td>-0.078751</td>\n",
              "      <td>0.120701</td>\n",
              "      <td>0.465373</td>\n",
              "      <td>1.000000</td>\n",
              "    </tr>\n",
              "  </tbody>\n",
              "</table>\n",
              "</div>\n",
              "      <button class=\"colab-df-convert\" onclick=\"convertToInteractive('df-70117bc1-0a98-4436-af31-d21d50c95776')\"\n",
              "              title=\"Convert this dataframe to an interactive table.\"\n",
              "              style=\"display:none;\">\n",
              "        \n",
              "  <svg xmlns=\"http://www.w3.org/2000/svg\" height=\"24px\"viewBox=\"0 0 24 24\"\n",
              "       width=\"24px\">\n",
              "    <path d=\"M0 0h24v24H0V0z\" fill=\"none\"/>\n",
              "    <path d=\"M18.56 5.44l.94 2.06.94-2.06 2.06-.94-2.06-.94-.94-2.06-.94 2.06-2.06.94zm-11 1L8.5 8.5l.94-2.06 2.06-.94-2.06-.94L8.5 2.5l-.94 2.06-2.06.94zm10 10l.94 2.06.94-2.06 2.06-.94-2.06-.94-.94-2.06-.94 2.06-2.06.94z\"/><path d=\"M17.41 7.96l-1.37-1.37c-.4-.4-.92-.59-1.43-.59-.52 0-1.04.2-1.43.59L10.3 9.45l-7.72 7.72c-.78.78-.78 2.05 0 2.83L4 21.41c.39.39.9.59 1.41.59.51 0 1.02-.2 1.41-.59l7.78-7.78 2.81-2.81c.8-.78.8-2.07 0-2.86zM5.41 20L4 18.59l7.72-7.72 1.47 1.35L5.41 20z\"/>\n",
              "  </svg>\n",
              "      </button>\n",
              "      \n",
              "  <style>\n",
              "    .colab-df-container {\n",
              "      display:flex;\n",
              "      flex-wrap:wrap;\n",
              "      gap: 12px;\n",
              "    }\n",
              "\n",
              "    .colab-df-convert {\n",
              "      background-color: #E8F0FE;\n",
              "      border: none;\n",
              "      border-radius: 50%;\n",
              "      cursor: pointer;\n",
              "      display: none;\n",
              "      fill: #1967D2;\n",
              "      height: 32px;\n",
              "      padding: 0 0 0 0;\n",
              "      width: 32px;\n",
              "    }\n",
              "\n",
              "    .colab-df-convert:hover {\n",
              "      background-color: #E2EBFA;\n",
              "      box-shadow: 0px 1px 2px rgba(60, 64, 67, 0.3), 0px 1px 3px 1px rgba(60, 64, 67, 0.15);\n",
              "      fill: #174EA6;\n",
              "    }\n",
              "\n",
              "    [theme=dark] .colab-df-convert {\n",
              "      background-color: #3B4455;\n",
              "      fill: #D2E3FC;\n",
              "    }\n",
              "\n",
              "    [theme=dark] .colab-df-convert:hover {\n",
              "      background-color: #434B5C;\n",
              "      box-shadow: 0px 1px 3px 1px rgba(0, 0, 0, 0.15);\n",
              "      filter: drop-shadow(0px 1px 2px rgba(0, 0, 0, 0.3));\n",
              "      fill: #FFFFFF;\n",
              "    }\n",
              "  </style>\n",
              "\n",
              "      <script>\n",
              "        const buttonEl =\n",
              "          document.querySelector('#df-70117bc1-0a98-4436-af31-d21d50c95776 button.colab-df-convert');\n",
              "        buttonEl.style.display =\n",
              "          google.colab.kernel.accessAllowed ? 'block' : 'none';\n",
              "\n",
              "        async function convertToInteractive(key) {\n",
              "          const element = document.querySelector('#df-70117bc1-0a98-4436-af31-d21d50c95776');\n",
              "          const dataTable =\n",
              "            await google.colab.kernel.invokeFunction('convertToInteractive',\n",
              "                                                     [key], {});\n",
              "          if (!dataTable) return;\n",
              "\n",
              "          const docLinkHtml = 'Like what you see? Visit the ' +\n",
              "            '<a target=\"_blank\" href=https://colab.research.google.com/notebooks/data_table.ipynb>data table notebook</a>'\n",
              "            + ' to learn more about interactive tables.';\n",
              "          element.innerHTML = '';\n",
              "          dataTable['output_type'] = 'display_data';\n",
              "          await google.colab.output.renderOutput(dataTable, element);\n",
              "          const docLink = document.createElement('div');\n",
              "          docLink.innerHTML = docLinkHtml;\n",
              "          element.appendChild(docLink);\n",
              "        }\n",
              "      </script>\n",
              "    </div>\n",
              "  </div>\n",
              "  "
            ]
          },
          "metadata": {},
          "execution_count": 192
        }
      ]
    },
    {
      "cell_type": "code",
      "source": [
        "from turtle import color\n",
        "sns.scatterplot(x='number_of_reviews',y='host_acceptance_rate',color=\"blue\",data=Sharedcorr)"
      ],
      "metadata": {
        "colab": {
          "base_uri": "https://localhost:8080/",
          "height": 298
        },
        "id": "N666HAHoIHDL",
        "outputId": "24c8be0e-1d1f-405e-b224-265aae798dd6"
      },
      "execution_count": 193,
      "outputs": [
        {
          "output_type": "execute_result",
          "data": {
            "text/plain": [
              "<matplotlib.axes._subplots.AxesSubplot at 0x7f482f9288d0>"
            ]
          },
          "metadata": {},
          "execution_count": 193
        },
        {
          "output_type": "display_data",
          "data": {
            "text/plain": [
              "<Figure size 432x288 with 1 Axes>"
            ],
            "image/png": "[encoded data removed]"
          },
          "metadata": {
            "needs_background": "light"
          }
        }
      ]
    },
    {
      "cell_type": "markdown",
      "source": [
        "Como los otros tipos de cuarto la correlacion para \"shared room\" es de 0.237643 lo cual nos indica que es muy debil"
      ],
      "metadata": {
        "id": "UBoxovkXILhl"
      }
    },
    {
      "cell_type": "markdown",
      "source": [
        "*Hotel room*"
      ],
      "metadata": {
        "id": "L6SHeVPBIRm3"
      }
    },
    {
      "cell_type": "code",
      "source": [
        "Hotelcorr"
      ],
      "metadata": {
        "id": "5fg-uo0EwUw_",
        "outputId": "b99275cd-fe5c-4433-b056-bc8d07b3d6d1",
        "colab": {
          "base_uri": "https://localhost:8080/",
          "height": 396
        }
      },
      "execution_count": 194,
      "outputs": [
        {
          "output_type": "execute_result",
          "data": {
            "text/plain": [
              "                                   id  host_response_rate  \\\n",
              "id                           1.000000            0.180976   \n",
              "host_response_rate           0.180976            1.000000   \n",
              "host_acceptance_rate         0.332582            0.498479   \n",
              "price                        0.023124           -0.077725   \n",
              "availability_365            -0.296750           -0.135807   \n",
              "number_of_reviews           -0.399944            0.065130   \n",
              "review_scores_rating         0.102917           -0.040282   \n",
              "review_scores_cleanliness    0.011309           -0.047071   \n",
              "review_scores_communication  0.014578           -0.074232   \n",
              "\n",
              "                             host_acceptance_rate     price  availability_365  \\\n",
              "id                                       0.332582  0.023124         -0.296750   \n",
              "host_response_rate                       0.498479 -0.077725         -0.135807   \n",
              "host_acceptance_rate                     1.000000 -0.066386         -0.081275   \n",
              "price                                   -0.066386  1.000000          0.278670   \n",
              "availability_365                        -0.081275  0.278670          1.000000   \n",
              "number_of_reviews                        0.118942  0.124895          0.169329   \n",
              "review_scores_rating                    -0.052468  0.095595          0.017853   \n",
              "review_scores_cleanliness               -0.075055  0.013942          0.058649   \n",
              "review_scores_communication             -0.153713  0.077870         -0.001367   \n",
              "\n",
              "                             number_of_reviews  review_scores_rating  \\\n",
              "id                                   -0.399944              0.102917   \n",
              "host_response_rate                    0.065130             -0.040282   \n",
              "host_acceptance_rate                  0.118942             -0.052468   \n",
              "price                                 0.124895              0.095595   \n",
              "availability_365                      0.169329              0.017853   \n",
              "number_of_reviews                     1.000000             -0.027392   \n",
              "review_scores_rating                 -0.027392              1.000000   \n",
              "review_scores_cleanliness            -0.098014              0.457341   \n",
              "review_scores_communication          -0.132037              0.635870   \n",
              "\n",
              "                             review_scores_cleanliness  \\\n",
              "id                                            0.011309   \n",
              "host_response_rate                           -0.047071   \n",
              "host_acceptance_rate                         -0.075055   \n",
              "price                                         0.013942   \n",
              "availability_365                              0.058649   \n",
              "number_of_reviews                            -0.098014   \n",
              "review_scores_rating                          0.457341   \n",
              "review_scores_cleanliness                     1.000000   \n",
              "review_scores_communication                   0.531310   \n",
              "\n",
              "                             review_scores_communication  \n",
              "id                                              0.014578  \n",
              "host_response_rate                             -0.074232  \n",
              "host_acceptance_rate                           -0.153713  \n",
              "price                                           0.077870  \n",
              "availability_365                               -0.001367  \n",
              "number_of_reviews                              -0.132037  \n",
              "review_scores_rating                            0.635870  \n",
              "review_scores_cleanliness                       0.531310  \n",
              "review_scores_communication                     1.000000  "
            ],
            "text/html": [
              "\n",
              "  <div id=\"df-b6c76c61-c8a0-40de-8221-6fe4dd31231b\">\n",
              "    <div class=\"colab-df-container\">\n",
              "      <div>\n",
              "<style scoped>\n",
              "    .dataframe tbody tr th:only-of-type {\n",
              "        vertical-align: middle;\n",
              "    }\n",
              "\n",
              "    .dataframe tbody tr th {\n",
              "        vertical-align: top;\n",
              "    }\n",
              "\n",
              "    .dataframe thead th {\n",
              "        text-align: right;\n",
              "    }\n",
              "</style>\n",
              "<table border=\"1\" class=\"dataframe\">\n",
              "  <thead>\n",
              "    <tr style=\"text-align: right;\">\n",
              "      <th></th>\n",
              "      <th>id</th>\n",
              "      <th>host_response_rate</th>\n",
              "      <th>host_acceptance_rate</th>\n",
              "      <th>price</th>\n",
              "      <th>availability_365</th>\n",
              "      <th>number_of_reviews</th>\n",
              "      <th>review_scores_rating</th>\n",
              "      <th>review_scores_cleanliness</th>\n",
              "      <th>review_scores_communication</th>\n",
              "    </tr>\n",
              "  </thead>\n",
              "  <tbody>\n",
              "    <tr>\n",
              "      <th>id</th>\n",
              "      <td>1.000000</td>\n",
              "      <td>0.180976</td>\n",
              "      <td>0.332582</td>\n",
              "      <td>0.023124</td>\n",
              "      <td>-0.296750</td>\n",
              "      <td>-0.399944</td>\n",
              "      <td>0.102917</td>\n",
              "      <td>0.011309</td>\n",
              "      <td>0.014578</td>\n",
              "    </tr>\n",
              "    <tr>\n",
              "      <th>host_response_rate</th>\n",
              "      <td>0.180976</td>\n",
              "      <td>1.000000</td>\n",
              "      <td>0.498479</td>\n",
              "      <td>-0.077725</td>\n",
              "      <td>-0.135807</td>\n",
              "      <td>0.065130</td>\n",
              "      <td>-0.040282</td>\n",
              "      <td>-0.047071</td>\n",
              "      <td>-0.074232</td>\n",
              "    </tr>\n",
              "    <tr>\n",
              "      <th>host_acceptance_rate</th>\n",
              "      <td>0.332582</td>\n",
              "      <td>0.498479</td>\n",
              "      <td>1.000000</td>\n",
              "      <td>-0.066386</td>\n",
              "      <td>-0.081275</td>\n",
              "      <td>0.118942</td>\n",
              "      <td>-0.052468</td>\n",
              "      <td>-0.075055</td>\n",
              "      <td>-0.153713</td>\n",
              "    </tr>\n",
              "    <tr>\n",
              "      <th>price</th>\n",
              "      <td>0.023124</td>\n",
              "      <td>-0.077725</td>\n",
              "      <td>-0.066386</td>\n",
              "      <td>1.000000</td>\n",
              "      <td>0.278670</td>\n",
              "      <td>0.124895</td>\n",
              "      <td>0.095595</td>\n",
              "      <td>0.013942</td>\n",
              "      <td>0.077870</td>\n",
              "    </tr>\n",
              "    <tr>\n",
              "      <th>availability_365</th>\n",
              "      <td>-0.296750</td>\n",
              "      <td>-0.135807</td>\n",
              "      <td>-0.081275</td>\n",
              "      <td>0.278670</td>\n",
              "      <td>1.000000</td>\n",
              "      <td>0.169329</td>\n",
              "      <td>0.017853</td>\n",
              "      <td>0.058649</td>\n",
              "      <td>-0.001367</td>\n",
              "    </tr>\n",
              "    <tr>\n",
              "      <th>number_of_reviews</th>\n",
              "      <td>-0.399944</td>\n",
              "      <td>0.065130</td>\n",
              "      <td>0.118942</td>\n",
              "      <td>0.124895</td>\n",
              "      <td>0.169329</td>\n",
              "      <td>1.000000</td>\n",
              "      <td>-0.027392</td>\n",
              "      <td>-0.098014</td>\n",
              "      <td>-0.132037</td>\n",
              "    </tr>\n",
              "    <tr>\n",
              "      <th>review_scores_rating</th>\n",
              "      <td>0.102917</td>\n",
              "      <td>-0.040282</td>\n",
              "      <td>-0.052468</td>\n",
              "      <td>0.095595</td>\n",
              "      <td>0.017853</td>\n",
              "      <td>-0.027392</td>\n",
              "      <td>1.000000</td>\n",
              "      <td>0.457341</td>\n",
              "      <td>0.635870</td>\n",
              "    </tr>\n",
              "    <tr>\n",
              "      <th>review_scores_cleanliness</th>\n",
              "      <td>0.011309</td>\n",
              "      <td>-0.047071</td>\n",
              "      <td>-0.075055</td>\n",
              "      <td>0.013942</td>\n",
              "      <td>0.058649</td>\n",
              "      <td>-0.098014</td>\n",
              "      <td>0.457341</td>\n",
              "      <td>1.000000</td>\n",
              "      <td>0.531310</td>\n",
              "    </tr>\n",
              "    <tr>\n",
              "      <th>review_scores_communication</th>\n",
              "      <td>0.014578</td>\n",
              "      <td>-0.074232</td>\n",
              "      <td>-0.153713</td>\n",
              "      <td>0.077870</td>\n",
              "      <td>-0.001367</td>\n",
              "      <td>-0.132037</td>\n",
              "      <td>0.635870</td>\n",
              "      <td>0.531310</td>\n",
              "      <td>1.000000</td>\n",
              "    </tr>\n",
              "  </tbody>\n",
              "</table>\n",
              "</div>\n",
              "      <button class=\"colab-df-convert\" onclick=\"convertToInteractive('df-b6c76c61-c8a0-40de-8221-6fe4dd31231b')\"\n",
              "              title=\"Convert this dataframe to an interactive table.\"\n",
              "              style=\"display:none;\">\n",
              "        \n",
              "  <svg xmlns=\"http://www.w3.org/2000/svg\" height=\"24px\"viewBox=\"0 0 24 24\"\n",
              "       width=\"24px\">\n",
              "    <path d=\"M0 0h24v24H0V0z\" fill=\"none\"/>\n",
              "    <path d=\"M18.56 5.44l.94 2.06.94-2.06 2.06-.94-2.06-.94-.94-2.06-.94 2.06-2.06.94zm-11 1L8.5 8.5l.94-2.06 2.06-.94-2.06-.94L8.5 2.5l-.94 2.06-2.06.94zm10 10l.94 2.06.94-2.06 2.06-.94-2.06-.94-.94-2.06-.94 2.06-2.06.94z\"/><path d=\"M17.41 7.96l-1.37-1.37c-.4-.4-.92-.59-1.43-.59-.52 0-1.04.2-1.43.59L10.3 9.45l-7.72 7.72c-.78.78-.78 2.05 0 2.83L4 21.41c.39.39.9.59 1.41.59.51 0 1.02-.2 1.41-.59l7.78-7.78 2.81-2.81c.8-.78.8-2.07 0-2.86zM5.41 20L4 18.59l7.72-7.72 1.47 1.35L5.41 20z\"/>\n",
              "  </svg>\n",
              "      </button>\n",
              "      \n",
              "  <style>\n",
              "    .colab-df-container {\n",
              "      display:flex;\n",
              "      flex-wrap:wrap;\n",
              "      gap: 12px;\n",
              "    }\n",
              "\n",
              "    .colab-df-convert {\n",
              "      background-color: #E8F0FE;\n",
              "      border: none;\n",
              "      border-radius: 50%;\n",
              "      cursor: pointer;\n",
              "      display: none;\n",
              "      fill: #1967D2;\n",
              "      height: 32px;\n",
              "      padding: 0 0 0 0;\n",
              "      width: 32px;\n",
              "    }\n",
              "\n",
              "    .colab-df-convert:hover {\n",
              "      background-color: #E2EBFA;\n",
              "      box-shadow: 0px 1px 2px rgba(60, 64, 67, 0.3), 0px 1px 3px 1px rgba(60, 64, 67, 0.15);\n",
              "      fill: #174EA6;\n",
              "    }\n",
              "\n",
              "    [theme=dark] .colab-df-convert {\n",
              "      background-color: #3B4455;\n",
              "      fill: #D2E3FC;\n",
              "    }\n",
              "\n",
              "    [theme=dark] .colab-df-convert:hover {\n",
              "      background-color: #434B5C;\n",
              "      box-shadow: 0px 1px 3px 1px rgba(0, 0, 0, 0.15);\n",
              "      filter: drop-shadow(0px 1px 2px rgba(0, 0, 0, 0.3));\n",
              "      fill: #FFFFFF;\n",
              "    }\n",
              "  </style>\n",
              "\n",
              "      <script>\n",
              "        const buttonEl =\n",
              "          document.querySelector('#df-b6c76c61-c8a0-40de-8221-6fe4dd31231b button.colab-df-convert');\n",
              "        buttonEl.style.display =\n",
              "          google.colab.kernel.accessAllowed ? 'block' : 'none';\n",
              "\n",
              "        async function convertToInteractive(key) {\n",
              "          const element = document.querySelector('#df-b6c76c61-c8a0-40de-8221-6fe4dd31231b');\n",
              "          const dataTable =\n",
              "            await google.colab.kernel.invokeFunction('convertToInteractive',\n",
              "                                                     [key], {});\n",
              "          if (!dataTable) return;\n",
              "\n",
              "          const docLinkHtml = 'Like what you see? Visit the ' +\n",
              "            '<a target=\"_blank\" href=https://colab.research.google.com/notebooks/data_table.ipynb>data table notebook</a>'\n",
              "            + ' to learn more about interactive tables.';\n",
              "          element.innerHTML = '';\n",
              "          dataTable['output_type'] = 'display_data';\n",
              "          await google.colab.output.renderOutput(dataTable, element);\n",
              "          const docLink = document.createElement('div');\n",
              "          docLink.innerHTML = docLinkHtml;\n",
              "          element.appendChild(docLink);\n",
              "        }\n",
              "      </script>\n",
              "    </div>\n",
              "  </div>\n",
              "  "
            ]
          },
          "metadata": {},
          "execution_count": 194
        }
      ]
    },
    {
      "cell_type": "code",
      "source": [
        "from turtle import color\n",
        "sns.scatterplot(x='number_of_reviews',y='host_acceptance_rate',color=\"blue\",data=Hotelcorr)"
      ],
      "metadata": {
        "colab": {
          "base_uri": "https://localhost:8080/",
          "height": 298
        },
        "id": "B4j0qOVtIVuQ",
        "outputId": "9fc3c66e-db61-45ba-966d-aeaebd82f1f8"
      },
      "execution_count": 195,
      "outputs": [
        {
          "output_type": "execute_result",
          "data": {
            "text/plain": [
              "<matplotlib.axes._subplots.AxesSubplot at 0x7f482f8a1310>"
            ]
          },
          "metadata": {},
          "execution_count": 195
        },
        {
          "output_type": "display_data",
          "data": {
            "text/plain": [
              "<Figure size 432x288 with 1 Axes>"
            ],
            "image/png": "[encoded data removed]"
          },
          "metadata": {
            "needs_background": "light"
          }
        }
      ]
    },
    {
      "cell_type": "markdown",
      "source": [
        "La correlacion es de 0.118942 donde para el tipo de cuarto de \"hotel\" no existe ninguna relacion entre las variables ya que es debil"
      ],
      "metadata": {
        "id": "qMQOTCv1IaGz"
      }
    },
    {
      "cell_type": "markdown",
      "source": [
        "#**“number_of_reviews  vs price”**"
      ],
      "metadata": {
        "id": "cMONP7EjJL0_"
      }
    },
    {
      "cell_type": "markdown",
      "source": [
        "*Entire room*"
      ],
      "metadata": {
        "id": "hSJUoFuBJNmB"
      }
    },
    {
      "cell_type": "code",
      "source": [
        "from turtle import color\n",
        "sns.scatterplot(x='number_of_reviews',y='price',color=\"red\",data=Entirecorr)"
      ],
      "metadata": {
        "colab": {
          "base_uri": "https://localhost:8080/",
          "height": 298
        },
        "id": "4jzRg3VBJPZV",
        "outputId": "950903ee-c9d0-4459-e943-93c3f7e7342c"
      },
      "execution_count": 197,
      "outputs": [
        {
          "output_type": "execute_result",
          "data": {
            "text/plain": [
              "<matplotlib.axes._subplots.AxesSubplot at 0x7f482fa4a990>"
            ]
          },
          "metadata": {},
          "execution_count": 197
        },
        {
          "output_type": "display_data",
          "data": {
            "text/plain": [
              "<Figure size 432x288 with 1 Axes>"
            ],
            "image/png": "[encoded data removed]"
          },
          "metadata": {
            "needs_background": "light"
          }
        }
      ]
    },
    {
      "cell_type": "markdown",
      "source": [
        "Para estos valores para el tipo de cuarto \"Entire room\" tiene una correlacion -0.094917 lo cual la correlacion es nula"
      ],
      "metadata": {
        "id": "RkjWMCUbJZuZ"
      }
    },
    {
      "cell_type": "markdown",
      "source": [
        "*Private*"
      ],
      "metadata": {
        "id": "878k48JuJoO6"
      }
    },
    {
      "cell_type": "code",
      "source": [
        "from turtle import color\n",
        "sns.scatterplot(x='number_of_reviews',y='price',color=\"red\",data=Privatecorr)"
      ],
      "metadata": {
        "colab": {
          "base_uri": "https://localhost:8080/",
          "height": 298
        },
        "id": "G02EznK0JK_l",
        "outputId": "1bbb4819-e0df-4a0f-eb47-8919d4801003"
      },
      "execution_count": 199,
      "outputs": [
        {
          "output_type": "execute_result",
          "data": {
            "text/plain": [
              "<matplotlib.axes._subplots.AxesSubplot at 0x7f482fbfced0>"
            ]
          },
          "metadata": {},
          "execution_count": 199
        },
        {
          "output_type": "display_data",
          "data": {
            "text/plain": [
              "<Figure size 432x288 with 1 Axes>"
            ],
            "image/png": "[encoded data removed]"
          },
          "metadata": {
            "needs_background": "light"
          }
        }
      ]
    },
    {
      "cell_type": "markdown",
      "source": [
        "Para estos valores para el tipo de cuarto \"Private room\" tiene una correlacion -0.154643 lo cual la correlacion es nula"
      ],
      "metadata": {
        "id": "cqL1OYNlJyI6"
      }
    },
    {
      "cell_type": "markdown",
      "source": [
        "*Shared room*"
      ],
      "metadata": {
        "id": "3F2_HY6WKFnP"
      }
    },
    {
      "cell_type": "code",
      "source": [
        "from turtle import color\n",
        "sns.scatterplot(x='number_of_reviews',y='price',color=\"red\",data=Sharedcorr)"
      ],
      "metadata": {
        "colab": {
          "base_uri": "https://localhost:8080/",
          "height": 298
        },
        "id": "vQizaR2BJxoe",
        "outputId": "8ba51d5d-167a-4baf-a1b4-418dce711227"
      },
      "execution_count": 201,
      "outputs": [
        {
          "output_type": "execute_result",
          "data": {
            "text/plain": [
              "<matplotlib.axes._subplots.AxesSubplot at 0x7f482fc55090>"
            ]
          },
          "metadata": {},
          "execution_count": 201
        },
        {
          "output_type": "display_data",
          "data": {
            "text/plain": [
              "<Figure size 432x288 with 1 Axes>"
            ],
            "image/png": "[encoded data removed]"
          },
          "metadata": {
            "needs_background": "light"
          }
        }
      ]
    },
    {
      "cell_type": "markdown",
      "source": [
        "No existe ninguna relacion para estos valores en shared room su correlacion es -0.128386 lo cual nos indica que es nula"
      ],
      "metadata": {
        "id": "pGcENPxjKTjV"
      }
    },
    {
      "cell_type": "markdown",
      "source": [
        "*Hotel room*"
      ],
      "metadata": {
        "id": "3y7J2d19KaYw"
      }
    },
    {
      "cell_type": "code",
      "source": [
        "from turtle import color\n",
        "sns.scatterplot(x='number_of_reviews',y='price',color=\"red\",data=Hotelcorr)"
      ],
      "metadata": {
        "colab": {
          "base_uri": "https://localhost:8080/",
          "height": 298
        },
        "id": "5n9hmvfPKdD1",
        "outputId": "6c936e49-4e1e-41f2-d786-280624700c57"
      },
      "execution_count": 203,
      "outputs": [
        {
          "output_type": "execute_result",
          "data": {
            "text/plain": [
              "<matplotlib.axes._subplots.AxesSubplot at 0x7f482fc45110>"
            ]
          },
          "metadata": {},
          "execution_count": 203
        },
        {
          "output_type": "display_data",
          "data": {
            "text/plain": [
              "<Figure size 432x288 with 1 Axes>"
            ],
            "image/png": "[encoded data removed]"
          },
          "metadata": {
            "needs_background": "light"
          }
        }
      ]
    },
    {
      "cell_type": "markdown",
      "source": [
        "Para hotel room no existe ninguna relacion para estas variable donde su correlacion salio de 0.124895"
      ],
      "metadata": {
        "id": "DgnuXorcKipn"
      }
    },
    {
      "cell_type": "markdown",
      "source": [
        "#**“number_of_reviews  vs availability_365”**"
      ],
      "metadata": {
        "id": "m3e-7WWsK7s5"
      }
    },
    {
      "cell_type": "markdown",
      "source": [
        "*Entire room*"
      ],
      "metadata": {
        "id": "ioTclHWsLORh"
      }
    },
    {
      "cell_type": "code",
      "source": [
        "sns.scatterplot(x='number_of_reviews',y='availability_365',color=\"pink\",data=Entirecorr)"
      ],
      "metadata": {
        "colab": {
          "base_uri": "https://localhost:8080/",
          "height": 298
        },
        "id": "K-Fq7BmSLRaV",
        "outputId": "d1283edc-4ab9-4f5a-bc0c-7f646f5f0bca"
      },
      "execution_count": 205,
      "outputs": [
        {
          "output_type": "execute_result",
          "data": {
            "text/plain": [
              "<matplotlib.axes._subplots.AxesSubplot at 0x7f482fc777d0>"
            ]
          },
          "metadata": {},
          "execution_count": 205
        },
        {
          "output_type": "display_data",
          "data": {
            "text/plain": [
              "<Figure size 432x288 with 1 Axes>"
            ],
            "image/png": "[encoded data removed]"
          },
          "metadata": {
            "needs_background": "light"
          }
        }
      ]
    },
    {
      "cell_type": "markdown",
      "source": [
        "La correlacion es de -0.046168\t lo cual es nula"
      ],
      "metadata": {
        "id": "Jn3Cwgm7LeV2"
      }
    },
    {
      "cell_type": "markdown",
      "source": [
        "*Private*"
      ],
      "metadata": {
        "id": "nEJFzOarLhjY"
      }
    },
    {
      "cell_type": "code",
      "source": [
        "sns.scatterplot(x='number_of_reviews',y='availability_365',color=\"pink\",data=Privatecorr)"
      ],
      "metadata": {
        "colab": {
          "base_uri": "https://localhost:8080/",
          "height": 298
        },
        "id": "mkfG5m10Lk-_",
        "outputId": "fce91bf3-df20-4d01-c90a-ac3ff0f2d1d2"
      },
      "execution_count": 207,
      "outputs": [
        {
          "output_type": "execute_result",
          "data": {
            "text/plain": [
              "<matplotlib.axes._subplots.AxesSubplot at 0x7f482fc984d0>"
            ]
          },
          "metadata": {},
          "execution_count": 207
        },
        {
          "output_type": "display_data",
          "data": {
            "text/plain": [
              "<Figure size 432x288 with 1 Axes>"
            ],
            "image/png": "[encoded data removed]"
          },
          "metadata": {
            "needs_background": "light"
          }
        }
      ]
    },
    {
      "cell_type": "markdown",
      "source": [
        "La correlacion es nula ya que es de -0.017303\t"
      ],
      "metadata": {
        "id": "aITYRvjILtPx"
      }
    },
    {
      "cell_type": "markdown",
      "source": [
        "*Share room*"
      ],
      "metadata": {
        "id": "P1mPTMHpLyJp"
      }
    },
    {
      "cell_type": "code",
      "source": [
        "sns.scatterplot(x='number_of_reviews',y='availability_365',color=\"pink\",data=Sharedcorr)"
      ],
      "metadata": {
        "colab": {
          "base_uri": "https://localhost:8080/"
        },
        "id": "b2AFNaiBMfSS",
        "outputId": "51ab0600-1009-4c15-8497-0a979b975816"
      },
      "execution_count": null,
      "outputs": [
        {
          "output_type": "execute_result",
          "data": {
            "text/plain": [
              "<matplotlib.axes._subplots.AxesSubplot at 0x7f4d9219c3d0>"
            ]
          },
          "metadata": {},
          "execution_count": 174
        },
        {
          "output_type": "display_data",
          "data": {
            "text/plain": [
              "<Figure size 432x288 with 1 Axes>"
            ],
            "image/png": "[encoded data removed]"
          },
          "metadata": {
            "needs_background": "light"
          }
        }
      ]
    },
    {
      "cell_type": "markdown",
      "source": [
        "La correlacion es de -0.069048\t lo cual no existe ninguna relacion"
      ],
      "metadata": {
        "id": "RSvdJvFaMqJL"
      }
    },
    {
      "cell_type": "markdown",
      "source": [
        "*Hotel room*"
      ],
      "metadata": {
        "id": "RR6O7HCmMtaE"
      }
    },
    {
      "cell_type": "code",
      "source": [
        "sns.scatterplot(x='number_of_reviews',y='availability_365',color=\"pink\",data=Hotelcorr)"
      ],
      "metadata": {
        "colab": {
          "base_uri": "https://localhost:8080/",
          "height": 298
        },
        "id": "qWUqhktkMwXz",
        "outputId": "d96fdce4-27b5-4338-9098-eeef0944f861"
      },
      "execution_count": 209,
      "outputs": [
        {
          "output_type": "execute_result",
          "data": {
            "text/plain": [
              "<matplotlib.axes._subplots.AxesSubplot at 0x7f482fc54fd0>"
            ]
          },
          "metadata": {},
          "execution_count": 209
        },
        {
          "output_type": "display_data",
          "data": {
            "text/plain": [
              "<Figure size 432x288 with 1 Axes>"
            ],
            "image/png": "[encoded data removed]"
          },
          "metadata": {
            "needs_background": "light"
          }
        }
      ]
    },
    {
      "cell_type": "markdown",
      "source": [
        "No existe ninguna relacion entre estas variable en Hotel room ya que su correlacion es de 0.169329"
      ],
      "metadata": {
        "id": "wtbb9pE-M4Vm"
      }
    },
    {
      "cell_type": "markdown",
      "source": [
        "#**“number_of_reviews  vs review_scores_rating”**"
      ],
      "metadata": {
        "id": "bBHBAiodM_wF"
      }
    },
    {
      "cell_type": "markdown",
      "source": [
        "*Entire room*"
      ],
      "metadata": {
        "id": "Szxet0X9NHx1"
      }
    },
    {
      "cell_type": "code",
      "source": [
        "sns.scatterplot(x='number_of_reviews',y='review_scores_rating',color=\"orange\",data=Entirecorr)"
      ],
      "metadata": {
        "colab": {
          "base_uri": "https://localhost:8080/",
          "height": 298
        },
        "id": "t_D4fQ-oNJ1l",
        "outputId": "7e4f2abd-0cd8-4e89-c965-4a37a25da9fa"
      },
      "execution_count": 211,
      "outputs": [
        {
          "output_type": "execute_result",
          "data": {
            "text/plain": [
              "<matplotlib.axes._subplots.AxesSubplot at 0x7f482fc0c390>"
            ]
          },
          "metadata": {},
          "execution_count": 211
        },
        {
          "output_type": "display_data",
          "data": {
            "text/plain": [
              "<Figure size 432x288 with 1 Axes>"
            ],
            "image/png": "[encoded data removed]"
          },
          "metadata": {
            "needs_background": "light"
          }
        }
      ]
    },
    {
      "cell_type": "markdown",
      "source": [
        "La correlacion es de -0.012955 lo cual es nula"
      ],
      "metadata": {
        "id": "nrXOxcTQNWzW"
      }
    },
    {
      "cell_type": "markdown",
      "source": [
        "*Private room*"
      ],
      "metadata": {
        "id": "mPN1DsmeNaoW"
      }
    },
    {
      "cell_type": "code",
      "source": [
        "sns.scatterplot(x='number_of_reviews',y='review_scores_rating',color=\"orange\",data=Privatecorr)"
      ],
      "metadata": {
        "colab": {
          "base_uri": "https://localhost:8080/",
          "height": 298
        },
        "id": "WOmMnCdNNnsT",
        "outputId": "703f16ff-6e2d-400a-b96d-092cd79d6cda"
      },
      "execution_count": 213,
      "outputs": [
        {
          "output_type": "execute_result",
          "data": {
            "text/plain": [
              "<matplotlib.axes._subplots.AxesSubplot at 0x7f482fcf7850>"
            ]
          },
          "metadata": {},
          "execution_count": 213
        },
        {
          "output_type": "display_data",
          "data": {
            "text/plain": [
              "<Figure size 432x288 with 1 Axes>"
            ],
            "image/png": "[encoded data removed]"
          },
          "metadata": {
            "needs_background": "light"
          }
        }
      ]
    },
    {
      "cell_type": "markdown",
      "source": [
        "No existe ninguna relacion su correlacion es de -0.015215"
      ],
      "metadata": {
        "id": "UCoe1RwtNvBo"
      }
    },
    {
      "cell_type": "markdown",
      "source": [
        "*Shared room*"
      ],
      "metadata": {
        "id": "UmndG9VVNxh_"
      }
    },
    {
      "cell_type": "code",
      "source": [
        "sns.scatterplot(x='number_of_reviews',y='review_scores_rating',color=\"orange\",data=Sharedcorr)"
      ],
      "metadata": {
        "colab": {
          "base_uri": "https://localhost:8080/",
          "height": 298
        },
        "id": "-W6qETXRN2Gk",
        "outputId": "efd399d4-721a-4bcd-cffa-52b2cbd27909"
      },
      "execution_count": 215,
      "outputs": [
        {
          "output_type": "execute_result",
          "data": {
            "text/plain": [
              "<matplotlib.axes._subplots.AxesSubplot at 0x7f482f842750>"
            ]
          },
          "metadata": {},
          "execution_count": 215
        },
        {
          "output_type": "display_data",
          "data": {
            "text/plain": [
              "<Figure size 432x288 with 1 Axes>"
            ],
            "image/png": "[encoded data removed]"
          },
          "metadata": {
            "needs_background": "light"
          }
        }
      ]
    },
    {
      "cell_type": "markdown",
      "source": [
        "Su correlacion es de -0.168618 no hay ninguna relacion"
      ],
      "metadata": {
        "id": "g7s2z8SsOM59"
      }
    },
    {
      "cell_type": "markdown",
      "source": [
        "*Hotel room*"
      ],
      "metadata": {
        "id": "5D05oAT1OQQ6"
      }
    },
    {
      "cell_type": "code",
      "source": [
        "sns.scatterplot(x='number_of_reviews',y='review_scores_rating',color=\"orange\",data=Hotelcorr)"
      ],
      "metadata": {
        "colab": {
          "base_uri": "https://localhost:8080/",
          "height": 298
        },
        "id": "M8ksuqIgOT7I",
        "outputId": "4f35f018-d949-4a6d-e9db-24f13d8b0250"
      },
      "execution_count": 218,
      "outputs": [
        {
          "output_type": "execute_result",
          "data": {
            "text/plain": [
              "<matplotlib.axes._subplots.AxesSubplot at 0x7f482f7bc690>"
            ]
          },
          "metadata": {},
          "execution_count": 218
        },
        {
          "output_type": "display_data",
          "data": {
            "text/plain": [
              "<Figure size 432x288 with 1 Axes>"
            ],
            "image/png": "[encoded data removed]"
          },
          "metadata": {
            "needs_background": "light"
          }
        }
      ]
    },
    {
      "cell_type": "markdown",
      "source": [
        "La correlacion es de -0.027392\t\t lo cual es negativa"
      ],
      "metadata": {
        "id": "ZFV7WGeZOhYf"
      }
    },
    {
      "cell_type": "markdown",
      "source": [
        "#**“number_of_reviews  vs review_scores_cleanliness”**"
      ],
      "metadata": {
        "id": "0XnmTNXlO_Sq"
      }
    },
    {
      "cell_type": "markdown",
      "source": [
        "*Entire room*"
      ],
      "metadata": {
        "id": "dHVW_8cuPDgM"
      }
    },
    {
      "cell_type": "code",
      "source": [
        "sns.scatterplot(x='number_of_reviews',y='review_scores_cleanliness',color=\"green\",data=Entirecorr)"
      ],
      "metadata": {
        "colab": {
          "base_uri": "https://localhost:8080/",
          "height": 0
        },
        "id": "A5abcunVPHZI",
        "outputId": "ad77dbbf-596f-45a2-b01e-3cd4591c71f3"
      },
      "execution_count": 219,
      "outputs": [
        {
          "output_type": "execute_result",
          "data": {
            "text/plain": [
              "<matplotlib.axes._subplots.AxesSubplot at 0x7f482f7a6ed0>"
            ]
          },
          "metadata": {},
          "execution_count": 219
        },
        {
          "output_type": "display_data",
          "data": {
            "text/plain": [
              "<Figure size 432x288 with 1 Axes>"
            ],
            "image/png": "[encoded data removed]"
          },
          "metadata": {
            "needs_background": "light"
          }
        }
      ]
    },
    {
      "cell_type": "markdown",
      "source": [
        "La correlacion es nula es de 0.076001\t"
      ],
      "metadata": {
        "id": "7ZbNi04gPVEX"
      }
    },
    {
      "cell_type": "markdown",
      "source": [
        "*Private room*"
      ],
      "metadata": {
        "id": "OlzGem7DPXoD"
      }
    },
    {
      "cell_type": "code",
      "source": [
        "sns.scatterplot(x='number_of_reviews',y='review_scores_cleanliness',color=\"green\",data=Privatecorr)"
      ],
      "metadata": {
        "colab": {
          "base_uri": "https://localhost:8080/",
          "height": 0
        },
        "id": "NEggZoyyPZfp",
        "outputId": "134fd86c-ad91-4bb3-a4d0-6dcee6bfbf5a"
      },
      "execution_count": 220,
      "outputs": [
        {
          "output_type": "execute_result",
          "data": {
            "text/plain": [
              "<matplotlib.axes._subplots.AxesSubplot at 0x7f482f717550>"
            ]
          },
          "metadata": {},
          "execution_count": 220
        },
        {
          "output_type": "display_data",
          "data": {
            "text/plain": [
              "<Figure size 432x288 with 1 Axes>"
            ],
            "image/png": "[encoded data removed]"
          },
          "metadata": {
            "needs_background": "light"
          }
        }
      ]
    },
    {
      "cell_type": "markdown",
      "source": [
        "Su correlacion es de 0.073869 lo cual es nula"
      ],
      "metadata": {
        "id": "zb5qcOyqPjGt"
      }
    },
    {
      "cell_type": "markdown",
      "source": [
        "*Shared room*"
      ],
      "metadata": {
        "id": "eVZ_v1Y-PmKe"
      }
    },
    {
      "cell_type": "code",
      "source": [
        "sns.scatterplot(x='number_of_reviews',y='review_scores_cleanliness',color=\"green\",data=Sharedcorr)"
      ],
      "metadata": {
        "colab": {
          "base_uri": "https://localhost:8080/",
          "height": 0
        },
        "id": "anfCFLR5Puio",
        "outputId": "7f890e3b-948b-4218-8a38-a10c02309462"
      },
      "execution_count": 221,
      "outputs": [
        {
          "output_type": "execute_result",
          "data": {
            "text/plain": [
              "<matplotlib.axes._subplots.AxesSubplot at 0x7f482f9170d0>"
            ]
          },
          "metadata": {},
          "execution_count": 221
        },
        {
          "output_type": "display_data",
          "data": {
            "text/plain": [
              "<Figure size 432x288 with 1 Axes>"
            ],
            "image/png": "[encoded data removed]"
          },
          "metadata": {
            "needs_background": "light"
          }
        }
      ]
    },
    {
      "cell_type": "markdown",
      "source": [
        "Su correlacion es de 0.050128\t lo cual es nula"
      ],
      "metadata": {
        "id": "xlbjAux9P15e"
      }
    },
    {
      "cell_type": "markdown",
      "source": [
        "*Hotel room*"
      ],
      "metadata": {
        "id": "Mez_YO7AP5Ms"
      }
    },
    {
      "cell_type": "code",
      "source": [
        "sns.scatterplot(x='number_of_reviews',y='review_scores_cleanliness',color=\"green\",data=Hotelcorr)"
      ],
      "metadata": {
        "colab": {
          "base_uri": "https://localhost:8080/",
          "height": 0
        },
        "id": "53ai_uHQP7iH",
        "outputId": "3e409074-f86a-4675-a3eb-ed56c538de4d"
      },
      "execution_count": 222,
      "outputs": [
        {
          "output_type": "execute_result",
          "data": {
            "text/plain": [
              "<matplotlib.axes._subplots.AxesSubplot at 0x7f482f5eaf50>"
            ]
          },
          "metadata": {},
          "execution_count": 222
        },
        {
          "output_type": "display_data",
          "data": {
            "text/plain": [
              "<Figure size 432x288 with 1 Axes>"
            ],
            "image/png": "[encoded data removed]"
          },
          "metadata": {
            "needs_background": "light"
          }
        }
      ]
    },
    {
      "cell_type": "markdown",
      "source": [
        "La correlacion es nula es de 0.046755\t"
      ],
      "metadata": {
        "id": "WSkofMnAQA7S"
      }
    },
    {
      "cell_type": "markdown",
      "source": [
        "#**“number_of_reviews  vs review_scores_communication”**"
      ],
      "metadata": {
        "id": "NbxhOjUxQDDN"
      }
    },
    {
      "cell_type": "markdown",
      "source": [
        "*Entire room*"
      ],
      "metadata": {
        "id": "Q1EIMKViQMf0"
      }
    },
    {
      "cell_type": "code",
      "source": [
        "sns.scatterplot(x='number_of_reviews',y='review_scores_cleanliness',color=\"yellow\",data=Entirecorr)"
      ],
      "metadata": {
        "colab": {
          "base_uri": "https://localhost:8080/",
          "height": 0
        },
        "id": "qWNM7r7yQJ1x",
        "outputId": "216a3207-8c25-4006-d163-fd4a9303b6e0"
      },
      "execution_count": 223,
      "outputs": [
        {
          "output_type": "execute_result",
          "data": {
            "text/plain": [
              "<matplotlib.axes._subplots.AxesSubplot at 0x7f482f5ce350>"
            ]
          },
          "metadata": {},
          "execution_count": 223
        },
        {
          "output_type": "display_data",
          "data": {
            "text/plain": [
              "<Figure size 432x288 with 1 Axes>"
            ],
            "image/png": "[encoded data removed]"
          },
          "metadata": {
            "needs_background": "light"
          }
        }
      ]
    },
    {
      "cell_type": "markdown",
      "source": [
        "La correlacion es nula es de 0.078244"
      ],
      "metadata": {
        "id": "eQawP6bYQYCl"
      }
    },
    {
      "cell_type": "markdown",
      "source": [
        "Private room"
      ],
      "metadata": {
        "id": "_NZyuLilQbhA"
      }
    },
    {
      "cell_type": "code",
      "source": [
        "sns.scatterplot(x='number_of_reviews',y='review_scores_cleanliness',color=\"yellow\",data=Privatecorr)"
      ],
      "metadata": {
        "colab": {
          "base_uri": "https://localhost:8080/",
          "height": 0
        },
        "id": "0fTEpkZiQXk-",
        "outputId": "8e6dc1b1-fe34-466c-b630-73e7f55185b3"
      },
      "execution_count": 224,
      "outputs": [
        {
          "output_type": "execute_result",
          "data": {
            "text/plain": [
              "<matplotlib.axes._subplots.AxesSubplot at 0x7f482f524090>"
            ]
          },
          "metadata": {},
          "execution_count": 224
        },
        {
          "output_type": "display_data",
          "data": {
            "text/plain": [
              "<Figure size 432x288 with 1 Axes>"
            ],
            "image/png": "[encoded data removed]"
          },
          "metadata": {
            "needs_background": "light"
          }
        }
      ]
    },
    {
      "cell_type": "markdown",
      "source": [
        "La correlacion es nula ya que es de 0.065484"
      ],
      "metadata": {
        "id": "gAjvoQQNQkAo"
      }
    },
    {
      "cell_type": "markdown",
      "source": [
        "*Shared room*"
      ],
      "metadata": {
        "id": "h0CmhbF6Qmsb"
      }
    },
    {
      "cell_type": "code",
      "source": [
        "sns.scatterplot(x='number_of_reviews',y='review_scores_cleanliness',color=\"yellow\",data=Sharedcorr)"
      ],
      "metadata": {
        "colab": {
          "base_uri": "https://localhost:8080/",
          "height": 0
        },
        "id": "LpZLHO3TQpS5",
        "outputId": "ad0b71aa-1a9f-4435-b92b-21a78e8c513a"
      },
      "execution_count": 225,
      "outputs": [
        {
          "output_type": "execute_result",
          "data": {
            "text/plain": [
              "<matplotlib.axes._subplots.AxesSubplot at 0x7f482fce4250>"
            ]
          },
          "metadata": {},
          "execution_count": 225
        },
        {
          "output_type": "display_data",
          "data": {
            "text/plain": [
              "<Figure size 432x288 with 1 Axes>"
            ],
            "image/png": "[encoded data removed]"
          },
          "metadata": {
            "needs_background": "light"
          }
        }
      ]
    },
    {
      "cell_type": "markdown",
      "source": [
        "La correlacion es nula 0.049594"
      ],
      "metadata": {
        "id": "5Pkdy7PTQvVU"
      }
    },
    {
      "cell_type": "markdown",
      "source": [
        "*Hotel room*"
      ],
      "metadata": {
        "id": "JGfQEZ1bQxYF"
      }
    },
    {
      "cell_type": "code",
      "source": [
        "sns.scatterplot(x='number_of_reviews',y='review_scores_cleanliness',color=\"yellow\",data=Hotelcorr)"
      ],
      "metadata": {
        "colab": {
          "base_uri": "https://localhost:8080/",
          "height": 0
        },
        "id": "OT4xHmqKQ00G",
        "outputId": "faa97de3-ed61-4138-efd1-60893ad8458e"
      },
      "execution_count": 226,
      "outputs": [
        {
          "output_type": "execute_result",
          "data": {
            "text/plain": [
              "<matplotlib.axes._subplots.AxesSubplot at 0x7f482f830b50>"
            ]
          },
          "metadata": {},
          "execution_count": 226
        },
        {
          "output_type": "display_data",
          "data": {
            "text/plain": [
              "<Figure size 432x288 with 1 Axes>"
            ],
            "image/png": "[encoded data removed]"
          },
          "metadata": {
            "needs_background": "light"
          }
        }
      ]
    },
    {
      "cell_type": "markdown",
      "source": [
        "No hay relacion su correlacion es de 0.100697 es nula"
      ],
      "metadata": {
        "id": "kYasHEDAQ_JO"
      }
    },
    {
      "cell_type": "markdown",
      "source": [
        "#***Crear el modelo matemático que describa de mejor manera el número de reseñas para cada tipo de alojamiento, utilizando la variable con con mayor correlación.***"
      ],
      "metadata": {
        "id": "WaxiLfA3nABG"
      }
    },
    {
      "cell_type": "markdown",
      "source": [
        "#*Entire Room*"
      ],
      "metadata": {
        "id": "gAkGVnhXSZWE"
      }
    },
    {
      "cell_type": "code",
      "source": [
        "E=df5[df5['room_type']=='Entire home/apt']"
      ],
      "metadata": {
        "id": "xiQ6GhByTA5L"
      },
      "execution_count": 312,
      "outputs": []
    },
    {
      "cell_type": "code",
      "source": [
        "X=E[['host_acceptance_rate']]\n",
        "y=E['number_of_reviews']"
      ],
      "metadata": {
        "id": "7aDtc5RaShnh"
      },
      "execution_count": 313,
      "outputs": []
    },
    {
      "cell_type": "code",
      "source": [
        "from sklearn.linear_model import LinearRegression\n",
        "model=LinearRegression()"
      ],
      "metadata": {
        "id": "SDjXheQ3SsD9"
      },
      "execution_count": 314,
      "outputs": []
    },
    {
      "cell_type": "code",
      "source": [
        "type(model)"
      ],
      "metadata": {
        "colab": {
          "base_uri": "https://localhost:8080/"
        },
        "id": "CXNXJyNPSvme",
        "outputId": "0e10aa8e-dda4-435d-8bba-1904d32592ca"
      },
      "execution_count": 315,
      "outputs": [
        {
          "output_type": "execute_result",
          "data": {
            "text/plain": [
              "sklearn.linear_model._base.LinearRegression"
            ]
          },
          "metadata": {},
          "execution_count": 315
        }
      ]
    },
    {
      "cell_type": "code",
      "source": [
        "model.fit(X=X,y=y)"
      ],
      "metadata": {
        "colab": {
          "base_uri": "https://localhost:8080/"
        },
        "id": "CYcH7ao5Sx9v",
        "outputId": "a47d1eb1-a97b-4612-98b8-62997f693c27"
      },
      "execution_count": 316,
      "outputs": [
        {
          "output_type": "execute_result",
          "data": {
            "text/plain": [
              "LinearRegression()"
            ]
          },
          "metadata": {},
          "execution_count": 316
        }
      ]
    },
    {
      "cell_type": "code",
      "source": [
        "model.__dict__"
      ],
      "metadata": {
        "colab": {
          "base_uri": "https://localhost:8080/"
        },
        "id": "vijvMOV5Sz1a",
        "outputId": "a02aa7d6-29d0-4e43-e2a6-67b50e32a244"
      },
      "execution_count": 317,
      "outputs": [
        {
          "output_type": "execute_result",
          "data": {
            "text/plain": [
              "{'fit_intercept': True,\n",
              " 'normalize': 'deprecated',\n",
              " 'copy_X': True,\n",
              " 'n_jobs': None,\n",
              " 'positive': False,\n",
              " 'feature_names_in_': array(['host_acceptance_rate'], dtype=object),\n",
              " 'n_features_in_': 1,\n",
              " 'coef_': array([0.15713047]),\n",
              " '_residues': 3134373.5052374583,\n",
              " 'rank_': 1,\n",
              " 'singular_': array([1727.0636426]),\n",
              " 'intercept_': 5.463735098027554}"
            ]
          },
          "metadata": {},
          "execution_count": 317
        }
      ]
    },
    {
      "cell_type": "code",
      "source": [
        "model.score(X,y)"
      ],
      "metadata": {
        "colab": {
          "base_uri": "https://localhost:8080/"
        },
        "id": "XCeHBgJMS2vD",
        "outputId": "0ca03116-5a4e-4a2b-e494-e3de3bfefe8b"
      },
      "execution_count": 318,
      "outputs": [
        {
          "output_type": "execute_result",
          "data": {
            "text/plain": [
              "0.022956240848733267"
            ]
          },
          "metadata": {},
          "execution_count": 318
        }
      ]
    },
    {
      "cell_type": "code",
      "source": [
        "y_pred= model.predict(X=E[['host_acceptance_rate']])\n",
        "y_pred"
      ],
      "metadata": {
        "colab": {
          "base_uri": "https://localhost:8080/"
        },
        "id": "3PQO8-IoS621",
        "outputId": "acb058c8-96bb-4071-d41b-7528444d7045"
      },
      "execution_count": 319,
      "outputs": [
        {
          "output_type": "execute_result",
          "data": {
            "text/plain": [
              "array([21.17678215, 21.17678215, 11.12043204, ...,  5.4637351 ,\n",
              "       21.17678215, 21.17678215])"
            ]
          },
          "metadata": {},
          "execution_count": 319
        }
      ]
    },
    {
      "cell_type": "code",
      "source": [
        "E.insert(0,\"Predicciones\",y_pred)\n",
        "E"
      ],
      "metadata": {
        "colab": {
          "base_uri": "https://localhost:8080/",
          "height": 661
        },
        "id": "OS_HWafWTbUn",
        "outputId": "ffb6a0e9-b7fc-4984-d664-b34cc4e86e80"
      },
      "execution_count": 320,
      "outputs": [
        {
          "output_type": "execute_result",
          "data": {
            "text/plain": [
              "       Predicciones                  id        host_location  \\\n",
              "4         21.176782              817291  Mexico City, Mexico   \n",
              "6         21.176782              822005  Mexico City, Mexico   \n",
              "7         11.120432               58955       Mexico, Mexico   \n",
              "9         15.362955               67703  Mexico City, Mexico   \n",
              "10         5.463735              824016  Mexico City, Mexico   \n",
              "...             ...                 ...                  ...   \n",
              "22915     21.176782  617990596082125522  Mexico City, Mexico   \n",
              "22919     19.762608            30439491  Mexico City, Mexico   \n",
              "22926      5.463735            25495904  Mexico City, Mexico   \n",
              "22927     21.176782  553529547220887505  Mexico City, Mexico   \n",
              "22928     21.176782  618012473846070053  Mexico City, Mexico   \n",
              "\n",
              "       host_response_rate  host_acceptance_rate              property_type  \\\n",
              "4                   100.0                 100.0               Entire condo   \n",
              "6                   100.0                 100.0                Entire loft   \n",
              "7                   100.0                  36.0                Entire loft   \n",
              "9                    80.0                  63.0         Entire rental unit   \n",
              "10                   38.0                   0.0         Entire rental unit   \n",
              "...                   ...                   ...                        ...   \n",
              "22915               100.0                 100.0         Entire rental unit   \n",
              "22919               100.0                  91.0         Entire rental unit   \n",
              "22926                50.0                   0.0         Entire rental unit   \n",
              "22927               100.0                 100.0  Entire serviced apartment   \n",
              "22928               100.0                 100.0         Entire rental unit   \n",
              "\n",
              "             room_type   price  availability_365  number_of_reviews  \\\n",
              "4      Entire home/apt   740.0               314                 61   \n",
              "6      Entire home/apt  1441.0               319                 51   \n",
              "7      Entire home/apt  1797.0                 1                 47   \n",
              "9      Entire home/apt  2496.0               324                 43   \n",
              "10     Entire home/apt   900.0               206                 46   \n",
              "...                ...     ...               ...                ...   \n",
              "22915  Entire home/apt   652.0               359                 16   \n",
              "22919  Entire home/apt   550.0               356                  6   \n",
              "22926  Entire home/apt  4001.0               358                  0   \n",
              "22927  Entire home/apt   669.0               353                 18   \n",
              "22928  Entire home/apt   801.0               365                  9   \n",
              "\n",
              "       review_scores_rating  review_scores_cleanliness  \\\n",
              "4                      4.85                       4.80   \n",
              "6                      4.45                       4.54   \n",
              "7                      5.00                       4.87   \n",
              "9                      4.93                       4.80   \n",
              "10                     4.56                       4.51   \n",
              "...                     ...                        ...   \n",
              "22915                  4.06                       4.31   \n",
              "22919                  5.00                       5.00   \n",
              "22926                  4.85                       4.88   \n",
              "22927                  3.33                       3.00   \n",
              "22928                  3.44                       3.67   \n",
              "\n",
              "       review_scores_communication  \n",
              "4                             4.95  \n",
              "6                             4.72  \n",
              "7                             5.00  \n",
              "9                             4.90  \n",
              "10                            4.89  \n",
              "...                            ...  \n",
              "22915                         4.13  \n",
              "22919                         5.00  \n",
              "22926                         4.94  \n",
              "22927                         3.61  \n",
              "22928                         3.78  \n",
              "\n",
              "[8297 rows x 13 columns]"
            ],
            "text/html": [
              "\n",
              "  <div id=\"df-cfece5b4-2b00-44c6-bb1d-54ed545e0ace\">\n",
              "    <div class=\"colab-df-container\">\n",
              "      <div>\n",
              "<style scoped>\n",
              "    .dataframe tbody tr th:only-of-type {\n",
              "        vertical-align: middle;\n",
              "    }\n",
              "\n",
              "    .dataframe tbody tr th {\n",
              "        vertical-align: top;\n",
              "    }\n",
              "\n",
              "    .dataframe thead th {\n",
              "        text-align: right;\n",
              "    }\n",
              "</style>\n",
              "<table border=\"1\" class=\"dataframe\">\n",
              "  <thead>\n",
              "    <tr style=\"text-align: right;\">\n",
              "      <th></th>\n",
              "      <th>Predicciones</th>\n",
              "      <th>id</th>\n",
              "      <th>host_location</th>\n",
              "      <th>host_response_rate</th>\n",
              "      <th>host_acceptance_rate</th>\n",
              "      <th>property_type</th>\n",
              "      <th>room_type</th>\n",
              "      <th>price</th>\n",
              "      <th>availability_365</th>\n",
              "      <th>number_of_reviews</th>\n",
              "      <th>review_scores_rating</th>\n",
              "      <th>review_scores_cleanliness</th>\n",
              "      <th>review_scores_communication</th>\n",
              "    </tr>\n",
              "  </thead>\n",
              "  <tbody>\n",
              "    <tr>\n",
              "      <th>4</th>\n",
              "      <td>21.176782</td>\n",
              "      <td>817291</td>\n",
              "      <td>Mexico City, Mexico</td>\n",
              "      <td>100.0</td>\n",
              "      <td>100.0</td>\n",
              "      <td>Entire condo</td>\n",
              "      <td>Entire home/apt</td>\n",
              "      <td>740.0</td>\n",
              "      <td>314</td>\n",
              "      <td>61</td>\n",
              "      <td>4.85</td>\n",
              "      <td>4.80</td>\n",
              "      <td>4.95</td>\n",
              "    </tr>\n",
              "    <tr>\n",
              "      <th>6</th>\n",
              "      <td>21.176782</td>\n",
              "      <td>822005</td>\n",
              "      <td>Mexico City, Mexico</td>\n",
              "      <td>100.0</td>\n",
              "      <td>100.0</td>\n",
              "      <td>Entire loft</td>\n",
              "      <td>Entire home/apt</td>\n",
              "      <td>1441.0</td>\n",
              "      <td>319</td>\n",
              "      <td>51</td>\n",
              "      <td>4.45</td>\n",
              "      <td>4.54</td>\n",
              "      <td>4.72</td>\n",
              "    </tr>\n",
              "    <tr>\n",
              "      <th>7</th>\n",
              "      <td>11.120432</td>\n",
              "      <td>58955</td>\n",
              "      <td>Mexico, Mexico</td>\n",
              "      <td>100.0</td>\n",
              "      <td>36.0</td>\n",
              "      <td>Entire loft</td>\n",
              "      <td>Entire home/apt</td>\n",
              "      <td>1797.0</td>\n",
              "      <td>1</td>\n",
              "      <td>47</td>\n",
              "      <td>5.00</td>\n",
              "      <td>4.87</td>\n",
              "      <td>5.00</td>\n",
              "    </tr>\n",
              "    <tr>\n",
              "      <th>9</th>\n",
              "      <td>15.362955</td>\n",
              "      <td>67703</td>\n",
              "      <td>Mexico City, Mexico</td>\n",
              "      <td>80.0</td>\n",
              "      <td>63.0</td>\n",
              "      <td>Entire rental unit</td>\n",
              "      <td>Entire home/apt</td>\n",
              "      <td>2496.0</td>\n",
              "      <td>324</td>\n",
              "      <td>43</td>\n",
              "      <td>4.93</td>\n",
              "      <td>4.80</td>\n",
              "      <td>4.90</td>\n",
              "    </tr>\n",
              "    <tr>\n",
              "      <th>10</th>\n",
              "      <td>5.463735</td>\n",
              "      <td>824016</td>\n",
              "      <td>Mexico City, Mexico</td>\n",
              "      <td>38.0</td>\n",
              "      <td>0.0</td>\n",
              "      <td>Entire rental unit</td>\n",
              "      <td>Entire home/apt</td>\n",
              "      <td>900.0</td>\n",
              "      <td>206</td>\n",
              "      <td>46</td>\n",
              "      <td>4.56</td>\n",
              "      <td>4.51</td>\n",
              "      <td>4.89</td>\n",
              "    </tr>\n",
              "    <tr>\n",
              "      <th>...</th>\n",
              "      <td>...</td>\n",
              "      <td>...</td>\n",
              "      <td>...</td>\n",
              "      <td>...</td>\n",
              "      <td>...</td>\n",
              "      <td>...</td>\n",
              "      <td>...</td>\n",
              "      <td>...</td>\n",
              "      <td>...</td>\n",
              "      <td>...</td>\n",
              "      <td>...</td>\n",
              "      <td>...</td>\n",
              "      <td>...</td>\n",
              "    </tr>\n",
              "    <tr>\n",
              "      <th>22915</th>\n",
              "      <td>21.176782</td>\n",
              "      <td>617990596082125522</td>\n",
              "      <td>Mexico City, Mexico</td>\n",
              "      <td>100.0</td>\n",
              "      <td>100.0</td>\n",
              "      <td>Entire rental unit</td>\n",
              "      <td>Entire home/apt</td>\n",
              "      <td>652.0</td>\n",
              "      <td>359</td>\n",
              "      <td>16</td>\n",
              "      <td>4.06</td>\n",
              "      <td>4.31</td>\n",
              "      <td>4.13</td>\n",
              "    </tr>\n",
              "    <tr>\n",
              "      <th>22919</th>\n",
              "      <td>19.762608</td>\n",
              "      <td>30439491</td>\n",
              "      <td>Mexico City, Mexico</td>\n",
              "      <td>100.0</td>\n",
              "      <td>91.0</td>\n",
              "      <td>Entire rental unit</td>\n",
              "      <td>Entire home/apt</td>\n",
              "      <td>550.0</td>\n",
              "      <td>356</td>\n",
              "      <td>6</td>\n",
              "      <td>5.00</td>\n",
              "      <td>5.00</td>\n",
              "      <td>5.00</td>\n",
              "    </tr>\n",
              "    <tr>\n",
              "      <th>22926</th>\n",
              "      <td>5.463735</td>\n",
              "      <td>25495904</td>\n",
              "      <td>Mexico City, Mexico</td>\n",
              "      <td>50.0</td>\n",
              "      <td>0.0</td>\n",
              "      <td>Entire rental unit</td>\n",
              "      <td>Entire home/apt</td>\n",
              "      <td>4001.0</td>\n",
              "      <td>358</td>\n",
              "      <td>0</td>\n",
              "      <td>4.85</td>\n",
              "      <td>4.88</td>\n",
              "      <td>4.94</td>\n",
              "    </tr>\n",
              "    <tr>\n",
              "      <th>22927</th>\n",
              "      <td>21.176782</td>\n",
              "      <td>553529547220887505</td>\n",
              "      <td>Mexico City, Mexico</td>\n",
              "      <td>100.0</td>\n",
              "      <td>100.0</td>\n",
              "      <td>Entire serviced apartment</td>\n",
              "      <td>Entire home/apt</td>\n",
              "      <td>669.0</td>\n",
              "      <td>353</td>\n",
              "      <td>18</td>\n",
              "      <td>3.33</td>\n",
              "      <td>3.00</td>\n",
              "      <td>3.61</td>\n",
              "    </tr>\n",
              "    <tr>\n",
              "      <th>22928</th>\n",
              "      <td>21.176782</td>\n",
              "      <td>618012473846070053</td>\n",
              "      <td>Mexico City, Mexico</td>\n",
              "      <td>100.0</td>\n",
              "      <td>100.0</td>\n",
              "      <td>Entire rental unit</td>\n",
              "      <td>Entire home/apt</td>\n",
              "      <td>801.0</td>\n",
              "      <td>365</td>\n",
              "      <td>9</td>\n",
              "      <td>3.44</td>\n",
              "      <td>3.67</td>\n",
              "      <td>3.78</td>\n",
              "    </tr>\n",
              "  </tbody>\n",
              "</table>\n",
              "<p>8297 rows × 13 columns</p>\n",
              "</div>\n",
              "      <button class=\"colab-df-convert\" onclick=\"convertToInteractive('df-cfece5b4-2b00-44c6-bb1d-54ed545e0ace')\"\n",
              "              title=\"Convert this dataframe to an interactive table.\"\n",
              "              style=\"display:none;\">\n",
              "        \n",
              "  <svg xmlns=\"http://www.w3.org/2000/svg\" height=\"24px\"viewBox=\"0 0 24 24\"\n",
              "       width=\"24px\">\n",
              "    <path d=\"M0 0h24v24H0V0z\" fill=\"none\"/>\n",
              "    <path d=\"M18.56 5.44l.94 2.06.94-2.06 2.06-.94-2.06-.94-.94-2.06-.94 2.06-2.06.94zm-11 1L8.5 8.5l.94-2.06 2.06-.94-2.06-.94L8.5 2.5l-.94 2.06-2.06.94zm10 10l.94 2.06.94-2.06 2.06-.94-2.06-.94-.94-2.06-.94 2.06-2.06.94z\"/><path d=\"M17.41 7.96l-1.37-1.37c-.4-.4-.92-.59-1.43-.59-.52 0-1.04.2-1.43.59L10.3 9.45l-7.72 7.72c-.78.78-.78 2.05 0 2.83L4 21.41c.39.39.9.59 1.41.59.51 0 1.02-.2 1.41-.59l7.78-7.78 2.81-2.81c.8-.78.8-2.07 0-2.86zM5.41 20L4 18.59l7.72-7.72 1.47 1.35L5.41 20z\"/>\n",
              "  </svg>\n",
              "      </button>\n",
              "      \n",
              "  <style>\n",
              "    .colab-df-container {\n",
              "      display:flex;\n",
              "      flex-wrap:wrap;\n",
              "      gap: 12px;\n",
              "    }\n",
              "\n",
              "    .colab-df-convert {\n",
              "      background-color: #E8F0FE;\n",
              "      border: none;\n",
              "      border-radius: 50%;\n",
              "      cursor: pointer;\n",
              "      display: none;\n",
              "      fill: #1967D2;\n",
              "      height: 32px;\n",
              "      padding: 0 0 0 0;\n",
              "      width: 32px;\n",
              "    }\n",
              "\n",
              "    .colab-df-convert:hover {\n",
              "      background-color: #E2EBFA;\n",
              "      box-shadow: 0px 1px 2px rgba(60, 64, 67, 0.3), 0px 1px 3px 1px rgba(60, 64, 67, 0.15);\n",
              "      fill: #174EA6;\n",
              "    }\n",
              "\n",
              "    [theme=dark] .colab-df-convert {\n",
              "      background-color: #3B4455;\n",
              "      fill: #D2E3FC;\n",
              "    }\n",
              "\n",
              "    [theme=dark] .colab-df-convert:hover {\n",
              "      background-color: #434B5C;\n",
              "      box-shadow: 0px 1px 3px 1px rgba(0, 0, 0, 0.15);\n",
              "      filter: drop-shadow(0px 1px 2px rgba(0, 0, 0, 0.3));\n",
              "      fill: #FFFFFF;\n",
              "    }\n",
              "  </style>\n",
              "\n",
              "      <script>\n",
              "        const buttonEl =\n",
              "          document.querySelector('#df-cfece5b4-2b00-44c6-bb1d-54ed545e0ace button.colab-df-convert');\n",
              "        buttonEl.style.display =\n",
              "          google.colab.kernel.accessAllowed ? 'block' : 'none';\n",
              "\n",
              "        async function convertToInteractive(key) {\n",
              "          const element = document.querySelector('#df-cfece5b4-2b00-44c6-bb1d-54ed545e0ace');\n",
              "          const dataTable =\n",
              "            await google.colab.kernel.invokeFunction('convertToInteractive',\n",
              "                                                     [key], {});\n",
              "          if (!dataTable) return;\n",
              "\n",
              "          const docLinkHtml = 'Like what you see? Visit the ' +\n",
              "            '<a target=\"_blank\" href=https://colab.research.google.com/notebooks/data_table.ipynb>data table notebook</a>'\n",
              "            + ' to learn more about interactive tables.';\n",
              "          element.innerHTML = '';\n",
              "          dataTable['output_type'] = 'display_data';\n",
              "          await google.colab.output.renderOutput(dataTable, element);\n",
              "          const docLink = document.createElement('div');\n",
              "          docLink.innerHTML = docLinkHtml;\n",
              "          element.appendChild(docLink);\n",
              "        }\n",
              "      </script>\n",
              "    </div>\n",
              "  </div>\n",
              "  "
            ]
          },
          "metadata": {},
          "execution_count": 320
        }
      ]
    },
    {
      "cell_type": "code",
      "source": [
        "sns.scatterplot(x='host_acceptance_rate',y='number_of_reviews',color=\"blue\",data=E)\n",
        "sns.scatterplot(x='host_acceptance_rate',y='Predicciones',color=\"red\",data=E)"
      ],
      "metadata": {
        "colab": {
          "base_uri": "https://localhost:8080/",
          "height": 298
        },
        "id": "zuQh5q3oTjcf",
        "outputId": "f54853f6-0f1e-47d4-d19f-bd6229b8d741"
      },
      "execution_count": 321,
      "outputs": [
        {
          "output_type": "execute_result",
          "data": {
            "text/plain": [
              "<matplotlib.axes._subplots.AxesSubplot at 0x7f482bc27f90>"
            ]
          },
          "metadata": {},
          "execution_count": 321
        },
        {
          "output_type": "display_data",
          "data": {
            "text/plain": [
              "<Figure size 432x288 with 1 Axes>"
            ],
            "image/png": "[encoded data removed]"
          },
          "metadata": {
            "needs_background": "light"
          }
        }
      ]
    },
    {
      "cell_type": "markdown",
      "source": [
        "#Private room"
      ],
      "metadata": {
        "id": "UzC7tBKtTzH4"
      }
    },
    {
      "cell_type": "code",
      "source": [
        "P=df[df['room_type']=='Private room']"
      ],
      "metadata": {
        "id": "X5ZHemZOT3R0"
      },
      "execution_count": 272,
      "outputs": []
    },
    {
      "cell_type": "code",
      "source": [
        "Privatecorr['number_of_reviews']"
      ],
      "metadata": {
        "colab": {
          "base_uri": "https://localhost:8080/"
        },
        "id": "hC9T4_qkPVpG",
        "outputId": "0cf1f179-8a05-45e0-fdf8-b9eafab76abd"
      },
      "execution_count": 274,
      "outputs": [
        {
          "output_type": "execute_result",
          "data": {
            "text/plain": [
              "id                            -0.253817\n",
              "host_response_rate             0.157969\n",
              "host_acceptance_rate           0.165303\n",
              "price                         -0.154643\n",
              "availability_365              -0.069048\n",
              "number_of_reviews              1.000000\n",
              "review_scores_rating          -0.015215\n",
              "review_scores_cleanliness      0.009506\n",
              "review_scores_communication   -0.033614\n",
              "Name: number_of_reviews, dtype: float64"
            ]
          },
          "metadata": {},
          "execution_count": 274
        }
      ]
    },
    {
      "cell_type": "code",
      "source": [
        "Xp=P[['host_acceptance_rate','price']]\n",
        "yp=P['number_of_reviews']"
      ],
      "metadata": {
        "id": "uhJiBe80UHZT"
      },
      "execution_count": 275,
      "outputs": []
    },
    {
      "cell_type": "code",
      "source": [
        "modelp=LinearRegression()"
      ],
      "metadata": {
        "id": "lAWFlYKVUZGY"
      },
      "execution_count": 276,
      "outputs": []
    },
    {
      "cell_type": "code",
      "source": [
        "type(modelp)"
      ],
      "metadata": {
        "colab": {
          "base_uri": "https://localhost:8080/"
        },
        "id": "V3wiaOrxUgF8",
        "outputId": "1897044d-7e0a-4081-f21b-d130e74fbfae"
      },
      "execution_count": 277,
      "outputs": [
        {
          "output_type": "execute_result",
          "data": {
            "text/plain": [
              "sklearn.linear_model._base.LinearRegression"
            ]
          },
          "metadata": {},
          "execution_count": 277
        }
      ]
    },
    {
      "cell_type": "code",
      "source": [
        "modelp.fit(X=Xp,y=yp)"
      ],
      "metadata": {
        "colab": {
          "base_uri": "https://localhost:8080/"
        },
        "id": "--1NruWVUh90",
        "outputId": "93ed3979-7b84-4216-8a70-f513ad480c53"
      },
      "execution_count": 278,
      "outputs": [
        {
          "output_type": "execute_result",
          "data": {
            "text/plain": [
              "LinearRegression()"
            ]
          },
          "metadata": {},
          "execution_count": 278
        }
      ]
    },
    {
      "cell_type": "code",
      "source": [
        "modelp.__dict__"
      ],
      "metadata": {
        "colab": {
          "base_uri": "https://localhost:8080/"
        },
        "id": "bmUi4xFoUkAV",
        "outputId": "26529cca-9b36-4df5-d76f-0d4c29dbefd9"
      },
      "execution_count": 279,
      "outputs": [
        {
          "output_type": "execute_result",
          "data": {
            "text/plain": [
              "{'fit_intercept': True,\n",
              " 'normalize': 'deprecated',\n",
              " 'copy_X': True,\n",
              " 'n_jobs': None,\n",
              " 'positive': False,\n",
              " 'feature_names_in_': array(['host_acceptance_rate', 'price'], dtype=object),\n",
              " 'n_features_in_': 2,\n",
              " 'coef_': array([ 0.3206957 , -0.00662737]),\n",
              " '_residues': 9954000.538037239,\n",
              " 'rank_': 2,\n",
              " 'singular_': array([52906.34152226,  1329.3376676 ]),\n",
              " 'intercept_': 6.583954897693118}"
            ]
          },
          "metadata": {},
          "execution_count": 279
        }
      ]
    },
    {
      "cell_type": "code",
      "source": [
        "modelp.score(Xp,yp)"
      ],
      "metadata": {
        "colab": {
          "base_uri": "https://localhost:8080/"
        },
        "id": "fROHHLLXUmND",
        "outputId": "1aa2b5f5-9565-4da2-9745-bad9d11551e7"
      },
      "execution_count": 280,
      "outputs": [
        {
          "output_type": "execute_result",
          "data": {
            "text/plain": [
              "0.028588560765096083"
            ]
          },
          "metadata": {},
          "execution_count": 280
        }
      ]
    },
    {
      "cell_type": "code",
      "source": [
        "y_pred= modelp.predict(X=P[['host_acceptance_rate','price']])\n",
        "y_pred"
      ],
      "metadata": {
        "colab": {
          "base_uri": "https://localhost:8080/"
        },
        "id": "wcA7mKkZVFjd",
        "outputId": "b3f33e48-2deb-4da1-a780-dd12f3e9bfec"
      },
      "execution_count": 282,
      "outputs": [
        {
          "output_type": "execute_result",
          "data": {
            "text/plain": [
              "array([24.10077064, 23.97932298, 35.18078161, ..., 34.01436408,\n",
              "       32.69551698, 33.36229976])"
            ]
          },
          "metadata": {},
          "execution_count": 282
        }
      ]
    },
    {
      "cell_type": "code",
      "source": [
        "P.insert(0,\"Predicciones\",y_pred)\n",
        "P"
      ],
      "metadata": {
        "colab": {
          "base_uri": "https://localhost:8080/",
          "height": 661
        },
        "id": "D4Ixmp7hVMew",
        "outputId": "4f88b77f-6cd9-4793-9c21-d5dc51d1b07e"
      },
      "execution_count": 283,
      "outputs": [
        {
          "output_type": "execute_result",
          "data": {
            "text/plain": [
              "       Predicciones                  id            host_location  \\\n",
              "2         24.100771              796477      Mexico City, Mexico   \n",
              "8         23.979323               61792      Mexico City, Mexico   \n",
              "40        35.180782              252618      Mexico City, Mexico   \n",
              "44        33.037559             1007174      Mexico City, Mexico   \n",
              "54        19.700887             1051636             New York, NY   \n",
              "...             ...                 ...                      ...   \n",
              "22895     35.207291  707083560961789103  State of Mexico, Mexico   \n",
              "22918     -3.357104            27262979      Mexico City, Mexico   \n",
              "22925     34.014364            11700848  State of Mexico, Mexico   \n",
              "22940     32.695517            46283821      Mexico City, Mexico   \n",
              "22944     33.362300            22175774      Mexico City, Mexico   \n",
              "\n",
              "       host_response_rate  host_acceptance_rate                property_type  \\\n",
              "2                   100.0                  67.0  Private room in rental unit   \n",
              "8                   100.0                  79.0         Private room in home   \n",
              "40                  100.0                 100.0  Private room in rental unit   \n",
              "44                  100.0                  99.0         Private room in home   \n",
              "54                  100.0                  57.0        Private room in condo   \n",
              "...                   ...                   ...                          ...   \n",
              "22895               100.0                 100.0         Private room in home   \n",
              "22918                 0.0                   0.0         Private room in home   \n",
              "22925                67.0                 100.0         Private room in home   \n",
              "22940                 0.0                 100.0  Private room in rental unit   \n",
              "22944               100.0                  99.0         Private room in home   \n",
              "\n",
              "          room_type   price  availability_365  number_of_reviews  \\\n",
              "2      Private room   599.0               323                144   \n",
              "8      Private room  1198.0               175                 58   \n",
              "40     Private room   524.0               346                 18   \n",
              "44     Private room   799.0               364                  9   \n",
              "54     Private room   779.0               336                 27   \n",
              "...             ...     ...               ...                ...   \n",
              "22895  Private room   520.0               280                  1   \n",
              "22918  Private room  1500.0               365                  2   \n",
              "22925  Private room   700.0               356                  3   \n",
              "22940  Private room   899.0               179                  0   \n",
              "22944  Private room   750.0                89                  3   \n",
              "\n",
              "       review_scores_rating  review_scores_cleanliness  \\\n",
              "2                      4.73                       4.70   \n",
              "8                      4.91                       4.91   \n",
              "40                     4.06                       4.35   \n",
              "44                     4.78                       4.89   \n",
              "54                     4.85                       4.96   \n",
              "...                     ...                        ...   \n",
              "22895                  5.00                       5.00   \n",
              "22918                  5.00                       5.00   \n",
              "22925                  5.00                       5.00   \n",
              "22940                  4.85                       4.88   \n",
              "22944                  5.00                       5.00   \n",
              "\n",
              "       review_scores_communication  \n",
              "2                             4.91  \n",
              "8                             4.95  \n",
              "40                            4.29  \n",
              "44                            4.78  \n",
              "54                            4.74  \n",
              "...                            ...  \n",
              "22895                         5.00  \n",
              "22918                         5.00  \n",
              "22925                         5.00  \n",
              "22940                         4.94  \n",
              "22944                         5.00  \n",
              "\n",
              "[2636 rows x 13 columns]"
            ],
            "text/html": [
              "\n",
              "  <div id=\"df-df268c0a-d602-47ff-bc6d-35abb9cae964\">\n",
              "    <div class=\"colab-df-container\">\n",
              "      <div>\n",
              "<style scoped>\n",
              "    .dataframe tbody tr th:only-of-type {\n",
              "        vertical-align: middle;\n",
              "    }\n",
              "\n",
              "    .dataframe tbody tr th {\n",
              "        vertical-align: top;\n",
              "    }\n",
              "\n",
              "    .dataframe thead th {\n",
              "        text-align: right;\n",
              "    }\n",
              "</style>\n",
              "<table border=\"1\" class=\"dataframe\">\n",
              "  <thead>\n",
              "    <tr style=\"text-align: right;\">\n",
              "      <th></th>\n",
              "      <th>Predicciones</th>\n",
              "      <th>id</th>\n",
              "      <th>host_location</th>\n",
              "      <th>host_response_rate</th>\n",
              "      <th>host_acceptance_rate</th>\n",
              "      <th>property_type</th>\n",
              "      <th>room_type</th>\n",
              "      <th>price</th>\n",
              "      <th>availability_365</th>\n",
              "      <th>number_of_reviews</th>\n",
              "      <th>review_scores_rating</th>\n",
              "      <th>review_scores_cleanliness</th>\n",
              "      <th>review_scores_communication</th>\n",
              "    </tr>\n",
              "  </thead>\n",
              "  <tbody>\n",
              "    <tr>\n",
              "      <th>2</th>\n",
              "      <td>24.100771</td>\n",
              "      <td>796477</td>\n",
              "      <td>Mexico City, Mexico</td>\n",
              "      <td>100.0</td>\n",
              "      <td>67.0</td>\n",
              "      <td>Private room in rental unit</td>\n",
              "      <td>Private room</td>\n",
              "      <td>599.0</td>\n",
              "      <td>323</td>\n",
              "      <td>144</td>\n",
              "      <td>4.73</td>\n",
              "      <td>4.70</td>\n",
              "      <td>4.91</td>\n",
              "    </tr>\n",
              "    <tr>\n",
              "      <th>8</th>\n",
              "      <td>23.979323</td>\n",
              "      <td>61792</td>\n",
              "      <td>Mexico City, Mexico</td>\n",
              "      <td>100.0</td>\n",
              "      <td>79.0</td>\n",
              "      <td>Private room in home</td>\n",
              "      <td>Private room</td>\n",
              "      <td>1198.0</td>\n",
              "      <td>175</td>\n",
              "      <td>58</td>\n",
              "      <td>4.91</td>\n",
              "      <td>4.91</td>\n",
              "      <td>4.95</td>\n",
              "    </tr>\n",
              "    <tr>\n",
              "      <th>40</th>\n",
              "      <td>35.180782</td>\n",
              "      <td>252618</td>\n",
              "      <td>Mexico City, Mexico</td>\n",
              "      <td>100.0</td>\n",
              "      <td>100.0</td>\n",
              "      <td>Private room in rental unit</td>\n",
              "      <td>Private room</td>\n",
              "      <td>524.0</td>\n",
              "      <td>346</td>\n",
              "      <td>18</td>\n",
              "      <td>4.06</td>\n",
              "      <td>4.35</td>\n",
              "      <td>4.29</td>\n",
              "    </tr>\n",
              "    <tr>\n",
              "      <th>44</th>\n",
              "      <td>33.037559</td>\n",
              "      <td>1007174</td>\n",
              "      <td>Mexico City, Mexico</td>\n",
              "      <td>100.0</td>\n",
              "      <td>99.0</td>\n",
              "      <td>Private room in home</td>\n",
              "      <td>Private room</td>\n",
              "      <td>799.0</td>\n",
              "      <td>364</td>\n",
              "      <td>9</td>\n",
              "      <td>4.78</td>\n",
              "      <td>4.89</td>\n",
              "      <td>4.78</td>\n",
              "    </tr>\n",
              "    <tr>\n",
              "      <th>54</th>\n",
              "      <td>19.700887</td>\n",
              "      <td>1051636</td>\n",
              "      <td>New York, NY</td>\n",
              "      <td>100.0</td>\n",
              "      <td>57.0</td>\n",
              "      <td>Private room in condo</td>\n",
              "      <td>Private room</td>\n",
              "      <td>779.0</td>\n",
              "      <td>336</td>\n",
              "      <td>27</td>\n",
              "      <td>4.85</td>\n",
              "      <td>4.96</td>\n",
              "      <td>4.74</td>\n",
              "    </tr>\n",
              "    <tr>\n",
              "      <th>...</th>\n",
              "      <td>...</td>\n",
              "      <td>...</td>\n",
              "      <td>...</td>\n",
              "      <td>...</td>\n",
              "      <td>...</td>\n",
              "      <td>...</td>\n",
              "      <td>...</td>\n",
              "      <td>...</td>\n",
              "      <td>...</td>\n",
              "      <td>...</td>\n",
              "      <td>...</td>\n",
              "      <td>...</td>\n",
              "      <td>...</td>\n",
              "    </tr>\n",
              "    <tr>\n",
              "      <th>22895</th>\n",
              "      <td>35.207291</td>\n",
              "      <td>707083560961789103</td>\n",
              "      <td>State of Mexico, Mexico</td>\n",
              "      <td>100.0</td>\n",
              "      <td>100.0</td>\n",
              "      <td>Private room in home</td>\n",
              "      <td>Private room</td>\n",
              "      <td>520.0</td>\n",
              "      <td>280</td>\n",
              "      <td>1</td>\n",
              "      <td>5.00</td>\n",
              "      <td>5.00</td>\n",
              "      <td>5.00</td>\n",
              "    </tr>\n",
              "    <tr>\n",
              "      <th>22918</th>\n",
              "      <td>-3.357104</td>\n",
              "      <td>27262979</td>\n",
              "      <td>Mexico City, Mexico</td>\n",
              "      <td>0.0</td>\n",
              "      <td>0.0</td>\n",
              "      <td>Private room in home</td>\n",
              "      <td>Private room</td>\n",
              "      <td>1500.0</td>\n",
              "      <td>365</td>\n",
              "      <td>2</td>\n",
              "      <td>5.00</td>\n",
              "      <td>5.00</td>\n",
              "      <td>5.00</td>\n",
              "    </tr>\n",
              "    <tr>\n",
              "      <th>22925</th>\n",
              "      <td>34.014364</td>\n",
              "      <td>11700848</td>\n",
              "      <td>State of Mexico, Mexico</td>\n",
              "      <td>67.0</td>\n",
              "      <td>100.0</td>\n",
              "      <td>Private room in home</td>\n",
              "      <td>Private room</td>\n",
              "      <td>700.0</td>\n",
              "      <td>356</td>\n",
              "      <td>3</td>\n",
              "      <td>5.00</td>\n",
              "      <td>5.00</td>\n",
              "      <td>5.00</td>\n",
              "    </tr>\n",
              "    <tr>\n",
              "      <th>22940</th>\n",
              "      <td>32.695517</td>\n",
              "      <td>46283821</td>\n",
              "      <td>Mexico City, Mexico</td>\n",
              "      <td>0.0</td>\n",
              "      <td>100.0</td>\n",
              "      <td>Private room in rental unit</td>\n",
              "      <td>Private room</td>\n",
              "      <td>899.0</td>\n",
              "      <td>179</td>\n",
              "      <td>0</td>\n",
              "      <td>4.85</td>\n",
              "      <td>4.88</td>\n",
              "      <td>4.94</td>\n",
              "    </tr>\n",
              "    <tr>\n",
              "      <th>22944</th>\n",
              "      <td>33.362300</td>\n",
              "      <td>22175774</td>\n",
              "      <td>Mexico City, Mexico</td>\n",
              "      <td>100.0</td>\n",
              "      <td>99.0</td>\n",
              "      <td>Private room in home</td>\n",
              "      <td>Private room</td>\n",
              "      <td>750.0</td>\n",
              "      <td>89</td>\n",
              "      <td>3</td>\n",
              "      <td>5.00</td>\n",
              "      <td>5.00</td>\n",
              "      <td>5.00</td>\n",
              "    </tr>\n",
              "  </tbody>\n",
              "</table>\n",
              "<p>2636 rows × 13 columns</p>\n",
              "</div>\n",
              "      <button class=\"colab-df-convert\" onclick=\"convertToInteractive('df-df268c0a-d602-47ff-bc6d-35abb9cae964')\"\n",
              "              title=\"Convert this dataframe to an interactive table.\"\n",
              "              style=\"display:none;\">\n",
              "        \n",
              "  <svg xmlns=\"http://www.w3.org/2000/svg\" height=\"24px\"viewBox=\"0 0 24 24\"\n",
              "       width=\"24px\">\n",
              "    <path d=\"M0 0h24v24H0V0z\" fill=\"none\"/>\n",
              "    <path d=\"M18.56 5.44l.94 2.06.94-2.06 2.06-.94-2.06-.94-.94-2.06-.94 2.06-2.06.94zm-11 1L8.5 8.5l.94-2.06 2.06-.94-2.06-.94L8.5 2.5l-.94 2.06-2.06.94zm10 10l.94 2.06.94-2.06 2.06-.94-2.06-.94-.94-2.06-.94 2.06-2.06.94z\"/><path d=\"M17.41 7.96l-1.37-1.37c-.4-.4-.92-.59-1.43-.59-.52 0-1.04.2-1.43.59L10.3 9.45l-7.72 7.72c-.78.78-.78 2.05 0 2.83L4 21.41c.39.39.9.59 1.41.59.51 0 1.02-.2 1.41-.59l7.78-7.78 2.81-2.81c.8-.78.8-2.07 0-2.86zM5.41 20L4 18.59l7.72-7.72 1.47 1.35L5.41 20z\"/>\n",
              "  </svg>\n",
              "      </button>\n",
              "      \n",
              "  <style>\n",
              "    .colab-df-container {\n",
              "      display:flex;\n",
              "      flex-wrap:wrap;\n",
              "      gap: 12px;\n",
              "    }\n",
              "\n",
              "    .colab-df-convert {\n",
              "      background-color: #E8F0FE;\n",
              "      border: none;\n",
              "      border-radius: 50%;\n",
              "      cursor: pointer;\n",
              "      display: none;\n",
              "      fill: #1967D2;\n",
              "      height: 32px;\n",
              "      padding: 0 0 0 0;\n",
              "      width: 32px;\n",
              "    }\n",
              "\n",
              "    .colab-df-convert:hover {\n",
              "      background-color: #E2EBFA;\n",
              "      box-shadow: 0px 1px 2px rgba(60, 64, 67, 0.3), 0px 1px 3px 1px rgba(60, 64, 67, 0.15);\n",
              "      fill: #174EA6;\n",
              "    }\n",
              "\n",
              "    [theme=dark] .colab-df-convert {\n",
              "      background-color: #3B4455;\n",
              "      fill: #D2E3FC;\n",
              "    }\n",
              "\n",
              "    [theme=dark] .colab-df-convert:hover {\n",
              "      background-color: #434B5C;\n",
              "      box-shadow: 0px 1px 3px 1px rgba(0, 0, 0, 0.15);\n",
              "      filter: drop-shadow(0px 1px 2px rgba(0, 0, 0, 0.3));\n",
              "      fill: #FFFFFF;\n",
              "    }\n",
              "  </style>\n",
              "\n",
              "      <script>\n",
              "        const buttonEl =\n",
              "          document.querySelector('#df-df268c0a-d602-47ff-bc6d-35abb9cae964 button.colab-df-convert');\n",
              "        buttonEl.style.display =\n",
              "          google.colab.kernel.accessAllowed ? 'block' : 'none';\n",
              "\n",
              "        async function convertToInteractive(key) {\n",
              "          const element = document.querySelector('#df-df268c0a-d602-47ff-bc6d-35abb9cae964');\n",
              "          const dataTable =\n",
              "            await google.colab.kernel.invokeFunction('convertToInteractive',\n",
              "                                                     [key], {});\n",
              "          if (!dataTable) return;\n",
              "\n",
              "          const docLinkHtml = 'Like what you see? Visit the ' +\n",
              "            '<a target=\"_blank\" href=https://colab.research.google.com/notebooks/data_table.ipynb>data table notebook</a>'\n",
              "            + ' to learn more about interactive tables.';\n",
              "          element.innerHTML = '';\n",
              "          dataTable['output_type'] = 'display_data';\n",
              "          await google.colab.output.renderOutput(dataTable, element);\n",
              "          const docLink = document.createElement('div');\n",
              "          docLink.innerHTML = docLinkHtml;\n",
              "          element.appendChild(docLink);\n",
              "        }\n",
              "      </script>\n",
              "    </div>\n",
              "  </div>\n",
              "  "
            ]
          },
          "metadata": {},
          "execution_count": 283
        }
      ]
    },
    {
      "cell_type": "code",
      "source": [
        "sns.scatterplot(x='host_acceptance_rate',y='number_of_reviews',color=\"blue\",data=P)\n",
        "sns.scatterplot(x='host_acceptance_rate',y='Predicciones',color=\"red\",data=P)"
      ],
      "metadata": {
        "colab": {
          "base_uri": "https://localhost:8080/",
          "height": 298
        },
        "id": "RLA6VJ3XVROh",
        "outputId": "49d2ead8-1dd2-4bcf-b4ee-1ade36ee20ac"
      },
      "execution_count": 284,
      "outputs": [
        {
          "output_type": "execute_result",
          "data": {
            "text/plain": [
              "<matplotlib.axes._subplots.AxesSubplot at 0x7f482bcf8950>"
            ]
          },
          "metadata": {},
          "execution_count": 284
        },
        {
          "output_type": "display_data",
          "data": {
            "text/plain": [
              "<Figure size 432x288 with 1 Axes>"
            ],
            "image/png": "[encoded data removed]"
          },
          "metadata": {
            "needs_background": "light"
          }
        }
      ]
    },
    {
      "cell_type": "markdown",
      "source": [
        "#*Shared room*"
      ],
      "metadata": {
        "id": "XF4Csug4Vdek"
      }
    },
    {
      "cell_type": "code",
      "source": [
        "S=df[df['room_type']=='Shared room']"
      ],
      "metadata": {
        "id": "ZVEhR9DKWM-J"
      },
      "execution_count": 285,
      "outputs": []
    },
    {
      "cell_type": "code",
      "source": [
        "Sharedcorr['number_of_reviews']"
      ],
      "metadata": {
        "colab": {
          "base_uri": "https://localhost:8080/"
        },
        "id": "tUoBsYbtPyPR",
        "outputId": "2ba99413-6dc8-46ed-c06a-f935d84363ea"
      },
      "execution_count": 286,
      "outputs": [
        {
          "output_type": "execute_result",
          "data": {
            "text/plain": [
              "id                            -0.172865\n",
              "host_response_rate             0.204230\n",
              "host_acceptance_rate           0.237643\n",
              "price                         -0.128386\n",
              "availability_365              -0.006727\n",
              "number_of_reviews              1.000000\n",
              "review_scores_rating          -0.076733\n",
              "review_scores_cleanliness      0.034795\n",
              "review_scores_communication   -0.078751\n",
              "Name: number_of_reviews, dtype: float64"
            ]
          },
          "metadata": {},
          "execution_count": 286
        }
      ]
    },
    {
      "cell_type": "code",
      "source": [
        "Xs=S[['host_acceptance_rate','price']]\n",
        "ys=S['number_of_reviews']"
      ],
      "metadata": {
        "id": "Y9LKSvUvVhMT"
      },
      "execution_count": 287,
      "outputs": []
    },
    {
      "cell_type": "code",
      "source": [
        "models=LinearRegression()"
      ],
      "metadata": {
        "id": "zV7hi-ghV0OB"
      },
      "execution_count": 288,
      "outputs": []
    },
    {
      "cell_type": "code",
      "source": [
        "type(models)"
      ],
      "metadata": {
        "colab": {
          "base_uri": "https://localhost:8080/"
        },
        "id": "9eKZcMAhV24p",
        "outputId": "d4c55a03-59f8-4266-9b1e-e8e2b9a31fbd"
      },
      "execution_count": 289,
      "outputs": [
        {
          "output_type": "execute_result",
          "data": {
            "text/plain": [
              "sklearn.linear_model._base.LinearRegression"
            ]
          },
          "metadata": {},
          "execution_count": 289
        }
      ]
    },
    {
      "cell_type": "code",
      "source": [
        "models.fit(X=Xs,y=ys)"
      ],
      "metadata": {
        "colab": {
          "base_uri": "https://localhost:8080/"
        },
        "id": "NEKfqj6tV5aW",
        "outputId": "5cab63c3-84c0-4a58-98a6-bcecb438a5a0"
      },
      "execution_count": 290,
      "outputs": [
        {
          "output_type": "execute_result",
          "data": {
            "text/plain": [
              "LinearRegression()"
            ]
          },
          "metadata": {},
          "execution_count": 290
        }
      ]
    },
    {
      "cell_type": "code",
      "source": [
        "models.__dict__"
      ],
      "metadata": {
        "colab": {
          "base_uri": "https://localhost:8080/"
        },
        "id": "i53PpZOiV8TQ",
        "outputId": "61c90496-0484-4b78-9710-24a64a250854"
      },
      "execution_count": 291,
      "outputs": [
        {
          "output_type": "execute_result",
          "data": {
            "text/plain": [
              "{'fit_intercept': True,\n",
              " 'normalize': 'deprecated',\n",
              " 'copy_X': True,\n",
              " 'n_jobs': None,\n",
              " 'positive': False,\n",
              " 'feature_names_in_': array(['host_acceptance_rate', 'price'], dtype=object),\n",
              " 'n_features_in_': 2,\n",
              " 'coef_': array([ 0.14803601, -0.0013508 ]),\n",
              " '_residues': 22682.771689812635,\n",
              " 'rank_': 2,\n",
              " 'singular_': array([6277.44767663,  218.27137796]),\n",
              " 'intercept_': -0.8414344593438035}"
            ]
          },
          "metadata": {},
          "execution_count": 291
        }
      ]
    },
    {
      "cell_type": "code",
      "source": [
        "models.score(Xs,ys)"
      ],
      "metadata": {
        "colab": {
          "base_uri": "https://localhost:8080/"
        },
        "id": "FaYIkJnCV-4N",
        "outputId": "e1ffb441-4b1d-4867-d060-9b6f364460c5"
      },
      "execution_count": 293,
      "outputs": [
        {
          "output_type": "execute_result",
          "data": {
            "text/plain": [
              "0.05248252022242428"
            ]
          },
          "metadata": {},
          "execution_count": 293
        }
      ]
    },
    {
      "cell_type": "code",
      "source": [
        "y_pred= models.predict(X=S[['host_acceptance_rate','price']])\n",
        "y_pred"
      ],
      "metadata": {
        "colab": {
          "base_uri": "https://localhost:8080/"
        },
        "id": "24VIaRY9WBjj",
        "outputId": "bfc96709-31db-40aa-cd00-ca8654bf6c7f"
      },
      "execution_count": 295,
      "outputs": [
        {
          "output_type": "execute_result",
          "data": {
            "text/plain": [
              "array([ 2.46166545,  2.86690471, 11.84662694, 11.84662694, -1.58437312,\n",
              "       11.21315991, 12.38393999, 13.25975151, -1.5978811 , 12.86857194,\n",
              "       13.00500249, 12.6400398 ,  2.69295621, 12.20262874, 13.1117155 ,\n",
              "        3.25918773,  4.93940881,  5.76609692, 11.2255074 , -3.85371303,\n",
              "       13.1516877 , 11.36973837, 11.36973837, 13.23273555, 12.71973686,\n",
              "       12.57520152,  0.01333525, 12.71973686,  5.85738085, 13.01660794,\n",
              "       13.08414782, 12.90314095, 12.90989494, 13.1516877 , 12.66404978,\n",
              "        4.92049765, -1.86832576, 13.17870365, 13.16654647, 13.17870365,\n",
              "       13.17870365, 13.17870365, 12.99499518,  1.77882766])"
            ]
          },
          "metadata": {},
          "execution_count": 295
        }
      ]
    },
    {
      "cell_type": "code",
      "source": [
        "S.insert(0,\"Predicciones\",y_pred)\n",
        "S"
      ],
      "metadata": {
        "colab": {
          "base_uri": "https://localhost:8080/",
          "height": 1000
        },
        "id": "D_okXkNaWb4B",
        "outputId": "4457f327-6b46-4eb1-9e13-484730603817"
      },
      "execution_count": 296,
      "outputs": [
        {
          "output_type": "execute_result",
          "data": {
            "text/plain": [
              "       Predicciones                  id                host_location  \\\n",
              "535        2.461665             6972071          Mexico City, Mexico   \n",
              "1397       2.866905            13221271          Mexico City, Mexico   \n",
              "1419      11.846627            13591658          Mexico City, Mexico   \n",
              "1439      11.846627            13622872          Mexico City, Mexico   \n",
              "2628      -1.584373            18139570          Mexico City, Mexico   \n",
              "2752      11.213160            19037182          Mexico City, Mexico   \n",
              "2983      12.383940            19509304          Mexico City, Mexico   \n",
              "3982      13.259752            22927533          Mexico City, Mexico   \n",
              "4826      -1.597881            25978305          Mexico City, Mexico   \n",
              "5997      12.868572            30512284          Mexico City, Mexico   \n",
              "6183      13.005002            30954061          Mexico City, Mexico   \n",
              "6296      12.640040            31639592          Mexico City, Mexico   \n",
              "6417       2.692956            32058047     Ciudad de Mexico, Mexico   \n",
              "8558      12.202629            38078229                       Mexico   \n",
              "8633      13.111715            38219708          Mexico City, Mexico   \n",
              "8732       3.259188            38581870                       Mexico   \n",
              "9610       4.939409            40706470          Mexico City, Mexico   \n",
              "9615       5.766097            40738209          Mexico City, Mexico   \n",
              "9832      11.225507            41454296          Mexico City, Mexico   \n",
              "10171     -3.853713            42050927            Naucalpan, Mexico   \n",
              "10721     13.151688            43177038                 Tula, Mexico   \n",
              "10888     11.369738            43846718          Mexico City, Mexico   \n",
              "11014     11.369738            44231451          Mexico City, Mexico   \n",
              "11028     13.232736            44063290          Mexico City, Mexico   \n",
              "11321     12.719737            44538911          Mexico City, Mexico   \n",
              "11386     12.575202            44948931          Mexico City, Mexico   \n",
              "11484      0.013335            45028306          Mexico City, Mexico   \n",
              "12379     12.719737            46735305          Mexico City, Mexico   \n",
              "13440      5.857381            48994995          Mexico City, Mexico   \n",
              "13505     13.016608            49228700          Mexico City, Mexico   \n",
              "13506     13.084148            49229576          Mexico City, Mexico   \n",
              "13508     12.903141            49229590          Mexico City, Mexico   \n",
              "13550     12.909895            49372317          Mexico City, Mexico   \n",
              "13896     13.151688            49978245          Mexico City, Mexico   \n",
              "14003     12.664050            50154238  Naucalpan de Juárez, Mexico   \n",
              "15294      4.920498            52372987          Mexico City, Mexico   \n",
              "19947     -1.868326  650966053170083455          Mexico City, Mexico   \n",
              "20753     13.178704  674112808583668105          Mexico City, Mexico   \n",
              "20770     13.166546  674567375327824634          Mexico City, Mexico   \n",
              "20791     13.178704  674671336871209253          Mexico City, Mexico   \n",
              "20796     13.178704  674702262997120323          Mexico City, Mexico   \n",
              "20798     13.178704  674705738675367273          Mexico City, Mexico   \n",
              "21122     12.994995  682081771321641050          Mexico City, Mexico   \n",
              "21709      1.778828  699502161497951897          Mexico City, Mexico   \n",
              "\n",
              "       host_response_rate  host_acceptance_rate  \\\n",
              "535                  87.0                  36.0   \n",
              "1397                 87.0                  36.0   \n",
              "1419                100.0                  93.0   \n",
              "1439                100.0                  93.0   \n",
              "2628                 10.0                   0.0   \n",
              "2752                100.0                  88.0   \n",
              "2983                 85.0                  96.0   \n",
              "3982                100.0                 100.0   \n",
              "4826                  0.0                   0.0   \n",
              "5997                  0.0                  99.0   \n",
              "6183                100.0                  99.0   \n",
              "6296                100.0                  97.0   \n",
              "6417                 75.0                  33.0   \n",
              "8558                100.0                  99.0   \n",
              "8633                100.0                  99.0   \n",
              "8732                 91.0                  35.0   \n",
              "9610                 50.0                  50.0   \n",
              "9615                 50.0                  50.0   \n",
              "9832                100.0                  95.0   \n",
              "10171               100.0                   0.0   \n",
              "10721               100.0                 100.0   \n",
              "10888               100.0                  98.0   \n",
              "11014               100.0                  98.0   \n",
              "11028               100.0                 100.0   \n",
              "11321               100.0                  97.0   \n",
              "11386               100.0                  97.0   \n",
              "11484                44.0                  25.0   \n",
              "12379               100.0                  97.0   \n",
              "13440               100.0                 100.0   \n",
              "13505               100.0                 100.0   \n",
              "13506               100.0                 100.0   \n",
              "13508               100.0                 100.0   \n",
              "13550               100.0                 100.0   \n",
              "13896                 0.0                 100.0   \n",
              "14003                99.0                 100.0   \n",
              "15294                67.0                  50.0   \n",
              "19947                44.0                  25.0   \n",
              "20753               100.0                 100.0   \n",
              "20770               100.0                 100.0   \n",
              "20791               100.0                 100.0   \n",
              "20796               100.0                 100.0   \n",
              "20798               100.0                 100.0   \n",
              "21122               100.0                 100.0   \n",
              "21709               100.0                  25.0   \n",
              "\n",
              "                           property_type    room_type   price  \\\n",
              "535                Shared room in hostel  Shared room  1500.0   \n",
              "1397               Shared room in hostel  Shared room  1200.0   \n",
              "1419                 Shared room in home  Shared room   799.0   \n",
              "1439                 Shared room in home  Shared room   799.0   \n",
              "2628          Shared room in rental unit  Shared room   550.0   \n",
              "2752          Shared room in rental unit  Shared room   720.0   \n",
              "2983   Shared room in serviced apartment  Shared room   730.0   \n",
              "3982          Shared room in rental unit  Shared room   520.0   \n",
              "4826          Shared room in rental unit  Shared room   560.0   \n",
              "5997                 Shared room in dorm  Shared room   700.0   \n",
              "6183          Shared room in guest suite  Shared room   599.0   \n",
              "6296                 Shared room in home  Shared room   650.0   \n",
              "6417                 Shared room in loft  Shared room  1000.0   \n",
              "8558          Shared room in rental unit  Shared room  1193.0   \n",
              "8633                 Shared room in home  Shared room   520.0   \n",
              "8732          Shared room in rental unit  Shared room   800.0   \n",
              "9610                 Shared room in home  Shared room  1200.0   \n",
              "9615                 Shared room in home  Shared room   588.0   \n",
              "9832          Shared room in rental unit  Shared room  1478.0   \n",
              "10171          Shared room in guesthouse  Shared room  2230.0   \n",
              "10721         Shared room in rental unit  Shared room   600.0   \n",
              "10888              Shared room in hostel  Shared room  1700.0   \n",
              "11014              Shared room in hostel  Shared room  1700.0   \n",
              "11028              Shared room in hostel  Shared room   540.0   \n",
              "11321      Shared room in boutique hotel  Shared room   591.0   \n",
              "11386      Shared room in boutique hotel  Shared room   698.0   \n",
              "11484                Shared room in home  Shared room  2107.0   \n",
              "12379              Shared room in hostel  Shared room   591.0   \n",
              "13440  Shared room in serviced apartment  Shared room  6000.0   \n",
              "13505               Shared room in hotel  Shared room   700.0   \n",
              "13506               Shared room in hotel  Shared room   650.0   \n",
              "13508               Shared room in hotel  Shared room   784.0   \n",
              "13550         Shared room in rental unit  Shared room   779.0   \n",
              "13896     Shared room in casa particular  Shared room   600.0   \n",
              "14003               Shared room in hotel  Shared room   961.0   \n",
              "15294               Shared room in condo  Shared room  1214.0   \n",
              "19947                Shared room in home  Shared room  3500.0   \n",
              "20753                Shared room in home  Shared room   580.0   \n",
              "20770                Shared room in home  Shared room   589.0   \n",
              "20791                Shared room in home  Shared room   580.0   \n",
              "20796                Shared room in home  Shared room   580.0   \n",
              "20798                Shared room in home  Shared room   580.0   \n",
              "21122  Shared room in serviced apartment  Shared room   716.0   \n",
              "21709         Shared room in rental unit  Shared room   800.0   \n",
              "\n",
              "       availability_365  number_of_reviews  review_scores_rating  \\\n",
              "535                 365                  0                  4.85   \n",
              "1397                363                  0                  4.85   \n",
              "1419                360                 16                  4.75   \n",
              "1439                356                 12                  4.67   \n",
              "2628                364                  0                  4.85   \n",
              "2752                 78                 14                  4.86   \n",
              "2983                326                118                  4.86   \n",
              "3982                233                  1                  5.00   \n",
              "4826                365                  1                  3.00   \n",
              "5997                364                  1                  0.00   \n",
              "6183                 89                  1                  1.00   \n",
              "6296                365                  5                  5.00   \n",
              "6417                365                  1                  2.00   \n",
              "8558                 90                 28                  4.71   \n",
              "8633                358                  1                  0.00   \n",
              "8732                156                  0                  4.85   \n",
              "9610                  0                  0                  4.85   \n",
              "9615                 57                  1                  3.00   \n",
              "9832                218                  2                  5.00   \n",
              "10171               179                  1                  5.00   \n",
              "10721                 0                  0                  4.85   \n",
              "10888               365                 13                  4.85   \n",
              "11014               365                  3                  5.00   \n",
              "11028               329                  1                  5.00   \n",
              "11321               345                 67                  4.96   \n",
              "11386               348                  0                  4.85   \n",
              "11484               300                  0                  4.85   \n",
              "12379               358                  6                  5.00   \n",
              "13440               180                  0                  4.85   \n",
              "13505               360                  0                  4.85   \n",
              "13506               359                  0                  4.85   \n",
              "13508               356                  0                  4.85   \n",
              "13550               365                 14                  4.93   \n",
              "13896               348                  0                  4.85   \n",
              "14003               348                 86                  4.70   \n",
              "15294               359                  0                  4.85   \n",
              "19947               365                  0                  4.85   \n",
              "20753               357                  3                  5.00   \n",
              "20770               356                  2                  5.00   \n",
              "20791               357                  3                  5.00   \n",
              "20796               358                  2                  5.00   \n",
              "20798               359                  2                  5.00   \n",
              "21122               228                  0                  4.85   \n",
              "21709               365                  0                  4.85   \n",
              "\n",
              "       review_scores_cleanliness  review_scores_communication  \n",
              "535                         4.88                         4.94  \n",
              "1397                        4.88                         4.94  \n",
              "1419                        4.69                         4.88  \n",
              "1439                        4.92                         4.92  \n",
              "2628                        4.88                         4.94  \n",
              "2752                        5.00                         4.93  \n",
              "2983                        4.74                         4.91  \n",
              "3982                        5.00                         5.00  \n",
              "4826                        5.00                         5.00  \n",
              "5997                        4.88                         4.94  \n",
              "6183                        3.00                         1.00  \n",
              "6296                        5.00                         5.00  \n",
              "6417                        4.00                         1.00  \n",
              "8558                        4.79                         4.86  \n",
              "8633                        4.88                         4.94  \n",
              "8732                        4.88                         4.94  \n",
              "9610                        4.88                         4.94  \n",
              "9615                        2.00                         4.00  \n",
              "9832                        5.00                         5.00  \n",
              "10171                       4.00                         5.00  \n",
              "10721                       4.88                         4.94  \n",
              "10888                       4.92                         4.77  \n",
              "11014                       4.00                         4.33  \n",
              "11028                       4.00                         5.00  \n",
              "11321                       4.88                         4.94  \n",
              "11386                       4.88                         4.94  \n",
              "11484                       4.88                         4.94  \n",
              "12379                       5.00                         5.00  \n",
              "13440                       4.88                         4.94  \n",
              "13505                       4.88                         4.94  \n",
              "13506                       4.88                         4.94  \n",
              "13508                       4.88                         4.94  \n",
              "13550                       4.79                         5.00  \n",
              "13896                       4.88                         4.94  \n",
              "14003                       4.76                         4.79  \n",
              "15294                       4.88                         4.94  \n",
              "19947                       4.88                         4.94  \n",
              "20753                       5.00                         5.00  \n",
              "20770                       5.00                         5.00  \n",
              "20791                       5.00                         5.00  \n",
              "20796                       5.00                         5.00  \n",
              "20798                       5.00                         5.00  \n",
              "21122                       4.88                         4.94  \n",
              "21709                       4.88                         4.94  "
            ],
            "text/html": [
              "\n",
              "  <div id=\"df-def2069f-ea5f-4088-9f2f-8957e3ed35e0\">\n",
              "    <div class=\"colab-df-container\">\n",
              "      <div>\n",
              "<style scoped>\n",
              "    .dataframe tbody tr th:only-of-type {\n",
              "        vertical-align: middle;\n",
              "    }\n",
              "\n",
              "    .dataframe tbody tr th {\n",
              "        vertical-align: top;\n",
              "    }\n",
              "\n",
              "    .dataframe thead th {\n",
              "        text-align: right;\n",
              "    }\n",
              "</style>\n",
              "<table border=\"1\" class=\"dataframe\">\n",
              "  <thead>\n",
              "    <tr style=\"text-align: right;\">\n",
              "      <th></th>\n",
              "      <th>Predicciones</th>\n",
              "      <th>id</th>\n",
              "      <th>host_location</th>\n",
              "      <th>host_response_rate</th>\n",
              "      <th>host_acceptance_rate</th>\n",
              "      <th>property_type</th>\n",
              "      <th>room_type</th>\n",
              "      <th>price</th>\n",
              "      <th>availability_365</th>\n",
              "      <th>number_of_reviews</th>\n",
              "      <th>review_scores_rating</th>\n",
              "      <th>review_scores_cleanliness</th>\n",
              "      <th>review_scores_communication</th>\n",
              "    </tr>\n",
              "  </thead>\n",
              "  <tbody>\n",
              "    <tr>\n",
              "      <th>535</th>\n",
              "      <td>2.461665</td>\n",
              "      <td>6972071</td>\n",
              "      <td>Mexico City, Mexico</td>\n",
              "      <td>87.0</td>\n",
              "      <td>36.0</td>\n",
              "      <td>Shared room in hostel</td>\n",
              "      <td>Shared room</td>\n",
              "      <td>1500.0</td>\n",
              "      <td>365</td>\n",
              "      <td>0</td>\n",
              "      <td>4.85</td>\n",
              "      <td>4.88</td>\n",
              "      <td>4.94</td>\n",
              "    </tr>\n",
              "    <tr>\n",
              "      <th>1397</th>\n",
              "      <td>2.866905</td>\n",
              "      <td>13221271</td>\n",
              "      <td>Mexico City, Mexico</td>\n",
              "      <td>87.0</td>\n",
              "      <td>36.0</td>\n",
              "      <td>Shared room in hostel</td>\n",
              "      <td>Shared room</td>\n",
              "      <td>1200.0</td>\n",
              "      <td>363</td>\n",
              "      <td>0</td>\n",
              "      <td>4.85</td>\n",
              "      <td>4.88</td>\n",
              "      <td>4.94</td>\n",
              "    </tr>\n",
              "    <tr>\n",
              "      <th>1419</th>\n",
              "      <td>11.846627</td>\n",
              "      <td>13591658</td>\n",
              "      <td>Mexico City, Mexico</td>\n",
              "      <td>100.0</td>\n",
              "      <td>93.0</td>\n",
              "      <td>Shared room in home</td>\n",
              "      <td>Shared room</td>\n",
              "      <td>799.0</td>\n",
              "      <td>360</td>\n",
              "      <td>16</td>\n",
              "      <td>4.75</td>\n",
              "      <td>4.69</td>\n",
              "      <td>4.88</td>\n",
              "    </tr>\n",
              "    <tr>\n",
              "      <th>1439</th>\n",
              "      <td>11.846627</td>\n",
              "      <td>13622872</td>\n",
              "      <td>Mexico City, Mexico</td>\n",
              "      <td>100.0</td>\n",
              "      <td>93.0</td>\n",
              "      <td>Shared room in home</td>\n",
              "      <td>Shared room</td>\n",
              "      <td>799.0</td>\n",
              "      <td>356</td>\n",
              "      <td>12</td>\n",
              "      <td>4.67</td>\n",
              "      <td>4.92</td>\n",
              "      <td>4.92</td>\n",
              "    </tr>\n",
              "    <tr>\n",
              "      <th>2628</th>\n",
              "      <td>-1.584373</td>\n",
              "      <td>18139570</td>\n",
              "      <td>Mexico City, Mexico</td>\n",
              "      <td>10.0</td>\n",
              "      <td>0.0</td>\n",
              "      <td>Shared room in rental unit</td>\n",
              "      <td>Shared room</td>\n",
              "      <td>550.0</td>\n",
              "      <td>364</td>\n",
              "      <td>0</td>\n",
              "      <td>4.85</td>\n",
              "      <td>4.88</td>\n",
              "      <td>4.94</td>\n",
              "    </tr>\n",
              "    <tr>\n",
              "      <th>2752</th>\n",
              "      <td>11.213160</td>\n",
              "      <td>19037182</td>\n",
              "      <td>Mexico City, Mexico</td>\n",
              "      <td>100.0</td>\n",
              "      <td>88.0</td>\n",
              "      <td>Shared room in rental unit</td>\n",
              "      <td>Shared room</td>\n",
              "      <td>720.0</td>\n",
              "      <td>78</td>\n",
              "      <td>14</td>\n",
              "      <td>4.86</td>\n",
              "      <td>5.00</td>\n",
              "      <td>4.93</td>\n",
              "    </tr>\n",
              "    <tr>\n",
              "      <th>2983</th>\n",
              "      <td>12.383940</td>\n",
              "      <td>19509304</td>\n",
              "      <td>Mexico City, Mexico</td>\n",
              "      <td>85.0</td>\n",
              "      <td>96.0</td>\n",
              "      <td>Shared room in serviced apartment</td>\n",
              "      <td>Shared room</td>\n",
              "      <td>730.0</td>\n",
              "      <td>326</td>\n",
              "      <td>118</td>\n",
              "      <td>4.86</td>\n",
              "      <td>4.74</td>\n",
              "      <td>4.91</td>\n",
              "    </tr>\n",
              "    <tr>\n",
              "      <th>3982</th>\n",
              "      <td>13.259752</td>\n",
              "      <td>22927533</td>\n",
              "      <td>Mexico City, Mexico</td>\n",
              "      <td>100.0</td>\n",
              "      <td>100.0</td>\n",
              "      <td>Shared room in rental unit</td>\n",
              "      <td>Shared room</td>\n",
              "      <td>520.0</td>\n",
              "      <td>233</td>\n",
              "      <td>1</td>\n",
              "      <td>5.00</td>\n",
              "      <td>5.00</td>\n",
              "      <td>5.00</td>\n",
              "    </tr>\n",
              "    <tr>\n",
              "      <th>4826</th>\n",
              "      <td>-1.597881</td>\n",
              "      <td>25978305</td>\n",
              "      <td>Mexico City, Mexico</td>\n",
              "      <td>0.0</td>\n",
              "      <td>0.0</td>\n",
              "      <td>Shared room in rental unit</td>\n",
              "      <td>Shared room</td>\n",
              "      <td>560.0</td>\n",
              "      <td>365</td>\n",
              "      <td>1</td>\n",
              "      <td>3.00</td>\n",
              "      <td>5.00</td>\n",
              "      <td>5.00</td>\n",
              "    </tr>\n",
              "    <tr>\n",
              "      <th>5997</th>\n",
              "      <td>12.868572</td>\n",
              "      <td>30512284</td>\n",
              "      <td>Mexico City, Mexico</td>\n",
              "      <td>0.0</td>\n",
              "      <td>99.0</td>\n",
              "      <td>Shared room in dorm</td>\n",
              "      <td>Shared room</td>\n",
              "      <td>700.0</td>\n",
              "      <td>364</td>\n",
              "      <td>1</td>\n",
              "      <td>0.00</td>\n",
              "      <td>4.88</td>\n",
              "      <td>4.94</td>\n",
              "    </tr>\n",
              "    <tr>\n",
              "      <th>6183</th>\n",
              "      <td>13.005002</td>\n",
              "      <td>30954061</td>\n",
              "      <td>Mexico City, Mexico</td>\n",
              "      <td>100.0</td>\n",
              "      <td>99.0</td>\n",
              "      <td>Shared room in guest suite</td>\n",
              "      <td>Shared room</td>\n",
              "      <td>599.0</td>\n",
              "      <td>89</td>\n",
              "      <td>1</td>\n",
              "      <td>1.00</td>\n",
              "      <td>3.00</td>\n",
              "      <td>1.00</td>\n",
              "    </tr>\n",
              "    <tr>\n",
              "      <th>6296</th>\n",
              "      <td>12.640040</td>\n",
              "      <td>31639592</td>\n",
              "      <td>Mexico City, Mexico</td>\n",
              "      <td>100.0</td>\n",
              "      <td>97.0</td>\n",
              "      <td>Shared room in home</td>\n",
              "      <td>Shared room</td>\n",
              "      <td>650.0</td>\n",
              "      <td>365</td>\n",
              "      <td>5</td>\n",
              "      <td>5.00</td>\n",
              "      <td>5.00</td>\n",
              "      <td>5.00</td>\n",
              "    </tr>\n",
              "    <tr>\n",
              "      <th>6417</th>\n",
              "      <td>2.692956</td>\n",
              "      <td>32058047</td>\n",
              "      <td>Ciudad de Mexico, Mexico</td>\n",
              "      <td>75.0</td>\n",
              "      <td>33.0</td>\n",
              "      <td>Shared room in loft</td>\n",
              "      <td>Shared room</td>\n",
              "      <td>1000.0</td>\n",
              "      <td>365</td>\n",
              "      <td>1</td>\n",
              "      <td>2.00</td>\n",
              "      <td>4.00</td>\n",
              "      <td>1.00</td>\n",
              "    </tr>\n",
              "    <tr>\n",
              "      <th>8558</th>\n",
              "      <td>12.202629</td>\n",
              "      <td>38078229</td>\n",
              "      <td>Mexico</td>\n",
              "      <td>100.0</td>\n",
              "      <td>99.0</td>\n",
              "      <td>Shared room in rental unit</td>\n",
              "      <td>Shared room</td>\n",
              "      <td>1193.0</td>\n",
              "      <td>90</td>\n",
              "      <td>28</td>\n",
              "      <td>4.71</td>\n",
              "      <td>4.79</td>\n",
              "      <td>4.86</td>\n",
              "    </tr>\n",
              "    <tr>\n",
              "      <th>8633</th>\n",
              "      <td>13.111715</td>\n",
              "      <td>38219708</td>\n",
              "      <td>Mexico City, Mexico</td>\n",
              "      <td>100.0</td>\n",
              "      <td>99.0</td>\n",
              "      <td>Shared room in home</td>\n",
              "      <td>Shared room</td>\n",
              "      <td>520.0</td>\n",
              "      <td>358</td>\n",
              "      <td>1</td>\n",
              "      <td>0.00</td>\n",
              "      <td>4.88</td>\n",
              "      <td>4.94</td>\n",
              "    </tr>\n",
              "    <tr>\n",
              "      <th>8732</th>\n",
              "      <td>3.259188</td>\n",
              "      <td>38581870</td>\n",
              "      <td>Mexico</td>\n",
              "      <td>91.0</td>\n",
              "      <td>35.0</td>\n",
              "      <td>Shared room in rental unit</td>\n",
              "      <td>Shared room</td>\n",
              "      <td>800.0</td>\n",
              "      <td>156</td>\n",
              "      <td>0</td>\n",
              "      <td>4.85</td>\n",
              "      <td>4.88</td>\n",
              "      <td>4.94</td>\n",
              "    </tr>\n",
              "    <tr>\n",
              "      <th>9610</th>\n",
              "      <td>4.939409</td>\n",
              "      <td>40706470</td>\n",
              "      <td>Mexico City, Mexico</td>\n",
              "      <td>50.0</td>\n",
              "      <td>50.0</td>\n",
              "      <td>Shared room in home</td>\n",
              "      <td>Shared room</td>\n",
              "      <td>1200.0</td>\n",
              "      <td>0</td>\n",
              "      <td>0</td>\n",
              "      <td>4.85</td>\n",
              "      <td>4.88</td>\n",
              "      <td>4.94</td>\n",
              "    </tr>\n",
              "    <tr>\n",
              "      <th>9615</th>\n",
              "      <td>5.766097</td>\n",
              "      <td>40738209</td>\n",
              "      <td>Mexico City, Mexico</td>\n",
              "      <td>50.0</td>\n",
              "      <td>50.0</td>\n",
              "      <td>Shared room in home</td>\n",
              "      <td>Shared room</td>\n",
              "      <td>588.0</td>\n",
              "      <td>57</td>\n",
              "      <td>1</td>\n",
              "      <td>3.00</td>\n",
              "      <td>2.00</td>\n",
              "      <td>4.00</td>\n",
              "    </tr>\n",
              "    <tr>\n",
              "      <th>9832</th>\n",
              "      <td>11.225507</td>\n",
              "      <td>41454296</td>\n",
              "      <td>Mexico City, Mexico</td>\n",
              "      <td>100.0</td>\n",
              "      <td>95.0</td>\n",
              "      <td>Shared room in rental unit</td>\n",
              "      <td>Shared room</td>\n",
              "      <td>1478.0</td>\n",
              "      <td>218</td>\n",
              "      <td>2</td>\n",
              "      <td>5.00</td>\n",
              "      <td>5.00</td>\n",
              "      <td>5.00</td>\n",
              "    </tr>\n",
              "    <tr>\n",
              "      <th>10171</th>\n",
              "      <td>-3.853713</td>\n",
              "      <td>42050927</td>\n",
              "      <td>Naucalpan, Mexico</td>\n",
              "      <td>100.0</td>\n",
              "      <td>0.0</td>\n",
              "      <td>Shared room in guesthouse</td>\n",
              "      <td>Shared room</td>\n",
              "      <td>2230.0</td>\n",
              "      <td>179</td>\n",
              "      <td>1</td>\n",
              "      <td>5.00</td>\n",
              "      <td>4.00</td>\n",
              "      <td>5.00</td>\n",
              "    </tr>\n",
              "    <tr>\n",
              "      <th>10721</th>\n",
              "      <td>13.151688</td>\n",
              "      <td>43177038</td>\n",
              "      <td>Tula, Mexico</td>\n",
              "      <td>100.0</td>\n",
              "      <td>100.0</td>\n",
              "      <td>Shared room in rental unit</td>\n",
              "      <td>Shared room</td>\n",
              "      <td>600.0</td>\n",
              "      <td>0</td>\n",
              "      <td>0</td>\n",
              "      <td>4.85</td>\n",
              "      <td>4.88</td>\n",
              "      <td>4.94</td>\n",
              "    </tr>\n",
              "    <tr>\n",
              "      <th>10888</th>\n",
              "      <td>11.369738</td>\n",
              "      <td>43846718</td>\n",
              "      <td>Mexico City, Mexico</td>\n",
              "      <td>100.0</td>\n",
              "      <td>98.0</td>\n",
              "      <td>Shared room in hostel</td>\n",
              "      <td>Shared room</td>\n",
              "      <td>1700.0</td>\n",
              "      <td>365</td>\n",
              "      <td>13</td>\n",
              "      <td>4.85</td>\n",
              "      <td>4.92</td>\n",
              "      <td>4.77</td>\n",
              "    </tr>\n",
              "    <tr>\n",
              "      <th>11014</th>\n",
              "      <td>11.369738</td>\n",
              "      <td>44231451</td>\n",
              "      <td>Mexico City, Mexico</td>\n",
              "      <td>100.0</td>\n",
              "      <td>98.0</td>\n",
              "      <td>Shared room in hostel</td>\n",
              "      <td>Shared room</td>\n",
              "      <td>1700.0</td>\n",
              "      <td>365</td>\n",
              "      <td>3</td>\n",
              "      <td>5.00</td>\n",
              "      <td>4.00</td>\n",
              "      <td>4.33</td>\n",
              "    </tr>\n",
              "    <tr>\n",
              "      <th>11028</th>\n",
              "      <td>13.232736</td>\n",
              "      <td>44063290</td>\n",
              "      <td>Mexico City, Mexico</td>\n",
              "      <td>100.0</td>\n",
              "      <td>100.0</td>\n",
              "      <td>Shared room in hostel</td>\n",
              "      <td>Shared room</td>\n",
              "      <td>540.0</td>\n",
              "      <td>329</td>\n",
              "      <td>1</td>\n",
              "      <td>5.00</td>\n",
              "      <td>4.00</td>\n",
              "      <td>5.00</td>\n",
              "    </tr>\n",
              "    <tr>\n",
              "      <th>11321</th>\n",
              "      <td>12.719737</td>\n",
              "      <td>44538911</td>\n",
              "      <td>Mexico City, Mexico</td>\n",
              "      <td>100.0</td>\n",
              "      <td>97.0</td>\n",
              "      <td>Shared room in boutique hotel</td>\n",
              "      <td>Shared room</td>\n",
              "      <td>591.0</td>\n",
              "      <td>345</td>\n",
              "      <td>67</td>\n",
              "      <td>4.96</td>\n",
              "      <td>4.88</td>\n",
              "      <td>4.94</td>\n",
              "    </tr>\n",
              "    <tr>\n",
              "      <th>11386</th>\n",
              "      <td>12.575202</td>\n",
              "      <td>44948931</td>\n",
              "      <td>Mexico City, Mexico</td>\n",
              "      <td>100.0</td>\n",
              "      <td>97.0</td>\n",
              "      <td>Shared room in boutique hotel</td>\n",
              "      <td>Shared room</td>\n",
              "      <td>698.0</td>\n",
              "      <td>348</td>\n",
              "      <td>0</td>\n",
              "      <td>4.85</td>\n",
              "      <td>4.88</td>\n",
              "      <td>4.94</td>\n",
              "    </tr>\n",
              "    <tr>\n",
              "      <th>11484</th>\n",
              "      <td>0.013335</td>\n",
              "      <td>45028306</td>\n",
              "      <td>Mexico City, Mexico</td>\n",
              "      <td>44.0</td>\n",
              "      <td>25.0</td>\n",
              "      <td>Shared room in home</td>\n",
              "      <td>Shared room</td>\n",
              "      <td>2107.0</td>\n",
              "      <td>300</td>\n",
              "      <td>0</td>\n",
              "      <td>4.85</td>\n",
              "      <td>4.88</td>\n",
              "      <td>4.94</td>\n",
              "    </tr>\n",
              "    <tr>\n",
              "      <th>12379</th>\n",
              "      <td>12.719737</td>\n",
              "      <td>46735305</td>\n",
              "      <td>Mexico City, Mexico</td>\n",
              "      <td>100.0</td>\n",
              "      <td>97.0</td>\n",
              "      <td>Shared room in hostel</td>\n",
              "      <td>Shared room</td>\n",
              "      <td>591.0</td>\n",
              "      <td>358</td>\n",
              "      <td>6</td>\n",
              "      <td>5.00</td>\n",
              "      <td>5.00</td>\n",
              "      <td>5.00</td>\n",
              "    </tr>\n",
              "    <tr>\n",
              "      <th>13440</th>\n",
              "      <td>5.857381</td>\n",
              "      <td>48994995</td>\n",
              "      <td>Mexico City, Mexico</td>\n",
              "      <td>100.0</td>\n",
              "      <td>100.0</td>\n",
              "      <td>Shared room in serviced apartment</td>\n",
              "      <td>Shared room</td>\n",
              "      <td>6000.0</td>\n",
              "      <td>180</td>\n",
              "      <td>0</td>\n",
              "      <td>4.85</td>\n",
              "      <td>4.88</td>\n",
              "      <td>4.94</td>\n",
              "    </tr>\n",
              "    <tr>\n",
              "      <th>13505</th>\n",
              "      <td>13.016608</td>\n",
              "      <td>49228700</td>\n",
              "      <td>Mexico City, Mexico</td>\n",
              "      <td>100.0</td>\n",
              "      <td>100.0</td>\n",
              "      <td>Shared room in hotel</td>\n",
              "      <td>Shared room</td>\n",
              "      <td>700.0</td>\n",
              "      <td>360</td>\n",
              "      <td>0</td>\n",
              "      <td>4.85</td>\n",
              "      <td>4.88</td>\n",
              "      <td>4.94</td>\n",
              "    </tr>\n",
              "    <tr>\n",
              "      <th>13506</th>\n",
              "      <td>13.084148</td>\n",
              "      <td>49229576</td>\n",
              "      <td>Mexico City, Mexico</td>\n",
              "      <td>100.0</td>\n",
              "      <td>100.0</td>\n",
              "      <td>Shared room in hotel</td>\n",
              "      <td>Shared room</td>\n",
              "      <td>650.0</td>\n",
              "      <td>359</td>\n",
              "      <td>0</td>\n",
              "      <td>4.85</td>\n",
              "      <td>4.88</td>\n",
              "      <td>4.94</td>\n",
              "    </tr>\n",
              "    <tr>\n",
              "      <th>13508</th>\n",
              "      <td>12.903141</td>\n",
              "      <td>49229590</td>\n",
              "      <td>Mexico City, Mexico</td>\n",
              "      <td>100.0</td>\n",
              "      <td>100.0</td>\n",
              "      <td>Shared room in hotel</td>\n",
              "      <td>Shared room</td>\n",
              "      <td>784.0</td>\n",
              "      <td>356</td>\n",
              "      <td>0</td>\n",
              "      <td>4.85</td>\n",
              "      <td>4.88</td>\n",
              "      <td>4.94</td>\n",
              "    </tr>\n",
              "    <tr>\n",
              "      <th>13550</th>\n",
              "      <td>12.909895</td>\n",
              "      <td>49372317</td>\n",
              "      <td>Mexico City, Mexico</td>\n",
              "      <td>100.0</td>\n",
              "      <td>100.0</td>\n",
              "      <td>Shared room in rental unit</td>\n",
              "      <td>Shared room</td>\n",
              "      <td>779.0</td>\n",
              "      <td>365</td>\n",
              "      <td>14</td>\n",
              "      <td>4.93</td>\n",
              "      <td>4.79</td>\n",
              "      <td>5.00</td>\n",
              "    </tr>\n",
              "    <tr>\n",
              "      <th>13896</th>\n",
              "      <td>13.151688</td>\n",
              "      <td>49978245</td>\n",
              "      <td>Mexico City, Mexico</td>\n",
              "      <td>0.0</td>\n",
              "      <td>100.0</td>\n",
              "      <td>Shared room in casa particular</td>\n",
              "      <td>Shared room</td>\n",
              "      <td>600.0</td>\n",
              "      <td>348</td>\n",
              "      <td>0</td>\n",
              "      <td>4.85</td>\n",
              "      <td>4.88</td>\n",
              "      <td>4.94</td>\n",
              "    </tr>\n",
              "    <tr>\n",
              "      <th>14003</th>\n",
              "      <td>12.664050</td>\n",
              "      <td>50154238</td>\n",
              "      <td>Naucalpan de Juárez, Mexico</td>\n",
              "      <td>99.0</td>\n",
              "      <td>100.0</td>\n",
              "      <td>Shared room in hotel</td>\n",
              "      <td>Shared room</td>\n",
              "      <td>961.0</td>\n",
              "      <td>348</td>\n",
              "      <td>86</td>\n",
              "      <td>4.70</td>\n",
              "      <td>4.76</td>\n",
              "      <td>4.79</td>\n",
              "    </tr>\n",
              "    <tr>\n",
              "      <th>15294</th>\n",
              "      <td>4.920498</td>\n",
              "      <td>52372987</td>\n",
              "      <td>Mexico City, Mexico</td>\n",
              "      <td>67.0</td>\n",
              "      <td>50.0</td>\n",
              "      <td>Shared room in condo</td>\n",
              "      <td>Shared room</td>\n",
              "      <td>1214.0</td>\n",
              "      <td>359</td>\n",
              "      <td>0</td>\n",
              "      <td>4.85</td>\n",
              "      <td>4.88</td>\n",
              "      <td>4.94</td>\n",
              "    </tr>\n",
              "    <tr>\n",
              "      <th>19947</th>\n",
              "      <td>-1.868326</td>\n",
              "      <td>650966053170083455</td>\n",
              "      <td>Mexico City, Mexico</td>\n",
              "      <td>44.0</td>\n",
              "      <td>25.0</td>\n",
              "      <td>Shared room in home</td>\n",
              "      <td>Shared room</td>\n",
              "      <td>3500.0</td>\n",
              "      <td>365</td>\n",
              "      <td>0</td>\n",
              "      <td>4.85</td>\n",
              "      <td>4.88</td>\n",
              "      <td>4.94</td>\n",
              "    </tr>\n",
              "    <tr>\n",
              "      <th>20753</th>\n",
              "      <td>13.178704</td>\n",
              "      <td>674112808583668105</td>\n",
              "      <td>Mexico City, Mexico</td>\n",
              "      <td>100.0</td>\n",
              "      <td>100.0</td>\n",
              "      <td>Shared room in home</td>\n",
              "      <td>Shared room</td>\n",
              "      <td>580.0</td>\n",
              "      <td>357</td>\n",
              "      <td>3</td>\n",
              "      <td>5.00</td>\n",
              "      <td>5.00</td>\n",
              "      <td>5.00</td>\n",
              "    </tr>\n",
              "    <tr>\n",
              "      <th>20770</th>\n",
              "      <td>13.166546</td>\n",
              "      <td>674567375327824634</td>\n",
              "      <td>Mexico City, Mexico</td>\n",
              "      <td>100.0</td>\n",
              "      <td>100.0</td>\n",
              "      <td>Shared room in home</td>\n",
              "      <td>Shared room</td>\n",
              "      <td>589.0</td>\n",
              "      <td>356</td>\n",
              "      <td>2</td>\n",
              "      <td>5.00</td>\n",
              "      <td>5.00</td>\n",
              "      <td>5.00</td>\n",
              "    </tr>\n",
              "    <tr>\n",
              "      <th>20791</th>\n",
              "      <td>13.178704</td>\n",
              "      <td>674671336871209253</td>\n",
              "      <td>Mexico City, Mexico</td>\n",
              "      <td>100.0</td>\n",
              "      <td>100.0</td>\n",
              "      <td>Shared room in home</td>\n",
              "      <td>Shared room</td>\n",
              "      <td>580.0</td>\n",
              "      <td>357</td>\n",
              "      <td>3</td>\n",
              "      <td>5.00</td>\n",
              "      <td>5.00</td>\n",
              "      <td>5.00</td>\n",
              "    </tr>\n",
              "    <tr>\n",
              "      <th>20796</th>\n",
              "      <td>13.178704</td>\n",
              "      <td>674702262997120323</td>\n",
              "      <td>Mexico City, Mexico</td>\n",
              "      <td>100.0</td>\n",
              "      <td>100.0</td>\n",
              "      <td>Shared room in home</td>\n",
              "      <td>Shared room</td>\n",
              "      <td>580.0</td>\n",
              "      <td>358</td>\n",
              "      <td>2</td>\n",
              "      <td>5.00</td>\n",
              "      <td>5.00</td>\n",
              "      <td>5.00</td>\n",
              "    </tr>\n",
              "    <tr>\n",
              "      <th>20798</th>\n",
              "      <td>13.178704</td>\n",
              "      <td>674705738675367273</td>\n",
              "      <td>Mexico City, Mexico</td>\n",
              "      <td>100.0</td>\n",
              "      <td>100.0</td>\n",
              "      <td>Shared room in home</td>\n",
              "      <td>Shared room</td>\n",
              "      <td>580.0</td>\n",
              "      <td>359</td>\n",
              "      <td>2</td>\n",
              "      <td>5.00</td>\n",
              "      <td>5.00</td>\n",
              "      <td>5.00</td>\n",
              "    </tr>\n",
              "    <tr>\n",
              "      <th>21122</th>\n",
              "      <td>12.994995</td>\n",
              "      <td>682081771321641050</td>\n",
              "      <td>Mexico City, Mexico</td>\n",
              "      <td>100.0</td>\n",
              "      <td>100.0</td>\n",
              "      <td>Shared room in serviced apartment</td>\n",
              "      <td>Shared room</td>\n",
              "      <td>716.0</td>\n",
              "      <td>228</td>\n",
              "      <td>0</td>\n",
              "      <td>4.85</td>\n",
              "      <td>4.88</td>\n",
              "      <td>4.94</td>\n",
              "    </tr>\n",
              "    <tr>\n",
              "      <th>21709</th>\n",
              "      <td>1.778828</td>\n",
              "      <td>699502161497951897</td>\n",
              "      <td>Mexico City, Mexico</td>\n",
              "      <td>100.0</td>\n",
              "      <td>25.0</td>\n",
              "      <td>Shared room in rental unit</td>\n",
              "      <td>Shared room</td>\n",
              "      <td>800.0</td>\n",
              "      <td>365</td>\n",
              "      <td>0</td>\n",
              "      <td>4.85</td>\n",
              "      <td>4.88</td>\n",
              "      <td>4.94</td>\n",
              "    </tr>\n",
              "  </tbody>\n",
              "</table>\n",
              "</div>\n",
              "      <button class=\"colab-df-convert\" onclick=\"convertToInteractive('df-def2069f-ea5f-4088-9f2f-8957e3ed35e0')\"\n",
              "              title=\"Convert this dataframe to an interactive table.\"\n",
              "              style=\"display:none;\">\n",
              "        \n",
              "  <svg xmlns=\"http://www.w3.org/2000/svg\" height=\"24px\"viewBox=\"0 0 24 24\"\n",
              "       width=\"24px\">\n",
              "    <path d=\"M0 0h24v24H0V0z\" fill=\"none\"/>\n",
              "    <path d=\"M18.56 5.44l.94 2.06.94-2.06 2.06-.94-2.06-.94-.94-2.06-.94 2.06-2.06.94zm-11 1L8.5 8.5l.94-2.06 2.06-.94-2.06-.94L8.5 2.5l-.94 2.06-2.06.94zm10 10l.94 2.06.94-2.06 2.06-.94-2.06-.94-.94-2.06-.94 2.06-2.06.94z\"/><path d=\"M17.41 7.96l-1.37-1.37c-.4-.4-.92-.59-1.43-.59-.52 0-1.04.2-1.43.59L10.3 9.45l-7.72 7.72c-.78.78-.78 2.05 0 2.83L4 21.41c.39.39.9.59 1.41.59.51 0 1.02-.2 1.41-.59l7.78-7.78 2.81-2.81c.8-.78.8-2.07 0-2.86zM5.41 20L4 18.59l7.72-7.72 1.47 1.35L5.41 20z\"/>\n",
              "  </svg>\n",
              "      </button>\n",
              "      \n",
              "  <style>\n",
              "    .colab-df-container {\n",
              "      display:flex;\n",
              "      flex-wrap:wrap;\n",
              "      gap: 12px;\n",
              "    }\n",
              "\n",
              "    .colab-df-convert {\n",
              "      background-color: #E8F0FE;\n",
              "      border: none;\n",
              "      border-radius: 50%;\n",
              "      cursor: pointer;\n",
              "      display: none;\n",
              "      fill: #1967D2;\n",
              "      height: 32px;\n",
              "      padding: 0 0 0 0;\n",
              "      width: 32px;\n",
              "    }\n",
              "\n",
              "    .colab-df-convert:hover {\n",
              "      background-color: #E2EBFA;\n",
              "      box-shadow: 0px 1px 2px rgba(60, 64, 67, 0.3), 0px 1px 3px 1px rgba(60, 64, 67, 0.15);\n",
              "      fill: #174EA6;\n",
              "    }\n",
              "\n",
              "    [theme=dark] .colab-df-convert {\n",
              "      background-color: #3B4455;\n",
              "      fill: #D2E3FC;\n",
              "    }\n",
              "\n",
              "    [theme=dark] .colab-df-convert:hover {\n",
              "      background-color: #434B5C;\n",
              "      box-shadow: 0px 1px 3px 1px rgba(0, 0, 0, 0.15);\n",
              "      filter: drop-shadow(0px 1px 2px rgba(0, 0, 0, 0.3));\n",
              "      fill: #FFFFFF;\n",
              "    }\n",
              "  </style>\n",
              "\n",
              "      <script>\n",
              "        const buttonEl =\n",
              "          document.querySelector('#df-def2069f-ea5f-4088-9f2f-8957e3ed35e0 button.colab-df-convert');\n",
              "        buttonEl.style.display =\n",
              "          google.colab.kernel.accessAllowed ? 'block' : 'none';\n",
              "\n",
              "        async function convertToInteractive(key) {\n",
              "          const element = document.querySelector('#df-def2069f-ea5f-4088-9f2f-8957e3ed35e0');\n",
              "          const dataTable =\n",
              "            await google.colab.kernel.invokeFunction('convertToInteractive',\n",
              "                                                     [key], {});\n",
              "          if (!dataTable) return;\n",
              "\n",
              "          const docLinkHtml = 'Like what you see? Visit the ' +\n",
              "            '<a target=\"_blank\" href=https://colab.research.google.com/notebooks/data_table.ipynb>data table notebook</a>'\n",
              "            + ' to learn more about interactive tables.';\n",
              "          element.innerHTML = '';\n",
              "          dataTable['output_type'] = 'display_data';\n",
              "          await google.colab.output.renderOutput(dataTable, element);\n",
              "          const docLink = document.createElement('div');\n",
              "          docLink.innerHTML = docLinkHtml;\n",
              "          element.appendChild(docLink);\n",
              "        }\n",
              "      </script>\n",
              "    </div>\n",
              "  </div>\n",
              "  "
            ]
          },
          "metadata": {},
          "execution_count": 296
        }
      ]
    },
    {
      "cell_type": "code",
      "source": [
        "sns.scatterplot(x='host_acceptance_rate',y='number_of_reviews',color=\"blue\",data=S)\n",
        "sns.scatterplot(x='host_acceptance_rate',y='Predicciones',color=\"red\",data=S)"
      ],
      "metadata": {
        "colab": {
          "base_uri": "https://localhost:8080/",
          "height": 298
        },
        "id": "9Iw551H9WfUE",
        "outputId": "22dac18d-c589-46a3-85f8-d804f760ebc9"
      },
      "execution_count": 297,
      "outputs": [
        {
          "output_type": "execute_result",
          "data": {
            "text/plain": [
              "<matplotlib.axes._subplots.AxesSubplot at 0x7f482bcd7950>"
            ]
          },
          "metadata": {},
          "execution_count": 297
        },
        {
          "output_type": "display_data",
          "data": {
            "text/plain": [
              "<Figure size 432x288 with 1 Axes>"
            ],
            "image/png": "[encoded data removed]"
          },
          "metadata": {
            "needs_background": "light"
          }
        }
      ]
    },
    {
      "cell_type": "markdown",
      "source": [
        "#*Hotel room*"
      ],
      "metadata": {
        "id": "TpgTd9ARWtk1"
      }
    },
    {
      "cell_type": "code",
      "source": [
        "H=df[df['room_type']=='Hotel room']"
      ],
      "metadata": {
        "id": "LcbcJRp2WxZm"
      },
      "execution_count": 298,
      "outputs": []
    },
    {
      "cell_type": "code",
      "source": [
        "Hotelcorr['number_of_reviews']"
      ],
      "metadata": {
        "colab": {
          "base_uri": "https://localhost:8080/"
        },
        "id": "RvktkwPOQDFu",
        "outputId": "4225e6e4-e1f4-47e8-b1f7-b10ff7db4f76"
      },
      "execution_count": 300,
      "outputs": [
        {
          "output_type": "execute_result",
          "data": {
            "text/plain": [
              "id                            -0.399944\n",
              "host_response_rate             0.065130\n",
              "host_acceptance_rate           0.118942\n",
              "price                          0.124895\n",
              "availability_365               0.169329\n",
              "number_of_reviews              1.000000\n",
              "review_scores_rating          -0.027392\n",
              "review_scores_cleanliness     -0.098014\n",
              "review_scores_communication   -0.132037\n",
              "Name: number_of_reviews, dtype: float64"
            ]
          },
          "metadata": {},
          "execution_count": 300
        }
      ]
    },
    {
      "cell_type": "code",
      "source": [
        "Xh=df[['host_acceptance_rate','price','availability_365','review_scores_communication']]\n",
        "yh=df['number_of_reviews']"
      ],
      "metadata": {
        "id": "5b-2kGG3W5SB"
      },
      "execution_count": 301,
      "outputs": []
    },
    {
      "cell_type": "code",
      "source": [
        "modelh=LinearRegression()"
      ],
      "metadata": {
        "id": "ayHKspAOXH22"
      },
      "execution_count": 302,
      "outputs": []
    },
    {
      "cell_type": "code",
      "source": [
        "type(modelh)"
      ],
      "metadata": {
        "colab": {
          "base_uri": "https://localhost:8080/"
        },
        "id": "e9NWJKYeXKbh",
        "outputId": "7c7c26c2-7ef5-422f-8c24-0afc9d763d2a"
      },
      "execution_count": 303,
      "outputs": [
        {
          "output_type": "execute_result",
          "data": {
            "text/plain": [
              "sklearn.linear_model._base.LinearRegression"
            ]
          },
          "metadata": {},
          "execution_count": 303
        }
      ]
    },
    {
      "cell_type": "code",
      "source": [
        "modelh.fit(X=Xh,y=yh)"
      ],
      "metadata": {
        "colab": {
          "base_uri": "https://localhost:8080/"
        },
        "id": "SeXVJ50FXOMU",
        "outputId": "2440547d-51b1-4c8b-8bc4-c40c18ff8f2d"
      },
      "execution_count": 304,
      "outputs": [
        {
          "output_type": "execute_result",
          "data": {
            "text/plain": [
              "LinearRegression()"
            ]
          },
          "metadata": {},
          "execution_count": 304
        }
      ]
    },
    {
      "cell_type": "code",
      "source": [
        "modelh.__dict__"
      ],
      "metadata": {
        "colab": {
          "base_uri": "https://localhost:8080/"
        },
        "id": "3WIQ2bjFXRNS",
        "outputId": "fdf7d2e2-5e9e-4164-ce15-be3059cf0a1f"
      },
      "execution_count": 305,
      "outputs": [
        {
          "output_type": "execute_result",
          "data": {
            "text/plain": [
              "{'fit_intercept': True,\n",
              " 'normalize': 'deprecated',\n",
              " 'copy_X': True,\n",
              " 'n_jobs': None,\n",
              " 'positive': False,\n",
              " 'feature_names_in_': array(['host_acceptance_rate', 'price', 'availability_365',\n",
              "        'review_scores_communication'], dtype=object),\n",
              " 'n_features_in_': 4,\n",
              " 'coef_': array([ 4.84824521e-01, -4.36577724e-03, -1.63126210e-02,  1.01017166e+01]),\n",
              " '_residues': 54520844.235294364,\n",
              " 'rank_': 4,\n",
              " 'singular_': array([1.29123910e+05, 1.40044985e+04, 2.30275942e+03, 3.87527550e+01]),\n",
              " 'intercept_': -41.647301939944576}"
            ]
          },
          "metadata": {},
          "execution_count": 305
        }
      ]
    },
    {
      "cell_type": "code",
      "source": [
        "modelh.score(Xh,yh)"
      ],
      "metadata": {
        "colab": {
          "base_uri": "https://localhost:8080/"
        },
        "id": "44JaH74kXT4H",
        "outputId": "119de4e6-d2cb-4223-c13b-6bd1221cb229"
      },
      "execution_count": 306,
      "outputs": [
        {
          "output_type": "execute_result",
          "data": {
            "text/plain": [
              "0.030628800131581868"
            ]
          },
          "metadata": {},
          "execution_count": 306
        }
      ]
    },
    {
      "cell_type": "code",
      "source": [
        "y_pred= modelh.predict(X=H[['host_acceptance_rate','price','availability_365','review_scores_communication']])\n",
        "y_pred"
      ],
      "metadata": {
        "colab": {
          "base_uri": "https://localhost:8080/"
        },
        "id": "mntp85ITXXgB",
        "outputId": "3e646c36-c04c-40e6-e091-eca8193fb52d"
      },
      "execution_count": 307,
      "outputs": [
        {
          "output_type": "execute_result",
          "data": {
            "text/plain": [
              "array([ 41.05542332,   0.30402057,  41.54093891,  41.83456608,\n",
              "        29.01581575,  28.69437107,  11.28511959,  32.35291197,\n",
              "        41.44692622, -10.86180899,  49.14146296, -10.77053699,\n",
              "        42.56053349,  11.90945236,  12.67868157,  28.87075852,\n",
              "        48.38638708,  35.02623448,  41.09345071, -14.24591909,\n",
              "        48.34236128,  41.73020653,  40.74323579,  40.11393188,\n",
              "        42.30725687,  38.89241775,  41.56068126,  46.31138281,\n",
              "        40.50883587,  38.38747539,  15.8190957 ,  39.24932954,\n",
              "        40.0432055 ,  38.61570933,  42.73913392,  42.99400881,\n",
              "        35.7740607 ,  43.00351779,  23.75929766,  43.48349739,\n",
              "        43.20015683,  43.92007512,  43.90727699,  45.72558598,\n",
              "        36.83956537,  40.1987526 ,  42.45363931,  34.7999714 ,\n",
              "        40.15921999,  35.46663394,  33.67544207,  44.46974235,\n",
              "        50.58461163,  47.24571064,  12.42219569,  42.13763179,\n",
              "        13.31453675,  41.51889763,  41.51889763,  49.68402497,\n",
              "        45.2563207 ,  53.25613086,  41.84263063,  45.31214686,\n",
              "        53.17456775,  42.65807195,  43.23287672,  21.95312544,\n",
              "        39.32577265,  40.91176105,  40.32863424,  43.05609772,\n",
              "        50.95265483,  51.49869741,  27.90667551,  22.82158192,\n",
              "        27.86301774,  16.79057636,  40.97682712,  42.43467953,\n",
              "        40.16763999,  29.78950415,  45.06292043,  37.49823751,\n",
              "        40.66698007,  26.82033702,  38.45999172,  32.90525205,\n",
              "        32.09368984,  32.81398118,  32.63454235,  34.21203045,\n",
              "        33.00357132,  30.19013488,  34.70140908,  39.02631764,\n",
              "        42.39931022,  24.75042251,  23.98779815,  24.64283901,\n",
              "        25.94177583,  50.98945185,  35.26630959,  42.59417196,\n",
              "        38.34901942,  37.85158851,  39.46276497,  40.96544588,\n",
              "         5.21922367,  50.61935333,  50.35835139,  50.39669869,\n",
              "        50.61935333,  43.62437963,  43.56320602])"
            ]
          },
          "metadata": {},
          "execution_count": 307
        }
      ]
    },
    {
      "cell_type": "code",
      "source": [
        "H.insert(0,\"Predicciones\",y_pred)\n",
        "H"
      ],
      "metadata": {
        "colab": {
          "base_uri": "https://localhost:8080/",
          "height": 661
        },
        "id": "xnvSs9htXgAx",
        "outputId": "1a9f76b3-9f42-4bb4-e74a-522d4bf02f7e"
      },
      "execution_count": 308,
      "outputs": [
        {
          "output_type": "execute_result",
          "data": {
            "text/plain": [
              "       Predicciones        id        host_location  host_response_rate  \\\n",
              "22        41.055423    865012  Mexico City, Mexico               100.0   \n",
              "24         0.304021    865070      Coyacán, Mexico                50.0   \n",
              "26        41.540939    868843  Mexico City, Mexico               100.0   \n",
              "31        41.834566    869063  Mexico City, Mexico               100.0   \n",
              "45        29.015816    281134  Mexico City, Mexico               100.0   \n",
              "...             ...       ...                  ...                 ...   \n",
              "8399      50.358351  37687424      San Antonio, TX               100.0   \n",
              "8406      50.396699  37688057      San Antonio, TX               100.0   \n",
              "8413      50.619353  37689391      San Antonio, TX               100.0   \n",
              "8415      43.624380  37691088  Mexico City, Mexico               100.0   \n",
              "12884     43.563206  47845863  Mexico City, Mexico               100.0   \n",
              "\n",
              "       host_acceptance_rate               property_type   room_type   price  \\\n",
              "22                     88.0  Room in serviced apartment  Hotel room  1098.0   \n",
              "24                      0.0   Room in bed and breakfast  Hotel room   600.0   \n",
              "26                     88.0  Room in serviced apartment  Hotel room   998.0   \n",
              "31                     88.0  Room in serviced apartment  Hotel room   998.0   \n",
              "45                     79.0  Room in serviced apartment  Hotel room  2860.0   \n",
              "...                     ...                         ...         ...     ...   \n",
              "8399                  100.0      Room in boutique hotel  Hotel room   849.0   \n",
              "8406                  100.0      Room in boutique hotel  Hotel room   900.0   \n",
              "8413                  100.0      Room in boutique hotel  Hotel room   849.0   \n",
              "8415                  100.0      Room in boutique hotel  Hotel room  2100.0   \n",
              "12884                 100.0              Room in hostel  Hotel room  1680.0   \n",
              "\n",
              "       availability_365  number_of_reviews  review_scores_rating  \\\n",
              "22                  348                 31                  4.97   \n",
              "24                  364                  9                  4.89   \n",
              "26                  345                 44                  4.98   \n",
              "31                  327                 19                  4.95   \n",
              "45                  347                  7                  4.71   \n",
              "...                 ...                ...                   ...   \n",
              "8399                201                  3                  4.33   \n",
              "8406                185                  1                  5.00   \n",
              "8413                185                  2                  5.00   \n",
              "8415                279                 15                  5.00   \n",
              "12884               358                  0                  4.85   \n",
              "\n",
              "       review_scores_cleanliness  review_scores_communication  \n",
              "22                          4.94                         5.00  \n",
              "24                          5.00                         5.00  \n",
              "26                          4.91                         5.00  \n",
              "31                          4.95                         5.00  \n",
              "45                          5.00                         5.00  \n",
              "...                          ...                          ...  \n",
              "8399                        5.00                         5.00  \n",
              "8406                        5.00                         5.00  \n",
              "8413                        5.00                         5.00  \n",
              "8415                        5.00                         5.00  \n",
              "12884                       4.88                         4.94  \n",
              "\n",
              "[115 rows x 13 columns]"
            ],
            "text/html": [
              "\n",
              "  <div id=\"df-d3229a71-fbab-46f6-8948-35467de0984a\">\n",
              "    <div class=\"colab-df-container\">\n",
              "      <div>\n",
              "<style scoped>\n",
              "    .dataframe tbody tr th:only-of-type {\n",
              "        vertical-align: middle;\n",
              "    }\n",
              "\n",
              "    .dataframe tbody tr th {\n",
              "        vertical-align: top;\n",
              "    }\n",
              "\n",
              "    .dataframe thead th {\n",
              "        text-align: right;\n",
              "    }\n",
              "</style>\n",
              "<table border=\"1\" class=\"dataframe\">\n",
              "  <thead>\n",
              "    <tr style=\"text-align: right;\">\n",
              "      <th></th>\n",
              "      <th>Predicciones</th>\n",
              "      <th>id</th>\n",
              "      <th>host_location</th>\n",
              "      <th>host_response_rate</th>\n",
              "      <th>host_acceptance_rate</th>\n",
              "      <th>property_type</th>\n",
              "      <th>room_type</th>\n",
              "      <th>price</th>\n",
              "      <th>availability_365</th>\n",
              "      <th>number_of_reviews</th>\n",
              "      <th>review_scores_rating</th>\n",
              "      <th>review_scores_cleanliness</th>\n",
              "      <th>review_scores_communication</th>\n",
              "    </tr>\n",
              "  </thead>\n",
              "  <tbody>\n",
              "    <tr>\n",
              "      <th>22</th>\n",
              "      <td>41.055423</td>\n",
              "      <td>865012</td>\n",
              "      <td>Mexico City, Mexico</td>\n",
              "      <td>100.0</td>\n",
              "      <td>88.0</td>\n",
              "      <td>Room in serviced apartment</td>\n",
              "      <td>Hotel room</td>\n",
              "      <td>1098.0</td>\n",
              "      <td>348</td>\n",
              "      <td>31</td>\n",
              "      <td>4.97</td>\n",
              "      <td>4.94</td>\n",
              "      <td>5.00</td>\n",
              "    </tr>\n",
              "    <tr>\n",
              "      <th>24</th>\n",
              "      <td>0.304021</td>\n",
              "      <td>865070</td>\n",
              "      <td>Coyacán, Mexico</td>\n",
              "      <td>50.0</td>\n",
              "      <td>0.0</td>\n",
              "      <td>Room in bed and breakfast</td>\n",
              "      <td>Hotel room</td>\n",
              "      <td>600.0</td>\n",
              "      <td>364</td>\n",
              "      <td>9</td>\n",
              "      <td>4.89</td>\n",
              "      <td>5.00</td>\n",
              "      <td>5.00</td>\n",
              "    </tr>\n",
              "    <tr>\n",
              "      <th>26</th>\n",
              "      <td>41.540939</td>\n",
              "      <td>868843</td>\n",
              "      <td>Mexico City, Mexico</td>\n",
              "      <td>100.0</td>\n",
              "      <td>88.0</td>\n",
              "      <td>Room in serviced apartment</td>\n",
              "      <td>Hotel room</td>\n",
              "      <td>998.0</td>\n",
              "      <td>345</td>\n",
              "      <td>44</td>\n",
              "      <td>4.98</td>\n",
              "      <td>4.91</td>\n",
              "      <td>5.00</td>\n",
              "    </tr>\n",
              "    <tr>\n",
              "      <th>31</th>\n",
              "      <td>41.834566</td>\n",
              "      <td>869063</td>\n",
              "      <td>Mexico City, Mexico</td>\n",
              "      <td>100.0</td>\n",
              "      <td>88.0</td>\n",
              "      <td>Room in serviced apartment</td>\n",
              "      <td>Hotel room</td>\n",
              "      <td>998.0</td>\n",
              "      <td>327</td>\n",
              "      <td>19</td>\n",
              "      <td>4.95</td>\n",
              "      <td>4.95</td>\n",
              "      <td>5.00</td>\n",
              "    </tr>\n",
              "    <tr>\n",
              "      <th>45</th>\n",
              "      <td>29.015816</td>\n",
              "      <td>281134</td>\n",
              "      <td>Mexico City, Mexico</td>\n",
              "      <td>100.0</td>\n",
              "      <td>79.0</td>\n",
              "      <td>Room in serviced apartment</td>\n",
              "      <td>Hotel room</td>\n",
              "      <td>2860.0</td>\n",
              "      <td>347</td>\n",
              "      <td>7</td>\n",
              "      <td>4.71</td>\n",
              "      <td>5.00</td>\n",
              "      <td>5.00</td>\n",
              "    </tr>\n",
              "    <tr>\n",
              "      <th>...</th>\n",
              "      <td>...</td>\n",
              "      <td>...</td>\n",
              "      <td>...</td>\n",
              "      <td>...</td>\n",
              "      <td>...</td>\n",
              "      <td>...</td>\n",
              "      <td>...</td>\n",
              "      <td>...</td>\n",
              "      <td>...</td>\n",
              "      <td>...</td>\n",
              "      <td>...</td>\n",
              "      <td>...</td>\n",
              "      <td>...</td>\n",
              "    </tr>\n",
              "    <tr>\n",
              "      <th>8399</th>\n",
              "      <td>50.358351</td>\n",
              "      <td>37687424</td>\n",
              "      <td>San Antonio, TX</td>\n",
              "      <td>100.0</td>\n",
              "      <td>100.0</td>\n",
              "      <td>Room in boutique hotel</td>\n",
              "      <td>Hotel room</td>\n",
              "      <td>849.0</td>\n",
              "      <td>201</td>\n",
              "      <td>3</td>\n",
              "      <td>4.33</td>\n",
              "      <td>5.00</td>\n",
              "      <td>5.00</td>\n",
              "    </tr>\n",
              "    <tr>\n",
              "      <th>8406</th>\n",
              "      <td>50.396699</td>\n",
              "      <td>37688057</td>\n",
              "      <td>San Antonio, TX</td>\n",
              "      <td>100.0</td>\n",
              "      <td>100.0</td>\n",
              "      <td>Room in boutique hotel</td>\n",
              "      <td>Hotel room</td>\n",
              "      <td>900.0</td>\n",
              "      <td>185</td>\n",
              "      <td>1</td>\n",
              "      <td>5.00</td>\n",
              "      <td>5.00</td>\n",
              "      <td>5.00</td>\n",
              "    </tr>\n",
              "    <tr>\n",
              "      <th>8413</th>\n",
              "      <td>50.619353</td>\n",
              "      <td>37689391</td>\n",
              "      <td>San Antonio, TX</td>\n",
              "      <td>100.0</td>\n",
              "      <td>100.0</td>\n",
              "      <td>Room in boutique hotel</td>\n",
              "      <td>Hotel room</td>\n",
              "      <td>849.0</td>\n",
              "      <td>185</td>\n",
              "      <td>2</td>\n",
              "      <td>5.00</td>\n",
              "      <td>5.00</td>\n",
              "      <td>5.00</td>\n",
              "    </tr>\n",
              "    <tr>\n",
              "      <th>8415</th>\n",
              "      <td>43.624380</td>\n",
              "      <td>37691088</td>\n",
              "      <td>Mexico City, Mexico</td>\n",
              "      <td>100.0</td>\n",
              "      <td>100.0</td>\n",
              "      <td>Room in boutique hotel</td>\n",
              "      <td>Hotel room</td>\n",
              "      <td>2100.0</td>\n",
              "      <td>279</td>\n",
              "      <td>15</td>\n",
              "      <td>5.00</td>\n",
              "      <td>5.00</td>\n",
              "      <td>5.00</td>\n",
              "    </tr>\n",
              "    <tr>\n",
              "      <th>12884</th>\n",
              "      <td>43.563206</td>\n",
              "      <td>47845863</td>\n",
              "      <td>Mexico City, Mexico</td>\n",
              "      <td>100.0</td>\n",
              "      <td>100.0</td>\n",
              "      <td>Room in hostel</td>\n",
              "      <td>Hotel room</td>\n",
              "      <td>1680.0</td>\n",
              "      <td>358</td>\n",
              "      <td>0</td>\n",
              "      <td>4.85</td>\n",
              "      <td>4.88</td>\n",
              "      <td>4.94</td>\n",
              "    </tr>\n",
              "  </tbody>\n",
              "</table>\n",
              "<p>115 rows × 13 columns</p>\n",
              "</div>\n",
              "      <button class=\"colab-df-convert\" onclick=\"convertToInteractive('df-d3229a71-fbab-46f6-8948-35467de0984a')\"\n",
              "              title=\"Convert this dataframe to an interactive table.\"\n",
              "              style=\"display:none;\">\n",
              "        \n",
              "  <svg xmlns=\"http://www.w3.org/2000/svg\" height=\"24px\"viewBox=\"0 0 24 24\"\n",
              "       width=\"24px\">\n",
              "    <path d=\"M0 0h24v24H0V0z\" fill=\"none\"/>\n",
              "    <path d=\"M18.56 5.44l.94 2.06.94-2.06 2.06-.94-2.06-.94-.94-2.06-.94 2.06-2.06.94zm-11 1L8.5 8.5l.94-2.06 2.06-.94-2.06-.94L8.5 2.5l-.94 2.06-2.06.94zm10 10l.94 2.06.94-2.06 2.06-.94-2.06-.94-.94-2.06-.94 2.06-2.06.94z\"/><path d=\"M17.41 7.96l-1.37-1.37c-.4-.4-.92-.59-1.43-.59-.52 0-1.04.2-1.43.59L10.3 9.45l-7.72 7.72c-.78.78-.78 2.05 0 2.83L4 21.41c.39.39.9.59 1.41.59.51 0 1.02-.2 1.41-.59l7.78-7.78 2.81-2.81c.8-.78.8-2.07 0-2.86zM5.41 20L4 18.59l7.72-7.72 1.47 1.35L5.41 20z\"/>\n",
              "  </svg>\n",
              "      </button>\n",
              "      \n",
              "  <style>\n",
              "    .colab-df-container {\n",
              "      display:flex;\n",
              "      flex-wrap:wrap;\n",
              "      gap: 12px;\n",
              "    }\n",
              "\n",
              "    .colab-df-convert {\n",
              "      background-color: #E8F0FE;\n",
              "      border: none;\n",
              "      border-radius: 50%;\n",
              "      cursor: pointer;\n",
              "      display: none;\n",
              "      fill: #1967D2;\n",
              "      height: 32px;\n",
              "      padding: 0 0 0 0;\n",
              "      width: 32px;\n",
              "    }\n",
              "\n",
              "    .colab-df-convert:hover {\n",
              "      background-color: #E2EBFA;\n",
              "      box-shadow: 0px 1px 2px rgba(60, 64, 67, 0.3), 0px 1px 3px 1px rgba(60, 64, 67, 0.15);\n",
              "      fill: #174EA6;\n",
              "    }\n",
              "\n",
              "    [theme=dark] .colab-df-convert {\n",
              "      background-color: #3B4455;\n",
              "      fill: #D2E3FC;\n",
              "    }\n",
              "\n",
              "    [theme=dark] .colab-df-convert:hover {\n",
              "      background-color: #434B5C;\n",
              "      box-shadow: 0px 1px 3px 1px rgba(0, 0, 0, 0.15);\n",
              "      filter: drop-shadow(0px 1px 2px rgba(0, 0, 0, 0.3));\n",
              "      fill: #FFFFFF;\n",
              "    }\n",
              "  </style>\n",
              "\n",
              "      <script>\n",
              "        const buttonEl =\n",
              "          document.querySelector('#df-d3229a71-fbab-46f6-8948-35467de0984a button.colab-df-convert');\n",
              "        buttonEl.style.display =\n",
              "          google.colab.kernel.accessAllowed ? 'block' : 'none';\n",
              "\n",
              "        async function convertToInteractive(key) {\n",
              "          const element = document.querySelector('#df-d3229a71-fbab-46f6-8948-35467de0984a');\n",
              "          const dataTable =\n",
              "            await google.colab.kernel.invokeFunction('convertToInteractive',\n",
              "                                                     [key], {});\n",
              "          if (!dataTable) return;\n",
              "\n",
              "          const docLinkHtml = 'Like what you see? Visit the ' +\n",
              "            '<a target=\"_blank\" href=https://colab.research.google.com/notebooks/data_table.ipynb>data table notebook</a>'\n",
              "            + ' to learn more about interactive tables.';\n",
              "          element.innerHTML = '';\n",
              "          dataTable['output_type'] = 'display_data';\n",
              "          await google.colab.output.renderOutput(dataTable, element);\n",
              "          const docLink = document.createElement('div');\n",
              "          docLink.innerHTML = docLinkHtml;\n",
              "          element.appendChild(docLink);\n",
              "        }\n",
              "      </script>\n",
              "    </div>\n",
              "  </div>\n",
              "  "
            ]
          },
          "metadata": {},
          "execution_count": 308
        }
      ]
    },
    {
      "cell_type": "code",
      "source": [
        "sns.scatterplot(x='host_acceptance_rate',y='number_of_reviews',color=\"blue\",data=H)\n",
        "sns.scatterplot(x='host_acceptance_rate',y='Predicciones',color=\"red\",data=H)"
      ],
      "metadata": {
        "colab": {
          "base_uri": "https://localhost:8080/",
          "height": 298
        },
        "id": "zTNLxSbwXlCC",
        "outputId": "edaa8fea-1327-4038-f8ef-7b5e68e43d38"
      },
      "execution_count": 309,
      "outputs": [
        {
          "output_type": "execute_result",
          "data": {
            "text/plain": [
              "<matplotlib.axes._subplots.AxesSubplot at 0x7f482bc07290>"
            ]
          },
          "metadata": {},
          "execution_count": 309
        },
        {
          "output_type": "display_data",
          "data": {
            "text/plain": [
              "<Figure size 432x288 with 1 Axes>"
            ],
            "image/png": "[encoded data removed]"
          },
          "metadata": {
            "needs_background": "light"
          }
        }
      ]
    },
    {
      "cell_type": "markdown",
      "source": [
        "#**Realizar una tabla de todos los coeficientes de determinación y correlación obtenidos para cada tipo de habitación.**\n"
      ],
      "metadata": {
        "id": "w-0qEOaQnDUZ"
      }
    },
    {
      "cell_type": "code",
      "source": [
        "#Entire Room\n",
        "coef_Deter=model.score(X=X,y=y)\n",
        "coef_Deter"
      ],
      "metadata": {
        "colab": {
          "base_uri": "https://localhost:8080/"
        },
        "id": "okqyO4k6SCEo",
        "outputId": "88b996b6-437a-43ca-e444-09360b5e8132"
      },
      "execution_count": 322,
      "outputs": [
        {
          "output_type": "execute_result",
          "data": {
            "text/plain": [
              "0.022956240848733267"
            ]
          },
          "metadata": {},
          "execution_count": 322
        }
      ]
    },
    {
      "cell_type": "code",
      "source": [
        "#Entire Room\n",
        "coef_Correl=np.sqrt(coef_Deter)\n",
        "coef_Correl"
      ],
      "metadata": {
        "colab": {
          "base_uri": "https://localhost:8080/"
        },
        "id": "_Y8R7ROMSVmt",
        "outputId": "41ffb578-42da-4e8a-bd95-70a2d00c3684"
      },
      "execution_count": 323,
      "outputs": [
        {
          "output_type": "execute_result",
          "data": {
            "text/plain": [
              "0.15151317054544555"
            ]
          },
          "metadata": {},
          "execution_count": 323
        }
      ]
    },
    {
      "cell_type": "code",
      "source": [
        "#Private Room\n",
        "coef_DeterP=modelp.score(X=Xp,y=yp)\n",
        "coef_DeterP"
      ],
      "metadata": {
        "colab": {
          "base_uri": "https://localhost:8080/"
        },
        "id": "JzPC5JKmS5OK",
        "outputId": "b948eb30-b741-41a7-8ac7-ca82df8fb641"
      },
      "execution_count": 324,
      "outputs": [
        {
          "output_type": "execute_result",
          "data": {
            "text/plain": [
              "0.028588560765096083"
            ]
          },
          "metadata": {},
          "execution_count": 324
        }
      ]
    },
    {
      "cell_type": "code",
      "source": [
        "#Private Room\n",
        "coef_Correlp=np.sqrt(coef_DeterP)\n",
        "coef_Correlp"
      ],
      "metadata": {
        "colab": {
          "base_uri": "https://localhost:8080/"
        },
        "id": "0plsA0w2S-04",
        "outputId": "47fc964d-4df6-4129-bb3e-ca75d30592c3"
      },
      "execution_count": 325,
      "outputs": [
        {
          "output_type": "execute_result",
          "data": {
            "text/plain": [
              "0.16908152106335003"
            ]
          },
          "metadata": {},
          "execution_count": 325
        }
      ]
    },
    {
      "cell_type": "code",
      "source": [
        "#Shared Room\n",
        "coef_Deters=models.score(X=Xs,y=ys)\n",
        "coef_Deters"
      ],
      "metadata": {
        "colab": {
          "base_uri": "https://localhost:8080/"
        },
        "id": "2LeEv07KTE1Z",
        "outputId": "bfa2af48-c000-4618-c320-ebc1b1c2df00"
      },
      "execution_count": 326,
      "outputs": [
        {
          "output_type": "execute_result",
          "data": {
            "text/plain": [
              "0.05248252022242428"
            ]
          },
          "metadata": {},
          "execution_count": 326
        }
      ]
    },
    {
      "cell_type": "code",
      "source": [
        "#Shared Room\n",
        "coef_Correls=np.sqrt(coef_Deters)\n",
        "coef_Correls"
      ],
      "metadata": {
        "colab": {
          "base_uri": "https://localhost:8080/"
        },
        "id": "7xRKhpirTKkc",
        "outputId": "877b0005-d88a-47d8-8b55-9f231ce20e5b"
      },
      "execution_count": 327,
      "outputs": [
        {
          "output_type": "execute_result",
          "data": {
            "text/plain": [
              "0.229090637570426"
            ]
          },
          "metadata": {},
          "execution_count": 327
        }
      ]
    },
    {
      "cell_type": "code",
      "source": [
        "#Hotel Room\n",
        "coef_Deterh=modelh.score(X=Xh,y=yh)\n",
        "coef_Deterh"
      ],
      "metadata": {
        "colab": {
          "base_uri": "https://localhost:8080/"
        },
        "id": "xGe4Eve0TOnJ",
        "outputId": "16673b85-8773-4af2-e7fd-4d44498ef54f"
      },
      "execution_count": 328,
      "outputs": [
        {
          "output_type": "execute_result",
          "data": {
            "text/plain": [
              "0.030628800131581868"
            ]
          },
          "metadata": {},
          "execution_count": 328
        }
      ]
    },
    {
      "cell_type": "code",
      "source": [
        "#Hotel Room\n",
        "coef_Correlh=np.sqrt(coef_Deterh)\n",
        "coef_Correlh"
      ],
      "metadata": {
        "colab": {
          "base_uri": "https://localhost:8080/"
        },
        "id": "cKSWYLWgTTmu",
        "outputId": "9aa3405d-6a51-4055-8273-8889d8c37095"
      },
      "execution_count": 329,
      "outputs": [
        {
          "output_type": "execute_result",
          "data": {
            "text/plain": [
              "0.1750108571820099"
            ]
          },
          "metadata": {},
          "execution_count": 329
        }
      ]
    },
    {
      "cell_type": "code",
      "source": [
        "Tabla = pd.DataFrame()"
      ],
      "metadata": {
        "id": "TU7UK9o2TYzT"
      },
      "execution_count": 330,
      "outputs": []
    },
    {
      "cell_type": "code",
      "source": [
        "Tabla['Tipo de habitacion'] = ['Entire room/apt', 'Private room', 'Shared room', 'Hotel room']\n",
        "Tabla['Coef_det']=[coef_Deter,coef_DeterP,coef_Deters,coef_Deterh]\n",
        "Tabla['Coef_Correl']=[coef_Correl,coef_Correlp,coef_Correls,coef_Correlh]"
      ],
      "metadata": {
        "id": "8cLwWlhGTwms"
      },
      "execution_count": 332,
      "outputs": []
    },
    {
      "cell_type": "code",
      "source": [
        "Tabla"
      ],
      "metadata": {
        "colab": {
          "base_uri": "https://localhost:8080/",
          "height": 175
        },
        "id": "OZ7gt6acUR7M",
        "outputId": "b925b3d3-febe-47f2-bf0b-83c6b86e9709"
      },
      "execution_count": 333,
      "outputs": [
        {
          "output_type": "execute_result",
          "data": {
            "text/plain": [
              "  Tipo de habitacion  Coef_det  Coef_Correl\n",
              "0    Entire room/apt  0.022956     0.151513\n",
              "1       Private room  0.028589     0.169082\n",
              "2        Shared room  0.052483     0.229091\n",
              "3         Hotel room  0.030629     0.175011"
            ],
            "text/html": [
              "\n",
              "  <div id=\"df-ad6e9d15-cfe9-4f51-b1d2-3f25207ff4f1\">\n",
              "    <div class=\"colab-df-container\">\n",
              "      <div>\n",
              "<style scoped>\n",
              "    .dataframe tbody tr th:only-of-type {\n",
              "        vertical-align: middle;\n",
              "    }\n",
              "\n",
              "    .dataframe tbody tr th {\n",
              "        vertical-align: top;\n",
              "    }\n",
              "\n",
              "    .dataframe thead th {\n",
              "        text-align: right;\n",
              "    }\n",
              "</style>\n",
              "<table border=\"1\" class=\"dataframe\">\n",
              "  <thead>\n",
              "    <tr style=\"text-align: right;\">\n",
              "      <th></th>\n",
              "      <th>Tipo de habitacion</th>\n",
              "      <th>Coef_det</th>\n",
              "      <th>Coef_Correl</th>\n",
              "    </tr>\n",
              "  </thead>\n",
              "  <tbody>\n",
              "    <tr>\n",
              "      <th>0</th>\n",
              "      <td>Entire room/apt</td>\n",
              "      <td>0.022956</td>\n",
              "      <td>0.151513</td>\n",
              "    </tr>\n",
              "    <tr>\n",
              "      <th>1</th>\n",
              "      <td>Private room</td>\n",
              "      <td>0.028589</td>\n",
              "      <td>0.169082</td>\n",
              "    </tr>\n",
              "    <tr>\n",
              "      <th>2</th>\n",
              "      <td>Shared room</td>\n",
              "      <td>0.052483</td>\n",
              "      <td>0.229091</td>\n",
              "    </tr>\n",
              "    <tr>\n",
              "      <th>3</th>\n",
              "      <td>Hotel room</td>\n",
              "      <td>0.030629</td>\n",
              "      <td>0.175011</td>\n",
              "    </tr>\n",
              "  </tbody>\n",
              "</table>\n",
              "</div>\n",
              "      <button class=\"colab-df-convert\" onclick=\"convertToInteractive('df-ad6e9d15-cfe9-4f51-b1d2-3f25207ff4f1')\"\n",
              "              title=\"Convert this dataframe to an interactive table.\"\n",
              "              style=\"display:none;\">\n",
              "        \n",
              "  <svg xmlns=\"http://www.w3.org/2000/svg\" height=\"24px\"viewBox=\"0 0 24 24\"\n",
              "       width=\"24px\">\n",
              "    <path d=\"M0 0h24v24H0V0z\" fill=\"none\"/>\n",
              "    <path d=\"M18.56 5.44l.94 2.06.94-2.06 2.06-.94-2.06-.94-.94-2.06-.94 2.06-2.06.94zm-11 1L8.5 8.5l.94-2.06 2.06-.94-2.06-.94L8.5 2.5l-.94 2.06-2.06.94zm10 10l.94 2.06.94-2.06 2.06-.94-2.06-.94-.94-2.06-.94 2.06-2.06.94z\"/><path d=\"M17.41 7.96l-1.37-1.37c-.4-.4-.92-.59-1.43-.59-.52 0-1.04.2-1.43.59L10.3 9.45l-7.72 7.72c-.78.78-.78 2.05 0 2.83L4 21.41c.39.39.9.59 1.41.59.51 0 1.02-.2 1.41-.59l7.78-7.78 2.81-2.81c.8-.78.8-2.07 0-2.86zM5.41 20L4 18.59l7.72-7.72 1.47 1.35L5.41 20z\"/>\n",
              "  </svg>\n",
              "      </button>\n",
              "      \n",
              "  <style>\n",
              "    .colab-df-container {\n",
              "      display:flex;\n",
              "      flex-wrap:wrap;\n",
              "      gap: 12px;\n",
              "    }\n",
              "\n",
              "    .colab-df-convert {\n",
              "      background-color: #E8F0FE;\n",
              "      border: none;\n",
              "      border-radius: 50%;\n",
              "      cursor: pointer;\n",
              "      display: none;\n",
              "      fill: #1967D2;\n",
              "      height: 32px;\n",
              "      padding: 0 0 0 0;\n",
              "      width: 32px;\n",
              "    }\n",
              "\n",
              "    .colab-df-convert:hover {\n",
              "      background-color: #E2EBFA;\n",
              "      box-shadow: 0px 1px 2px rgba(60, 64, 67, 0.3), 0px 1px 3px 1px rgba(60, 64, 67, 0.15);\n",
              "      fill: #174EA6;\n",
              "    }\n",
              "\n",
              "    [theme=dark] .colab-df-convert {\n",
              "      background-color: #3B4455;\n",
              "      fill: #D2E3FC;\n",
              "    }\n",
              "\n",
              "    [theme=dark] .colab-df-convert:hover {\n",
              "      background-color: #434B5C;\n",
              "      box-shadow: 0px 1px 3px 1px rgba(0, 0, 0, 0.15);\n",
              "      filter: drop-shadow(0px 1px 2px rgba(0, 0, 0, 0.3));\n",
              "      fill: #FFFFFF;\n",
              "    }\n",
              "  </style>\n",
              "\n",
              "      <script>\n",
              "        const buttonEl =\n",
              "          document.querySelector('#df-ad6e9d15-cfe9-4f51-b1d2-3f25207ff4f1 button.colab-df-convert');\n",
              "        buttonEl.style.display =\n",
              "          google.colab.kernel.accessAllowed ? 'block' : 'none';\n",
              "\n",
              "        async function convertToInteractive(key) {\n",
              "          const element = document.querySelector('#df-ad6e9d15-cfe9-4f51-b1d2-3f25207ff4f1');\n",
              "          const dataTable =\n",
              "            await google.colab.kernel.invokeFunction('convertToInteractive',\n",
              "                                                     [key], {});\n",
              "          if (!dataTable) return;\n",
              "\n",
              "          const docLinkHtml = 'Like what you see? Visit the ' +\n",
              "            '<a target=\"_blank\" href=https://colab.research.google.com/notebooks/data_table.ipynb>data table notebook</a>'\n",
              "            + ' to learn more about interactive tables.';\n",
              "          element.innerHTML = '';\n",
              "          dataTable['output_type'] = 'display_data';\n",
              "          await google.colab.output.renderOutput(dataTable, element);\n",
              "          const docLink = document.createElement('div');\n",
              "          docLink.innerHTML = docLinkHtml;\n",
              "          element.appendChild(docLink);\n",
              "        }\n",
              "      </script>\n",
              "    </div>\n",
              "  </div>\n",
              "  "
            ]
          },
          "metadata": {},
          "execution_count": 333
        }
      ]
    }
  ]
}